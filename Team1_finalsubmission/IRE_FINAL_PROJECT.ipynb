{
  "cells": [
    {
      "cell_type": "code",
      "execution_count": 1,
      "metadata": {
        "colab": {
          "base_uri": "https://localhost:8080/"
        },
        "id": "7wrLDIxGM31s",
        "outputId": "cd6d743a-5e36-4905-aa3c-370e61f25cb8"
      },
      "outputs": [
        {
          "name": "stderr",
          "output_type": "stream",
          "text": [
            "[nltk_data] Downloading package punkt to\n",
            "[nltk_data]     C:\\Users\\pchhl\\AppData\\Roaming\\nltk_data...\n",
            "[nltk_data]   Package punkt is already up-to-date!\n"
          ]
        }
      ],
      "source": [
        "!pip install transformers -q\n",
        "!pip install language_tool_python -q\n",
        "\n",
        "import numpy as np\n",
        "import pandas as pd\n",
        "import os\n",
        "import csv\n",
        "import nltk\n",
        "import string\n",
        "from nltk.tokenize import word_tokenize, sent_tokenize\n",
        "nltk.download('punkt')\n",
        "\n",
        "from bs4 import BeautifulSoup\n",
        "import torch\n",
        "import torch.nn as nn\n",
        "import torch.nn.functional as F\n",
        "import torch.optim as optim\n",
        "from torch.nn.utils.rnn import pack_padded_sequence, pad_packed_sequence\n",
        "from torch import tensor\n",
        "import torch\n",
        "from torch.utils.data import Dataset, DataLoader\n",
        "from torchvision import transforms\n",
        "import torch\n",
        "# AdamW\n",
        "import tqdm\n",
        "import numpy as np\n",
        "from nltk.tokenize import sent_tokenize\n",
        "from transformers import BertTokenizer, BertModel, AdamW\n",
        "import random\n",
        "import sklearn\n",
        "import language_tool_python\n",
        "tool = language_tool_python.LanguageTool('en-US')"
      ]
    },
    {
      "cell_type": "code",
      "execution_count": 2,
      "metadata": {
        "id": "xISgEr5YZRub"
      },
      "outputs": [],
      "source": [
        "import torch\n",
        "import torch.nn as nn\n",
        "import torch.nn.functional as F\n"
      ]
    },
    {
      "cell_type": "markdown",
      "metadata": {
        "id": "N4gXEel0o7IY"
      },
      "source": [
        "### BERT EMBEDDINGS USING INBUILT FUNCTION"
      ]
    },
    {
      "cell_type": "code",
      "execution_count": 5,
      "metadata": {
        "colab": {
          "base_uri": "https://localhost:8080/"
        },
        "id": "xK1QcZRIg3Sz",
        "outputId": "b8245bad-7712-4d3b-8fae-e5f68b8e818b"
      },
      "outputs": [],
      "source": [
        "# from google.colab import drive\n",
        "# drive.mount('/content/drive')"
      ]
    },
    {
      "cell_type": "code",
      "execution_count": 3,
      "metadata": {
        "id": "y8OlERAX24Cs"
      },
      "outputs": [],
      "source": [
        "# !pip install transformers\n",
        "# from transformers import BertModel, BertTokenizer\n",
        "device = torch.device(\"cuda\" if torch.cuda.is_available() else \"cpu\")\n",
        "model_name = \"bert-base-uncased\"\n",
        "model = BertModel.from_pretrained(model_name).to(device)\n",
        "tokenizer = BertTokenizer.from_pretrained(model_name)\n"
      ]
    },
    {
      "cell_type": "markdown",
      "metadata": {
        "id": "wm-Of-NkpHtK"
      },
      "source": [
        "### READING FILE"
      ]
    },
    {
      "cell_type": "code",
      "execution_count": 4,
      "metadata": {
        "colab": {
          "base_uri": "https://localhost:8080/"
        },
        "id": "nUtvVsuHPeI2",
        "outputId": "b13deaf0-87b8-4e8e-aad2-83358dfdd3c7"
      },
      "outputs": [
        {
          "data": {
            "text/plain": [
              "Index(['essay_id', 'essay_set', 'essay', 'rater1_domain1', 'rater2_domain1',\n",
              "       'rater3_domain1', 'domain1_score', 'rater1_domain2', 'rater2_domain2',\n",
              "       'domain2_score', 'rater1_trait1', 'rater1_trait2', 'rater1_trait3',\n",
              "       'rater1_trait4', 'rater1_trait5', 'rater1_trait6', 'rater2_trait1',\n",
              "       'rater2_trait2', 'rater2_trait3', 'rater2_trait4', 'rater2_trait5',\n",
              "       'rater2_trait6', 'rater3_trait1', 'rater3_trait2', 'rater3_trait3',\n",
              "       'rater3_trait4', 'rater3_trait5', 'rater3_trait6'],\n",
              "      dtype='object')"
            ]
          },
          "execution_count": 4,
          "metadata": {},
          "output_type": "execute_result"
        }
      ],
      "source": [
        "content=r\"C:\\Users\\pchhl\\Downloads\\training_set_rel3.xls\\training_set_rel3.xls\"\n",
        "\n",
        "df = pd.read_excel(content)\n",
        "df.columns"
      ]
    },
    {
      "cell_type": "code",
      "execution_count": 5,
      "metadata": {
        "colab": {
          "base_uri": "https://localhost:8080/",
          "height": 585
        },
        "id": "pHFIpFUJcfCu",
        "outputId": "39410bd5-af85-4d0b-f777-57153f62deda"
      },
      "outputs": [
        {
          "data": {
            "text/html": [
              "<div>\n",
              "<style scoped>\n",
              "    .dataframe tbody tr th:only-of-type {\n",
              "        vertical-align: middle;\n",
              "    }\n",
              "\n",
              "    .dataframe tbody tr th {\n",
              "        vertical-align: top;\n",
              "    }\n",
              "\n",
              "    .dataframe thead th {\n",
              "        text-align: right;\n",
              "    }\n",
              "</style>\n",
              "<table border=\"1\" class=\"dataframe\">\n",
              "  <thead>\n",
              "    <tr style=\"text-align: right;\">\n",
              "      <th></th>\n",
              "      <th>essay_id</th>\n",
              "      <th>essay_set</th>\n",
              "      <th>essay</th>\n",
              "      <th>rater1_domain1</th>\n",
              "      <th>rater2_domain1</th>\n",
              "      <th>rater3_domain1</th>\n",
              "      <th>domain1_score</th>\n",
              "      <th>rater1_domain2</th>\n",
              "      <th>rater2_domain2</th>\n",
              "      <th>domain2_score</th>\n",
              "      <th>...</th>\n",
              "      <th>rater2_trait3</th>\n",
              "      <th>rater2_trait4</th>\n",
              "      <th>rater2_trait5</th>\n",
              "      <th>rater2_trait6</th>\n",
              "      <th>rater3_trait1</th>\n",
              "      <th>rater3_trait2</th>\n",
              "      <th>rater3_trait3</th>\n",
              "      <th>rater3_trait4</th>\n",
              "      <th>rater3_trait5</th>\n",
              "      <th>rater3_trait6</th>\n",
              "    </tr>\n",
              "  </thead>\n",
              "  <tbody>\n",
              "    <tr>\n",
              "      <th>0</th>\n",
              "      <td>1</td>\n",
              "      <td>1</td>\n",
              "      <td>Dear local newspaper, I think effects computer...</td>\n",
              "      <td>4.0</td>\n",
              "      <td>4.0</td>\n",
              "      <td>NaN</td>\n",
              "      <td>8.0</td>\n",
              "      <td>NaN</td>\n",
              "      <td>NaN</td>\n",
              "      <td>NaN</td>\n",
              "      <td>...</td>\n",
              "      <td>NaN</td>\n",
              "      <td>NaN</td>\n",
              "      <td>NaN</td>\n",
              "      <td>NaN</td>\n",
              "      <td>NaN</td>\n",
              "      <td>NaN</td>\n",
              "      <td>NaN</td>\n",
              "      <td>NaN</td>\n",
              "      <td>NaN</td>\n",
              "      <td>NaN</td>\n",
              "    </tr>\n",
              "    <tr>\n",
              "      <th>1</th>\n",
              "      <td>2</td>\n",
              "      <td>1</td>\n",
              "      <td>Dear @CAPS1 @CAPS2, I believe that using compu...</td>\n",
              "      <td>5.0</td>\n",
              "      <td>4.0</td>\n",
              "      <td>NaN</td>\n",
              "      <td>9.0</td>\n",
              "      <td>NaN</td>\n",
              "      <td>NaN</td>\n",
              "      <td>NaN</td>\n",
              "      <td>...</td>\n",
              "      <td>NaN</td>\n",
              "      <td>NaN</td>\n",
              "      <td>NaN</td>\n",
              "      <td>NaN</td>\n",
              "      <td>NaN</td>\n",
              "      <td>NaN</td>\n",
              "      <td>NaN</td>\n",
              "      <td>NaN</td>\n",
              "      <td>NaN</td>\n",
              "      <td>NaN</td>\n",
              "    </tr>\n",
              "    <tr>\n",
              "      <th>2</th>\n",
              "      <td>3</td>\n",
              "      <td>1</td>\n",
              "      <td>Dear, @CAPS1 @CAPS2 @CAPS3 More and more peopl...</td>\n",
              "      <td>4.0</td>\n",
              "      <td>3.0</td>\n",
              "      <td>NaN</td>\n",
              "      <td>7.0</td>\n",
              "      <td>NaN</td>\n",
              "      <td>NaN</td>\n",
              "      <td>NaN</td>\n",
              "      <td>...</td>\n",
              "      <td>NaN</td>\n",
              "      <td>NaN</td>\n",
              "      <td>NaN</td>\n",
              "      <td>NaN</td>\n",
              "      <td>NaN</td>\n",
              "      <td>NaN</td>\n",
              "      <td>NaN</td>\n",
              "      <td>NaN</td>\n",
              "      <td>NaN</td>\n",
              "      <td>NaN</td>\n",
              "    </tr>\n",
              "    <tr>\n",
              "      <th>3</th>\n",
              "      <td>4</td>\n",
              "      <td>1</td>\n",
              "      <td>Dear Local Newspaper, @CAPS1 I have found that...</td>\n",
              "      <td>5.0</td>\n",
              "      <td>5.0</td>\n",
              "      <td>NaN</td>\n",
              "      <td>10.0</td>\n",
              "      <td>NaN</td>\n",
              "      <td>NaN</td>\n",
              "      <td>NaN</td>\n",
              "      <td>...</td>\n",
              "      <td>NaN</td>\n",
              "      <td>NaN</td>\n",
              "      <td>NaN</td>\n",
              "      <td>NaN</td>\n",
              "      <td>NaN</td>\n",
              "      <td>NaN</td>\n",
              "      <td>NaN</td>\n",
              "      <td>NaN</td>\n",
              "      <td>NaN</td>\n",
              "      <td>NaN</td>\n",
              "    </tr>\n",
              "    <tr>\n",
              "      <th>4</th>\n",
              "      <td>5</td>\n",
              "      <td>1</td>\n",
              "      <td>Dear @LOCATION1, I know having computers has a...</td>\n",
              "      <td>4.0</td>\n",
              "      <td>4.0</td>\n",
              "      <td>NaN</td>\n",
              "      <td>8.0</td>\n",
              "      <td>NaN</td>\n",
              "      <td>NaN</td>\n",
              "      <td>NaN</td>\n",
              "      <td>...</td>\n",
              "      <td>NaN</td>\n",
              "      <td>NaN</td>\n",
              "      <td>NaN</td>\n",
              "      <td>NaN</td>\n",
              "      <td>NaN</td>\n",
              "      <td>NaN</td>\n",
              "      <td>NaN</td>\n",
              "      <td>NaN</td>\n",
              "      <td>NaN</td>\n",
              "      <td>NaN</td>\n",
              "    </tr>\n",
              "  </tbody>\n",
              "</table>\n",
              "<p>5 rows × 28 columns</p>\n",
              "</div>"
            ],
            "text/plain": [
              "   essay_id  essay_set                                              essay  \\\n",
              "0         1          1  Dear local newspaper, I think effects computer...   \n",
              "1         2          1  Dear @CAPS1 @CAPS2, I believe that using compu...   \n",
              "2         3          1  Dear, @CAPS1 @CAPS2 @CAPS3 More and more peopl...   \n",
              "3         4          1  Dear Local Newspaper, @CAPS1 I have found that...   \n",
              "4         5          1  Dear @LOCATION1, I know having computers has a...   \n",
              "\n",
              "   rater1_domain1  rater2_domain1  rater3_domain1  domain1_score  \\\n",
              "0             4.0             4.0             NaN            8.0   \n",
              "1             5.0             4.0             NaN            9.0   \n",
              "2             4.0             3.0             NaN            7.0   \n",
              "3             5.0             5.0             NaN           10.0   \n",
              "4             4.0             4.0             NaN            8.0   \n",
              "\n",
              "   rater1_domain2  rater2_domain2  domain2_score  ...  rater2_trait3  \\\n",
              "0             NaN             NaN            NaN  ...            NaN   \n",
              "1             NaN             NaN            NaN  ...            NaN   \n",
              "2             NaN             NaN            NaN  ...            NaN   \n",
              "3             NaN             NaN            NaN  ...            NaN   \n",
              "4             NaN             NaN            NaN  ...            NaN   \n",
              "\n",
              "   rater2_trait4  rater2_trait5  rater2_trait6  rater3_trait1  rater3_trait2  \\\n",
              "0            NaN            NaN            NaN            NaN            NaN   \n",
              "1            NaN            NaN            NaN            NaN            NaN   \n",
              "2            NaN            NaN            NaN            NaN            NaN   \n",
              "3            NaN            NaN            NaN            NaN            NaN   \n",
              "4            NaN            NaN            NaN            NaN            NaN   \n",
              "\n",
              "   rater3_trait3  rater3_trait4  rater3_trait5  rater3_trait6  \n",
              "0            NaN            NaN            NaN            NaN  \n",
              "1            NaN            NaN            NaN            NaN  \n",
              "2            NaN            NaN            NaN            NaN  \n",
              "3            NaN            NaN            NaN            NaN  \n",
              "4            NaN            NaN            NaN            NaN  \n",
              "\n",
              "[5 rows x 28 columns]"
            ]
          },
          "execution_count": 5,
          "metadata": {},
          "output_type": "execute_result"
        }
      ],
      "source": [
        "df.head()"
      ]
    },
    {
      "cell_type": "markdown",
      "metadata": {
        "id": "hCMB4yV-pOX2"
      },
      "source": [
        "### FILE INFO"
      ]
    },
    {
      "cell_type": "code",
      "execution_count": 6,
      "metadata": {
        "colab": {
          "base_uri": "https://localhost:8080/"
        },
        "id": "BxQjrGOXjw03",
        "outputId": "a6edee27-1261-4e9c-b540-595791b32f1c"
      },
      "outputs": [
        {
          "name": "stdout",
          "output_type": "stream",
          "text": [
            "<class 'pandas.core.frame.DataFrame'>\n",
            "RangeIndex: 12978 entries, 0 to 12977\n",
            "Data columns (total 28 columns):\n",
            " #   Column          Non-Null Count  Dtype  \n",
            "---  ------          --------------  -----  \n",
            " 0   essay_id        12978 non-null  int64  \n",
            " 1   essay_set       12978 non-null  int64  \n",
            " 2   essay           12978 non-null  object \n",
            " 3   rater1_domain1  12977 non-null  float64\n",
            " 4   rater2_domain1  12977 non-null  float64\n",
            " 5   rater3_domain1  128 non-null    float64\n",
            " 6   domain1_score   12977 non-null  float64\n",
            " 7   rater1_domain2  1800 non-null   float64\n",
            " 8   rater2_domain2  1800 non-null   float64\n",
            " 9   domain2_score   1800 non-null   float64\n",
            " 10  rater1_trait1   2292 non-null   float64\n",
            " 11  rater1_trait2   2292 non-null   float64\n",
            " 12  rater1_trait3   2292 non-null   float64\n",
            " 13  rater1_trait4   2292 non-null   float64\n",
            " 14  rater1_trait5   723 non-null    float64\n",
            " 15  rater1_trait6   723 non-null    float64\n",
            " 16  rater2_trait1   2292 non-null   float64\n",
            " 17  rater2_trait2   2292 non-null   float64\n",
            " 18  rater2_trait3   2292 non-null   float64\n",
            " 19  rater2_trait4   2292 non-null   float64\n",
            " 20  rater2_trait5   723 non-null    float64\n",
            " 21  rater2_trait6   723 non-null    float64\n",
            " 22  rater3_trait1   128 non-null    float64\n",
            " 23  rater3_trait2   128 non-null    float64\n",
            " 24  rater3_trait3   128 non-null    float64\n",
            " 25  rater3_trait4   128 non-null    float64\n",
            " 26  rater3_trait5   128 non-null    float64\n",
            " 27  rater3_trait6   128 non-null    float64\n",
            "dtypes: float64(25), int64(2), object(1)\n",
            "memory usage: 2.8+ MB\n"
          ]
        }
      ],
      "source": [
        "df.info()"
      ]
    },
    {
      "cell_type": "code",
      "execution_count": 7,
      "metadata": {
        "colab": {
          "base_uri": "https://localhost:8080/",
          "height": 123
        },
        "id": "ERW2p3QcOkYf",
        "outputId": "4ac7675f-d2db-4705-dd6b-c546c2bbd108"
      },
      "outputs": [
        {
          "data": {
            "text/plain": [
              "\"Dear local newspaper, I think effects computers have on people are great learning skills/affects because they give us time to chat with friends/new people, helps us learn about the globe(astronomy) and keeps us out of troble! Thing about! Dont you think so? How would you feel if your teenager is always on the phone with friends! Do you ever time to chat with your friends or buisness partner about things. Well now - there's a new way to chat the computer, theirs plenty of sites on the internet to do so: @ORGANIZATION1, @ORGANIZATION2, @CAPS1, facebook, myspace ect. Just think now while your setting up meeting with your boss on the computer, your teenager is having fun on the phone not rushing to get off cause you want to use it. How did you learn about other countrys/states outside of yours? Well I have by computer/internet, it's a new way to learn about what going on in our time! You might think your child spends a lot of time on the computer, but ask them so question about the economy, sea floor spreading or even about the @DATE1's you'll be surprise at how much he/she knows. Believe it or not the computer is much interesting then in class all day reading out of books. If your child is home on your computer or at a local library, it's better than being out with friends being fresh, or being perpressured to doing something they know isnt right. You might not know where your child is, @CAPS2 forbidde in a hospital bed because of a drive-by. Rather than your child on the computer learning, chatting or just playing games, safe and sound in your home or community place. Now I hope you have reached a point to understand and agree with me, because computers can have great effects on you or child because it gives us time to chat with friends/new people, helps us learn about the globe and believe or not keeps us out of troble. Thank you for listening.\""
            ]
          },
          "execution_count": 7,
          "metadata": {},
          "output_type": "execute_result"
        }
      ],
      "source": [
        "df['essay'][0]"
      ]
    },
    {
      "cell_type": "markdown",
      "metadata": {
        "id": "JFE6dzuipRxc"
      },
      "source": [
        "### ESSAY PREPROCESSING"
      ]
    },
    {
      "cell_type": "code",
      "execution_count": 8,
      "metadata": {
        "id": "fs35Y5pkQ2oa"
      },
      "outputs": [],
      "source": [
        "string.punctuation\n",
        "punct = string.punctuation\n",
        "punct = punct.replace('.', '')\n",
        "punct += '@'\n",
        "'.' in punct\n",
        "\n",
        "def get_lower(text):\n",
        "    return text.lower()\n",
        "\n",
        "def remove_punctuations(text):\n",
        "    return ''.join([char for char in text if char not in punct])\n",
        "\n",
        "def tokenize(text):\n",
        "    # text = text.strip()\n",
        "    return word_tokenize(text)\n",
        "\n",
        "def remove_alpha_numeric(sentence):\n",
        "    # return ' '.join(word for word in tokens if word.isalpha())\n",
        "    words = sentence.split()\n",
        "    alphabetic_words = [word for word in words if word.isalpha()]\n",
        "    return ' '.join(alphabetic_words)\n",
        "\n",
        "def remove_tags(text):\n",
        "    return BeautifulSoup(text, 'html.parser').get_text()\n",
        "\n",
        "def remove_extra_gaps(text):\n",
        "    return ' '.join(text.split())\n",
        "\n",
        "def pipeline(text):\n",
        "    text = get_lower(text)\n",
        "    text = remove_punctuations(text)\n",
        "    # tokens = tokenize(text)\n",
        "    # text = remove_alpha_numeric(text)\n",
        "    # text = remove_tags(text)\n",
        "    text = remove_extra_gaps(text)\n",
        "    return text"
      ]
    },
    {
      "cell_type": "code",
      "execution_count": 9,
      "metadata": {
        "id": "tNM00SluS0o-"
      },
      "outputs": [],
      "source": [
        "df['essay'] = df['essay'].apply(pipeline)"
      ]
    },
    {
      "cell_type": "code",
      "execution_count": 11,
      "metadata": {
        "colab": {
          "base_uri": "https://localhost:8080/",
          "height": 123
        },
        "id": "masTBZ1oTWwH",
        "outputId": "f4f0a68d-e86e-4cc0-ed72-d64f0d4a9da9"
      },
      "outputs": [
        {
          "data": {
            "text/plain": [
              "'dear caps1 caps2 i believe that using computers will benefit us in many ways like talking and becoming friends will others through websites like facebook and mysace. using computers can help us find coordibates locations and able ourselfs to millions of information. also computers will benefit us by helping with jobs as in planning a house plan and typing a num1 page report for one of our jobs in less than writing it. now lets go into the wonder world of technology. using a computer will help us in life by talking or making friends on line. many people have myspace facebooks aim these all benefit us by having conversations with one another. many people believe computers are bad but how can you make friends if you can never talk to them i am very fortunate for having a computer that can help with not only school work but my social life and how i make friends. computers help us with finding our locations coordibates and millions of information online. if we didnt go on the internet a lot we wouldnt know how to go onto websites that month1 help us with locations and coordinates like location1. would you rather use a computer or be in location3. when your supposed to be vacationing in location2. million of information is found on the internet. you can as almost every question and a computer will have it. would you rather easily draw up a house plan on the computers or take num1 hours doing one by hand with ugly erazer marks all over it you are garrenteed that to find a job with a drawing like that. also when appling for a job many workers must write very long papers like a num3 word essay on why this job fits you the most and many people i know dont like writing num3 words nonstopp for hours when it could take them i hav an a computer. that is why computers we needed a lot now adays. i hope this essay has impacted your descion on computers because they are great machines to work with. the other day i showed my mom how to use a computer and she said it was the greatest invention sense sliced bread now go out and buy a computer to help you chat online with friends find locations and millions of information on one click of the button and help your self with getting a job with neat prepared printed work that your boss will love.'"
            ]
          },
          "execution_count": 11,
          "metadata": {},
          "output_type": "execute_result"
        }
      ],
      "source": [
        "df['essay'][1]"
      ]
    },
    {
      "cell_type": "code",
      "execution_count": 10,
      "metadata": {
        "colab": {
          "base_uri": "https://localhost:8080/"
        },
        "id": "zgvAaiBEUJW4",
        "outputId": "f36d3f3d-ea21-485f-d5cd-762e351c97e0"
      },
      "outputs": [
        {
          "data": {
            "text/plain": [
              "3.0     2830\n",
              "2.0     2445\n",
              "1.0     1736\n",
              "4.0     1424\n",
              "8.0      737\n",
              "0.0      419\n",
              "9.0      383\n",
              "10.0     372\n",
              "16.0     199\n",
              "11.0     165\n",
              "7.0      163\n",
              "40.0     161\n",
              "17.0     160\n",
              "6.0      137\n",
              "12.0     133\n",
              "18.0     118\n",
              "14.0     105\n",
              "20.0     103\n",
              "24.0      99\n",
              "5.0       96\n",
              "19.0      88\n",
              "15.0      86\n",
              "13.0      82\n",
              "21.0      70\n",
              "36.0      65\n",
              "22.0      63\n",
              "23.0      53\n",
              "30.0      49\n",
              "35.0      47\n",
              "37.0      39\n",
              "34.0      39\n",
              "32.0      37\n",
              "31.0      34\n",
              "33.0      32\n",
              "45.0      31\n",
              "42.0      23\n",
              "41.0      22\n",
              "38.0      20\n",
              "43.0      15\n",
              "44.0      14\n",
              "50.0      13\n",
              "46.0      13\n",
              "28.0      11\n",
              "39.0       8\n",
              "29.0       8\n",
              "47.0       7\n",
              "27.0       6\n",
              "25.0       5\n",
              "26.0       4\n",
              "48.0       3\n",
              "55.0       2\n",
              "49.0       2\n",
              "60.0       1\n",
              "Name: domain1_score, dtype: int64"
            ]
          },
          "execution_count": 10,
          "metadata": {},
          "output_type": "execute_result"
        }
      ],
      "source": [
        "(df.domain1_score.value_counts())\n"
      ]
    },
    {
      "cell_type": "code",
      "execution_count": 11,
      "metadata": {
        "colab": {
          "base_uri": "https://localhost:8080/",
          "height": 602
        },
        "id": "3g6PF_Qe24HV",
        "outputId": "31bdeb96-837c-4250-c87d-2e171ca0dee1"
      },
      "outputs": [
        {
          "data": {
            "text/html": [
              "<div>\n",
              "<style scoped>\n",
              "    .dataframe tbody tr th:only-of-type {\n",
              "        vertical-align: middle;\n",
              "    }\n",
              "\n",
              "    .dataframe tbody tr th {\n",
              "        vertical-align: top;\n",
              "    }\n",
              "\n",
              "    .dataframe thead th {\n",
              "        text-align: right;\n",
              "    }\n",
              "</style>\n",
              "<table border=\"1\" class=\"dataframe\">\n",
              "  <thead>\n",
              "    <tr style=\"text-align: right;\">\n",
              "      <th></th>\n",
              "      <th>essay_id</th>\n",
              "      <th>essay_set</th>\n",
              "      <th>essay</th>\n",
              "      <th>rater1_domain1</th>\n",
              "      <th>rater2_domain1</th>\n",
              "      <th>rater3_domain1</th>\n",
              "      <th>domain1_score</th>\n",
              "      <th>rater1_domain2</th>\n",
              "      <th>rater2_domain2</th>\n",
              "      <th>domain2_score</th>\n",
              "      <th>...</th>\n",
              "      <th>rater2_trait3</th>\n",
              "      <th>rater2_trait4</th>\n",
              "      <th>rater2_trait5</th>\n",
              "      <th>rater2_trait6</th>\n",
              "      <th>rater3_trait1</th>\n",
              "      <th>rater3_trait2</th>\n",
              "      <th>rater3_trait3</th>\n",
              "      <th>rater3_trait4</th>\n",
              "      <th>rater3_trait5</th>\n",
              "      <th>rater3_trait6</th>\n",
              "    </tr>\n",
              "  </thead>\n",
              "  <tbody>\n",
              "    <tr>\n",
              "      <th>0</th>\n",
              "      <td>1</td>\n",
              "      <td>1</td>\n",
              "      <td>dear local newspaper i think effects computers...</td>\n",
              "      <td>4.0</td>\n",
              "      <td>4.0</td>\n",
              "      <td>NaN</td>\n",
              "      <td>8.0</td>\n",
              "      <td>NaN</td>\n",
              "      <td>NaN</td>\n",
              "      <td>NaN</td>\n",
              "      <td>...</td>\n",
              "      <td>NaN</td>\n",
              "      <td>NaN</td>\n",
              "      <td>NaN</td>\n",
              "      <td>NaN</td>\n",
              "      <td>NaN</td>\n",
              "      <td>NaN</td>\n",
              "      <td>NaN</td>\n",
              "      <td>NaN</td>\n",
              "      <td>NaN</td>\n",
              "      <td>NaN</td>\n",
              "    </tr>\n",
              "    <tr>\n",
              "      <th>1</th>\n",
              "      <td>2</td>\n",
              "      <td>1</td>\n",
              "      <td>dear caps1 caps2 i believe that using computer...</td>\n",
              "      <td>5.0</td>\n",
              "      <td>4.0</td>\n",
              "      <td>NaN</td>\n",
              "      <td>9.0</td>\n",
              "      <td>NaN</td>\n",
              "      <td>NaN</td>\n",
              "      <td>NaN</td>\n",
              "      <td>...</td>\n",
              "      <td>NaN</td>\n",
              "      <td>NaN</td>\n",
              "      <td>NaN</td>\n",
              "      <td>NaN</td>\n",
              "      <td>NaN</td>\n",
              "      <td>NaN</td>\n",
              "      <td>NaN</td>\n",
              "      <td>NaN</td>\n",
              "      <td>NaN</td>\n",
              "      <td>NaN</td>\n",
              "    </tr>\n",
              "    <tr>\n",
              "      <th>2</th>\n",
              "      <td>3</td>\n",
              "      <td>1</td>\n",
              "      <td>dear caps1 caps2 caps3 more and more people us...</td>\n",
              "      <td>4.0</td>\n",
              "      <td>3.0</td>\n",
              "      <td>NaN</td>\n",
              "      <td>7.0</td>\n",
              "      <td>NaN</td>\n",
              "      <td>NaN</td>\n",
              "      <td>NaN</td>\n",
              "      <td>...</td>\n",
              "      <td>NaN</td>\n",
              "      <td>NaN</td>\n",
              "      <td>NaN</td>\n",
              "      <td>NaN</td>\n",
              "      <td>NaN</td>\n",
              "      <td>NaN</td>\n",
              "      <td>NaN</td>\n",
              "      <td>NaN</td>\n",
              "      <td>NaN</td>\n",
              "      <td>NaN</td>\n",
              "    </tr>\n",
              "    <tr>\n",
              "      <th>3</th>\n",
              "      <td>4</td>\n",
              "      <td>1</td>\n",
              "      <td>dear local newspaper caps1 i have found that m...</td>\n",
              "      <td>5.0</td>\n",
              "      <td>5.0</td>\n",
              "      <td>NaN</td>\n",
              "      <td>10.0</td>\n",
              "      <td>NaN</td>\n",
              "      <td>NaN</td>\n",
              "      <td>NaN</td>\n",
              "      <td>...</td>\n",
              "      <td>NaN</td>\n",
              "      <td>NaN</td>\n",
              "      <td>NaN</td>\n",
              "      <td>NaN</td>\n",
              "      <td>NaN</td>\n",
              "      <td>NaN</td>\n",
              "      <td>NaN</td>\n",
              "      <td>NaN</td>\n",
              "      <td>NaN</td>\n",
              "      <td>NaN</td>\n",
              "    </tr>\n",
              "    <tr>\n",
              "      <th>4</th>\n",
              "      <td>5</td>\n",
              "      <td>1</td>\n",
              "      <td>dear location1 i know having computers has a p...</td>\n",
              "      <td>4.0</td>\n",
              "      <td>4.0</td>\n",
              "      <td>NaN</td>\n",
              "      <td>8.0</td>\n",
              "      <td>NaN</td>\n",
              "      <td>NaN</td>\n",
              "      <td>NaN</td>\n",
              "      <td>...</td>\n",
              "      <td>NaN</td>\n",
              "      <td>NaN</td>\n",
              "      <td>NaN</td>\n",
              "      <td>NaN</td>\n",
              "      <td>NaN</td>\n",
              "      <td>NaN</td>\n",
              "      <td>NaN</td>\n",
              "      <td>NaN</td>\n",
              "      <td>NaN</td>\n",
              "      <td>NaN</td>\n",
              "    </tr>\n",
              "  </tbody>\n",
              "</table>\n",
              "<p>5 rows × 28 columns</p>\n",
              "</div>"
            ],
            "text/plain": [
              "   essay_id  essay_set                                              essay  \\\n",
              "0         1          1  dear local newspaper i think effects computers...   \n",
              "1         2          1  dear caps1 caps2 i believe that using computer...   \n",
              "2         3          1  dear caps1 caps2 caps3 more and more people us...   \n",
              "3         4          1  dear local newspaper caps1 i have found that m...   \n",
              "4         5          1  dear location1 i know having computers has a p...   \n",
              "\n",
              "   rater1_domain1  rater2_domain1  rater3_domain1  domain1_score  \\\n",
              "0             4.0             4.0             NaN            8.0   \n",
              "1             5.0             4.0             NaN            9.0   \n",
              "2             4.0             3.0             NaN            7.0   \n",
              "3             5.0             5.0             NaN           10.0   \n",
              "4             4.0             4.0             NaN            8.0   \n",
              "\n",
              "   rater1_domain2  rater2_domain2  domain2_score  ...  rater2_trait3  \\\n",
              "0             NaN             NaN            NaN  ...            NaN   \n",
              "1             NaN             NaN            NaN  ...            NaN   \n",
              "2             NaN             NaN            NaN  ...            NaN   \n",
              "3             NaN             NaN            NaN  ...            NaN   \n",
              "4             NaN             NaN            NaN  ...            NaN   \n",
              "\n",
              "   rater2_trait4  rater2_trait5  rater2_trait6  rater3_trait1  rater3_trait2  \\\n",
              "0            NaN            NaN            NaN            NaN            NaN   \n",
              "1            NaN            NaN            NaN            NaN            NaN   \n",
              "2            NaN            NaN            NaN            NaN            NaN   \n",
              "3            NaN            NaN            NaN            NaN            NaN   \n",
              "4            NaN            NaN            NaN            NaN            NaN   \n",
              "\n",
              "   rater3_trait3  rater3_trait4  rater3_trait5  rater3_trait6  \n",
              "0            NaN            NaN            NaN            NaN  \n",
              "1            NaN            NaN            NaN            NaN  \n",
              "2            NaN            NaN            NaN            NaN  \n",
              "3            NaN            NaN            NaN            NaN  \n",
              "4            NaN            NaN            NaN            NaN  \n",
              "\n",
              "[5 rows x 28 columns]"
            ]
          },
          "execution_count": 11,
          "metadata": {},
          "output_type": "execute_result"
        }
      ],
      "source": [
        "temp_df = df[df['domain1_score'] < 21]\n",
        "temp_df.reset_index(drop=True, inplace=True)\n",
        "temp_df.head()"
      ]
    },
    {
      "cell_type": "markdown",
      "metadata": {
        "id": "S8KW39rXpdWU"
      },
      "source": [
        "### HISTOGRAM WITH NUMBER OF ARTICLES WITH GIVEN FREQUENCY OF SENTENCE LENGTH"
      ]
    },
    {
      "cell_type": "code",
      "execution_count": 12,
      "metadata": {
        "id": "qP9Uo5bvxV_R"
      },
      "outputs": [],
      "source": [
        "ess = df['essay']\n",
        "maxi = 0\n",
        "d = {}\n",
        "for e in ess:\n",
        "  size = len(sent_tokenize(e))\n",
        "  if size in d:\n",
        "    d[size] += 1\n",
        "  else:\n",
        "    d[size] = 1"
      ]
    },
    {
      "cell_type": "code",
      "execution_count": 13,
      "metadata": {
        "colab": {
          "base_uri": "https://localhost:8080/",
          "height": 564
        },
        "id": "Qy3awbf4x6Lp",
        "outputId": "99acfcf5-e9fb-42be-b841-0c95f3637dd2"
      },
      "outputs": [
        {
          "data": {
            "image/png": "[encoded data removed]",
            "text/plain": [
              "<Figure size 1000x600 with 1 Axes>"
            ]
          },
          "metadata": {},
          "output_type": "display_data"
        }
      ],
      "source": [
        "import matplotlib.pyplot as plt\n",
        "\n",
        "keys = list(d.keys())\n",
        "values = list(d.values())\n",
        "\n",
        "plt.figure(figsize=(10, 6))\n",
        "\n",
        "# Create bar chart\n",
        "plt.bar(keys, values, color='blue')\n",
        "\n",
        "# Add title and labels\n",
        "plt.title('Dictionary Visualization')\n",
        "plt.xlabel('Keys')\n",
        "plt.ylabel('Values')\n",
        "plt.show()"
      ]
    },
    {
      "cell_type": "code",
      "execution_count": 14,
      "metadata": {
        "colab": {
          "base_uri": "https://localhost:8080/"
        },
        "id": "nvknq3Fz24K6",
        "outputId": "917466d9-f090-49b4-ee5f-67410c46d863"
      },
      "outputs": [
        {
          "name": "stdout",
          "output_type": "stream",
          "text": [
            "tensor([[  101,  1045,  2097,  3422,  2033, 23065,  3892,  1012,  2079,   102]])\n",
            "tensor([[0, 0, 0, 0, 0, 0, 0, 0, 0, 0]])\n",
            "tensor([[1, 1, 1, 1, 1, 1, 1, 1, 1, 1]])\n"
          ]
        },
        {
          "data": {
            "text/plain": [
              "tensor([[1, 1, 1, 1, 1, 1, 1, 1, 0, 0]])"
            ]
          },
          "execution_count": 14,
          "metadata": {},
          "output_type": "execute_result"
        }
      ],
      "source": [
        "example_text = 'I will watch Memento tonight. Do you'\n",
        "bert_input = tokenizer(example_text,padding='max_length', max_length = 10,\n",
        "                       truncation=True, return_tensors=\"pt\")\n",
        "\n",
        "\n",
        "print(bert_input['input_ids'])\n",
        "print(bert_input['token_type_ids'])\n",
        "print(bert_input['attention_mask'])\n",
        "tensor([[  101,   146,  1209,  2824,  2508, 26173,  3568,   102,     0,     0]])\n",
        "tensor([[0, 0, 0, 0, 0, 0, 0, 0, 0, 0]])\n",
        "tensor([[1, 1, 1, 1, 1, 1, 1, 1, 0, 0]])"
      ]
    },
    {
      "cell_type": "markdown",
      "metadata": {
        "id": "GTjqWuuWpu6-"
      },
      "source": [
        "### NORMALIZING EACH ESSAY SET VALUE BETWEEN 0 AND 1"
      ]
    },
    {
      "cell_type": "code",
      "execution_count": 15,
      "metadata": {
        "colab": {
          "base_uri": "https://localhost:8080/"
        },
        "id": "9EyWzcr124FP",
        "outputId": "fa22a47e-66cc-4dfd-8375-ad01ae57b852"
      },
      "outputs": [
        {
          "name": "stdout",
          "output_type": "stream",
          "text": [
            "2.0 12.0\n",
            "1.0 6.0\n",
            "0.0 3.0\n",
            "0.0 3.0\n",
            "0.0 4.0\n",
            "0.0 4.0\n",
            "2.0 20.0\n",
            "10.0 20.0\n"
          ]
        },
        {
          "name": "stderr",
          "output_type": "stream",
          "text": [
            "C:\\Users\\pchhl\\AppData\\Local\\Temp\\ipykernel_25820\\3294479561.py:7: SettingWithCopyWarning: \n",
            "A value is trying to be set on a copy of a slice from a DataFrame.\n",
            "Try using .loc[row_indexer,col_indexer] = value instead\n",
            "\n",
            "See the caveats in the documentation: https://pandas.pydata.org/pandas-docs/stable/user_guide/indexing.html#returning-a-view-versus-a-copy\n",
            "  temp_df.loc[temp_df['essay_set'] == essay_set, 'normalized_score'] = (temp['domain1_score'] - min_value) / (max_value - min_value)\n"
          ]
        }
      ],
      "source": [
        "# Change the range to cover all 8 essay sets\n",
        "for essay_set in range(1, 9):\n",
        "    temp = temp_df[temp_df['essay_set'] == essay_set]\n",
        "    min_value = temp['domain1_score'].min()\n",
        "    max_value = temp['domain1_score'].max()\n",
        "    print(min_value, max_value)\n",
        "    temp_df.loc[temp_df['essay_set'] == essay_set, 'normalized_score'] = (temp['domain1_score'] - min_value) / (max_value - min_value)\n",
        "\n",
        "# print(temp_df)"
      ]
    },
    {
      "cell_type": "code",
      "execution_count": 16,
      "metadata": {
        "colab": {
          "base_uri": "https://localhost:8080/"
        },
        "id": "ii8eIretV0K7",
        "outputId": "ddfb131c-b2b5-4ab3-8edf-1506bbba3f8e"
      },
      "outputs": [
        {
          "name": "stdout",
          "output_type": "stream",
          "text": [
            "0.0 1.0\n",
            "0.0 1.0\n",
            "0.0 1.0\n",
            "0.0 1.0\n",
            "0.0 1.0\n",
            "0.0 1.0\n",
            "0.0 1.0\n",
            "0.0 1.0\n"
          ]
        }
      ],
      "source": [
        "for essay_set in range(1, 9):\n",
        "    temp = temp_df[temp_df['essay_set'] == essay_set]\n",
        "    min_value = temp['normalized_score'].min()\n",
        "    max_value = temp['normalized_score'].max()\n",
        "    print(min_value, max_value)"
      ]
    },
    {
      "cell_type": "code",
      "execution_count": 17,
      "metadata": {
        "colab": {
          "base_uri": "https://localhost:8080/",
          "height": 602
        },
        "id": "JLC9ZrCqWP4U",
        "outputId": "fcc6d7c0-a29c-4784-abcf-78239b7d0915"
      },
      "outputs": [
        {
          "data": {
            "text/html": [
              "<div>\n",
              "<style scoped>\n",
              "    .dataframe tbody tr th:only-of-type {\n",
              "        vertical-align: middle;\n",
              "    }\n",
              "\n",
              "    .dataframe tbody tr th {\n",
              "        vertical-align: top;\n",
              "    }\n",
              "\n",
              "    .dataframe thead th {\n",
              "        text-align: right;\n",
              "    }\n",
              "</style>\n",
              "<table border=\"1\" class=\"dataframe\">\n",
              "  <thead>\n",
              "    <tr style=\"text-align: right;\">\n",
              "      <th></th>\n",
              "      <th>essay_id</th>\n",
              "      <th>essay_set</th>\n",
              "      <th>essay</th>\n",
              "      <th>rater1_domain1</th>\n",
              "      <th>rater2_domain1</th>\n",
              "      <th>rater3_domain1</th>\n",
              "      <th>domain1_score</th>\n",
              "      <th>rater1_domain2</th>\n",
              "      <th>rater2_domain2</th>\n",
              "      <th>domain2_score</th>\n",
              "      <th>...</th>\n",
              "      <th>rater2_trait4</th>\n",
              "      <th>rater2_trait5</th>\n",
              "      <th>rater2_trait6</th>\n",
              "      <th>rater3_trait1</th>\n",
              "      <th>rater3_trait2</th>\n",
              "      <th>rater3_trait3</th>\n",
              "      <th>rater3_trait4</th>\n",
              "      <th>rater3_trait5</th>\n",
              "      <th>rater3_trait6</th>\n",
              "      <th>normalized_score</th>\n",
              "    </tr>\n",
              "  </thead>\n",
              "  <tbody>\n",
              "    <tr>\n",
              "      <th>0</th>\n",
              "      <td>1</td>\n",
              "      <td>1</td>\n",
              "      <td>dear local newspaper i think effects computers...</td>\n",
              "      <td>4.0</td>\n",
              "      <td>4.0</td>\n",
              "      <td>NaN</td>\n",
              "      <td>8.0</td>\n",
              "      <td>NaN</td>\n",
              "      <td>NaN</td>\n",
              "      <td>NaN</td>\n",
              "      <td>...</td>\n",
              "      <td>NaN</td>\n",
              "      <td>NaN</td>\n",
              "      <td>NaN</td>\n",
              "      <td>NaN</td>\n",
              "      <td>NaN</td>\n",
              "      <td>NaN</td>\n",
              "      <td>NaN</td>\n",
              "      <td>NaN</td>\n",
              "      <td>NaN</td>\n",
              "      <td>0.6</td>\n",
              "    </tr>\n",
              "    <tr>\n",
              "      <th>1</th>\n",
              "      <td>2</td>\n",
              "      <td>1</td>\n",
              "      <td>dear caps1 caps2 i believe that using computer...</td>\n",
              "      <td>5.0</td>\n",
              "      <td>4.0</td>\n",
              "      <td>NaN</td>\n",
              "      <td>9.0</td>\n",
              "      <td>NaN</td>\n",
              "      <td>NaN</td>\n",
              "      <td>NaN</td>\n",
              "      <td>...</td>\n",
              "      <td>NaN</td>\n",
              "      <td>NaN</td>\n",
              "      <td>NaN</td>\n",
              "      <td>NaN</td>\n",
              "      <td>NaN</td>\n",
              "      <td>NaN</td>\n",
              "      <td>NaN</td>\n",
              "      <td>NaN</td>\n",
              "      <td>NaN</td>\n",
              "      <td>0.7</td>\n",
              "    </tr>\n",
              "    <tr>\n",
              "      <th>2</th>\n",
              "      <td>3</td>\n",
              "      <td>1</td>\n",
              "      <td>dear caps1 caps2 caps3 more and more people us...</td>\n",
              "      <td>4.0</td>\n",
              "      <td>3.0</td>\n",
              "      <td>NaN</td>\n",
              "      <td>7.0</td>\n",
              "      <td>NaN</td>\n",
              "      <td>NaN</td>\n",
              "      <td>NaN</td>\n",
              "      <td>...</td>\n",
              "      <td>NaN</td>\n",
              "      <td>NaN</td>\n",
              "      <td>NaN</td>\n",
              "      <td>NaN</td>\n",
              "      <td>NaN</td>\n",
              "      <td>NaN</td>\n",
              "      <td>NaN</td>\n",
              "      <td>NaN</td>\n",
              "      <td>NaN</td>\n",
              "      <td>0.5</td>\n",
              "    </tr>\n",
              "    <tr>\n",
              "      <th>3</th>\n",
              "      <td>4</td>\n",
              "      <td>1</td>\n",
              "      <td>dear local newspaper caps1 i have found that m...</td>\n",
              "      <td>5.0</td>\n",
              "      <td>5.0</td>\n",
              "      <td>NaN</td>\n",
              "      <td>10.0</td>\n",
              "      <td>NaN</td>\n",
              "      <td>NaN</td>\n",
              "      <td>NaN</td>\n",
              "      <td>...</td>\n",
              "      <td>NaN</td>\n",
              "      <td>NaN</td>\n",
              "      <td>NaN</td>\n",
              "      <td>NaN</td>\n",
              "      <td>NaN</td>\n",
              "      <td>NaN</td>\n",
              "      <td>NaN</td>\n",
              "      <td>NaN</td>\n",
              "      <td>NaN</td>\n",
              "      <td>0.8</td>\n",
              "    </tr>\n",
              "    <tr>\n",
              "      <th>4</th>\n",
              "      <td>5</td>\n",
              "      <td>1</td>\n",
              "      <td>dear location1 i know having computers has a p...</td>\n",
              "      <td>4.0</td>\n",
              "      <td>4.0</td>\n",
              "      <td>NaN</td>\n",
              "      <td>8.0</td>\n",
              "      <td>NaN</td>\n",
              "      <td>NaN</td>\n",
              "      <td>NaN</td>\n",
              "      <td>...</td>\n",
              "      <td>NaN</td>\n",
              "      <td>NaN</td>\n",
              "      <td>NaN</td>\n",
              "      <td>NaN</td>\n",
              "      <td>NaN</td>\n",
              "      <td>NaN</td>\n",
              "      <td>NaN</td>\n",
              "      <td>NaN</td>\n",
              "      <td>NaN</td>\n",
              "      <td>0.6</td>\n",
              "    </tr>\n",
              "  </tbody>\n",
              "</table>\n",
              "<p>5 rows × 29 columns</p>\n",
              "</div>"
            ],
            "text/plain": [
              "   essay_id  essay_set                                              essay  \\\n",
              "0         1          1  dear local newspaper i think effects computers...   \n",
              "1         2          1  dear caps1 caps2 i believe that using computer...   \n",
              "2         3          1  dear caps1 caps2 caps3 more and more people us...   \n",
              "3         4          1  dear local newspaper caps1 i have found that m...   \n",
              "4         5          1  dear location1 i know having computers has a p...   \n",
              "\n",
              "   rater1_domain1  rater2_domain1  rater3_domain1  domain1_score  \\\n",
              "0             4.0             4.0             NaN            8.0   \n",
              "1             5.0             4.0             NaN            9.0   \n",
              "2             4.0             3.0             NaN            7.0   \n",
              "3             5.0             5.0             NaN           10.0   \n",
              "4             4.0             4.0             NaN            8.0   \n",
              "\n",
              "   rater1_domain2  rater2_domain2  domain2_score  ...  rater2_trait4  \\\n",
              "0             NaN             NaN            NaN  ...            NaN   \n",
              "1             NaN             NaN            NaN  ...            NaN   \n",
              "2             NaN             NaN            NaN  ...            NaN   \n",
              "3             NaN             NaN            NaN  ...            NaN   \n",
              "4             NaN             NaN            NaN  ...            NaN   \n",
              "\n",
              "   rater2_trait5  rater2_trait6  rater3_trait1  rater3_trait2  rater3_trait3  \\\n",
              "0            NaN            NaN            NaN            NaN            NaN   \n",
              "1            NaN            NaN            NaN            NaN            NaN   \n",
              "2            NaN            NaN            NaN            NaN            NaN   \n",
              "3            NaN            NaN            NaN            NaN            NaN   \n",
              "4            NaN            NaN            NaN            NaN            NaN   \n",
              "\n",
              "   rater3_trait4  rater3_trait5  rater3_trait6  normalized_score  \n",
              "0            NaN            NaN            NaN               0.6  \n",
              "1            NaN            NaN            NaN               0.7  \n",
              "2            NaN            NaN            NaN               0.5  \n",
              "3            NaN            NaN            NaN               0.8  \n",
              "4            NaN            NaN            NaN               0.6  \n",
              "\n",
              "[5 rows x 29 columns]"
            ]
          },
          "execution_count": 17,
          "metadata": {},
          "output_type": "execute_result"
        }
      ],
      "source": [
        "temp_df.head()"
      ]
    },
    {
      "cell_type": "code",
      "execution_count": 18,
      "metadata": {
        "id": "cRW-cxck26lu"
      },
      "outputs": [],
      "source": [
        "text = \"Hello, how are you?\"\n",
        "inputs = tokenizer(text, return_tensors=\"pt\").to(device)\n",
        "outputs = model(**inputs)\n"
      ]
    },
    {
      "cell_type": "code",
      "execution_count": 273,
      "metadata": {
        "colab": {
          "base_uri": "https://localhost:8080/"
        },
        "id": "wilM0SKrRUXv",
        "outputId": "213b9730-2581-4e59-c488-68d6239c64e3"
      },
      "outputs": [],
      "source": [
        "device = torch.device(\"cuda\" if torch.cuda.is_available() else \"cpu\")\n"
      ]
    },
    {
      "cell_type": "markdown",
      "metadata": {
        "id": "i0UmXYZHqELq"
      },
      "source": [
        "### WORD EMBEDDINGS FROM PENULTIMATE LAYER OF BERT MODEL"
      ]
    },
    {
      "cell_type": "code",
      "execution_count": 20,
      "metadata": {
        "colab": {
          "base_uri": "https://localhost:8080/"
        },
        "id": "I84xiwkxKqU_",
        "outputId": "847f75d9-df6f-4018-e90d-2d1fe7dc19e9"
      },
      "outputs": [
        {
          "name": "stdout",
          "output_type": "stream",
          "text": [
            "(10, 768)\n"
          ]
        }
      ],
      "source": [
        "class BertSentenceEmbedding(nn.Module):\n",
        "    def __init__(self, pretrained_model_name='bert-base-uncased'):\n",
        "        super(BertSentenceEmbedding, self).__init__()  # Call the super class's __init__ first\n",
        "\n",
        "        self.device = torch.device(\"cuda\" if torch.cuda.is_available() else \"cpu\")\n",
        "        self.tokenizer = BertTokenizer.from_pretrained(pretrained_model_name)\n",
        "        self.model = BertModel.from_pretrained(pretrained_model_name, output_hidden_states=True)\n",
        "        self.model.eval()\n",
        "\n",
        "\n",
        "    def get_embedding(self, text):\n",
        "        sentences = sent_tokenize(text)\n",
        "        sentence_embeddings = []\n",
        "\n",
        "        for sentence in sentences:\n",
        "            processed_sentence = pipeline(sentence)\n",
        "            inputs = self.tokenizer(sentence, return_tensors=\"pt\", truncation=True, padding=True, max_length=512)\n",
        "            with torch.no_grad():\n",
        "                outputs = self.model(**inputs.to(self.device))\n",
        "\n",
        "            # Use the last four layers' hidden states\n",
        "            hidden_states = outputs.hidden_states[-4:]\n",
        "            # print(\"hidden_states :\", hidden_states[0].cpu().numpy().shape)\n",
        "\n",
        "\n",
        "            # Concatenate the hidden states from the last four layers along the second dimension\n",
        "            concatenated_hidden_states = torch.cat(hidden_states, dim=1)\n",
        "            # print(\"concatenated_hidden_states :\",concatenated_hidden_states.shape)\n",
        "\n",
        "\n",
        "            # Compute the mean of all tokens embeddings for this sentence\n",
        "            sentence_embedding = torch.mean(concatenated_hidden_states, dim=1).squeeze().cpu().numpy()\n",
        "            # print(\"sentence_embedding :\",sentence_embedding.shape)\n",
        "\n",
        "            sentence_embeddings.append(sentence_embedding)\n",
        "\n",
        "        return np.array(sentence_embeddings)\n",
        "\n",
        "# Assuming you've defined device somewhere above\n",
        "bert_embedder = BertSentenceEmbedding().to(device)\n",
        "essay = df['essay'][0]\n",
        "embeddings = bert_embedder.get_embedding(essay)\n",
        "print(embeddings.shape)  # It should print (number_of_sentences_in_essay, 768)\n"
      ]
    },
    {
      "cell_type": "code",
      "execution_count": null,
      "metadata": {
        "id": "i8qufj4lWXpm"
      },
      "outputs": [],
      "source": [
        "# class BertSentenceEmbedding(nn.Module):\n",
        "#     def __init__(self, pretrained_model_name='bert-base-uncased'):\n",
        "#         super(BertSentenceEmbedding, self).__init__()  # Call the super class's __init__ first\n",
        "\n",
        "#         self.device = torch.device(\"cuda\" if torch.cuda.is_available() else \"cpu\")\n",
        "#         self.tokenizer = BertTokenizer.from_pretrained(pretrained_model_name)\n",
        "#         self.model = BertModel.from_pretrained(pretrained_model_name, output_hidden_states=True)\n",
        "#         self.model.eval()\n",
        "\n",
        "#     def get_embedding(self, text):\n",
        "\n",
        "#         # Tokenize the essay into sentences\n",
        "#         sentences = sent_tokenize(text)\n",
        "\n",
        "#         # List to hold embeddings for each sentence\n",
        "#         sentence_embeddings = []\n",
        "\n",
        "#         for sentence in sentences:\n",
        "#             # I noticed you were using a \"pipeline\" function that was not defined in the given code\n",
        "#             processed_sentence = pipeline(sentence)\n",
        "#             inputs = self.tokenizer(sentence, return_tensors=\"pt\", truncation=True, padding=True, max_length=512)\n",
        "#             with torch.no_grad():\n",
        "#                 outputs = self.model(**inputs.to(self.device))\n",
        "\n",
        "#             # Use the penultimate layer's hidden states\n",
        "#             hidden_states = outputs.hidden_states[-2]\n",
        "\n",
        "#             # Compute the mean of all tokens embeddings for this sentence\n",
        "#             sentence_embedding = torch.mean(hidden_states, dim=1).squeeze().cpu().numpy()\n",
        "#             sentence_embeddings.append(sentence_embedding)\n",
        "\n",
        "#         return np.array(sentence_embeddings)  # Return embeddings for all sentences in the essay\n",
        "\n",
        "# # Assuming you've defined device somewhere above\n",
        "# bert_embedder = BertSentenceEmbedding().to(device)\n",
        "# essay = df['essay'][0]\n",
        "# embeddings = bert_embedder.get_embedding(essay)\n",
        "# print(embeddings.shape)  # It should print (number_of_sentences_in_essay, 768)\n"
      ]
    },
    {
      "cell_type": "code",
      "execution_count": null,
      "metadata": {
        "colab": {
          "base_uri": "https://localhost:8080/"
        },
        "id": "m6ByQsKHOeSP",
        "outputId": "c198235b-7de0-4279-f1b7-33618250b856"
      },
      "outputs": [
        {
          "data": {
            "text/plain": [
              "numpy.ndarray"
            ]
          },
          "execution_count": 33,
          "metadata": {},
          "output_type": "execute_result"
        }
      ],
      "source": [
        "type(embeddings)"
      ]
    },
    {
      "cell_type": "markdown",
      "metadata": {
        "id": "G9ztNl49qOc2"
      },
      "source": [
        "### SEMANTIC MODEL"
      ]
    },
    {
      "cell_type": "code",
      "execution_count": 22,
      "metadata": {
        "id": "mwAUjCVvJDWV"
      },
      "outputs": [],
      "source": [
        "class SemanticScore(nn.Module):\n",
        "    def __init__(self):\n",
        "        super(SemanticScore, self).__init__()\n",
        "\n",
        "        self.bert_emb_dim = 768\n",
        "        self.dropout_prob = 0.5\n",
        "        self.lstm_hidden_size = 1024\n",
        "        self.lstm_layers_num = 1\n",
        "        self.fnn_hidden_size = []\n",
        "        self.bidirectional = False\n",
        "\n",
        "        self.lstm = nn.LSTM(self.bert_emb_dim,\n",
        "                            self.lstm_hidden_size,\n",
        "                            self.lstm_layers_num,\n",
        "                            bidirectional=self.bidirectional,\n",
        "                            batch_first=True)\n",
        "        self.dropout = nn.Dropout(self.dropout_prob)\n",
        "\n",
        "        in_features = self.lstm_hidden_size * 2 if self.bidirectional else self.lstm_hidden_size\n",
        "        layers = []\n",
        "        for hs in self.fnn_hidden_size:\n",
        "            layers.append(nn.Linear(in_features, hs))\n",
        "            layers.append(nn.ReLU())\n",
        "            layers.append(nn.Dropout(self.dropout_prob))\n",
        "            in_features = hs\n",
        "\n",
        "        layers.append(nn.Linear(in_features, 400))\n",
        "        layers.append(nn.ReLU())\n",
        "        layers.append(nn.Dropout(self.dropout_prob))\n",
        "        layers.append(nn.Linear(400, 1))\n",
        "        layers.append(nn.Sigmoid())\n",
        "        self.fnn = nn.Sequential(*layers)\n",
        "\n",
        "    def forward(self, batch_doc_encodes, batch_doc_sent_nums):\n",
        "        packed_input = pack_padded_sequence(batch_doc_encodes, batch_doc_sent_nums, batch_first=True, enforce_sorted=False)\n",
        "        packed_output, _ = self.lstm(packed_input)\n",
        "        output, _ = pad_packed_sequence(packed_output, batch_first=True)\n",
        "        logits = self.fnn(output[:, -1, :]) # Using the output of the last timestep\n",
        "        return logits.squeeze(-1)"
      ]
    },
    {
      "cell_type": "code",
      "execution_count": null,
      "metadata": {
        "id": "IuPY2ie3g9d6"
      },
      "outputs": [],
      "source": []
    },
    {
      "cell_type": "markdown",
      "metadata": {
        "id": "Q7A4CB7qqZBB"
      },
      "source": [
        "### PROMPTS CORRESPONDING TO EACH SET FROM 1 TO 8"
      ]
    },
    {
      "cell_type": "code",
      "execution_count": 23,
      "metadata": {
        "id": "24Krn3JtggZ4"
      },
      "outputs": [],
      "source": [
        "prompts = [\n",
        "    \"\"\"More and more people use computers, but not everyone agrees that this benefits society.\n",
        "    Those who support advances in technology believe that computers have a positive effect on people.\n",
        "    They teach hand-eye coordination, give people the ability to learn about faraway places and people, and\n",
        "    even allow people to talk online with other people. Others have different ideas. Some experts are concerned\n",
        "    that people are spending too much time on their computers and less time exercising, enjoying nature, and interacting with family and friends.\n",
        "    Write a letter to your local newspaper in which you state your opinion on the effects computers have on people. Persuade the readers to agree with you.\n",
        "\"\"\" ,\n",
        "\n",
        "    \"\"\"Censorship in the Libraries\n",
        "    All of us can think of a book that we hope none of our children or any other children have taken off the shelf. But if I have the right to remove that book from the shelf --\n",
        "    that work I abhor -- then you also have exactly the same right and so does everyone else. And then we have no books left on the shelf for any of us.\" --Katherine Paterson, Author\n",
        "    Write a persuasive essay to a newspaper reflecting your vies on censorship in libraries. Do you believe that certain materials, such as books, music, movies, magazines, etc.,\n",
        "    should be removed from the shelves if they are found offensive? Support your position with convincing arguments from your own experience, observations, and/or reading.\n",
        "\"\"\",\n",
        "\n",
        "      \"\"\"ROUGH ROAD AHEAD: Do Not Exceed Posted Speed Limit\n",
        "    FORGET THAT OLD SAYING ABOUT NEVER taking candy from strangers. No, a better piece of advice for the solo cyclist would be, “Never accept travel advice from a collection of old-timers who haven’t left the confines of their porches since Carter was in office.” It’s not that a group of old guys doesn’t know the terrain. With age comes wisdom and all that, but the world is a fluid place. Things change.\n",
        "    At a reservoir campground outside of Lodi, California, I enjoyed the serenity of an early-summer evening and some lively conversation with these old codgers. What I shouldn’t have done was let them have a peek at my map. Like a foolish youth, the next morning I followed their advice and launched out at first light along a “shortcut” that was to slice away hours from my ride to Yosemite National Park.\n",
        "    They’d sounded so sure of themselves when pointing out landmarks and spouting off towns I would come to along this breezy jaunt. Things began well enough. I rode into the morning with strong legs and a smile on my face. About forty miles into the pedal, I arrived at the first “town.” This place might have been a thriving little spot at one time—say, before the last world war—but on that morning it fit the traditional definition of a ghost town. I chuckled, checked my water supply, and moved on. The sun was beginning to beat down, but I barely noticed it. The cool pines and rushing rivers of Yosemite had my name written all over them.\n",
        "    Twenty miles up the road, I came to a fork of sorts. One ramshackle shed, several rusty pumps, and a corral that couldn’t hold in the\n",
        "    lamest mule greeted me. This sight was troubling. I had been hitting my water bottles pretty regularly, and I was traveling through the high deserts of California in June.\n",
        "    I got down on my hands and knees, working the handle of the rusted water pump with all my strength. A tarlike substance oozed out, followed by\n",
        "    brackish water feeling somewhere in the neighborhood of two hundred degrees. I pumped that handle for several minutes, but the water\n",
        "    wouldn’t cool down. It didn’t matter. When I tried a drop or two, it had the flavor of battery acid.\n",
        "    The old guys had sworn the next town was only eighteen miles down the road. I could make that! I would conserve my water and go inward for an hour or so—a test of my inner spirit.\n",
        "    Not two miles into this next section of the ride, I noticed the terrain changing. Flat road was replaced by short, rolling hills.\n",
        "    After I had crested the first few of these, a large highway sign jumped out at me. It read: ROUGH ROAD AHEAD: DO NOT EXCEED POSTED SPEED LIMIT.\n",
        "    The speed limit was 55 mph. I was doing a water-depleting 12 mph. Sometimes life can feel so cruel.\n",
        "    I toiled on. At some point, tumbleweeds crossed my path and a ridiculously large snake—it really did look like a diamondback—blocked the majority of the pavement in front of me.\n",
        "    I eased past, trying to keep my balance in my dehydrated state.\n",
        "    The water bottles contained only a few tantalizing sips. Wide rings of dried sweat circled my shirt, and the growing realization that I could drop from heatstroke on a gorgeous day in June simply because I listened to some gentlemen who hadn’t been off their porch in decades, caused me to laugh.\n",
        "    It was a sad, hopeless laugh, mind you, but at least I still had the energy to feel sorry for myself. There was no one in sight, not a building, car, or structure of any kind. I began breaking the ride down into distances I could see on the horizon, telling myself that if I could make it that far, I’d be fi ne.\n",
        "    Over one long, crippling hill, a building came into view. I wiped the sweat from my eyes to make sure it wasn’t a mirage, and tried not to get too excited. With what I believed was my last burst of energy, I maneuvered down the hill.\n",
        "    In an ironic twist that should please all sadists reading this, the building—abandoned years earlier, by the looks of it—had been a Welch’s Grape Juice factory and bottling plant. A sandblasted picture of a young boy pouring a refreshing glass of juice into his mouth could still be seen.\n",
        "    I hung my head.\n",
        "    That smoky blues tune “Summertime” rattled around in the dry honeycombs of my deteriorating brain.\n",
        "    I got back on the bike, but not before I gathered up a few pebbles and stuck them in my mouth. I’d read once that sucking on stones helps take your mind off thirst by allowing what spit you have left to circulate. With any luck I’d hit a bump and lodge one in my throat.\n",
        "    It didn’t really matter. I was going to die and the birds would pick me clean, leaving only some expensive outdoor gear and a diary with the last entry in praise of old men, their wisdom, and their keen sense of direction. I made a mental note to change that paragraph if it looked like I was going to lose consciousness for the last time.\n",
        "    Somehow, I climbed away from the abandoned factory of juices and dreams, slowly gaining elevation while losing hope. Then, as easily as rounding a bend, my troubles, thirst, and fear were all behind me.\n",
        "    GARY AND WILBER’S FISH CAMP—IF YOU WANT BAIT FOR THE BIG ONES, WE’RE YOUR BEST BET!\n",
        "    “And the only bet,” I remember thinking.\n",
        "    As I stumbled into a rather modern bathroom and drank deeply from the sink, I had an overwhelming urge to seek out Gary and Wilber, kiss them, and buy some bait—any bait, even though I didn’t own a rod or reel.\n",
        "    An old guy sitting in a chair under some shade nodded in my direction. Cool water dripped from my head as I slumped against the wall beside him.\n",
        "    “Where you headed in such a hurry?”\n",
        "    “Yosemite,” I whispered.\n",
        "    “Know the best way to get there?”\n",
        "    I watched him from the corner of my eye for a long moment. He was even older than the group I’d listened to in Lodi.\n",
        "    “Yes, sir! I own a very good map.”\n",
        "    And I promised myself right then that I’d always stick to it in the future.\n",
        "    Write a response that explains how the features of the setting affect the cyclist. In your response, include examples from the essay that support your conclusion.\n",
        "    \"\"\",\n",
        "\n",
        "    \"\"\"Read the last paragraph of the story.\n",
        "    \"When they come back, Saeng vowed silently to herself, in the spring, when the snows melt and the geese return and this hibiscus is budding, then I will take that test again.\"\n",
        "    Write a response that explains why the author concludes the story with this paragraph. In your response, include details and examples from the story that support your ideas.\n",
        "    \"\"\",\n",
        "\n",
        "    \"\"\"My parents, originally from Cuba, arrived in the United States in 1956. After living for a year in a furnished one-room apartment, twenty-one-year-old Rawedia Maria and twenty-seven-year-old Narciso Rodriguez, Sr., could afford to move into a modest, three-room apartment I would soon call home.\n",
        "    In 1961, I was born into this simple house, situated in a two-family, blond-brick building in the Ironbound section of Newark, New Jersey. Within its walls, my young parents created our traditional Cuban home, the very heart of which was the kitchen. My parents both shared cooking duties and unwittingly passed on to me their rich culinary skills and a love of cooking that is still with me today (and for which I am eternally grateful). Passionate Cuban music (which I adore to this day) filled the air, mixing with the aromas of the kitchen. Here, the innocence of childhood, the congregation of family and friends, and endless celebrations that encompassed both, formed the backdrop to life in our warm home.\n",
        "    Growing up in this environment instilled in me a great sense that “family” had nothing to do with being a blood relative. Quite the contrary, our neighborhood was made up of mostly Spanish, Cuban, and Italian immigrants at a time when overt racism was the norm and segregation prevailed in the United States. In our neighborhood, despite customs elsewhere, all of these cultures came together in great solidarity and friendship. It was a close-knit community of honest, hardworking immigrants who extended a hand to people who, while not necessarily their own kind, were clearly in need.\n",
        "    Our landlord and his daughter, Alegria (my babysitter and first friend), lived above us, and Alegria graced our kitchen table for meals more often than not. Also at the table were Sergio and Edelmira, my surrogate grandparents who lived in the basement apartment. (I would not know my “real” grandparents, Narciso the Elder and Consuelo, until 1970 when they were allowed to leave Cuba.) My aunts Bertha and Juanita and my cousins Arnold, Maria, and Rosemary also all lived nearby and regularly joined us at our table. Countless extended family members came and went — and there was often someone staying with us temporarily until they were able to get back on their feet. My parents always kept their arms and their door open to the many people we considered family, knowing that they would do the same for us.\n",
        "    My mother and father had come to this country with such courage, without any knowledge of the language or the culture. They came selflessly, as many immigrants do, to give their children a better life, even though it meant leaving behind their families, friends, and careers in the country they loved. They struggled both personally and financially, braving the harsh northern winters while yearning for their native tropics and facing cultural hardships. The barriers to work were strong and high, and my parents both had to accept that they might not be able to find the kind of jobs they deserved. In Cuba, Narciso, Sr., had worked in a laboratory and Rawedia Maria had studied chemical engineering. In the United States, they had to start their lives over entirely, taking whatever work they could find. The faith that this struggle would lead them and their children to better times drove them to endure these hard times.\n",
        "    I will always be grateful to my parents for their love and sacrifice. I’ve often told them that what they did was a much more courageous thing than I could have ever done. I’ve often told them of my admiration for their strength and perseverance, and I’ve thanked them repeatedly. But, in reality, there is no way to express my gratitude for the spirit of generosity impressed upon me at such an early age and the demonstration of how important family and friends are. These are two lessons that my parents did not just tell me. They showed me with their lives, and these teachings have been the basis of my life.\n",
        "    It was in this simple house that my parents welcomed other refugees to celebrate their arrival to this country and where I celebrated my first birthdays. It was in the warmth of the kitchen in this humble house where a Cuban feast (albeit a frugal Cuban feast) always filled the air with not just scent and music but life and love. It was here where I learned the real definition of “family.” And for this, I will never forget that house or its gracious neighborhood or the many things I learned there about how to love. I will never forget how my parents turned this simple house into a home.\n",
        "    Describe the mood created by the author in the memoir. Support your answer with relevant and specific information from the memoir\n",
        "\"\"\",\n",
        "\n",
        "    \"\"\"Based on the excerpt, describe the obstacles the builders of the Empire State Building faced in attempting to allow dirigibles to dock there.\n",
        "    Support your answer with relevant and specific information from the excerpt.\"\"\",\n",
        "\n",
        "    \"\"\"Write about patience. Being patient means that you are understanding and tolerant. A patient person experience difficulties without complaining.\n",
        "      Do only one of the following: write a story about a time when you were patient OR write a story about a time when someone you know was patient OR write a story in your own way about patience.\n",
        "\"\"\",\n",
        "\n",
        "    \"\"\"We all understand the benefits of laughter. For example, someone once said, “Laughter is the shortest distance between two people.”\n",
        "    Many other people believe that laughter is an important part of any relationship. Tell a true story in which laughter was one element or part.\"\"\"\n",
        "]"
      ]
    },
    {
      "cell_type": "code",
      "execution_count": 24,
      "metadata": {
        "colab": {
          "base_uri": "https://localhost:8080/",
          "height": 602
        },
        "id": "5a7OlznQ__fB",
        "outputId": "5513bfa7-a4ce-4be5-cd76-1e1fb54cb2e3"
      },
      "outputs": [
        {
          "data": {
            "text/html": [
              "<div>\n",
              "<style scoped>\n",
              "    .dataframe tbody tr th:only-of-type {\n",
              "        vertical-align: middle;\n",
              "    }\n",
              "\n",
              "    .dataframe tbody tr th {\n",
              "        vertical-align: top;\n",
              "    }\n",
              "\n",
              "    .dataframe thead th {\n",
              "        text-align: right;\n",
              "    }\n",
              "</style>\n",
              "<table border=\"1\" class=\"dataframe\">\n",
              "  <thead>\n",
              "    <tr style=\"text-align: right;\">\n",
              "      <th></th>\n",
              "      <th>essay_id</th>\n",
              "      <th>essay_set</th>\n",
              "      <th>essay</th>\n",
              "      <th>rater1_domain1</th>\n",
              "      <th>rater2_domain1</th>\n",
              "      <th>rater3_domain1</th>\n",
              "      <th>domain1_score</th>\n",
              "      <th>rater1_domain2</th>\n",
              "      <th>rater2_domain2</th>\n",
              "      <th>domain2_score</th>\n",
              "      <th>...</th>\n",
              "      <th>rater2_trait4</th>\n",
              "      <th>rater2_trait5</th>\n",
              "      <th>rater2_trait6</th>\n",
              "      <th>rater3_trait1</th>\n",
              "      <th>rater3_trait2</th>\n",
              "      <th>rater3_trait3</th>\n",
              "      <th>rater3_trait4</th>\n",
              "      <th>rater3_trait5</th>\n",
              "      <th>rater3_trait6</th>\n",
              "      <th>normalized_score</th>\n",
              "    </tr>\n",
              "  </thead>\n",
              "  <tbody>\n",
              "    <tr>\n",
              "      <th>0</th>\n",
              "      <td>1</td>\n",
              "      <td>1</td>\n",
              "      <td>dear local newspaper i think effects computers...</td>\n",
              "      <td>4.0</td>\n",
              "      <td>4.0</td>\n",
              "      <td>NaN</td>\n",
              "      <td>8.0</td>\n",
              "      <td>NaN</td>\n",
              "      <td>NaN</td>\n",
              "      <td>NaN</td>\n",
              "      <td>...</td>\n",
              "      <td>NaN</td>\n",
              "      <td>NaN</td>\n",
              "      <td>NaN</td>\n",
              "      <td>NaN</td>\n",
              "      <td>NaN</td>\n",
              "      <td>NaN</td>\n",
              "      <td>NaN</td>\n",
              "      <td>NaN</td>\n",
              "      <td>NaN</td>\n",
              "      <td>0.6</td>\n",
              "    </tr>\n",
              "    <tr>\n",
              "      <th>1</th>\n",
              "      <td>2</td>\n",
              "      <td>1</td>\n",
              "      <td>dear caps1 caps2 i believe that using computer...</td>\n",
              "      <td>5.0</td>\n",
              "      <td>4.0</td>\n",
              "      <td>NaN</td>\n",
              "      <td>9.0</td>\n",
              "      <td>NaN</td>\n",
              "      <td>NaN</td>\n",
              "      <td>NaN</td>\n",
              "      <td>...</td>\n",
              "      <td>NaN</td>\n",
              "      <td>NaN</td>\n",
              "      <td>NaN</td>\n",
              "      <td>NaN</td>\n",
              "      <td>NaN</td>\n",
              "      <td>NaN</td>\n",
              "      <td>NaN</td>\n",
              "      <td>NaN</td>\n",
              "      <td>NaN</td>\n",
              "      <td>0.7</td>\n",
              "    </tr>\n",
              "    <tr>\n",
              "      <th>2</th>\n",
              "      <td>3</td>\n",
              "      <td>1</td>\n",
              "      <td>dear caps1 caps2 caps3 more and more people us...</td>\n",
              "      <td>4.0</td>\n",
              "      <td>3.0</td>\n",
              "      <td>NaN</td>\n",
              "      <td>7.0</td>\n",
              "      <td>NaN</td>\n",
              "      <td>NaN</td>\n",
              "      <td>NaN</td>\n",
              "      <td>...</td>\n",
              "      <td>NaN</td>\n",
              "      <td>NaN</td>\n",
              "      <td>NaN</td>\n",
              "      <td>NaN</td>\n",
              "      <td>NaN</td>\n",
              "      <td>NaN</td>\n",
              "      <td>NaN</td>\n",
              "      <td>NaN</td>\n",
              "      <td>NaN</td>\n",
              "      <td>0.5</td>\n",
              "    </tr>\n",
              "    <tr>\n",
              "      <th>3</th>\n",
              "      <td>4</td>\n",
              "      <td>1</td>\n",
              "      <td>dear local newspaper caps1 i have found that m...</td>\n",
              "      <td>5.0</td>\n",
              "      <td>5.0</td>\n",
              "      <td>NaN</td>\n",
              "      <td>10.0</td>\n",
              "      <td>NaN</td>\n",
              "      <td>NaN</td>\n",
              "      <td>NaN</td>\n",
              "      <td>...</td>\n",
              "      <td>NaN</td>\n",
              "      <td>NaN</td>\n",
              "      <td>NaN</td>\n",
              "      <td>NaN</td>\n",
              "      <td>NaN</td>\n",
              "      <td>NaN</td>\n",
              "      <td>NaN</td>\n",
              "      <td>NaN</td>\n",
              "      <td>NaN</td>\n",
              "      <td>0.8</td>\n",
              "    </tr>\n",
              "    <tr>\n",
              "      <th>4</th>\n",
              "      <td>5</td>\n",
              "      <td>1</td>\n",
              "      <td>dear location1 i know having computers has a p...</td>\n",
              "      <td>4.0</td>\n",
              "      <td>4.0</td>\n",
              "      <td>NaN</td>\n",
              "      <td>8.0</td>\n",
              "      <td>NaN</td>\n",
              "      <td>NaN</td>\n",
              "      <td>NaN</td>\n",
              "      <td>...</td>\n",
              "      <td>NaN</td>\n",
              "      <td>NaN</td>\n",
              "      <td>NaN</td>\n",
              "      <td>NaN</td>\n",
              "      <td>NaN</td>\n",
              "      <td>NaN</td>\n",
              "      <td>NaN</td>\n",
              "      <td>NaN</td>\n",
              "      <td>NaN</td>\n",
              "      <td>0.6</td>\n",
              "    </tr>\n",
              "  </tbody>\n",
              "</table>\n",
              "<p>5 rows × 29 columns</p>\n",
              "</div>"
            ],
            "text/plain": [
              "   essay_id  essay_set                                              essay  \\\n",
              "0         1          1  dear local newspaper i think effects computers...   \n",
              "1         2          1  dear caps1 caps2 i believe that using computer...   \n",
              "2         3          1  dear caps1 caps2 caps3 more and more people us...   \n",
              "3         4          1  dear local newspaper caps1 i have found that m...   \n",
              "4         5          1  dear location1 i know having computers has a p...   \n",
              "\n",
              "   rater1_domain1  rater2_domain1  rater3_domain1  domain1_score  \\\n",
              "0             4.0             4.0             NaN            8.0   \n",
              "1             5.0             4.0             NaN            9.0   \n",
              "2             4.0             3.0             NaN            7.0   \n",
              "3             5.0             5.0             NaN           10.0   \n",
              "4             4.0             4.0             NaN            8.0   \n",
              "\n",
              "   rater1_domain2  rater2_domain2  domain2_score  ...  rater2_trait4  \\\n",
              "0             NaN             NaN            NaN  ...            NaN   \n",
              "1             NaN             NaN            NaN  ...            NaN   \n",
              "2             NaN             NaN            NaN  ...            NaN   \n",
              "3             NaN             NaN            NaN  ...            NaN   \n",
              "4             NaN             NaN            NaN  ...            NaN   \n",
              "\n",
              "   rater2_trait5  rater2_trait6  rater3_trait1  rater3_trait2  rater3_trait3  \\\n",
              "0            NaN            NaN            NaN            NaN            NaN   \n",
              "1            NaN            NaN            NaN            NaN            NaN   \n",
              "2            NaN            NaN            NaN            NaN            NaN   \n",
              "3            NaN            NaN            NaN            NaN            NaN   \n",
              "4            NaN            NaN            NaN            NaN            NaN   \n",
              "\n",
              "   rater3_trait4  rater3_trait5  rater3_trait6  normalized_score  \n",
              "0            NaN            NaN            NaN               0.6  \n",
              "1            NaN            NaN            NaN               0.7  \n",
              "2            NaN            NaN            NaN               0.5  \n",
              "3            NaN            NaN            NaN               0.8  \n",
              "4            NaN            NaN            NaN               0.6  \n",
              "\n",
              "[5 rows x 29 columns]"
            ]
          },
          "execution_count": 24,
          "metadata": {},
          "output_type": "execute_result"
        }
      ],
      "source": [
        "temp_df.head()"
      ]
    },
    {
      "cell_type": "markdown",
      "metadata": {
        "id": "LwFE5fAxqqe_"
      },
      "source": [
        "### ADD PROMPTS TO DATAFRAME FOR EACH SET"
      ]
    },
    {
      "cell_type": "code",
      "execution_count": 25,
      "metadata": {
        "colab": {
          "base_uri": "https://localhost:8080/"
        },
        "id": "ZZUo_SwFE3ND",
        "outputId": "e53ac749-7978-4dbe-de0e-6450b5a6318d"
      },
      "outputs": [
        {
          "name": "stderr",
          "output_type": "stream",
          "text": [
            "C:\\Users\\pchhl\\AppData\\Local\\Temp\\ipykernel_25820\\3854521186.py:3: SettingWithCopyWarning: \n",
            "A value is trying to be set on a copy of a slice from a DataFrame.\n",
            "Try using .loc[row_indexer,col_indexer] = value instead\n",
            "\n",
            "See the caveats in the documentation: https://pandas.pydata.org/pandas-docs/stable/user_guide/indexing.html#returning-a-view-versus-a-copy\n",
            "  custom_df['prompt'] = prompt\n"
          ]
        }
      ],
      "source": [
        "prompt = list(prompts[sets - 1] for sets in temp_df['essay_set'])\n",
        "custom_df = temp_df[['essay_id', 'essay_set', 'essay', 'normalized_score']]\n",
        "custom_df['prompt'] = prompt\n",
        "custom_df.reset_index(drop=True, inplace=True)"
      ]
    },
    {
      "cell_type": "code",
      "execution_count": 26,
      "metadata": {
        "colab": {
          "base_uri": "https://localhost:8080/",
          "height": 223
        },
        "id": "qQ2xqEPDLyVm",
        "outputId": "3f048512-832f-4902-cf42-4d39daf0bf31"
      },
      "outputs": [
        {
          "name": "stdout",
          "output_type": "stream",
          "text": [
            "11981\n"
          ]
        },
        {
          "data": {
            "text/html": [
              "<div>\n",
              "<style scoped>\n",
              "    .dataframe tbody tr th:only-of-type {\n",
              "        vertical-align: middle;\n",
              "    }\n",
              "\n",
              "    .dataframe tbody tr th {\n",
              "        vertical-align: top;\n",
              "    }\n",
              "\n",
              "    .dataframe thead th {\n",
              "        text-align: right;\n",
              "    }\n",
              "</style>\n",
              "<table border=\"1\" class=\"dataframe\">\n",
              "  <thead>\n",
              "    <tr style=\"text-align: right;\">\n",
              "      <th></th>\n",
              "      <th>essay_id</th>\n",
              "      <th>essay_set</th>\n",
              "      <th>essay</th>\n",
              "      <th>normalized_score</th>\n",
              "      <th>prompt</th>\n",
              "    </tr>\n",
              "  </thead>\n",
              "  <tbody>\n",
              "    <tr>\n",
              "      <th>0</th>\n",
              "      <td>1</td>\n",
              "      <td>1</td>\n",
              "      <td>dear local newspaper i think effects computers...</td>\n",
              "      <td>0.6</td>\n",
              "      <td>More and more people use computers, but not ev...</td>\n",
              "    </tr>\n",
              "    <tr>\n",
              "      <th>1</th>\n",
              "      <td>2</td>\n",
              "      <td>1</td>\n",
              "      <td>dear caps1 caps2 i believe that using computer...</td>\n",
              "      <td>0.7</td>\n",
              "      <td>More and more people use computers, but not ev...</td>\n",
              "    </tr>\n",
              "    <tr>\n",
              "      <th>2</th>\n",
              "      <td>3</td>\n",
              "      <td>1</td>\n",
              "      <td>dear caps1 caps2 caps3 more and more people us...</td>\n",
              "      <td>0.5</td>\n",
              "      <td>More and more people use computers, but not ev...</td>\n",
              "    </tr>\n",
              "    <tr>\n",
              "      <th>3</th>\n",
              "      <td>4</td>\n",
              "      <td>1</td>\n",
              "      <td>dear local newspaper caps1 i have found that m...</td>\n",
              "      <td>0.8</td>\n",
              "      <td>More and more people use computers, but not ev...</td>\n",
              "    </tr>\n",
              "    <tr>\n",
              "      <th>4</th>\n",
              "      <td>5</td>\n",
              "      <td>1</td>\n",
              "      <td>dear location1 i know having computers has a p...</td>\n",
              "      <td>0.6</td>\n",
              "      <td>More and more people use computers, but not ev...</td>\n",
              "    </tr>\n",
              "  </tbody>\n",
              "</table>\n",
              "</div>"
            ],
            "text/plain": [
              "   essay_id  essay_set                                              essay  \\\n",
              "0         1          1  dear local newspaper i think effects computers...   \n",
              "1         2          1  dear caps1 caps2 i believe that using computer...   \n",
              "2         3          1  dear caps1 caps2 caps3 more and more people us...   \n",
              "3         4          1  dear local newspaper caps1 i have found that m...   \n",
              "4         5          1  dear location1 i know having computers has a p...   \n",
              "\n",
              "   normalized_score                                             prompt  \n",
              "0               0.6  More and more people use computers, but not ev...  \n",
              "1               0.7  More and more people use computers, but not ev...  \n",
              "2               0.5  More and more people use computers, but not ev...  \n",
              "3               0.8  More and more people use computers, but not ev...  \n",
              "4               0.6  More and more people use computers, but not ev...  "
            ]
          },
          "execution_count": 26,
          "metadata": {},
          "output_type": "execute_result"
        }
      ],
      "source": [
        "# custom_df = read_asap_dataset(temp_df, prompts)\n",
        "\n",
        "print(len(custom_df))\n",
        "\n",
        "custom_df.head()"
      ]
    },
    {
      "cell_type": "code",
      "execution_count": 27,
      "metadata": {
        "colab": {
          "base_uri": "https://localhost:8080/"
        },
        "id": "Xf6Q_sCwC1tE",
        "outputId": "a6c02e06-7a49-4a83-ac1e-7981b02b1a9e"
      },
      "outputs": [
        {
          "data": {
            "text/plain": [
              "array([1, 2, 3, 4, 5, 6, 7, 8], dtype=int64)"
            ]
          },
          "execution_count": 27,
          "metadata": {},
          "output_type": "execute_result"
        }
      ],
      "source": [
        "np.unique(np.array(custom_df['essay_set']))"
      ]
    },
    {
      "cell_type": "markdown",
      "metadata": {
        "id": "UapV2D6kq2AD"
      },
      "source": [
        "### PREPROCESSING ESSAY i.e. ESSAYS ARE CONVERTED INTO WORD EMBEDDINGS BEFORE PASSING IT TO SOME MODEL"
      ]
    },
    {
      "cell_type": "code",
      "execution_count": 28,
      "metadata": {
        "id": "vvOvSgR2hliz"
      },
      "outputs": [],
      "source": [
        "def preprocess_essay(essays):\n",
        "    # print(essays)\n",
        "    essay_embeddings = [torch.tensor(bert_embedder.get_embedding(essay)) for essay in essays]\n",
        "\n",
        "    # Find the maximum number of sentences in all essays\n",
        "    max_sentences = max(embed.shape[0] for embed in essay_embeddings)\n",
        "\n",
        "    # Calculate the number of dimensions (features) in the embeddings\n",
        "    num_features = essay_embeddings[0].shape[1]  # Assumes all embeddings have the same number of features\n",
        "\n",
        "    # Pad the sentence embeddings to have the same number of sentences\n",
        "    padded_embeddings = []\n",
        "    for embed in essay_embeddings:\n",
        "        padding = max_sentences - embed.shape[0]\n",
        "        padded_embed = torch.cat((embed, torch.zeros(padding, num_features)), dim=0)\n",
        "        padded_embeddings.append(padded_embed)\n",
        "\n",
        "    embeddings_batch = torch.stack(padded_embeddings)  # batch * sentences * num_features\n",
        "    lengths_batch = torch.tensor([max_sentences] * len(essays), dtype=torch.int64)\n",
        "\n",
        "    return embeddings_batch, lengths_batch\n",
        "\n",
        "\n"
      ]
    },
    {
      "cell_type": "markdown",
      "metadata": {
        "id": "UYq0TGLdq0FF"
      },
      "source": [
        "### DATALOADER WITH INITIAL DATASET"
      ]
    },
    {
      "cell_type": "code",
      "execution_count": 29,
      "metadata": {
        "id": "-85xJAcPIOww"
      },
      "outputs": [],
      "source": [
        "class CustomDataset(Dataset):\n",
        "    def __init__(self, essay_id, essay_set, essay, prompt, normalized_score):\n",
        "        self.essay_id = essay_id\n",
        "        self.essay_set = essay_set\n",
        "        self.essay = essay\n",
        "        self.prompt = prompt\n",
        "        self.normalized_score = normalized_score\n",
        "\n",
        "    def __len__(self):\n",
        "        return len(self.essay_id)\n",
        "\n",
        "    def __getitem__(self, idx):\n",
        "        essay_id, essay_set, essay, prompt, normalized_score = self.essay_id.iloc[idx], self.essay_set.iloc[idx], self.essay.iloc[idx], self.prompt.iloc[idx], self.normalized_score.iloc[idx]\n",
        "        return essay_id, essay_set, essay, prompt, normalized_score\n",
        "\n",
        "# # Create a DataLoader\n",
        "custom_dataset = CustomDataset(custom_df['essay_id'], custom_df['essay_set'], custom_df['essay'], custom_df['prompt'], custom_df['normalized_score'])\n",
        "dataloader = DataLoader(custom_dataset, batch_size=32, shuffle=True)\n",
        "\n"
      ]
    },
    {
      "cell_type": "code",
      "execution_count": null,
      "metadata": {
        "colab": {
          "base_uri": "https://localhost:8080/"
        },
        "id": "IjKgUln4ZRu-",
        "outputId": "57009d98-00fd-4998-db43-643ef6b87a55"
      },
      "outputs": [
        {
          "name": "stdout",
          "output_type": "stream",
          "text": [
            "the mood created by the author in the memoir. growing up in this environment instilled in me a great sense that family had nothing the memoir life was hard. quite the contrary our neighborhood was made up of mostly spanish cuban and italian immigrants at a time when overt recism. in their neighborhood despite customs elsewhere all of these cultures came together in great solidary and friendship. over all these was hard for the author memoir\n",
            "the mood that the author created in the memmoir was very thankful. he was very thankful for his parents coming to the caps1 from cuba. the opertunties it gave him a better education and to be successful. in the memmoir he was thankfull for al the people that helped him in this new country and supported him and his family as he did the same to the people that supoorted him. thankfull was the mood that narciso rodriguez showd in this memoir.\n",
            "builders trying to allow dirigibles to dock ontop of the empire state building faced problems. the dirigibles waight and the wind pressure would add stress to the building. wich caps1 to be transmitted more then num1 ft down to the buildings foundation. construction wasnt the only problem. most caps2american dirigibles are held afloat by hellium wich is extremely flammable and if it was caps3 over busy crowded new york streets many people could have been killed. nature added to the problems. wind currents had the pottential to push dirigibles into caps4 buildings causing them to pop. the finall problem was caps5 already implace wich didnt allow low flying aircrafts. builders faced problems with nature caps5 safety and construction wich lead to the demise of the use of the mooring system.\n",
            "i was patient at the dentist office. when i went to the dentist office i was getting my bracts put on. when i was sitting there they told me they had to get my brackets and wire. while they were getting the brackets and wire i got to pick out colors. i waited about num1 mins. without complaining. next they started putting the brackets on the glue. when they put one bracket on i felt so weird and kido tasted like heated metal “caps1” i said. after they had put on the brockets and then they put colors. my mouth hurt like crazy when it was all over i noticed it had been num2 hours i was surprised because i didn’t know i sat there for num2 hours but i was very patient and waited that whole time that’s the time i was patient at the dentist office.\n",
            "in this excerpt from the book home the blue prints of our lives narciso rodriguez describes his first home in location1. the feeling of this story is first loving with how caps1 explains his parents sacrifice theycame selflessly as many immigrants do to give their children a better life even though it meant leaving behind their families friends and careers in the country they loved. this story also gave a feeling of closeness and how family had nothing to do with being a blood relative caps1 and his family opened up there house to many people. this story also gave a warm feeling by the story of his family celebrating together in paragraph seven. overall the story had a happy mood to it showing love kindness and what a family should be like\n",
            "the author concluded the story with that specific paragraph because saeng feels most comfortable taking the test again when what she explained happens. saeng misses where she came from alot. she promised herself that she would take the test again when that happens. with saeng saying that it makes you wonder why she wont take the test again the snow melts the geese return and the hibiscus is budding. it makes her feel really comfortable when that does happen.\n",
            "the author uses this paragraph to conclude her story to show that there was thought a process gone through where she was learning growing. at first saeng is very uneasy disappointed in herself. ii failed the test saeng says. for a long moment mrs. pan ouvong said nothing. you can tell at first the mother is disappointed then as they talk the are planting which eases the mood. how would you like an omelet w slices of the bitter melon i’d love it saeng said. her mood has now lightened she is thaking a calm collective decision to try again which is a reasonable decision to make when she is in a good frame of mind rather than upset distraught.\n",
            "the builders of the empire state building faced obstacles in attempting to allow dirigibles to dock there. the obstacles included safety issues nature and the law. safety issues was a problem because in the excerpt it says most dirigibles from outside united states used hydrogen rather than helium and hydrogen is highly flammable. this explains why they couldnt do it because of one of the dirigibles would explode in downtown new york it would cause severe damage and losses of life because its a populated area. another obstacle was nature. nature played its role because the winds on top of the building were constantly changing due to violent air currents. this would have made the back of the dirigibles swivel around which was either practical or safe. the last obstacle was that there was a law about airships flying to low over urban areas. this would have made it illegal to tie a ship to the empire state building. these obstacles had made the builders face problems to allow dirigibles to land on the empire state building.\n",
            "the features of the setting affected the cyclist in many ways. one way is that they would drink up all of there water because it was hot and they would get thirsty from all of that\n",
            "censorship in libraries today i believe are not a big problem. but many would disagree with that. books and movies can be a very important resource for anyone of any age. they can gives us facts about a certain topic that we month1 not find any where else. everyone has thier own definition of offensive. i belive that it is not only up to the library to rate the books movies and magazines offensive but it is also up to the participants using these resources. for many kids no matter what age they only rent books from a library for two main reasons pleasure and projects. to sensor a book from a teenager or child is just like more of an invitation to see whats inside of it. for the people who do pleasure reading they most of the time stick to only one type of genre. if someone wanted to rent a book and it was not appropriate for them to read then the librarian or teacher would restrict that book from them. for projects such as for school it would depend upon the librarian to censor the book to a child. but books are not rated such as movies are. so it really all depends upon the use of the book and the maturity of the person who is renting it. if they feel that it will not be appropriate for some then they could give a suggestion to censor it. movies and books are different in many ways. books allow you to create a mental description and picture in your mind for what you are reading. movies on the other hand create a visual image right in front of your eyes. no matter how gruesome or vile of a description a book can give it still does not compare with the visual picture of a video. movies are rated today as to the age of a person and they say why they are rated as such. movies rated above the num1 level are most of the time not held in libraries. they month1 still be censored if they create too vile of an image but that is up to the one who watches it. music is a major part of each one of our lives and without it the world would be a much different place. everyone finds themselves quite fond of a certain genre of music and most of the time sticks to it. music like movies is also rated by the content of the song. if it has a word or two that should be sensored then it is most likely already labeled explicit. i think that music just like movies should not be able to be censored because they are already rated accordingly. some books magazines and movies contain cold hard facts about the past years of our world and are too vile for anyone. and even though those events are in our past they are still very important to our present. books can be a magical place for children as well as adults to go and create their own world. to censor a book movie or magazine would be taking away that chance for someone to enjoy life just a little bit more for that small moment in time.\n",
            "i dont think there should be any censorship good books and music shouldint be removed just becaus one person finds it offensive. becaus the opinions of one month1 be diffrent with another.i beleave music is cencord the most becaus not many people get offendid by books but censorship in music i think is destroying it.becaus its an artists way of expresion and if people dont wana listen to what there saying then they should just not listen to it.books i think shouldint be taken offensivly forthe same reason music shouldint its a writers oppinion and expresion its like telling someone they cant voice there oppinion on anything like racesim or use curse words if they want.\n",
            "the builders of the empire state building faced many obstacles in attempting to allow dirigibles to dock there. they had to face being up in the air for so long they also had to face trying to dock the dirigible on top of the roof while still stay saft themselfs\n",
            "the mood created by the author in the memoir would be how fortunite we are to be living here in the united states and how lucky we are to have our education and our friends and families here with us. for example in paragraph num1 when he says i will always be greatful to my parents for their love and sacrifice. this is the mood created by the author in the memoir.\n",
            "the features in the setting in the story “rough road ahead do not exceed posted speed limit” greatly affect the biker. for example the heat is constantly drying the biker out. also at the first town the old water pump proved to be a hopeless cause with water tastd like “battery acid”. even after that were more problems. there was a sign that posted a max speed limit. the biker was doing about onefifth of that speed. this affects his mood and he realizes that it will be along ride. the pebbles that he found helps him out. he remembers reading that sticking pebbles in your mouth calms your thirst. finally the bait store gave him the relief that he needed at the end of his trip. in conclusion the setting makes the riders journey an one but in the end the bait store had just what he needed.\n",
            "the author ended the story this way because the plant represents new beginnings in which saeng needs. seang failed her test needed some comfort. she went to the greenhouse spent money1 on a hibiscus plant that reminded her of her home. it the same time the hibiscus plant reminded her that her new home is another new beginning. the hibiscus plant gives saeng better hopes that starting over can be a good thing that the next time she takes the test shell pass.\n",
            "the setting effected the cyclist in a great way. the snakes blocked his pathways and hi short water supply made it hard to continue. he felt as if he could drop of a heatstroke. his environment and the information from the old man made his ride very hard to continue. all in all his settings had a big effect on him.\n",
            "how can writing be offensive many caps1 find swear words in writing or violence to be very offensive. yet others find that those things make their writing more interesting. writing can cover all aspects of life and give us ideas like racism and other inappropriate thoughts. it seems like in todays writing you can pick up just about anything and somone will find it offensive. that means if we censored our libraries to the extreme there would be no books left. it is just like katherine paterson says in the quote ...then we have no books left on the shelf for any of us. caps1 cant deny that books and any other writing place ideas in our head. that idea is a seed and we can either choose to water that seed and let it grow or cause it to die out. i believe we have a choice to either except or deny those offensive ideas in our head. if we find something offensive simply set the book down and use that better judgemnt. we know what is right therefore we decide what is ok to read. everyone sees things differently. what about children can we trust their better judgement i fear that children dont have as great of judgement as more mature adults. the resposibility of judgement lies more on the parents of that child than the libraries. the libraries place books for kids in a certain section to make sure they find appropriate books for their age. both the adults and children get to find books that fit them and dont offend them. if libraries did do censorchip it would deny us our rights and freedom to speek our minds clearly without a haze being placed to confuse it. we as a country were built off the radical and offensive things written about the caps2. those words are what fired us up to become an independent country. just think if they would have censored those ideas. would we still be location1 today what it all comes down to is not that we should censore our reading but that we should use our better judgement.\n",
            "beforewhen i had to go to the doctor i had to wait fourty minutes. so i just played my caps1. i was playing mario cart.i got board so i just fell asleep. my mom woke me up because it was time. so we went in did my apointment and went home. then we had to wait twenty minuts for my dad to get home from work.\n",
            "his mood of this author is caps1 and detailed. he describes the life of this person and tells life about the family. he says and describes how he lives in a two family blond brick house in location1 and passionate about cuban music. there was cuban and italian immagrants who were racist and didnt care.\n",
            "the mood created by the author in the memoir is joyfull and grateful. the author is joyfull because in stanza two narciso states passionate cuban music which i adored to this day filled the air mixing with the aromas of the kitchen. this shows that the childhood of this person was joyful with the culture family friends foods and smells. this person is very grateful for all of the things he parents did. such as when the author states i will always be grateful to my parents for their love and sacrafice. ive often told them that what they did was a much more courageous thing than i couldve ever done. i thank them repeatedly. but in reality there is no way to express my gratitude for this period of generosity impressed upon me at such an early age and the demonstration of how important family and friends are. this shows that the author is truly grateful for everything the parents had done for him or her and he or she is really joyful now thinking back and makes the mood of the memoir joyful and grateful.\n",
            "the doctor appointment. oct num1 date1 me and my mom were getting ready to go to the doctors. once we got their it was so crowded. i felt like we had been their for weeks days even caps1 their were a lot of kids crying and playing. i was so exhausted i was still waiting for my turn to see the doctor num2 mins later still not my turn i was trying my hard to be patient but it didn’t help at all with all the noise of the kids running around tell . i walked up to the regiester and that’s where i found out my appointment i want till num3 oclock and it was only num4.\n",
            "the author concludes the story with the paragraph about the geese because it shows how saeng like the geese will adopt to her new environment. it shows that she will do what needs to be done in order to survive just like the geese have to do. she will take the test again and will not give up. the paragraph shows how she wants to adapt to the new country. for example the narration states “… she noticed the tearstains on her daughter’s cheeks and her puffy eyes”no. this example shows how saeng is not used to being in the new country and that she does not like it. however she will get used to it and do her best to do so as shown in the closing paragraph. also the narration states “…she admitted to herself she much preferred it to a big mac”ho. this proves how even though she month1 not like things at times saeng is willing to try them to get used to the new country. the narration states “…she realized that many of the things that she had thought of as strange before had become familiar to her now “num1.saeng is getting more and more used to her surrounding and is adopting to them just like the geese adapt which is the reason the author ended the story with the paragraph about geese.\n",
            "the cyclist had very little water. it was very hot. he had a long way to go. the road was very bumpy so he couldn’t go to fast or he’s tire’s might bust. there were know cars in site so if he did break down it would have taken even longer.\n",
            "the author concludes the story with this paragraph because she wanted to get her point across. also because she wanted to create an under standing of the complexitier of the passage. the author wanted the reader to feel her message as if they were there to witness it.\n",
            "a time when someone else i know was patient was when my mom was looking for a job. my mom is very very busy. she was the president of a club named caps1caps2 for about one or two years. but now that she is not the president anymore she is less busy but still has an important position that requires a lot of work. but with either position she wasn’t earning only money. so she decided that she would get a job. she started looking for jobs online and in the newspapers and things. she couldn’t find a job that was right for her. she never complained about it even though she was having a hard time finding a job. she kept on looking and looking. she kept looking for about another year until finally she found a job at caps3.c.c. she now teaches a computer class for collage or older people. if she liked she would have ended up with a job that didn’t enjoy.\n",
            "according to the essay features of the setting affect the cyclist. if the cyclist is in the middle of a hot desert in june with no water the cyclist will become excessively thirsty the longer they go. for example the author states “i had been hitting my bottles pritty regularly and i was traveling through the high desert of california in june”. the terrain changes to short rolling hills from flat land causing the cyclist to push herself to get the next town to get water. for instance she states “over one long crippling hill a building came into view”. this cause the cyclist to use what they thought of as their last burst of energy to get down there but the building was abandoned thus making the cyclist feel let down. as the cyclist continued on a setting of a bait store came and the cyclist felt relief because now she could get water. these examples show the change of setting on the cyclist’s trip and how it affected her.\n",
            "the obstacles the builders of the empire state building faced in attempting to allow dirigibles to dock there were that the most dirigibles from outside of the united states used hydrogen rather than helium and the hydrogen is highly flammable. the architects could not simply drop a mooring mast on top of the empire state buildings flat roof. the steel frame of the empire state building would have to be modified and strengthened to accommodate this new situation. when the german dirigible hindenburg was destroyed the owners of the empire state building realized how much worse the accident could have been if it had taken place above a densely populated area for example downtown new york. the greatest obstacle was nature itself the winds on top of the building were constantly shifting due to violent air currents. even if the dirigible were tethered to the mooring mast the back of the ship with swivel around and around the mooring mast. dirigibles moored in open landing fields could be weighted down in the back with lead weights but using these at the empire state building where they would be dangling high above pedestrians on the street was neither practical nor safe.\n",
            "mingfong ho concludes “winter hibiscus” with the paragraph”when they come back saeng vowed silently to herself in the spring when the snows melt and the geese return and the hibiscus is budding then i will take that test again. this ending paragraph shows that saeng will not give up in her struggle to adapt in this new place. saeng has been going throug hard times moving to the united states and failing her driver’s test. in the greenhouse saeng even breaks down and crys. the hibiscus flower that saeng bought cost the family a lot of money but to saeng it was very important. this flower represented hope. when the flower buds again it would be the right time to take her driver’s test. the flower also represents adapting to a new place. as saeng adapts to the united states the hibiscus adapts to the new garden.\n",
            "i believe that everyone should be free to read listen or watch what they choose to. anything publically exposed is goin to be seen anyhow. i think it shall be up to that person if they want to read something to mature or organization1 for themself. if it is a child i think the parent shall be in charge of that decision not the libarian. books movies and music are forms of entertainment. people read organization1 material to entertain themselves and there is nothing wrong with entertainment. everyone loves entertainment but to put a limit on it is unfair. if it is public that mean it should be released under certin circomstances or age and maturity. regaurdless of in a book or magazine everything that you dont want people to see will always show up somewere else such as the tv or the internet. the public library is were people go to get books to larn more about something so if u yake that book off the shelve someone might miss out on on education about somthing. i wouldnt take any book off the shelf because it was put there to read and it might be a good thing that child gets that book so that they have knowledge about somethings that are out there. if its there to read then let it be read instead of hiding it from them it only makes children more anxious to read or see it. if its in a public library let it be read people and children shall be free to anything in the library unless other wise consented by a parent. anything publically exposed in a book magazine or movie will be shown on the internet or tv so children will see what they want rather elders agree to it or not. nudity perfanity violence and provocative materialare in everything now days even cartoons so there is no way of kepping it from children or people its apart of everyday livng.\n",
            "construction always has challenges. in the excerpt from the mooring mask by marcia amidon lüsted there are many challenges for the builders of the empire state building faced in attempting to land dirigibles there. some of the obstacles the builders faced included the enormous size of the dirigibles the frame would need to be modified the cost and nature itself.landing the dirigibles would be a hard task. for one the dirigibles are enormous they are a thousandfoot long flying devices. this would make it extremely difficult to land just because of its weight. the stress of the dirigibles load and wind pressure would have to be transmitted all the way to the buildings foundation. this is a struggle because the steel frame of the empire state building would have to be modified. this modification would take lots of effort and planning. plus modification also brings up the problem of cost. there would have to be over sixty thousand dollars worth of modifications. that cost is mindblowing and would create challenges of how to get that money. in addition nature itself was an obstacle. winds at the top of the building were constantly shifting due to violent air currents. nature would bring up many challenges for the builders to have to work around. overall the builders of the empire state building faced many obstacles in attempt to allow dirigibles to dock there.\n",
            "patience not all of us have it. it is hard to learn theme but even harder to master theme. it is all ways a good time to use your patience.\n",
            "my story of when i was patient was when me and my family were going to the monster jam. it was one of the most exciting things of my life. but the trip there was almost num1 then it took half an hour to find a place to park. then eleast num2 minutes for my moms friends to show up. and finally an hour in line. last but not leas num3 minutes to find our seat thank you for listening to my report about patience and sitting through it\n"
          ]
        }
      ],
      "source": [
        "for essay_id, essay_set, essays, normalized_score, prompt in dataloader:\n",
        "    for essay in essays:\n",
        "        print(essay)\n",
        "    break"
      ]
    },
    {
      "cell_type": "code",
      "execution_count": null,
      "metadata": {
        "colab": {
          "base_uri": "https://localhost:8080/",
          "height": 206
        },
        "id": "ODS0UaXQ_gDv",
        "outputId": "8f347dfb-7a89-4f56-c34f-2b6c0eb60a86"
      },
      "outputs": [
        {
          "data": {
            "text/html": [
              "\n",
              "  <div id=\"df-d038d42e-d183-4366-90d0-1050fccfac7f\" class=\"colab-df-container\">\n",
              "    <div>\n",
              "<style scoped>\n",
              "    .dataframe tbody tr th:only-of-type {\n",
              "        vertical-align: middle;\n",
              "    }\n",
              "\n",
              "    .dataframe tbody tr th {\n",
              "        vertical-align: top;\n",
              "    }\n",
              "\n",
              "    .dataframe thead th {\n",
              "        text-align: right;\n",
              "    }\n",
              "</style>\n",
              "<table border=\"1\" class=\"dataframe\">\n",
              "  <thead>\n",
              "    <tr style=\"text-align: right;\">\n",
              "      <th></th>\n",
              "      <th>essay_id</th>\n",
              "      <th>essay_set</th>\n",
              "      <th>essay</th>\n",
              "      <th>normalized_score</th>\n",
              "      <th>prompt</th>\n",
              "    </tr>\n",
              "  </thead>\n",
              "  <tbody>\n",
              "    <tr>\n",
              "      <th>0</th>\n",
              "      <td>1</td>\n",
              "      <td>1</td>\n",
              "      <td>dear local newspaper i think effects computers...</td>\n",
              "      <td>0.6</td>\n",
              "      <td>More and more people use computers, but not ev...</td>\n",
              "    </tr>\n",
              "    <tr>\n",
              "      <th>1</th>\n",
              "      <td>2</td>\n",
              "      <td>1</td>\n",
              "      <td>dear caps1 caps2 i believe that using computer...</td>\n",
              "      <td>0.7</td>\n",
              "      <td>More and more people use computers, but not ev...</td>\n",
              "    </tr>\n",
              "    <tr>\n",
              "      <th>2</th>\n",
              "      <td>3</td>\n",
              "      <td>1</td>\n",
              "      <td>dear caps1 caps2 caps3 more and more people us...</td>\n",
              "      <td>0.5</td>\n",
              "      <td>More and more people use computers, but not ev...</td>\n",
              "    </tr>\n",
              "    <tr>\n",
              "      <th>3</th>\n",
              "      <td>4</td>\n",
              "      <td>1</td>\n",
              "      <td>dear local newspaper caps1 i have found that m...</td>\n",
              "      <td>0.8</td>\n",
              "      <td>More and more people use computers, but not ev...</td>\n",
              "    </tr>\n",
              "    <tr>\n",
              "      <th>4</th>\n",
              "      <td>5</td>\n",
              "      <td>1</td>\n",
              "      <td>dear location1 i know having computers has a p...</td>\n",
              "      <td>0.6</td>\n",
              "      <td>More and more people use computers, but not ev...</td>\n",
              "    </tr>\n",
              "  </tbody>\n",
              "</table>\n",
              "</div>\n",
              "    <div class=\"colab-df-buttons\">\n",
              "\n",
              "  <div class=\"colab-df-container\">\n",
              "    <button class=\"colab-df-convert\" onclick=\"convertToInteractive('df-d038d42e-d183-4366-90d0-1050fccfac7f')\"\n",
              "            title=\"Convert this dataframe to an interactive table.\"\n",
              "            style=\"display:none;\">\n",
              "\n",
              "  <svg xmlns=\"http://www.w3.org/2000/svg\" height=\"24px\" viewBox=\"0 -960 960 960\">\n",
              "    <path d=\"M120-120v-720h720v720H120Zm60-500h600v-160H180v160Zm220 220h160v-160H400v160Zm0 220h160v-160H400v160ZM180-400h160v-160H180v160Zm440 0h160v-160H620v160ZM180-180h160v-160H180v160Zm440 0h160v-160H620v160Z\"/>\n",
              "  </svg>\n",
              "    </button>\n",
              "\n",
              "  <style>\n",
              "    .colab-df-container {\n",
              "      display:flex;\n",
              "      gap: 12px;\n",
              "    }\n",
              "\n",
              "    .colab-df-convert {\n",
              "      background-color: #E8F0FE;\n",
              "      border: none;\n",
              "      border-radius: 50%;\n",
              "      cursor: pointer;\n",
              "      display: none;\n",
              "      fill: #1967D2;\n",
              "      height: 32px;\n",
              "      padding: 0 0 0 0;\n",
              "      width: 32px;\n",
              "    }\n",
              "\n",
              "    .colab-df-convert:hover {\n",
              "      background-color: #E2EBFA;\n",
              "      box-shadow: 0px 1px 2px rgba(60, 64, 67, 0.3), 0px 1px 3px 1px rgba(60, 64, 67, 0.15);\n",
              "      fill: #174EA6;\n",
              "    }\n",
              "\n",
              "    .colab-df-buttons div {\n",
              "      margin-bottom: 4px;\n",
              "    }\n",
              "\n",
              "    [theme=dark] .colab-df-convert {\n",
              "      background-color: #3B4455;\n",
              "      fill: #D2E3FC;\n",
              "    }\n",
              "\n",
              "    [theme=dark] .colab-df-convert:hover {\n",
              "      background-color: #434B5C;\n",
              "      box-shadow: 0px 1px 3px 1px rgba(0, 0, 0, 0.15);\n",
              "      filter: drop-shadow(0px 1px 2px rgba(0, 0, 0, 0.3));\n",
              "      fill: #FFFFFF;\n",
              "    }\n",
              "  </style>\n",
              "\n",
              "    <script>\n",
              "      const buttonEl =\n",
              "        document.querySelector('#df-d038d42e-d183-4366-90d0-1050fccfac7f button.colab-df-convert');\n",
              "      buttonEl.style.display =\n",
              "        google.colab.kernel.accessAllowed ? 'block' : 'none';\n",
              "\n",
              "      async function convertToInteractive(key) {\n",
              "        const element = document.querySelector('#df-d038d42e-d183-4366-90d0-1050fccfac7f');\n",
              "        const dataTable =\n",
              "          await google.colab.kernel.invokeFunction('convertToInteractive',\n",
              "                                                    [key], {});\n",
              "        if (!dataTable) return;\n",
              "\n",
              "        const docLinkHtml = 'Like what you see? Visit the ' +\n",
              "          '<a target=\"_blank\" href=https://colab.research.google.com/notebooks/data_table.ipynb>data table notebook</a>'\n",
              "          + ' to learn more about interactive tables.';\n",
              "        element.innerHTML = '';\n",
              "        dataTable['output_type'] = 'display_data';\n",
              "        await google.colab.output.renderOutput(dataTable, element);\n",
              "        const docLink = document.createElement('div');\n",
              "        docLink.innerHTML = docLinkHtml;\n",
              "        element.appendChild(docLink);\n",
              "      }\n",
              "    </script>\n",
              "  </div>\n",
              "\n",
              "\n",
              "<div id=\"df-c1ed3f47-10a6-4759-90e8-a62858f7b964\">\n",
              "  <button class=\"colab-df-quickchart\" onclick=\"quickchart('df-c1ed3f47-10a6-4759-90e8-a62858f7b964')\"\n",
              "            title=\"Suggest charts\"\n",
              "            style=\"display:none;\">\n",
              "\n",
              "<svg xmlns=\"http://www.w3.org/2000/svg\" height=\"24px\"viewBox=\"0 0 24 24\"\n",
              "     width=\"24px\">\n",
              "    <g>\n",
              "        <path d=\"M19 3H5c-1.1 0-2 .9-2 2v14c0 1.1.9 2 2 2h14c1.1 0 2-.9 2-2V5c0-1.1-.9-2-2-2zM9 17H7v-7h2v7zm4 0h-2V7h2v10zm4 0h-2v-4h2v4z\"/>\n",
              "    </g>\n",
              "</svg>\n",
              "  </button>\n",
              "\n",
              "<style>\n",
              "  .colab-df-quickchart {\n",
              "      --bg-color: #E8F0FE;\n",
              "      --fill-color: #1967D2;\n",
              "      --hover-bg-color: #E2EBFA;\n",
              "      --hover-fill-color: #174EA6;\n",
              "      --disabled-fill-color: #AAA;\n",
              "      --disabled-bg-color: #DDD;\n",
              "  }\n",
              "\n",
              "  [theme=dark] .colab-df-quickchart {\n",
              "      --bg-color: #3B4455;\n",
              "      --fill-color: #D2E3FC;\n",
              "      --hover-bg-color: #434B5C;\n",
              "      --hover-fill-color: #FFFFFF;\n",
              "      --disabled-bg-color: #3B4455;\n",
              "      --disabled-fill-color: #666;\n",
              "  }\n",
              "\n",
              "  .colab-df-quickchart {\n",
              "    background-color: var(--bg-color);\n",
              "    border: none;\n",
              "    border-radius: 50%;\n",
              "    cursor: pointer;\n",
              "    display: none;\n",
              "    fill: var(--fill-color);\n",
              "    height: 32px;\n",
              "    padding: 0;\n",
              "    width: 32px;\n",
              "  }\n",
              "\n",
              "  .colab-df-quickchart:hover {\n",
              "    background-color: var(--hover-bg-color);\n",
              "    box-shadow: 0 1px 2px rgba(60, 64, 67, 0.3), 0 1px 3px 1px rgba(60, 64, 67, 0.15);\n",
              "    fill: var(--button-hover-fill-color);\n",
              "  }\n",
              "\n",
              "  .colab-df-quickchart-complete:disabled,\n",
              "  .colab-df-quickchart-complete:disabled:hover {\n",
              "    background-color: var(--disabled-bg-color);\n",
              "    fill: var(--disabled-fill-color);\n",
              "    box-shadow: none;\n",
              "  }\n",
              "\n",
              "  .colab-df-spinner {\n",
              "    border: 2px solid var(--fill-color);\n",
              "    border-color: transparent;\n",
              "    border-bottom-color: var(--fill-color);\n",
              "    animation:\n",
              "      spin 1s steps(1) infinite;\n",
              "  }\n",
              "\n",
              "  @keyframes spin {\n",
              "    0% {\n",
              "      border-color: transparent;\n",
              "      border-bottom-color: var(--fill-color);\n",
              "      border-left-color: var(--fill-color);\n",
              "    }\n",
              "    20% {\n",
              "      border-color: transparent;\n",
              "      border-left-color: var(--fill-color);\n",
              "      border-top-color: var(--fill-color);\n",
              "    }\n",
              "    30% {\n",
              "      border-color: transparent;\n",
              "      border-left-color: var(--fill-color);\n",
              "      border-top-color: var(--fill-color);\n",
              "      border-right-color: var(--fill-color);\n",
              "    }\n",
              "    40% {\n",
              "      border-color: transparent;\n",
              "      border-right-color: var(--fill-color);\n",
              "      border-top-color: var(--fill-color);\n",
              "    }\n",
              "    60% {\n",
              "      border-color: transparent;\n",
              "      border-right-color: var(--fill-color);\n",
              "    }\n",
              "    80% {\n",
              "      border-color: transparent;\n",
              "      border-right-color: var(--fill-color);\n",
              "      border-bottom-color: var(--fill-color);\n",
              "    }\n",
              "    90% {\n",
              "      border-color: transparent;\n",
              "      border-bottom-color: var(--fill-color);\n",
              "    }\n",
              "  }\n",
              "</style>\n",
              "\n",
              "  <script>\n",
              "    async function quickchart(key) {\n",
              "      const quickchartButtonEl =\n",
              "        document.querySelector('#' + key + ' button');\n",
              "      quickchartButtonEl.disabled = true;  // To prevent multiple clicks.\n",
              "      quickchartButtonEl.classList.add('colab-df-spinner');\n",
              "      try {\n",
              "        const charts = await google.colab.kernel.invokeFunction(\n",
              "            'suggestCharts', [key], {});\n",
              "      } catch (error) {\n",
              "        console.error('Error during call to suggestCharts:', error);\n",
              "      }\n",
              "      quickchartButtonEl.classList.remove('colab-df-spinner');\n",
              "      quickchartButtonEl.classList.add('colab-df-quickchart-complete');\n",
              "    }\n",
              "    (() => {\n",
              "      let quickchartButtonEl =\n",
              "        document.querySelector('#df-c1ed3f47-10a6-4759-90e8-a62858f7b964 button');\n",
              "      quickchartButtonEl.style.display =\n",
              "        google.colab.kernel.accessAllowed ? 'block' : 'none';\n",
              "    })();\n",
              "  </script>\n",
              "</div>\n",
              "    </div>\n",
              "  </div>\n"
            ],
            "text/plain": [
              "   essay_id  essay_set                                              essay  \\\n",
              "0         1          1  dear local newspaper i think effects computers...   \n",
              "1         2          1  dear caps1 caps2 i believe that using computer...   \n",
              "2         3          1  dear caps1 caps2 caps3 more and more people us...   \n",
              "3         4          1  dear local newspaper caps1 i have found that m...   \n",
              "4         5          1  dear location1 i know having computers has a p...   \n",
              "\n",
              "   normalized_score                                             prompt  \n",
              "0               0.6  More and more people use computers, but not ev...  \n",
              "1               0.7  More and more people use computers, but not ev...  \n",
              "2               0.5  More and more people use computers, but not ev...  \n",
              "3               0.8  More and more people use computers, but not ev...  \n",
              "4               0.6  More and more people use computers, but not ev...  "
            ]
          },
          "execution_count": 45,
          "metadata": {},
          "output_type": "execute_result"
        }
      ],
      "source": [
        "custom_df.head()"
      ]
    },
    {
      "cell_type": "markdown",
      "metadata": {
        "id": "OR5JEOWRrLpM"
      },
      "source": [
        "## SEMANTIC MODEL TRAINING"
      ]
    },
    {
      "cell_type": "code",
      "execution_count": 30,
      "metadata": {
        "id": "jfeJfx90pisT"
      },
      "outputs": [],
      "source": [
        "model_semantic=SemanticScore().to(device)\n",
        "adam_optimizer=torch.optim.Adam(model_semantic.parameters(), lr=0.001)\n",
        "criteria=torch.nn.MSELoss()"
      ]
    },
    {
      "cell_type": "code",
      "execution_count": null,
      "metadata": {
        "colab": {
          "base_uri": "https://localhost:8080/"
        },
        "id": "id8yZ7OxpeWV",
        "outputId": "b6a12063-820a-43ff-918c-ceb35d37c937"
      },
      "outputs": [
        {
          "name": "stderr",
          "output_type": "stream",
          "text": [
            "100%|██████████| 3/3 [1:20:01<00:00, 1600.55s/it]\n"
          ]
        }
      ],
      "source": [
        "from tqdm import tqdm\n",
        "optimizer=adam_optimizer\n",
        "train_loss = []\n",
        "\n",
        "for epoch in tqdm(range(3)):\n",
        "    out_loss = 0\n",
        "\n",
        "    num_samples_processed_1=0\n",
        "\n",
        "    for batch_idx, (essay_id, essay_set, essays, prompt, normalized_score) in (enumerate(dataloader)):\n",
        "\n",
        "        # if torch.cuda.is_available():\n",
        "        #     essay_id, essay_set, essays, prompt, normalized_score = essay_id.cuda(), essay_set.cuda(), essays.cuda(), prompt.cuda(), normalized_score.cuda()\n",
        "        # normalized_score = normalized_score.to(device)\n",
        "\n",
        "        # num_samples_processed_1 += essay_id.size(0)\n",
        "\n",
        "        # if num_samples_processed_1 >= 5000:\n",
        "        #   break\n",
        "\n",
        "        optimizer.zero_grad()\n",
        "\n",
        "        essays, lengths_batch = preprocess_essay(essays)\n",
        "        essays = essays.to(device)\n",
        "        normalized_score = normalized_score.to(device)\n",
        "        # print(lengths_batch.dtype)\n",
        "        # print(essays.dtype)\n",
        "        out = model_semantic(essays, lengths_batch)\n",
        "\n",
        "\n",
        "        out = out.float()\n",
        "        normalized_score = normalized_score.float()\n",
        "\n",
        "        loss = criteria(out, normalized_score)\n",
        "        loss.backward()\n",
        "        optimizer.step()\n",
        "\n",
        "        out_loss += loss.item()\n",
        "\n",
        "    train_loss.append(out_loss/len(dataloader))"
      ]
    },
    {
      "cell_type": "code",
      "execution_count": null,
      "metadata": {
        "colab": {
          "base_uri": "https://localhost:8080/",
          "height": 447
        },
        "id": "IiTyBUX7ZRvA",
        "outputId": "aa9669fb-c323-40f1-c5d3-7ee82f8c02c9"
      },
      "outputs": [
        {
          "data": {
            "text/plain": [
              "[<matplotlib.lines.Line2D at 0x7d337d5e59c0>]"
            ]
          },
          "execution_count": 82,
          "metadata": {},
          "output_type": "execute_result"
        },
        {
          "data": {
            "image/png": "[encoded data removed]",
            "text/plain": [
              "<Figure size 640x480 with 1 Axes>"
            ]
          },
          "metadata": {},
          "output_type": "display_data"
        }
      ],
      "source": [
        "epochs=[1,2,3]\n",
        "\n",
        "plt.plot(epochs,train_loss)"
      ]
    },
    {
      "cell_type": "code",
      "execution_count": null,
      "metadata": {
        "id": "mB_QwzZSeyUf"
      },
      "outputs": [],
      "source": [
        "# torch.save(model_semantic.state_dict(),  \"/content/drive/MyDrive/ire_v2t/semantic_model.pth\")\n"
      ]
    },
    {
      "cell_type": "code",
      "execution_count": 31,
      "metadata": {
        "colab": {
          "base_uri": "https://localhost:8080/"
        },
        "id": "_CCganf7HIy2",
        "outputId": "8920a221-6f7d-474b-ada5-534784c9951c"
      },
      "outputs": [
        {
          "data": {
            "text/plain": [
              "<All keys matched successfully>"
            ]
          },
          "execution_count": 31,
          "metadata": {},
          "output_type": "execute_result"
        }
      ],
      "source": [
        "# model_semantic.load_state_dict(torch.load(\"semantic_model_final.pth\"),map_location=torch.device('cpu'))\n",
        "\n",
        "# semantic_model_ = torch.load('semantic_model_final.pth', map_location=torch.device('cpu'))\n",
        "\n",
        "model_semantic.load_state_dict(torch.load(r\"semantic_model_final.pth\",map_location=torch.device('cpu')))\n",
        "\n",
        "\n",
        "# if 'model' in semantic_model_:\n",
        "#     semantic_model_['model'] = semantic_model_['model'].to(torch.device('cpu'))\n",
        "#     semantic_model_['model'].eval()\n",
        "\n",
        "# semantic_model_.eval()"
      ]
    },
    {
      "cell_type": "markdown",
      "metadata": {
        "id": "BR_xvIeJrlHP"
      },
      "source": [
        "### CREATING A NEW DATASET BY PERMUTING ESSAYS AND ASSIGNING ZERO GOLD SCORE TO PERMUTED ESSAYS"
      ]
    },
    {
      "cell_type": "code",
      "execution_count": 32,
      "metadata": {
        "colab": {
          "base_uri": "https://localhost:8080/",
          "height": 206
        },
        "id": "1CpSfCexVzvo",
        "outputId": "7e2504f0-f46e-4f64-9910-db982c07ef46"
      },
      "outputs": [
        {
          "data": {
            "text/html": [
              "<div>\n",
              "<style scoped>\n",
              "    .dataframe tbody tr th:only-of-type {\n",
              "        vertical-align: middle;\n",
              "    }\n",
              "\n",
              "    .dataframe tbody tr th {\n",
              "        vertical-align: top;\n",
              "    }\n",
              "\n",
              "    .dataframe thead th {\n",
              "        text-align: right;\n",
              "    }\n",
              "</style>\n",
              "<table border=\"1\" class=\"dataframe\">\n",
              "  <thead>\n",
              "    <tr style=\"text-align: right;\">\n",
              "      <th></th>\n",
              "      <th>essay_id</th>\n",
              "      <th>essay_set</th>\n",
              "      <th>essay</th>\n",
              "      <th>normalized_score</th>\n",
              "      <th>prompt</th>\n",
              "    </tr>\n",
              "  </thead>\n",
              "  <tbody>\n",
              "    <tr>\n",
              "      <th>0</th>\n",
              "      <td>1</td>\n",
              "      <td>1</td>\n",
              "      <td>dear local newspaper i think effects computers...</td>\n",
              "      <td>0.6</td>\n",
              "      <td>More and more people use computers, but not ev...</td>\n",
              "    </tr>\n",
              "    <tr>\n",
              "      <th>1</th>\n",
              "      <td>2</td>\n",
              "      <td>1</td>\n",
              "      <td>dear caps1 caps2 i believe that using computer...</td>\n",
              "      <td>0.7</td>\n",
              "      <td>More and more people use computers, but not ev...</td>\n",
              "    </tr>\n",
              "    <tr>\n",
              "      <th>2</th>\n",
              "      <td>3</td>\n",
              "      <td>1</td>\n",
              "      <td>dear caps1 caps2 caps3 more and more people us...</td>\n",
              "      <td>0.5</td>\n",
              "      <td>More and more people use computers, but not ev...</td>\n",
              "    </tr>\n",
              "    <tr>\n",
              "      <th>3</th>\n",
              "      <td>4</td>\n",
              "      <td>1</td>\n",
              "      <td>dear local newspaper caps1 i have found that m...</td>\n",
              "      <td>0.8</td>\n",
              "      <td>More and more people use computers, but not ev...</td>\n",
              "    </tr>\n",
              "    <tr>\n",
              "      <th>4</th>\n",
              "      <td>5</td>\n",
              "      <td>1</td>\n",
              "      <td>dear location1 i know having computers has a p...</td>\n",
              "      <td>0.6</td>\n",
              "      <td>More and more people use computers, but not ev...</td>\n",
              "    </tr>\n",
              "  </tbody>\n",
              "</table>\n",
              "</div>"
            ],
            "text/plain": [
              "   essay_id  essay_set                                              essay  \\\n",
              "0         1          1  dear local newspaper i think effects computers...   \n",
              "1         2          1  dear caps1 caps2 i believe that using computer...   \n",
              "2         3          1  dear caps1 caps2 caps3 more and more people us...   \n",
              "3         4          1  dear local newspaper caps1 i have found that m...   \n",
              "4         5          1  dear location1 i know having computers has a p...   \n",
              "\n",
              "   normalized_score                                             prompt  \n",
              "0               0.6  More and more people use computers, but not ev...  \n",
              "1               0.7  More and more people use computers, but not ev...  \n",
              "2               0.5  More and more people use computers, but not ev...  \n",
              "3               0.8  More and more people use computers, but not ev...  \n",
              "4               0.6  More and more people use computers, but not ev...  "
            ]
          },
          "execution_count": 32,
          "metadata": {},
          "output_type": "execute_result"
        }
      ],
      "source": [
        "custom_df.head()"
      ]
    },
    {
      "cell_type": "code",
      "execution_count": 33,
      "metadata": {
        "id": "_H-LlLK1V9Ne"
      },
      "outputs": [],
      "source": [
        "def permute_essay(essay):\n",
        "    sentences = essay.split('. ')  # Splitting the essay into sentences using \". \"\n",
        "    random.shuffle(sentences)\n",
        "    return '. '.join(sentences)\n",
        "\n",
        "# Creating a new DataFrame for permuted essays\n",
        "permuted_df = custom_df.copy()\n",
        "permuted_df['essay'] = permuted_df['essay'].apply(permute_essay)\n",
        "permuted_df['normalized_score'] = 0\n",
        "permuted_df['essay_id'] = range(100000, 100000 + len(custom_df))\n",
        "\n",
        "# Concatenating the original and permuted DataFrames\n",
        "combined_df = pd.concat([custom_df[:1000], permuted_df[:1000]]).reset_index(drop=True)\n"
      ]
    },
    {
      "cell_type": "code",
      "execution_count": 34,
      "metadata": {
        "colab": {
          "base_uri": "https://localhost:8080/",
          "height": 206
        },
        "id": "nb40RccyZkQY",
        "outputId": "a57cff0f-e778-47c1-c24d-9bce058d10fb"
      },
      "outputs": [
        {
          "data": {
            "text/html": [
              "<div>\n",
              "<style scoped>\n",
              "    .dataframe tbody tr th:only-of-type {\n",
              "        vertical-align: middle;\n",
              "    }\n",
              "\n",
              "    .dataframe tbody tr th {\n",
              "        vertical-align: top;\n",
              "    }\n",
              "\n",
              "    .dataframe thead th {\n",
              "        text-align: right;\n",
              "    }\n",
              "</style>\n",
              "<table border=\"1\" class=\"dataframe\">\n",
              "  <thead>\n",
              "    <tr style=\"text-align: right;\">\n",
              "      <th></th>\n",
              "      <th>essay_id</th>\n",
              "      <th>essay_set</th>\n",
              "      <th>essay</th>\n",
              "      <th>normalized_score</th>\n",
              "      <th>prompt</th>\n",
              "    </tr>\n",
              "  </thead>\n",
              "  <tbody>\n",
              "    <tr>\n",
              "      <th>1995</th>\n",
              "      <td>100995</td>\n",
              "      <td>1</td>\n",
              "      <td>it caps1 is preinstalled into many organizatio...</td>\n",
              "      <td>0.0</td>\n",
              "      <td>More and more people use computers, but not ev...</td>\n",
              "    </tr>\n",
              "    <tr>\n",
              "      <th>1996</th>\n",
              "      <td>100996</td>\n",
              "      <td>1</td>\n",
              "      <td>there adveances in communication through compu...</td>\n",
              "      <td>0.0</td>\n",
              "      <td>More and more people use computers, but not ev...</td>\n",
              "    </tr>\n",
              "    <tr>\n",
              "      <th>1997</th>\n",
              "      <td>100997</td>\n",
              "      <td>1</td>\n",
              "      <td>computers can predict natural disasters and wi...</td>\n",
              "      <td>0.0</td>\n",
              "      <td>More and more people use computers, but not ev...</td>\n",
              "    </tr>\n",
              "    <tr>\n",
              "      <th>1998</th>\n",
              "      <td>100998</td>\n",
              "      <td>1</td>\n",
              "      <td>that is why you should have computers all the ...</td>\n",
              "      <td>0.0</td>\n",
              "      <td>More and more people use computers, but not ev...</td>\n",
              "    </tr>\n",
              "    <tr>\n",
              "      <th>1999</th>\n",
              "      <td>100999</td>\n",
              "      <td>1</td>\n",
              "      <td>they help us instanly when we have to find som...</td>\n",
              "      <td>0.0</td>\n",
              "      <td>More and more people use computers, but not ev...</td>\n",
              "    </tr>\n",
              "  </tbody>\n",
              "</table>\n",
              "</div>"
            ],
            "text/plain": [
              "      essay_id  essay_set                                              essay  \\\n",
              "1995    100995          1  it caps1 is preinstalled into many organizatio...   \n",
              "1996    100996          1  there adveances in communication through compu...   \n",
              "1997    100997          1  computers can predict natural disasters and wi...   \n",
              "1998    100998          1  that is why you should have computers all the ...   \n",
              "1999    100999          1  they help us instanly when we have to find som...   \n",
              "\n",
              "      normalized_score                                             prompt  \n",
              "1995               0.0  More and more people use computers, but not ev...  \n",
              "1996               0.0  More and more people use computers, but not ev...  \n",
              "1997               0.0  More and more people use computers, but not ev...  \n",
              "1998               0.0  More and more people use computers, but not ev...  \n",
              "1999               0.0  More and more people use computers, but not ev...  "
            ]
          },
          "execution_count": 34,
          "metadata": {},
          "output_type": "execute_result"
        }
      ],
      "source": [
        "combined_df.tail()"
      ]
    },
    {
      "cell_type": "code",
      "execution_count": 35,
      "metadata": {
        "id": "PV78lJtWgEV3"
      },
      "outputs": [],
      "source": [
        "combined_df = combined_df.sample(frac=1, random_state=42)"
      ]
    },
    {
      "cell_type": "markdown",
      "metadata": {
        "id": "iEoNrMm1ryLO"
      },
      "source": [
        "#### CREATING A DATALOADER FROM NEW DATASET"
      ]
    },
    {
      "cell_type": "code",
      "execution_count": 36,
      "metadata": {
        "id": "WF-MHEN0aNiO"
      },
      "outputs": [],
      "source": [
        "\n",
        "combined_dataset = CustomDataset(combined_df['essay_id'], combined_df['essay_set'], combined_df['essay'], combined_df['prompt'], combined_df['normalized_score'])\n",
        "\n",
        "combined_dataloader = DataLoader(combined_dataset, batch_size=32, shuffle=True)"
      ]
    },
    {
      "cell_type": "markdown",
      "metadata": {
        "id": "r_WA7rM5r4ai"
      },
      "source": [
        "## COHERENCE MODEL TRAINING"
      ]
    },
    {
      "cell_type": "code",
      "execution_count": null,
      "metadata": {},
      "outputs": [],
      "source": [
        "class CoherenceScore(nn.Module):\n",
        "    def __init__(self):\n",
        "        super(CoherenceScore, self).__init__()\n",
        "\n",
        "        self.bert_emb_dim = 768\n",
        "        self.dropout_prob = 0.5\n",
        "        self.lstm_hidden_size = 1024\n",
        "        self.lstm_layers_num = 2\n",
        "        self.fnn_hidden_size = []\n",
        "        self.bidirectional = False\n",
        "\n",
        "        self.lstm = nn.LSTM(self.bert_emb_dim,\n",
        "                            self.lstm_hidden_size,\n",
        "                            self.lstm_layers_num,\n",
        "                            bidirectional=self.bidirectional,\n",
        "                            batch_first=True)\n",
        "        self.dropout = nn.Dropout(self.dropout_prob)\n",
        "\n",
        "        in_features = self.lstm_hidden_size * 2 if self.bidirectional else self.lstm_hidden_size\n",
        "        layers = []\n",
        "        # for hs in self.fnn_hidden_size:\n",
        "        #     layers.append(nn.Linear(in_features, hs))\n",
        "        #     layers.append(nn.ReLU())\n",
        "        #     layers.append(nn.Dropout(self.dropout_prob))\n",
        "        #     in_features = hs\n",
        "\n",
        "        layers.append(nn.Linear(in_features, 400))\n",
        "        layers.append(nn.ReLU())\n",
        "        layers.append(nn.Dropout(self.dropout_prob))\n",
        "        layers.append(nn.Linear(400, 1))\n",
        "        layers.append(nn.Sigmoid())\n",
        "        self.fnn = nn.Sequential(*layers)\n",
        "\n",
        "    def forward(self, batch_doc_encodes, batch_doc_sent_nums):\n",
        "        packed_input = pack_padded_sequence(batch_doc_encodes, batch_doc_sent_nums, batch_first=True, enforce_sorted=False)\n",
        "        # print(packed_input.data.shape,\"packed_input\")\n",
        "        packed_output, _ = self.lstm(packed_input)\n",
        "        # print(packed_output.data.shape,\"packed_out\")\n",
        "        output, _ = pad_packed_sequence(packed_output, batch_first=True)\n",
        "        logits = self.fnn(output[:, -1, :]) # Using the output of the last timestep\n",
        "        return logits.squeeze(-1)\n",
        "\n",
        "\n",
        "\n"
      ]
    },
    {
      "cell_type": "code",
      "execution_count": 37,
      "metadata": {
        "id": "LYlnebo9ccTt"
      },
      "outputs": [],
      "source": [
        "model_coher=CoherenceScore().to(device)\n",
        "adam_optimizer_coher=torch.optim.Adam(model_coher.parameters(), lr=0.001, betas=(0.9, 0.999), eps=1e-08, weight_decay=0)\n",
        "criteria=torch.nn.MSELoss()"
      ]
    },
    {
      "cell_type": "code",
      "execution_count": null,
      "metadata": {
        "colab": {
          "background_save": true,
          "base_uri": "https://localhost:8080/"
        },
        "id": "sm9sLbSccqML",
        "outputId": "f33b5996-c7cd-4a91-ac74-312e69071118"
      },
      "outputs": [
        {
          "name": "stderr",
          "output_type": "stream",
          "text": [
            "100%|██████████| 5/5 [44:45<00:00, 537.15s/it]\n"
          ]
        }
      ],
      "source": [
        "from tqdm import tqdm\n",
        "optimizer=adam_optimizer_coher\n",
        "batch_size = 32\n",
        "train_loss_coher = []\n",
        "\n",
        "for epoch in tqdm(range(5)):\n",
        "    out_loss = 0\n",
        "    # num_samples_processed_2=0\n",
        "\n",
        "    for batch_idx, (essay_id, essay_set, essays, prompt, normalized_score) in (enumerate(combined_dataloader)):\n",
        "\n",
        "        # if torch.cuda.is_available():\n",
        "        #     essay_id, essay_set, essays, prompt, normalized_score = essay_id.cuda(), essay_set.cuda(), essays.cuda(), prompt.cuda(), normalized_score.cuda()\n",
        "        # normalized_score = normalized_score.to(device)\n",
        "\n",
        "\n",
        "        num_samples_processed_2 += essay_id.size(0)\n",
        "\n",
        "        if num_samples_processed_2 >= 10000:\n",
        "          break\n",
        "\n",
        "        optimizer.zero_grad()\n",
        "\n",
        "        essays, lengths_batch = preprocess_essay(essays)\n",
        "        essays = essays.to(device)\n",
        "        normalized_score = normalized_score.to(device)\n",
        "        # print(lengths_batch.dtype)\n",
        "        # print(essays.dtype)\n",
        "        out = model_coher(essays, lengths_batch)\n",
        "\n",
        "\n",
        "        out = out.float()\n",
        "        normalized_score = normalized_score.float()\n",
        "\n",
        "        loss = criteria(out, normalized_score)\n",
        "        loss.backward()\n",
        "        optimizer.step()\n",
        "\n",
        "        out_loss += loss.item()\n",
        "        # print(f\"Epoch [{epoch + 1}/5], Batch [{batch_idx + 1}/{len(combined_dataloader)}], Batch Loss: {loss.item():.4f}\")\n",
        "\n",
        "\n",
        "\n",
        "    train_loss_coher.append(out_loss/len(combined_dataloader))"
      ]
    },
    {
      "cell_type": "code",
      "execution_count": null,
      "metadata": {
        "colab": {
          "background_save": true
        },
        "id": "dVvcQcoMZRvF",
        "outputId": "89b6fd47-c9c7-4e55-e0af-9620bc87a23a"
      },
      "outputs": [
        {
          "data": {
            "text/plain": [
              "[<matplotlib.lines.Line2D at 0x7c72b785e9b0>]"
            ]
          },
          "execution_count": 61,
          "metadata": {},
          "output_type": "execute_result"
        },
        {
          "data": {
            "image/png": "[encoded data removed]",
            "text/plain": [
              "<Figure size 640x480 with 1 Axes>"
            ]
          },
          "metadata": {},
          "output_type": "display_data"
        }
      ],
      "source": [
        "epochs=[1,2,3,4,5]\n",
        "plt.plot(epochs,train_loss_coher)"
      ]
    },
    {
      "cell_type": "code",
      "execution_count": null,
      "metadata": {
        "id": "Zq5naX_HjreD"
      },
      "outputs": [],
      "source": [
        "# torch.save(model_coher.state_dict(),  \"/content/drive/MyDrive/ire_v2t/coherence_model.pth\")"
      ]
    },
    {
      "cell_type": "code",
      "execution_count": 38,
      "metadata": {
        "colab": {
          "base_uri": "https://localhost:8080/"
        },
        "id": "EAcH0O0FIPip",
        "outputId": "ed638911-80a7-47ab-941b-c3de03276ceb"
      },
      "outputs": [
        {
          "data": {
            "text/plain": [
              "<All keys matched successfully>"
            ]
          },
          "execution_count": 38,
          "metadata": {},
          "output_type": "execute_result"
        }
      ],
      "source": [
        "# coher_model_ = torch.load('coherence_model_final.pth', map_location=torch.device('cpu'))\n",
        "\n",
        "model_coher.load_state_dict(torch.load(r\"coherence_model_final.pth\",map_location=torch.device('cpu')))\n",
        "\n",
        "# if 'model' in coher_model_:\n",
        "#     coher_model_['model'] = coher_model_['model'].to(torch.device('cpu'))\n",
        "#     coher_model_['model'].eval()"
      ]
    },
    {
      "cell_type": "markdown",
      "metadata": {
        "id": "xrvujsuynoe2"
      },
      "source": []
    },
    {
      "cell_type": "code",
      "execution_count": null,
      "metadata": {
        "colab": {
          "background_save": true
        },
        "id": "Na6eX-0Qugbv",
        "outputId": "a385a1c7-78ae-4768-9c6e-7acd792c8c74"
      },
      "outputs": [
        {
          "name": "stdout",
          "output_type": "stream",
          "text": [
            "[0.005422969174649671, 0.005878951654176368, 0.005782355919967745, 0.005795177073530027, 0.0054640802909161285]\n",
            "[0.11938978388668998, 0.11932287980166692, 0.11760396238357301, 0.11438029886238159, 0.10552108003979638]\n"
          ]
        }
      ],
      "source": [
        "print(train_loss)\n",
        "print(train_loss_coher)"
      ]
    },
    {
      "cell_type": "markdown",
      "metadata": {
        "id": "CtI1WvyXr-Ff"
      },
      "source": [
        "### CREATING DATASET FOR PROMPT RELEVANT SCORE"
      ]
    },
    {
      "cell_type": "code",
      "execution_count": 39,
      "metadata": {
        "id": "SlnsR7v2dw4_"
      },
      "outputs": [],
      "source": [
        "data = []\n",
        "\n",
        "# For each essay, combine with a random set of prompts\n",
        "for index, row in custom_df.iterrows():\n",
        "\n",
        "    num_prompts = np.random.randint(1, 4)\n",
        "\n",
        "    sample_prompts = custom_df[custom_df['essay_set'] != row['essay_set']].sample(num_prompts)\n",
        "\n",
        "    for _, prompt_row in sample_prompts.iterrows():\n",
        "        new_row = row.copy()\n",
        "        new_row['essay'] = prompt_row['prompt'] + \".\" + row['essay']\n",
        "        new_row['normalized_score'] = 0\n",
        "        data.append(new_row)\n",
        "\n",
        "result_df = pd.DataFrame(data).reset_index(drop=True)\n"
      ]
    },
    {
      "cell_type": "code",
      "execution_count": 40,
      "metadata": {
        "id": "t8jdGekv29mZ"
      },
      "outputs": [],
      "source": [
        "prompt_df=custom_df.copy();\n",
        "prompt_df['essay'] = prompt_df['prompt'] + \" \" + prompt_df['essay']\n",
        "\n",
        "final_prompt_df = pd.concat([prompt_df[:1000], result_df[:1000]], ignore_index=True)"
      ]
    },
    {
      "cell_type": "code",
      "execution_count": 41,
      "metadata": {
        "id": "Nf7cQDmqfkqz"
      },
      "outputs": [],
      "source": [
        "prompt_df=custom_df.copy();\n",
        "prompt_df['essay'] = prompt_df['prompt'] + \" \" + prompt_df['essay']\n",
        "\n",
        "final_prompt_df = pd.concat([prompt_df[:1000], result_df[:1000]], ignore_index=True)\n",
        "final_prompt_df = final_prompt_df.sample(frac=1, random_state=42)"
      ]
    },
    {
      "cell_type": "code",
      "execution_count": 42,
      "metadata": {
        "colab": {
          "base_uri": "https://localhost:8080/"
        },
        "id": "t-yEqe7XjXaC",
        "outputId": "025385f7-6f7a-4afe-b43b-1792f9a105f9"
      },
      "outputs": [
        {
          "data": {
            "text/plain": [
              "1006"
            ]
          },
          "execution_count": 42,
          "metadata": {},
          "output_type": "execute_result"
        }
      ],
      "source": [
        "len(final_prompt_df[final_prompt_df['normalized_score'] == 0.0])"
      ]
    },
    {
      "cell_type": "code",
      "execution_count": 53,
      "metadata": {
        "colab": {
          "base_uri": "https://localhost:8080/",
          "height": 206
        },
        "id": "KmbhhrlG3DqJ",
        "outputId": "6d44b4d8-8075-4f7e-9e19-1234012b9bd1"
      },
      "outputs": [
        {
          "data": {
            "text/html": [
              "<div>\n",
              "<style scoped>\n",
              "    .dataframe tbody tr th:only-of-type {\n",
              "        vertical-align: middle;\n",
              "    }\n",
              "\n",
              "    .dataframe tbody tr th {\n",
              "        vertical-align: top;\n",
              "    }\n",
              "\n",
              "    .dataframe thead th {\n",
              "        text-align: right;\n",
              "    }\n",
              "</style>\n",
              "<table border=\"1\" class=\"dataframe\">\n",
              "  <thead>\n",
              "    <tr style=\"text-align: right;\">\n",
              "      <th></th>\n",
              "      <th>essay_id</th>\n",
              "      <th>essay_set</th>\n",
              "      <th>essay</th>\n",
              "      <th>normalized_score</th>\n",
              "      <th>prompt</th>\n",
              "    </tr>\n",
              "  </thead>\n",
              "  <tbody>\n",
              "    <tr>\n",
              "      <th>1130</th>\n",
              "      <td>66</td>\n",
              "      <td>1</td>\n",
              "      <td>Read the last paragraph of the story.\\n    \"Wh...</td>\n",
              "      <td>0.0</td>\n",
              "      <td>More and more people use computers, but not ev...</td>\n",
              "    </tr>\n",
              "    <tr>\n",
              "      <th>1294</th>\n",
              "      <td>147</td>\n",
              "      <td>1</td>\n",
              "      <td>Censorship in the Libraries\\n    All of us can...</td>\n",
              "      <td>0.0</td>\n",
              "      <td>More and more people use computers, but not ev...</td>\n",
              "    </tr>\n",
              "    <tr>\n",
              "      <th>860</th>\n",
              "      <td>863</td>\n",
              "      <td>1</td>\n",
              "      <td>More and more people use computers, but not ev...</td>\n",
              "      <td>0.8</td>\n",
              "      <td>More and more people use computers, but not ev...</td>\n",
              "    </tr>\n",
              "    <tr>\n",
              "      <th>1459</th>\n",
              "      <td>232</td>\n",
              "      <td>1</td>\n",
              "      <td>Censorship in the Libraries\\n    All of us can...</td>\n",
              "      <td>0.0</td>\n",
              "      <td>More and more people use computers, but not ev...</td>\n",
              "    </tr>\n",
              "    <tr>\n",
              "      <th>1126</th>\n",
              "      <td>64</td>\n",
              "      <td>1</td>\n",
              "      <td>Censorship in the Libraries\\n    All of us can...</td>\n",
              "      <td>0.0</td>\n",
              "      <td>More and more people use computers, but not ev...</td>\n",
              "    </tr>\n",
              "  </tbody>\n",
              "</table>\n",
              "</div>"
            ],
            "text/plain": [
              "      essay_id  essay_set                                              essay  \\\n",
              "1130        66          1  Read the last paragraph of the story.\\n    \"Wh...   \n",
              "1294       147          1  Censorship in the Libraries\\n    All of us can...   \n",
              "860        863          1  More and more people use computers, but not ev...   \n",
              "1459       232          1  Censorship in the Libraries\\n    All of us can...   \n",
              "1126        64          1  Censorship in the Libraries\\n    All of us can...   \n",
              "\n",
              "      normalized_score                                             prompt  \n",
              "1130               0.0  More and more people use computers, but not ev...  \n",
              "1294               0.0  More and more people use computers, but not ev...  \n",
              "860                0.8  More and more people use computers, but not ev...  \n",
              "1459               0.0  More and more people use computers, but not ev...  \n",
              "1126               0.0  More and more people use computers, but not ev...  "
            ]
          },
          "execution_count": 53,
          "metadata": {},
          "output_type": "execute_result"
        }
      ],
      "source": [
        "final_prompt_df.tail()"
      ]
    },
    {
      "cell_type": "markdown",
      "metadata": {
        "id": "8YdYiYBgsFGw"
      },
      "source": [
        "#### CREATING A DATALOADER FOR PROMPT RELEVANCE MODEL"
      ]
    },
    {
      "cell_type": "code",
      "execution_count": 43,
      "metadata": {
        "id": "BJzC6y004jb8"
      },
      "outputs": [],
      "source": [
        "prompt_dataset = CustomDataset(final_prompt_df['essay_id'], final_prompt_df['essay_set'], final_prompt_df['essay'], final_prompt_df['prompt'], final_prompt_df['normalized_score'])\n",
        "prompt_dataloader = DataLoader(prompt_dataset, batch_size=64, shuffle=True)"
      ]
    },
    {
      "cell_type": "markdown",
      "metadata": {
        "id": "ucSoTEBYsMST"
      },
      "source": [
        "## PROMPT RELEVANCE MODEL TRAINING"
      ]
    },
    {
      "cell_type": "code",
      "execution_count": 44,
      "metadata": {
        "id": "1bZ8bno-k31g"
      },
      "outputs": [],
      "source": [
        "class PromptEmbedding(nn.Module):\n",
        "    def __init__(self, pretrained_model_name='bert-base-uncased'):\n",
        "        super(PromptEmbedding, self).__init__()  # Call the super class's __init_ first\n",
        "\n",
        "        self.device = torch.device(\"cuda\" if torch.cuda.is_available() else \"cpu\")\n",
        "        self.tokenizer = BertTokenizer.from_pretrained(pretrained_model_name)\n",
        "        self.model = BertModel.from_pretrained(pretrained_model_name, output_hidden_states=True)\n",
        "        self.model.eval()\n",
        "\n",
        "\n",
        "    def get_embedding(self, prompt, essay):\n",
        "        essay = sent_tokenize(essay)\n",
        "        sentence_embeddings = []\n",
        "\n",
        "        for sentence in essay:\n",
        "            processed_sentence = pipeline(sentence)\n",
        "            inputs = self.tokenizer(prompt, sentence, return_tensors=\"pt\", truncation=True, padding=True, max_length=512)\n",
        "            with torch.no_grad():\n",
        "                outputs = self.model(**inputs.to(self.device))\n",
        "\n",
        "            hidden_states = outputs.hidden_states[-4:]\n",
        "            # print(\"hidden_states :\",hidden_states[0].shape)\n",
        "\n",
        "            # Concatenate the hidden states along the third dimension\n",
        "            concatenated_hidden_states = torch.cat(hidden_states, dim=1)\n",
        "            # print(\"concatenated_hidden_states :\",concatenated_hidden_states.shape)\n",
        "\n",
        "            # Compute the mean of all tokens embeddings for this sentence along the second dimension\n",
        "            sentence_embedding = torch.mean(concatenated_hidden_states, dim=1).squeeze().cpu().numpy()\n",
        "            # print(\"sentence_embedding :\",sentence_embedding.shape)\n",
        "\n",
        "            sentence_embeddings.append(sentence_embedding)\n",
        "\n",
        "        return np.array(sentence_embeddings)\n"
      ]
    },
    {
      "cell_type": "code",
      "execution_count": 45,
      "metadata": {
        "id": "lsd4BOrwk_0n"
      },
      "outputs": [],
      "source": [
        "prompt_embedder = PromptEmbedding().to(device)\n"
      ]
    },
    {
      "cell_type": "code",
      "execution_count": 46,
      "metadata": {
        "id": "rjmHgG_Ik9t_"
      },
      "outputs": [],
      "source": [
        "def prompt_essay(prompts, essays):\n",
        "    # print(essays)\n",
        "    essay_embeddings = [torch.tensor(prompt_embedder.get_embedding(prompt, essay)) for prompt, essay in zip(prompts, essays)]\n",
        "\n",
        "    # Find the maximum number of sentences in all essays\n",
        "    max_sentences = max(embed.shape[0] for embed in essay_embeddings)\n",
        "\n",
        "    # Calculate the number of dimensions (features) in the embeddings\n",
        "    num_features = essay_embeddings[0].shape[1]  # Assumes all embeddings have the same number of features\n",
        "\n",
        "    # Pad the sentence embeddings to have the same number of sentences\n",
        "    padded_embeddings = []\n",
        "    for embed in essay_embeddings:\n",
        "        padding = max_sentences - embed.shape[0]\n",
        "        padded_embed = torch.cat((embed, torch.zeros(padding, num_features)), dim=0)\n",
        "        padded_embeddings.append(padded_embed)\n",
        "\n",
        "    embeddings_batch = torch.stack(padded_embeddings)  # batch * sentences * num_features\n",
        "    lengths_batch = torch.tensor([max_sentences] * len(essays), dtype=torch.int64)\n",
        "\n",
        "    return embeddings_batch, lengths_batch\n"
      ]
    },
    {
      "cell_type": "code",
      "execution_count": 47,
      "metadata": {
        "id": "gf47S1-Qk7ML"
      },
      "outputs": [],
      "source": [
        "class PromptScore(nn.Module):\n",
        "    def __init__(self):\n",
        "        super(PromptScore, self).__init__()\n",
        "        self.bert_emb_dim = 768\n",
        "        self.dropout_prob = 0.5\n",
        "        self.lstm_hidden_size = 1024\n",
        "        self.lstm_layers_num = 1\n",
        "        self.fnn_hidden_size = []\n",
        "        self.bidirectional = False\n",
        "\n",
        "        self.lstm = nn.LSTM(self.bert_emb_dim,\n",
        "                            self.lstm_hidden_size,\n",
        "                            self.lstm_layers_num,\n",
        "                            bidirectional=self.bidirectional,\n",
        "                            batch_first=True)\n",
        "        self.dropout = nn.Dropout(self.dropout_prob)\n",
        "\n",
        "        in_features = self.lstm_hidden_size * 2 if self.bidirectional else self.lstm_hidden_size\n",
        "        layers = []\n",
        "        for hs in self.fnn_hidden_size:\n",
        "            layers.append(nn.Linear(in_features, hs))\n",
        "            layers.append(nn.ReLU())\n",
        "            layers.append(nn.Dropout(self.dropout_prob))\n",
        "            in_features = hs\n",
        "\n",
        "        layers.append(nn.Linear(in_features, 400))\n",
        "        layers.append(nn.ReLU())\n",
        "        layers.append(nn.Dropout(self.dropout_prob))\n",
        "        layers.append(nn.Linear(400, 1))\n",
        "        layers.append(nn.Sigmoid())\n",
        "        self.fnn = nn.Sequential(*layers)\n",
        "\n",
        "    def forward(self, batch_doc_encodes, batch_doc_sent_nums):\n",
        "        packed_input = pack_padded_sequence(batch_doc_encodes, batch_doc_sent_nums, batch_first=True, enforce_sorted=False)\n",
        "        packed_output, _ = self.lstm(packed_input)\n",
        "        output, _ = pad_packed_sequence(packed_output, batch_first=True)\n",
        "        logits = self.fnn(output[:, -1, :]) # Using the output of the last timestep\n",
        "        return logits.squeeze(-1)\n"
      ]
    },
    {
      "cell_type": "code",
      "execution_count": 48,
      "metadata": {
        "id": "cCgEpmV_7msX"
      },
      "outputs": [],
      "source": [
        "model_prompt=PromptScore().to(device)\n",
        "adam_optimizer_prompt=torch.optim.Adam(model_prompt.parameters(), lr=0.001, betas=(0.9, 0.999), eps=1e-08, weight_decay=0)\n",
        "criteria=torch.nn.MSELoss()"
      ]
    },
    {
      "cell_type": "code",
      "execution_count": null,
      "metadata": {
        "colab": {
          "base_uri": "https://localhost:8080/"
        },
        "id": "7kH7ng7_8E9y",
        "outputId": "73ae0774-6d46-4d38-9ab1-e9a3ecbec3b5"
      },
      "outputs": [
        {
          "name": "stderr",
          "output_type": "stream",
          "text": [
            "100%|██████████| 3/3 [57:59<00:00, 1159.73s/it]\n"
          ]
        }
      ],
      "source": [
        "optimizer=adam_optimizer_prompt\n",
        "batch_size = 32\n",
        "train_loss_ = []\n",
        "final_loss=[]\n",
        "epochs = 3\n",
        "import tqdm as tqdm_module  # Change the name to avoid conflict\n",
        "\n",
        "for epoch in tqdm_module.tqdm(range(epochs)):\n",
        "    out_loss = 0\n",
        "    batch_loss=[]\n",
        "    num_samples_processed=0\n",
        "\n",
        "    for essay_id, essay_set, essays, prompt, normalized_score in prompt_dataloader:\n",
        "\n",
        "        num_samples_processed += essay_id.size(0)\n",
        "\n",
        "        if num_samples_processed >= 12000:\n",
        "          break\n",
        "        optimizer.zero_grad()\n",
        "\n",
        "        essays, lengths_batch = prompt_essay(prompt, essays)\n",
        "        essays = essays.to(device)\n",
        "        normalized_score = normalized_score.to(device)\n",
        "        # print(essays.is_cuda,lengths_batch.is_cuda)\n",
        "\n",
        "        out = model_prompt(essays, lengths_batch)\n",
        "\n",
        "        out = out.float()\n",
        "        normalized_score = normalized_score.float()\n",
        "\n",
        "        loss = criteria(out, normalized_score)\n",
        "        loss.backward()\n",
        "        optimizer.step()\n",
        "\n",
        "        out_loss += loss.item()\n",
        "        # print(f\"Epoch [{epoch + 1}/5], Batch [{batch_idx + 1}/{len(prompt_dataloader)}], Batch Loss: {loss.item():.4f}\")\n",
        "\n",
        "\n",
        "    # final_loss.append(batch_loss)\n",
        "    train_loss_.append(out_loss/len(prompt_dataloader))"
      ]
    },
    {
      "cell_type": "code",
      "execution_count": null,
      "metadata": {
        "colab": {
          "base_uri": "https://localhost:8080/",
          "height": 465
        },
        "id": "zuD_05piZRvK",
        "outputId": "912519e2-883e-41db-9bbe-62bc0d2019e7"
      },
      "outputs": [
        {
          "name": "stdout",
          "output_type": "stream",
          "text": [
            "[0.11201139172864338, 0.10900232385075281, 0.10886628015173806]\n"
          ]
        },
        {
          "data": {
            "text/plain": [
              "[<matplotlib.lines.Line2D at 0x7c70e8ab0340>]"
            ]
          },
          "execution_count": 134,
          "metadata": {},
          "output_type": "execute_result"
        },
        {
          "data": {
            "image/png": "[encoded data removed]",
            "text/plain": [
              "<Figure size 640x480 with 1 Axes>"
            ]
          },
          "metadata": {},
          "output_type": "display_data"
        }
      ],
      "source": [
        "epochs=[1,2,3]\n",
        "print(train_loss_)\n",
        "plt.plot(epochs,train_loss_)"
      ]
    },
    {
      "cell_type": "code",
      "execution_count": null,
      "metadata": {
        "id": "JrU9UH6TZRvL"
      },
      "outputs": [],
      "source": [
        "# torch.save(model_prompt.state_dict(),  \"/content/drive/MyDrive/ire_v2t/prompt_model1.pth\")\n"
      ]
    },
    {
      "cell_type": "code",
      "execution_count": 49,
      "metadata": {
        "colab": {
          "base_uri": "https://localhost:8080/"
        },
        "id": "eSiw5iQlp_Io",
        "outputId": "dd861a50-e5b7-499b-dac7-d73c7f3547ec"
      },
      "outputs": [
        {
          "data": {
            "text/plain": [
              "<All keys matched successfully>"
            ]
          },
          "execution_count": 49,
          "metadata": {},
          "output_type": "execute_result"
        }
      ],
      "source": [
        "# model_prompt.load_state_dict(torch.load(\"/content/drive/MyDrive/ire_v2t/prompt_model_final.pth\"))\n",
        "# prompt_model_ = torch.load('prompt_model_final.pth', map_location=torch.device('cpu'))\n",
        "model_prompt.load_state_dict(torch.load(r\"prompt_model_final.pth\",map_location=torch.device('cpu')))\n"
      ]
    },
    {
      "cell_type": "markdown",
      "metadata": {
        "id": "LVvPjOYysXb6"
      },
      "source": [
        "## HANDCRAFTED FEATURES (WORD COUNT,CHARACTER COUNT,MEAN LENGTH ,VARIANCE SCORE,GRAMMATICAL SCORE)\n",
        "\n",
        "---\n",
        "\n"
      ]
    },
    {
      "cell_type": "code",
      "execution_count": 50,
      "metadata": {
        "colab": {
          "base_uri": "https://localhost:8080/"
        },
        "id": "1Jl1WpnBdmSq",
        "outputId": "d8ca0171-bb43-47a1-c66a-a9524ec2e427"
      },
      "outputs": [
        {
          "name": "stdout",
          "output_type": "stream",
          "text": [
            "4.43026706231454\n",
            "5.924662539953674\n",
            "0.8783382789317508\n",
            "337\n",
            "1829\n"
          ]
        }
      ],
      "source": [
        "text = \"Your the best but their are allso. good abvfgc!\"\n",
        "text = ['dear local newspaper i think effects computers have on people are great learning skillsaffects because they give us time to chat with friendsnew people helps us learn about the globeastronomy and keeps us out of troble thing about dont you think so how would you feel if your teenager is always on the phone with friends do you ever time to chat with your friends or buisness partner about things. well now theres a new way to chat the computer theirs plenty of sites on the internet to do so organization1 organization2 caps1 facebook myspace ect. just think now while your setting up meeting with your boss on the computer your teenager is having fun on the phone not rushing to get off cause you want to use it. how did you learn about other countrysstates outside of yours well i have by computerinternet its a new way to learn about what going on in our time you might think your child spends a lot of time on the computer but ask them so question about the economy sea floor spreading or even about the date1s youll be surprise at how much heshe knows. believe it or not the computer is much interesting then in class all day reading out of books. if your child is home on your computer or at a local library its better than being out with friends being fresh or being perpressured to doing something they know isnt right. you might not know where your child is caps2 forbidde in a hospital bed because of a driveby. rather than your child on the computer learning chatting or just playing games safe and sound in your home or community place. now i hope you have reached a point to understand and agree with me because computers can have great effects on you or child because it gives us time to chat with friendsnew people helps us learn about the globe and believe or not keeps us out of troble. thank you for listening.']\n",
        "text = text[0]\n",
        "def get_grammatical_score(text, tool=tool):\n",
        "    size = len(text.split())\n",
        "    num = len(tool.check(text))\n",
        "    # print(size, num)\n",
        "    return (size - num) / size\n",
        "\n",
        "def get_word_count(text):\n",
        "    return len(text.split())\n",
        "\n",
        "def get_char_count(text):\n",
        "    return len(text)\n",
        "\n",
        "def get_mean_score(text):\n",
        "    words = text.split()\n",
        "    word_lengths = [len(word) for word in words]\n",
        "    mean_word_length = sum(word_lengths) / len(word_lengths)\n",
        "    return mean_word_length\n",
        "\n",
        "def get_variance_score(text):\n",
        "    words = text.split()\n",
        "    word_lengths = [len(word) for word in words]\n",
        "    mean_word_length = sum(word_lengths) / len(word_lengths)\n",
        "    variance_word_length = sum((length - mean_word_length) ** 2 for length in word_lengths) / len(word_lengths)\n",
        "    return variance_word_length\n",
        "\n",
        "print(get_mean_score(text))\n",
        "print(get_variance_score(text))\n",
        "print(get_grammatical_score(text))\n",
        "print(get_word_count(text) )\n",
        "print(get_char_count(text))"
      ]
    },
    {
      "cell_type": "code",
      "execution_count": 272,
      "metadata": {
        "colab": {
          "base_uri": "https://localhost:8080/",
          "height": 407
        },
        "id": "7rob6lzV_hYV",
        "outputId": "68fe3f6c-1f18-4418-90ae-b36c0e2a299f"
      },
      "outputs": [],
      "source": [
        "main_data = pd.DataFrame()\n",
        "from tqdm import tqdm\n",
        "total_rows_123=0\n",
        "\n",
        "for essay_id, essay_set, essays, prompt, normalized_score in tqdm(dataloader):\n",
        "    # num_samples_processed += essay_id.size(0)\n",
        "\n",
        "    total_rows_123 += essay_id.size(0)\n",
        "\n",
        "    if total_rows_123 >= 5000:\n",
        "          break\n",
        "\n",
        "    means, variances, grammaticals, word_counts, char_counts = [], [], [], [], []\n",
        "    for i in range(essay_id.size(0)):\n",
        "        means.append(get_mean_score(essays[i]))\n",
        "        variances.append(get_variance_score(essays[i]))\n",
        "        grammaticals.append(get_grammatical_score(essays[i]))\n",
        "        word_counts.append(get_word_count(essays[i]))\n",
        "        char_counts.append(get_char_count(essays[i]))\n",
        "\n",
        "\n",
        "    val = []\n",
        "    for i in range(essay_id.size(0)):\n",
        "        # print(prompt[i])\n",
        "        # print(essays[i])\n",
        "        val.append(prompt[i]+\".\"+essays[i])\n",
        "\n",
        "    # val = prompt+\".\"+essays\n",
        "    val, lengths_batch = preprocess_essay(val)\n",
        "    val = val.to(device)\n",
        "    essays, lengths_batch = preprocess_essay(essays)\n",
        "    essays = essays.to(device)\n",
        "    out_semantic = model_semantic(essays, lengths_batch)\n",
        "    out_coher = model_coher(essays, lengths_batch)\n",
        "    # normalized_score = normalized_score.to(device)\n",
        "\n",
        "    out_prompt = model_prompt(val, lengths_batch)\n",
        "\n",
        "    out_semantic = out_semantic.cpu().detach().numpy()\n",
        "    out_coher = out_coher.cpu().detach().numpy()\n",
        "    out_prompt = out_prompt.cpu().detach().numpy()\n",
        "    normalized_score = normalized_score.cpu().detach().numpy()\n",
        "\n",
        "    # print(normalized_score_np.is_cuda, word_counts.is_cuda)\n",
        "    temp_df = pd.DataFrame({\n",
        "        'means': means,\n",
        "        'variances': variances,\n",
        "        'grammaticals': grammaticals,\n",
        "        'word_counts': word_counts,\n",
        "        'char_counts': char_counts,\n",
        "        'out_semantic': out_semantic,\n",
        "        'out_coher': out_coher,\n",
        "        'out_prompt': out_prompt,\n",
        "        'normalized_score': normalized_score\n",
        "      })\n",
        "\n",
        "    main_data = pd.concat([main_data, temp_df], ignore_index=True)\n",
        "\n",
        "    # break\n",
        "    # print(type(out_semantic), out_semantic.shape)"
      ]
    },
    {
      "cell_type": "code",
      "execution_count": null,
      "metadata": {
        "colab": {
          "base_uri": "https://localhost:8080/",
          "height": 223
        },
        "id": "ZL338AADEes4",
        "outputId": "124228d4-4dc7-49f8-e879-dd5255fbf21c"
      },
      "outputs": [
        {
          "name": "stdout",
          "output_type": "stream",
          "text": [
            "448\n"
          ]
        },
        {
          "data": {
            "text/html": [
              "\n",
              "  <div id=\"df-483bb72f-0279-4040-a7a9-3fb2e66c6d55\" class=\"colab-df-container\">\n",
              "    <div>\n",
              "<style scoped>\n",
              "    .dataframe tbody tr th:only-of-type {\n",
              "        vertical-align: middle;\n",
              "    }\n",
              "\n",
              "    .dataframe tbody tr th {\n",
              "        vertical-align: top;\n",
              "    }\n",
              "\n",
              "    .dataframe thead th {\n",
              "        text-align: right;\n",
              "    }\n",
              "</style>\n",
              "<table border=\"1\" class=\"dataframe\">\n",
              "  <thead>\n",
              "    <tr style=\"text-align: right;\">\n",
              "      <th></th>\n",
              "      <th>means</th>\n",
              "      <th>variances</th>\n",
              "      <th>grammaticals</th>\n",
              "      <th>word_counts</th>\n",
              "      <th>char_counts</th>\n",
              "      <th>out_semantic</th>\n",
              "      <th>out_coher</th>\n",
              "      <th>out_prompt</th>\n",
              "      <th>normalized_score</th>\n",
              "    </tr>\n",
              "  </thead>\n",
              "  <tbody>\n",
              "    <tr>\n",
              "      <th>0</th>\n",
              "      <td>4.251572</td>\n",
              "      <td>3.710296</td>\n",
              "      <td>0.886792</td>\n",
              "      <td>159</td>\n",
              "      <td>834</td>\n",
              "      <td>0.503148</td>\n",
              "      <td>0.250939</td>\n",
              "      <td>0.001317</td>\n",
              "      <td>1.0</td>\n",
              "    </tr>\n",
              "    <tr>\n",
              "      <th>1</th>\n",
              "      <td>4.262391</td>\n",
              "      <td>4.415116</td>\n",
              "      <td>0.857143</td>\n",
              "      <td>343</td>\n",
              "      <td>1804</td>\n",
              "      <td>0.503094</td>\n",
              "      <td>0.496958</td>\n",
              "      <td>0.011970</td>\n",
              "      <td>0.6</td>\n",
              "    </tr>\n",
              "    <tr>\n",
              "      <th>2</th>\n",
              "      <td>4.889831</td>\n",
              "      <td>7.064134</td>\n",
              "      <td>0.889831</td>\n",
              "      <td>118</td>\n",
              "      <td>694</td>\n",
              "      <td>0.503148</td>\n",
              "      <td>0.497052</td>\n",
              "      <td>0.368822</td>\n",
              "      <td>0.5</td>\n",
              "    </tr>\n",
              "    <tr>\n",
              "      <th>3</th>\n",
              "      <td>4.238462</td>\n",
              "      <td>3.689290</td>\n",
              "      <td>0.915385</td>\n",
              "      <td>130</td>\n",
              "      <td>680</td>\n",
              "      <td>0.503148</td>\n",
              "      <td>0.250860</td>\n",
              "      <td>0.368800</td>\n",
              "      <td>0.0</td>\n",
              "    </tr>\n",
              "    <tr>\n",
              "      <th>4</th>\n",
              "      <td>4.277228</td>\n",
              "      <td>3.804333</td>\n",
              "      <td>0.900990</td>\n",
              "      <td>101</td>\n",
              "      <td>532</td>\n",
              "      <td>0.503148</td>\n",
              "      <td>0.497037</td>\n",
              "      <td>0.000722</td>\n",
              "      <td>0.5</td>\n",
              "    </tr>\n",
              "  </tbody>\n",
              "</table>\n",
              "</div>\n",
              "    <div class=\"colab-df-buttons\">\n",
              "\n",
              "  <div class=\"colab-df-container\">\n",
              "    <button class=\"colab-df-convert\" onclick=\"convertToInteractive('df-483bb72f-0279-4040-a7a9-3fb2e66c6d55')\"\n",
              "            title=\"Convert this dataframe to an interactive table.\"\n",
              "            style=\"display:none;\">\n",
              "\n",
              "  <svg xmlns=\"http://www.w3.org/2000/svg\" height=\"24px\" viewBox=\"0 -960 960 960\">\n",
              "    <path d=\"M120-120v-720h720v720H120Zm60-500h600v-160H180v160Zm220 220h160v-160H400v160Zm0 220h160v-160H400v160ZM180-400h160v-160H180v160Zm440 0h160v-160H620v160ZM180-180h160v-160H180v160Zm440 0h160v-160H620v160Z\"/>\n",
              "  </svg>\n",
              "    </button>\n",
              "\n",
              "  <style>\n",
              "    .colab-df-container {\n",
              "      display:flex;\n",
              "      gap: 12px;\n",
              "    }\n",
              "\n",
              "    .colab-df-convert {\n",
              "      background-color: #E8F0FE;\n",
              "      border: none;\n",
              "      border-radius: 50%;\n",
              "      cursor: pointer;\n",
              "      display: none;\n",
              "      fill: #1967D2;\n",
              "      height: 32px;\n",
              "      padding: 0 0 0 0;\n",
              "      width: 32px;\n",
              "    }\n",
              "\n",
              "    .colab-df-convert:hover {\n",
              "      background-color: #E2EBFA;\n",
              "      box-shadow: 0px 1px 2px rgba(60, 64, 67, 0.3), 0px 1px 3px 1px rgba(60, 64, 67, 0.15);\n",
              "      fill: #174EA6;\n",
              "    }\n",
              "\n",
              "    .colab-df-buttons div {\n",
              "      margin-bottom: 4px;\n",
              "    }\n",
              "\n",
              "    [theme=dark] .colab-df-convert {\n",
              "      background-color: #3B4455;\n",
              "      fill: #D2E3FC;\n",
              "    }\n",
              "\n",
              "    [theme=dark] .colab-df-convert:hover {\n",
              "      background-color: #434B5C;\n",
              "      box-shadow: 0px 1px 3px 1px rgba(0, 0, 0, 0.15);\n",
              "      filter: drop-shadow(0px 1px 2px rgba(0, 0, 0, 0.3));\n",
              "      fill: #FFFFFF;\n",
              "    }\n",
              "  </style>\n",
              "\n",
              "    <script>\n",
              "      const buttonEl =\n",
              "        document.querySelector('#df-483bb72f-0279-4040-a7a9-3fb2e66c6d55 button.colab-df-convert');\n",
              "      buttonEl.style.display =\n",
              "        google.colab.kernel.accessAllowed ? 'block' : 'none';\n",
              "\n",
              "      async function convertToInteractive(key) {\n",
              "        const element = document.querySelector('#df-483bb72f-0279-4040-a7a9-3fb2e66c6d55');\n",
              "        const dataTable =\n",
              "          await google.colab.kernel.invokeFunction('convertToInteractive',\n",
              "                                                    [key], {});\n",
              "        if (!dataTable) return;\n",
              "\n",
              "        const docLinkHtml = 'Like what you see? Visit the ' +\n",
              "          '<a target=\"_blank\" href=https://colab.research.google.com/notebooks/data_table.ipynb>data table notebook</a>'\n",
              "          + ' to learn more about interactive tables.';\n",
              "        element.innerHTML = '';\n",
              "        dataTable['output_type'] = 'display_data';\n",
              "        await google.colab.output.renderOutput(dataTable, element);\n",
              "        const docLink = document.createElement('div');\n",
              "        docLink.innerHTML = docLinkHtml;\n",
              "        element.appendChild(docLink);\n",
              "      }\n",
              "    </script>\n",
              "  </div>\n",
              "\n",
              "\n",
              "<div id=\"df-a2cbb35e-0e8b-4fdf-b95d-a9038a7ab25f\">\n",
              "  <button class=\"colab-df-quickchart\" onclick=\"quickchart('df-a2cbb35e-0e8b-4fdf-b95d-a9038a7ab25f')\"\n",
              "            title=\"Suggest charts\"\n",
              "            style=\"display:none;\">\n",
              "\n",
              "<svg xmlns=\"http://www.w3.org/2000/svg\" height=\"24px\"viewBox=\"0 0 24 24\"\n",
              "     width=\"24px\">\n",
              "    <g>\n",
              "        <path d=\"M19 3H5c-1.1 0-2 .9-2 2v14c0 1.1.9 2 2 2h14c1.1 0 2-.9 2-2V5c0-1.1-.9-2-2-2zM9 17H7v-7h2v7zm4 0h-2V7h2v10zm4 0h-2v-4h2v4z\"/>\n",
              "    </g>\n",
              "</svg>\n",
              "  </button>\n",
              "\n",
              "<style>\n",
              "  .colab-df-quickchart {\n",
              "      --bg-color: #E8F0FE;\n",
              "      --fill-color: #1967D2;\n",
              "      --hover-bg-color: #E2EBFA;\n",
              "      --hover-fill-color: #174EA6;\n",
              "      --disabled-fill-color: #AAA;\n",
              "      --disabled-bg-color: #DDD;\n",
              "  }\n",
              "\n",
              "  [theme=dark] .colab-df-quickchart {\n",
              "      --bg-color: #3B4455;\n",
              "      --fill-color: #D2E3FC;\n",
              "      --hover-bg-color: #434B5C;\n",
              "      --hover-fill-color: #FFFFFF;\n",
              "      --disabled-bg-color: #3B4455;\n",
              "      --disabled-fill-color: #666;\n",
              "  }\n",
              "\n",
              "  .colab-df-quickchart {\n",
              "    background-color: var(--bg-color);\n",
              "    border: none;\n",
              "    border-radius: 50%;\n",
              "    cursor: pointer;\n",
              "    display: none;\n",
              "    fill: var(--fill-color);\n",
              "    height: 32px;\n",
              "    padding: 0;\n",
              "    width: 32px;\n",
              "  }\n",
              "\n",
              "  .colab-df-quickchart:hover {\n",
              "    background-color: var(--hover-bg-color);\n",
              "    box-shadow: 0 1px 2px rgba(60, 64, 67, 0.3), 0 1px 3px 1px rgba(60, 64, 67, 0.15);\n",
              "    fill: var(--button-hover-fill-color);\n",
              "  }\n",
              "\n",
              "  .colab-df-quickchart-complete:disabled,\n",
              "  .colab-df-quickchart-complete:disabled:hover {\n",
              "    background-color: var(--disabled-bg-color);\n",
              "    fill: var(--disabled-fill-color);\n",
              "    box-shadow: none;\n",
              "  }\n",
              "\n",
              "  .colab-df-spinner {\n",
              "    border: 2px solid var(--fill-color);\n",
              "    border-color: transparent;\n",
              "    border-bottom-color: var(--fill-color);\n",
              "    animation:\n",
              "      spin 1s steps(1) infinite;\n",
              "  }\n",
              "\n",
              "  @keyframes spin {\n",
              "    0% {\n",
              "      border-color: transparent;\n",
              "      border-bottom-color: var(--fill-color);\n",
              "      border-left-color: var(--fill-color);\n",
              "    }\n",
              "    20% {\n",
              "      border-color: transparent;\n",
              "      border-left-color: var(--fill-color);\n",
              "      border-top-color: var(--fill-color);\n",
              "    }\n",
              "    30% {\n",
              "      border-color: transparent;\n",
              "      border-left-color: var(--fill-color);\n",
              "      border-top-color: var(--fill-color);\n",
              "      border-right-color: var(--fill-color);\n",
              "    }\n",
              "    40% {\n",
              "      border-color: transparent;\n",
              "      border-right-color: var(--fill-color);\n",
              "      border-top-color: var(--fill-color);\n",
              "    }\n",
              "    60% {\n",
              "      border-color: transparent;\n",
              "      border-right-color: var(--fill-color);\n",
              "    }\n",
              "    80% {\n",
              "      border-color: transparent;\n",
              "      border-right-color: var(--fill-color);\n",
              "      border-bottom-color: var(--fill-color);\n",
              "    }\n",
              "    90% {\n",
              "      border-color: transparent;\n",
              "      border-bottom-color: var(--fill-color);\n",
              "    }\n",
              "  }\n",
              "</style>\n",
              "\n",
              "  <script>\n",
              "    async function quickchart(key) {\n",
              "      const quickchartButtonEl =\n",
              "        document.querySelector('#' + key + ' button');\n",
              "      quickchartButtonEl.disabled = true;  // To prevent multiple clicks.\n",
              "      quickchartButtonEl.classList.add('colab-df-spinner');\n",
              "      try {\n",
              "        const charts = await google.colab.kernel.invokeFunction(\n",
              "            'suggestCharts', [key], {});\n",
              "      } catch (error) {\n",
              "        console.error('Error during call to suggestCharts:', error);\n",
              "      }\n",
              "      quickchartButtonEl.classList.remove('colab-df-spinner');\n",
              "      quickchartButtonEl.classList.add('colab-df-quickchart-complete');\n",
              "    }\n",
              "    (() => {\n",
              "      let quickchartButtonEl =\n",
              "        document.querySelector('#df-a2cbb35e-0e8b-4fdf-b95d-a9038a7ab25f button');\n",
              "      quickchartButtonEl.style.display =\n",
              "        google.colab.kernel.accessAllowed ? 'block' : 'none';\n",
              "    })();\n",
              "  </script>\n",
              "</div>\n",
              "    </div>\n",
              "  </div>\n"
            ],
            "text/plain": [
              "      means  variances  grammaticals  word_counts  char_counts  out_semantic  \\\n",
              "0  4.251572   3.710296      0.886792          159          834      0.503148   \n",
              "1  4.262391   4.415116      0.857143          343         1804      0.503094   \n",
              "2  4.889831   7.064134      0.889831          118          694      0.503148   \n",
              "3  4.238462   3.689290      0.915385          130          680      0.503148   \n",
              "4  4.277228   3.804333      0.900990          101          532      0.503148   \n",
              "\n",
              "   out_coher  out_prompt  normalized_score  \n",
              "0   0.250939    0.001317               1.0  \n",
              "1   0.496958    0.011970               0.6  \n",
              "2   0.497052    0.368822               0.5  \n",
              "3   0.250860    0.368800               0.0  \n",
              "4   0.497037    0.000722               0.5  "
            ]
          },
          "execution_count": 72,
          "metadata": {},
          "output_type": "execute_result"
        }
      ],
      "source": [
        "print(len(main_data))\n",
        "main_data.head()"
      ]
    },
    {
      "cell_type": "code",
      "execution_count": null,
      "metadata": {
        "id": "TvK55_d3KHlK"
      },
      "outputs": [],
      "source": [
        "\n",
        "from sklearn.model_selection import train_test_split\n",
        "\n",
        "X = main_data[['means', 'variances', 'grammaticals', 'word_counts', 'char_counts', 'out_semantic', 'out_coher', 'out_prompt']]\n",
        "y = main_data['normalized_score']\n",
        "\n",
        "X_train, X_valid, y_train, y_valid = train_test_split(X, y, test_size=0.2, random_state=42)\n"
      ]
    },
    {
      "cell_type": "code",
      "execution_count": null,
      "metadata": {
        "id": "cGymP1VMZRvO"
      },
      "outputs": [],
      "source": [
        "!pip install xgboost -q"
      ]
    },
    {
      "cell_type": "markdown",
      "metadata": {
        "id": "wpD17u-gsyvm"
      },
      "source": [
        "### XG BOOST MODEL (SECOND STAGE)"
      ]
    },
    {
      "cell_type": "code",
      "execution_count": null,
      "metadata": {
        "colab": {
          "base_uri": "https://localhost:8080/"
        },
        "id": "lwGU-ClVKH2G",
        "outputId": "8cf978e5-b3fe-4dba-be95-0ede3df3e941"
      },
      "outputs": [
        {
          "name": "stdout",
          "output_type": "stream",
          "text": [
            "[0]\ttrain-rmse:0.25284\tvalid-rmse:0.24645\n",
            "[1]\ttrain-rmse:0.25193\tvalid-rmse:0.24547\n",
            "[2]\ttrain-rmse:0.25103\tvalid-rmse:0.24461\n",
            "[3]\ttrain-rmse:0.25014\tvalid-rmse:0.24376\n",
            "[4]\ttrain-rmse:0.24926\tvalid-rmse:0.24278\n",
            "[5]\ttrain-rmse:0.24840\tvalid-rmse:0.24196\n",
            "[6]\ttrain-rmse:0.24755\tvalid-rmse:0.24111\n",
            "[7]\ttrain-rmse:0.24672\tvalid-rmse:0.24027\n",
            "[8]\ttrain-rmse:0.24589\tvalid-rmse:0.23939\n",
            "[9]\ttrain-rmse:0.24508\tvalid-rmse:0.23858\n",
            "[10]\ttrain-rmse:0.24428\tvalid-rmse:0.23778\n",
            "[11]\ttrain-rmse:0.24349\tvalid-rmse:0.23694\n",
            "[12]\ttrain-rmse:0.24265\tvalid-rmse:0.23619\n",
            "[13]\ttrain-rmse:0.24183\tvalid-rmse:0.23545\n",
            "[14]\ttrain-rmse:0.24107\tvalid-rmse:0.23469\n",
            "[15]\ttrain-rmse:0.24027\tvalid-rmse:0.23389\n",
            "[16]\ttrain-rmse:0.23948\tvalid-rmse:0.23319\n",
            "[17]\ttrain-rmse:0.23870\tvalid-rmse:0.23250\n",
            "[18]\ttrain-rmse:0.23793\tvalid-rmse:0.23183\n",
            "[19]\ttrain-rmse:0.23723\tvalid-rmse:0.23113\n",
            "[20]\ttrain-rmse:0.23649\tvalid-rmse:0.23056\n",
            "[21]\ttrain-rmse:0.23575\tvalid-rmse:0.22993\n",
            "[22]\ttrain-rmse:0.23503\tvalid-rmse:0.22930\n",
            "[23]\ttrain-rmse:0.23437\tvalid-rmse:0.22864\n",
            "[24]\ttrain-rmse:0.23366\tvalid-rmse:0.22811\n",
            "[25]\ttrain-rmse:0.23297\tvalid-rmse:0.22744\n",
            "[26]\ttrain-rmse:0.23229\tvalid-rmse:0.22694\n",
            "[27]\ttrain-rmse:0.23161\tvalid-rmse:0.22637\n",
            "[28]\ttrain-rmse:0.23099\tvalid-rmse:0.22564\n",
            "[29]\ttrain-rmse:0.23034\tvalid-rmse:0.22516\n",
            "[30]\ttrain-rmse:0.22969\tvalid-rmse:0.22463\n",
            "[31]\ttrain-rmse:0.22909\tvalid-rmse:0.22393\n",
            "[32]\ttrain-rmse:0.22846\tvalid-rmse:0.22340\n",
            "[33]\ttrain-rmse:0.22785\tvalid-rmse:0.22297\n",
            "[34]\ttrain-rmse:0.22727\tvalid-rmse:0.22230\n",
            "[35]\ttrain-rmse:0.22667\tvalid-rmse:0.22186\n",
            "[36]\ttrain-rmse:0.22608\tvalid-rmse:0.22145\n",
            "[37]\ttrain-rmse:0.22553\tvalid-rmse:0.22083\n",
            "[38]\ttrain-rmse:0.22495\tvalid-rmse:0.22036\n",
            "[39]\ttrain-rmse:0.22431\tvalid-rmse:0.21970\n",
            "[40]\ttrain-rmse:0.22368\tvalid-rmse:0.21905\n",
            "[41]\ttrain-rmse:0.22313\tvalid-rmse:0.21862\n",
            "[42]\ttrain-rmse:0.22251\tvalid-rmse:0.21799\n",
            "[43]\ttrain-rmse:0.22196\tvalid-rmse:0.21748\n",
            "[44]\ttrain-rmse:0.22137\tvalid-rmse:0.21687\n",
            "[45]\ttrain-rmse:0.22087\tvalid-rmse:0.21624\n",
            "[46]\ttrain-rmse:0.22037\tvalid-rmse:0.21576\n",
            "[47]\ttrain-rmse:0.21980\tvalid-rmse:0.21517\n",
            "[48]\ttrain-rmse:0.21928\tvalid-rmse:0.21470\n",
            "[49]\ttrain-rmse:0.21877\tvalid-rmse:0.21429\n",
            "[50]\ttrain-rmse:0.21822\tvalid-rmse:0.21373\n",
            "[51]\ttrain-rmse:0.21768\tvalid-rmse:0.21319\n",
            "[52]\ttrain-rmse:0.21715\tvalid-rmse:0.21258\n",
            "[53]\ttrain-rmse:0.21667\tvalid-rmse:0.21220\n",
            "[54]\ttrain-rmse:0.21615\tvalid-rmse:0.21167\n",
            "[55]\ttrain-rmse:0.21563\tvalid-rmse:0.21116\n"
          ]
        },
        {
          "name": "stderr",
          "output_type": "stream",
          "text": [
            "/usr/local/lib/python3.10/dist-packages/xgboost/core.py:726: FutureWarning: Pass `evals` as keyword args.\n",
            "  warnings.warn(msg, FutureWarning)\n"
          ]
        },
        {
          "name": "stdout",
          "output_type": "stream",
          "text": [
            "[56]\ttrain-rmse:0.21515\tvalid-rmse:0.21068\n",
            "[57]\ttrain-rmse:0.21469\tvalid-rmse:0.21013\n",
            "[58]\ttrain-rmse:0.21423\tvalid-rmse:0.20978\n",
            "[59]\ttrain-rmse:0.21375\tvalid-rmse:0.20930\n",
            "[60]\ttrain-rmse:0.21324\tvalid-rmse:0.20884\n",
            "[61]\ttrain-rmse:0.21280\tvalid-rmse:0.20832\n",
            "[62]\ttrain-rmse:0.21231\tvalid-rmse:0.20787\n",
            "[63]\ttrain-rmse:0.21191\tvalid-rmse:0.20738\n",
            "[64]\ttrain-rmse:0.21152\tvalid-rmse:0.20692\n",
            "[65]\ttrain-rmse:0.21109\tvalid-rmse:0.20650\n",
            "[66]\ttrain-rmse:0.21066\tvalid-rmse:0.20608\n",
            "[67]\ttrain-rmse:0.21021\tvalid-rmse:0.20569\n",
            "[68]\ttrain-rmse:0.20982\tvalid-rmse:0.20534\n",
            "[69]\ttrain-rmse:0.20936\tvalid-rmse:0.20500\n",
            "[70]\ttrain-rmse:0.20893\tvalid-rmse:0.20466\n",
            "[71]\ttrain-rmse:0.20853\tvalid-rmse:0.20439\n",
            "[72]\ttrain-rmse:0.20809\tvalid-rmse:0.20406\n",
            "[73]\ttrain-rmse:0.20765\tvalid-rmse:0.20374\n",
            "[74]\ttrain-rmse:0.20728\tvalid-rmse:0.20335\n",
            "[75]\ttrain-rmse:0.20691\tvalid-rmse:0.20301\n",
            "[76]\ttrain-rmse:0.20649\tvalid-rmse:0.20271\n",
            "[77]\ttrain-rmse:0.20615\tvalid-rmse:0.20230\n",
            "[78]\ttrain-rmse:0.20580\tvalid-rmse:0.20206\n",
            "[79]\ttrain-rmse:0.20539\tvalid-rmse:0.20177\n",
            "[80]\ttrain-rmse:0.20504\tvalid-rmse:0.20141\n",
            "[81]\ttrain-rmse:0.20465\tvalid-rmse:0.20114\n",
            "[82]\ttrain-rmse:0.20431\tvalid-rmse:0.20079\n",
            "[83]\ttrain-rmse:0.20399\tvalid-rmse:0.20042\n",
            "[84]\ttrain-rmse:0.20361\tvalid-rmse:0.20013\n",
            "[85]\ttrain-rmse:0.20329\tvalid-rmse:0.19975\n",
            "[86]\ttrain-rmse:0.20295\tvalid-rmse:0.19952\n",
            "[87]\ttrain-rmse:0.20259\tvalid-rmse:0.19932\n",
            "[88]\ttrain-rmse:0.20222\tvalid-rmse:0.19908\n",
            "[89]\ttrain-rmse:0.20186\tvalid-rmse:0.19884\n",
            "[90]\ttrain-rmse:0.20153\tvalid-rmse:0.19866\n",
            "[91]\ttrain-rmse:0.20118\tvalid-rmse:0.19840\n",
            "[92]\ttrain-rmse:0.20086\tvalid-rmse:0.19818\n",
            "[93]\ttrain-rmse:0.20051\tvalid-rmse:0.19793\n",
            "[94]\ttrain-rmse:0.20018\tvalid-rmse:0.19780\n",
            "[95]\ttrain-rmse:0.19984\tvalid-rmse:0.19759\n",
            "[96]\ttrain-rmse:0.19955\tvalid-rmse:0.19730\n",
            "[97]\ttrain-rmse:0.19924\tvalid-rmse:0.19704\n",
            "[98]\ttrain-rmse:0.19891\tvalid-rmse:0.19682\n",
            "[99]\ttrain-rmse:0.19863\tvalid-rmse:0.19660\n"
          ]
        }
      ],
      "source": [
        "import xgboost as xgb\n",
        "\n",
        "dtrain = xgb.DMatrix(X_train, label=y_train)\n",
        "dvalid = xgb.DMatrix(X_valid, label=y_valid)\n",
        "\n",
        "param = {\n",
        "    'max_depth': 3,\n",
        "    'eta': 0.01,\n",
        "    'objective': 'reg:squarederror'\n",
        "}\n",
        "num_round = 100\n",
        "\n",
        "bst = xgb.train(param, dtrain, num_round, [(dtrain, 'train'), (dvalid, 'valid')])\n"
      ]
    },
    {
      "cell_type": "code",
      "execution_count": null,
      "metadata": {
        "colab": {
          "base_uri": "https://localhost:8080/",
          "height": 423
        },
        "id": "VydEsXI4ZRvP",
        "outputId": "62e503e2-be96-4127-dc49-408734b44c49"
      },
      "outputs": [
        {
          "data": {
            "text/html": [
              "\n",
              "  <div id=\"df-74ba15cf-78b1-4b37-8654-240a9f08371f\" class=\"colab-df-container\">\n",
              "    <div>\n",
              "<style scoped>\n",
              "    .dataframe tbody tr th:only-of-type {\n",
              "        vertical-align: middle;\n",
              "    }\n",
              "\n",
              "    .dataframe tbody tr th {\n",
              "        vertical-align: top;\n",
              "    }\n",
              "\n",
              "    .dataframe thead th {\n",
              "        text-align: right;\n",
              "    }\n",
              "</style>\n",
              "<table border=\"1\" class=\"dataframe\">\n",
              "  <thead>\n",
              "    <tr style=\"text-align: right;\">\n",
              "      <th></th>\n",
              "      <th>means</th>\n",
              "      <th>variances</th>\n",
              "      <th>grammaticals</th>\n",
              "      <th>word_counts</th>\n",
              "      <th>char_counts</th>\n",
              "      <th>out_semantic</th>\n",
              "      <th>out_coher</th>\n",
              "      <th>out_prompt</th>\n",
              "    </tr>\n",
              "  </thead>\n",
              "  <tbody>\n",
              "    <tr>\n",
              "      <th>285</th>\n",
              "      <td>4.657343</td>\n",
              "      <td>4.840628</td>\n",
              "      <td>0.902098</td>\n",
              "      <td>143</td>\n",
              "      <td>808</td>\n",
              "      <td>0.503148</td>\n",
              "      <td>0.250880</td>\n",
              "      <td>0.003049</td>\n",
              "    </tr>\n",
              "    <tr>\n",
              "      <th>296</th>\n",
              "      <td>3.879032</td>\n",
              "      <td>4.719238</td>\n",
              "      <td>0.862903</td>\n",
              "      <td>248</td>\n",
              "      <td>1209</td>\n",
              "      <td>0.503147</td>\n",
              "      <td>0.251251</td>\n",
              "      <td>0.350609</td>\n",
              "    </tr>\n",
              "    <tr>\n",
              "      <th>117</th>\n",
              "      <td>4.572917</td>\n",
              "      <td>6.036350</td>\n",
              "      <td>0.927083</td>\n",
              "      <td>96</td>\n",
              "      <td>534</td>\n",
              "      <td>0.503148</td>\n",
              "      <td>0.250951</td>\n",
              "      <td>0.364186</td>\n",
              "    </tr>\n",
              "    <tr>\n",
              "      <th>346</th>\n",
              "      <td>4.330769</td>\n",
              "      <td>4.882899</td>\n",
              "      <td>0.869231</td>\n",
              "      <td>390</td>\n",
              "      <td>2078</td>\n",
              "      <td>0.503148</td>\n",
              "      <td>0.250902</td>\n",
              "      <td>0.363380</td>\n",
              "    </tr>\n",
              "    <tr>\n",
              "      <th>70</th>\n",
              "      <td>4.185393</td>\n",
              "      <td>4.510573</td>\n",
              "      <td>0.859551</td>\n",
              "      <td>178</td>\n",
              "      <td>922</td>\n",
              "      <td>0.503148</td>\n",
              "      <td>0.497050</td>\n",
              "      <td>0.364631</td>\n",
              "    </tr>\n",
              "    <tr>\n",
              "      <th>...</th>\n",
              "      <td>...</td>\n",
              "      <td>...</td>\n",
              "      <td>...</td>\n",
              "      <td>...</td>\n",
              "      <td>...</td>\n",
              "      <td>...</td>\n",
              "      <td>...</td>\n",
              "      <td>...</td>\n",
              "    </tr>\n",
              "    <tr>\n",
              "      <th>439</th>\n",
              "      <td>4.504000</td>\n",
              "      <td>5.945984</td>\n",
              "      <td>0.856000</td>\n",
              "      <td>125</td>\n",
              "      <td>687</td>\n",
              "      <td>0.503148</td>\n",
              "      <td>0.497052</td>\n",
              "      <td>0.368829</td>\n",
              "    </tr>\n",
              "    <tr>\n",
              "      <th>367</th>\n",
              "      <td>4.758621</td>\n",
              "      <td>6.458977</td>\n",
              "      <td>0.908046</td>\n",
              "      <td>174</td>\n",
              "      <td>1001</td>\n",
              "      <td>0.503148</td>\n",
              "      <td>0.497053</td>\n",
              "      <td>0.368818</td>\n",
              "    </tr>\n",
              "    <tr>\n",
              "      <th>57</th>\n",
              "      <td>4.342857</td>\n",
              "      <td>5.101497</td>\n",
              "      <td>0.914286</td>\n",
              "      <td>105</td>\n",
              "      <td>560</td>\n",
              "      <td>0.503146</td>\n",
              "      <td>0.251026</td>\n",
              "      <td>0.338358</td>\n",
              "    </tr>\n",
              "    <tr>\n",
              "      <th>429</th>\n",
              "      <td>4.654545</td>\n",
              "      <td>4.717025</td>\n",
              "      <td>0.927273</td>\n",
              "      <td>110</td>\n",
              "      <td>621</td>\n",
              "      <td>0.503148</td>\n",
              "      <td>0.497036</td>\n",
              "      <td>0.000965</td>\n",
              "    </tr>\n",
              "    <tr>\n",
              "      <th>24</th>\n",
              "      <td>4.263636</td>\n",
              "      <td>4.594132</td>\n",
              "      <td>0.863636</td>\n",
              "      <td>110</td>\n",
              "      <td>578</td>\n",
              "      <td>0.503148</td>\n",
              "      <td>0.250868</td>\n",
              "      <td>0.368605</td>\n",
              "    </tr>\n",
              "  </tbody>\n",
              "</table>\n",
              "<p>90 rows × 8 columns</p>\n",
              "</div>\n",
              "    <div class=\"colab-df-buttons\">\n",
              "\n",
              "  <div class=\"colab-df-container\">\n",
              "    <button class=\"colab-df-convert\" onclick=\"convertToInteractive('df-74ba15cf-78b1-4b37-8654-240a9f08371f')\"\n",
              "            title=\"Convert this dataframe to an interactive table.\"\n",
              "            style=\"display:none;\">\n",
              "\n",
              "  <svg xmlns=\"http://www.w3.org/2000/svg\" height=\"24px\" viewBox=\"0 -960 960 960\">\n",
              "    <path d=\"M120-120v-720h720v720H120Zm60-500h600v-160H180v160Zm220 220h160v-160H400v160Zm0 220h160v-160H400v160ZM180-400h160v-160H180v160Zm440 0h160v-160H620v160ZM180-180h160v-160H180v160Zm440 0h160v-160H620v160Z\"/>\n",
              "  </svg>\n",
              "    </button>\n",
              "\n",
              "  <style>\n",
              "    .colab-df-container {\n",
              "      display:flex;\n",
              "      gap: 12px;\n",
              "    }\n",
              "\n",
              "    .colab-df-convert {\n",
              "      background-color: #E8F0FE;\n",
              "      border: none;\n",
              "      border-radius: 50%;\n",
              "      cursor: pointer;\n",
              "      display: none;\n",
              "      fill: #1967D2;\n",
              "      height: 32px;\n",
              "      padding: 0 0 0 0;\n",
              "      width: 32px;\n",
              "    }\n",
              "\n",
              "    .colab-df-convert:hover {\n",
              "      background-color: #E2EBFA;\n",
              "      box-shadow: 0px 1px 2px rgba(60, 64, 67, 0.3), 0px 1px 3px 1px rgba(60, 64, 67, 0.15);\n",
              "      fill: #174EA6;\n",
              "    }\n",
              "\n",
              "    .colab-df-buttons div {\n",
              "      margin-bottom: 4px;\n",
              "    }\n",
              "\n",
              "    [theme=dark] .colab-df-convert {\n",
              "      background-color: #3B4455;\n",
              "      fill: #D2E3FC;\n",
              "    }\n",
              "\n",
              "    [theme=dark] .colab-df-convert:hover {\n",
              "      background-color: #434B5C;\n",
              "      box-shadow: 0px 1px 3px 1px rgba(0, 0, 0, 0.15);\n",
              "      filter: drop-shadow(0px 1px 2px rgba(0, 0, 0, 0.3));\n",
              "      fill: #FFFFFF;\n",
              "    }\n",
              "  </style>\n",
              "\n",
              "    <script>\n",
              "      const buttonEl =\n",
              "        document.querySelector('#df-74ba15cf-78b1-4b37-8654-240a9f08371f button.colab-df-convert');\n",
              "      buttonEl.style.display =\n",
              "        google.colab.kernel.accessAllowed ? 'block' : 'none';\n",
              "\n",
              "      async function convertToInteractive(key) {\n",
              "        const element = document.querySelector('#df-74ba15cf-78b1-4b37-8654-240a9f08371f');\n",
              "        const dataTable =\n",
              "          await google.colab.kernel.invokeFunction('convertToInteractive',\n",
              "                                                    [key], {});\n",
              "        if (!dataTable) return;\n",
              "\n",
              "        const docLinkHtml = 'Like what you see? Visit the ' +\n",
              "          '<a target=\"_blank\" href=https://colab.research.google.com/notebooks/data_table.ipynb>data table notebook</a>'\n",
              "          + ' to learn more about interactive tables.';\n",
              "        element.innerHTML = '';\n",
              "        dataTable['output_type'] = 'display_data';\n",
              "        await google.colab.output.renderOutput(dataTable, element);\n",
              "        const docLink = document.createElement('div');\n",
              "        docLink.innerHTML = docLinkHtml;\n",
              "        element.appendChild(docLink);\n",
              "      }\n",
              "    </script>\n",
              "  </div>\n",
              "\n",
              "\n",
              "<div id=\"df-76f91f85-0bed-4a7a-8b3c-ed3cd520affc\">\n",
              "  <button class=\"colab-df-quickchart\" onclick=\"quickchart('df-76f91f85-0bed-4a7a-8b3c-ed3cd520affc')\"\n",
              "            title=\"Suggest charts\"\n",
              "            style=\"display:none;\">\n",
              "\n",
              "<svg xmlns=\"http://www.w3.org/2000/svg\" height=\"24px\"viewBox=\"0 0 24 24\"\n",
              "     width=\"24px\">\n",
              "    <g>\n",
              "        <path d=\"M19 3H5c-1.1 0-2 .9-2 2v14c0 1.1.9 2 2 2h14c1.1 0 2-.9 2-2V5c0-1.1-.9-2-2-2zM9 17H7v-7h2v7zm4 0h-2V7h2v10zm4 0h-2v-4h2v4z\"/>\n",
              "    </g>\n",
              "</svg>\n",
              "  </button>\n",
              "\n",
              "<style>\n",
              "  .colab-df-quickchart {\n",
              "      --bg-color: #E8F0FE;\n",
              "      --fill-color: #1967D2;\n",
              "      --hover-bg-color: #E2EBFA;\n",
              "      --hover-fill-color: #174EA6;\n",
              "      --disabled-fill-color: #AAA;\n",
              "      --disabled-bg-color: #DDD;\n",
              "  }\n",
              "\n",
              "  [theme=dark] .colab-df-quickchart {\n",
              "      --bg-color: #3B4455;\n",
              "      --fill-color: #D2E3FC;\n",
              "      --hover-bg-color: #434B5C;\n",
              "      --hover-fill-color: #FFFFFF;\n",
              "      --disabled-bg-color: #3B4455;\n",
              "      --disabled-fill-color: #666;\n",
              "  }\n",
              "\n",
              "  .colab-df-quickchart {\n",
              "    background-color: var(--bg-color);\n",
              "    border: none;\n",
              "    border-radius: 50%;\n",
              "    cursor: pointer;\n",
              "    display: none;\n",
              "    fill: var(--fill-color);\n",
              "    height: 32px;\n",
              "    padding: 0;\n",
              "    width: 32px;\n",
              "  }\n",
              "\n",
              "  .colab-df-quickchart:hover {\n",
              "    background-color: var(--hover-bg-color);\n",
              "    box-shadow: 0 1px 2px rgba(60, 64, 67, 0.3), 0 1px 3px 1px rgba(60, 64, 67, 0.15);\n",
              "    fill: var(--button-hover-fill-color);\n",
              "  }\n",
              "\n",
              "  .colab-df-quickchart-complete:disabled,\n",
              "  .colab-df-quickchart-complete:disabled:hover {\n",
              "    background-color: var(--disabled-bg-color);\n",
              "    fill: var(--disabled-fill-color);\n",
              "    box-shadow: none;\n",
              "  }\n",
              "\n",
              "  .colab-df-spinner {\n",
              "    border: 2px solid var(--fill-color);\n",
              "    border-color: transparent;\n",
              "    border-bottom-color: var(--fill-color);\n",
              "    animation:\n",
              "      spin 1s steps(1) infinite;\n",
              "  }\n",
              "\n",
              "  @keyframes spin {\n",
              "    0% {\n",
              "      border-color: transparent;\n",
              "      border-bottom-color: var(--fill-color);\n",
              "      border-left-color: var(--fill-color);\n",
              "    }\n",
              "    20% {\n",
              "      border-color: transparent;\n",
              "      border-left-color: var(--fill-color);\n",
              "      border-top-color: var(--fill-color);\n",
              "    }\n",
              "    30% {\n",
              "      border-color: transparent;\n",
              "      border-left-color: var(--fill-color);\n",
              "      border-top-color: var(--fill-color);\n",
              "      border-right-color: var(--fill-color);\n",
              "    }\n",
              "    40% {\n",
              "      border-color: transparent;\n",
              "      border-right-color: var(--fill-color);\n",
              "      border-top-color: var(--fill-color);\n",
              "    }\n",
              "    60% {\n",
              "      border-color: transparent;\n",
              "      border-right-color: var(--fill-color);\n",
              "    }\n",
              "    80% {\n",
              "      border-color: transparent;\n",
              "      border-right-color: var(--fill-color);\n",
              "      border-bottom-color: var(--fill-color);\n",
              "    }\n",
              "    90% {\n",
              "      border-color: transparent;\n",
              "      border-bottom-color: var(--fill-color);\n",
              "    }\n",
              "  }\n",
              "</style>\n",
              "\n",
              "  <script>\n",
              "    async function quickchart(key) {\n",
              "      const quickchartButtonEl =\n",
              "        document.querySelector('#' + key + ' button');\n",
              "      quickchartButtonEl.disabled = true;  // To prevent multiple clicks.\n",
              "      quickchartButtonEl.classList.add('colab-df-spinner');\n",
              "      try {\n",
              "        const charts = await google.colab.kernel.invokeFunction(\n",
              "            'suggestCharts', [key], {});\n",
              "      } catch (error) {\n",
              "        console.error('Error during call to suggestCharts:', error);\n",
              "      }\n",
              "      quickchartButtonEl.classList.remove('colab-df-spinner');\n",
              "      quickchartButtonEl.classList.add('colab-df-quickchart-complete');\n",
              "    }\n",
              "    (() => {\n",
              "      let quickchartButtonEl =\n",
              "        document.querySelector('#df-76f91f85-0bed-4a7a-8b3c-ed3cd520affc button');\n",
              "      quickchartButtonEl.style.display =\n",
              "        google.colab.kernel.accessAllowed ? 'block' : 'none';\n",
              "    })();\n",
              "  </script>\n",
              "</div>\n",
              "    </div>\n",
              "  </div>\n"
            ],
            "text/plain": [
              "        means  variances  grammaticals  word_counts  char_counts  \\\n",
              "285  4.657343   4.840628      0.902098          143          808   \n",
              "296  3.879032   4.719238      0.862903          248         1209   \n",
              "117  4.572917   6.036350      0.927083           96          534   \n",
              "346  4.330769   4.882899      0.869231          390         2078   \n",
              "70   4.185393   4.510573      0.859551          178          922   \n",
              "..        ...        ...           ...          ...          ...   \n",
              "439  4.504000   5.945984      0.856000          125          687   \n",
              "367  4.758621   6.458977      0.908046          174         1001   \n",
              "57   4.342857   5.101497      0.914286          105          560   \n",
              "429  4.654545   4.717025      0.927273          110          621   \n",
              "24   4.263636   4.594132      0.863636          110          578   \n",
              "\n",
              "     out_semantic  out_coher  out_prompt  \n",
              "285      0.503148   0.250880    0.003049  \n",
              "296      0.503147   0.251251    0.350609  \n",
              "117      0.503148   0.250951    0.364186  \n",
              "346      0.503148   0.250902    0.363380  \n",
              "70       0.503148   0.497050    0.364631  \n",
              "..            ...        ...         ...  \n",
              "439      0.503148   0.497052    0.368829  \n",
              "367      0.503148   0.497053    0.368818  \n",
              "57       0.503146   0.251026    0.338358  \n",
              "429      0.503148   0.497036    0.000965  \n",
              "24       0.503148   0.250868    0.368605  \n",
              "\n",
              "[90 rows x 8 columns]"
            ]
          },
          "execution_count": 76,
          "metadata": {},
          "output_type": "execute_result"
        }
      ],
      "source": [
        "(X_valid)"
      ]
    },
    {
      "cell_type": "code",
      "execution_count": null,
      "metadata": {
        "colab": {
          "base_uri": "https://localhost:8080/"
        },
        "id": "7bh_rLEjK0Jn",
        "outputId": "5b95cb2f-5992-405c-d1c0-9dc0a37d1b0c"
      },
      "outputs": [
        {
          "name": "stdout",
          "output_type": "stream",
          "text": [
            "(90,)\n",
            "(90,)\n"
          ]
        }
      ],
      "source": [
        "dpredict = xgb.DMatrix(X_valid)\n",
        "y_pred = bst.predict(dpredict)\n",
        "print(y_pred.shape)\n",
        "print(y_valid.shape)"
      ]
    },
    {
      "cell_type": "code",
      "execution_count": 62,
      "metadata": {
        "id": "Y_BrNpYOdgdL"
      },
      "outputs": [],
      "source": [
        "def get_final_score(essays, prompt):\n",
        "    main_data = pd.DataFrame()\n",
        "\n",
        "    means, variances, grammaticals, word_counts, char_counts = get_mean_score(essays[0]), get_variance_score(essays[0]), get_grammatical_score(essays[0]),get_word_count(essays[0]), get_char_count(essays[0])\n",
        "\n",
        "    val = []\n",
        "    for i in range(1):\n",
        "        val.append(prompt[i]+\".\"+essays[i])\n",
        "\n",
        "    val, lengths_batch = preprocess_essay(val)\n",
        "    val = val.to(device)\n",
        "    essays, lengths_batch = preprocess_essay(essays)\n",
        "    essays = essays.to(device)\n",
        "    out_semantic = model_semantic(essays, lengths_batch)\n",
        "    out_coher = model_coher(essays, lengths_batch)\n",
        "\n",
        "    out_prompt = model_prompt(val, lengths_batch)\n",
        "    out_semantic = out_semantic.cpu().detach().numpy()\n",
        "    out_coher = out_coher.cpu().detach().numpy()\n",
        "    out_prompt = out_prompt.cpu().detach().numpy()\n",
        "\n",
        "    main_data = pd.DataFrame()\n",
        "    temp_df = pd.DataFrame({\n",
        "        'means': means,\n",
        "        'variances': variances,\n",
        "        'grammaticals': grammaticals,\n",
        "        'word_counts': word_counts,\n",
        "        'char_counts': char_counts,\n",
        "        'out_semantic': out_semantic[0],\n",
        "        'out_coher': out_coher[0],\n",
        "        'out_prompt': out_prompt[0],\n",
        "        # 'normalized_score': normalized_score\n",
        "      }, index=[0])\n",
        "\n",
        "    main_data = pd.concat([main_data, temp_df], ignore_index=True)\n",
        "    return main_data\n"
      ]
    },
    {
      "cell_type": "code",
      "execution_count": null,
      "metadata": {
        "colab": {
          "base_uri": "https://localhost:8080/"
        },
        "id": "PGgxALbHEd-U",
        "outputId": "a669e76c-4efa-4a6f-f044-7ac67d3565da"
      },
      "outputs": [
        {
          "name": "stdout",
          "output_type": "stream",
          "text": [
            "['dear location1 i think that computers have a negative affect on us how many people have acess to a camputer daily in america.. num1 and how many people go on at least an hour a num2. that means that num3 people cant exercise are wasting many are have the posibility of physical caps1 that sound good to you think of everything you done when you write a letter. i got up and got all the materials and sit back down. after in done writing have to put all the materials away and then put the letter in the mailbox and walk all the way back. well this is what i had to do. now think how you write an email sitdown and move your fingers. do you see the difference caps2 instead of getting a good walk to your friends house to talk to you just in himer. did you know that you can literally but from on your computer. instead of around with this that can add anything you your computer gives away information they information lead to that and then everthing you have wouldbe gone. all this so you can go online. believe it or not you can phisically get hurt for being on the computer to long. num4 thing is that when you at a computer caps2 what happened to my grandpa is that when you are in a wood chair all day you can get ardthritis in your muscle caps3 thing th.']\n",
            "['More and more people use computers, but not everyone agrees that this benefits society.\\n    Those who support advances in technology believe that computers have a positive effect on people.\\n    They teach hand-eye coordination, give people the ability to learn about faraway places and people, and\\n    even allow people to talk online with other people. Others have different ideas. Some experts are concerned\\n    that people are spending too much time on their computers and less time exercising, enjoying nature, and interacting with family and friends.\\n    Write a letter to your local newspaper in which you state your opinion on the effects computers have on people. Persuade the readers to agree with you.\\n']\n",
            "[7.]\n"
          ]
        }
      ],
      "source": [
        "idx = 5\n",
        "ess = [custom_df['essay'].iloc[idx]]\n",
        "prp = [custom_df['prompt'].iloc[idx]]\n",
        "\n",
        "print(ess)\n",
        "print(prp)\n",
        "output = get_final_score(ess, prp)\n",
        "# print(\"OUTPUT : \", output.shape)\n",
        "dpredict = xgb.DMatrix(output)\n",
        "y_pred = bst.predict(dpredict)\n",
        "print(np.round(y_pred*10))"
      ]
    },
    {
      "cell_type": "code",
      "execution_count": null,
      "metadata": {
        "colab": {
          "base_uri": "https://localhost:8080/"
        },
        "id": "LvzW8tJRZRvR",
        "outputId": "ee5d1807-8d53-477b-9810-6ccbc8f0f65a"
      },
      "outputs": [
        {
          "name": "stdout",
          "output_type": "stream",
          "text": [
            "(90,)\n",
            "(90,)\n"
          ]
        }
      ],
      "source": [
        "dpredict = xgb.DMatrix(X_valid)\n",
        "y_pred = bst.predict(dpredict)\n",
        "print(y_pred.shape)\n",
        "print(y_valid.shape)"
      ]
    },
    {
      "cell_type": "code",
      "execution_count": null,
      "metadata": {
        "colab": {
          "base_uri": "https://localhost:8080/"
        },
        "id": "46jZMc_wAegg",
        "outputId": "9c5e2f1c-79ff-4e3e-dc8f-b4b82acea671"
      },
      "outputs": [
        {
          "data": {
            "text/plain": [
              "array([0.72445637, 0.6331195 , 0.60143906, 0.6195788 , 0.6562967 ,\n",
              "       0.40604752, 0.74283594, 0.6146975 , 0.3683233 , 0.62999195,\n",
              "       0.53647196, 0.5170419 , 0.7223713 , 0.6562967 , 0.5287334 ,\n",
              "       0.5901383 , 0.654788  , 0.58294   , 0.41709897, 0.7257834 ,\n",
              "       0.7223713 , 0.5666761 , 0.53251123, 0.75335586, 0.5948929 ,\n",
              "       0.69630176, 0.6011568 , 0.5299246 , 0.6331195 , 0.37191918,\n",
              "       0.5616797 , 0.6146975 , 0.51065356, 0.5875014 , 0.6562967 ,\n",
              "       0.63787466, 0.3898539 , 0.6011568 , 0.6390048 , 0.6390048 ,\n",
              "       0.5345443 , 0.6562967 , 0.6592023 , 0.6011568 , 0.35558152,\n",
              "       0.6011568 , 0.68200254, 0.63787466, 0.30846247, 0.6124769 ,\n",
              "       0.38522696, 0.6562967 , 0.6011568 , 0.5089371 , 0.63965464,\n",
              "       0.6179459 , 0.67081434, 0.5881908 , 0.6776051 , 0.73205024,\n",
              "       0.6265197 , 0.5330021 , 0.69630176, 0.64509004, 0.61087674,\n",
              "       0.64759463, 0.6011568 , 0.41311216, 0.6011568 , 0.70763475,\n",
              "       0.5901395 , 0.6011568 , 0.7436579 , 0.72445637, 0.5832388 ,\n",
              "       0.6011568 , 0.6303028 , 0.51065356, 0.5709686 , 0.6102558 ,\n",
              "       0.67690337, 0.6146975 , 0.35558152, 0.6303028 , 0.6011568 ,\n",
              "       0.6026891 , 0.69630176, 0.5802079 , 0.6877897 , 0.5502368 ],\n",
              "      dtype=float32)"
            ]
          },
          "execution_count": 93,
          "metadata": {},
          "output_type": "execute_result"
        }
      ],
      "source": [
        "y_pred"
      ]
    },
    {
      "cell_type": "code",
      "execution_count": 223,
      "metadata": {
        "colab": {
          "base_uri": "https://localhost:8080/"
        },
        "id": "Q37KKeNlNcts",
        "outputId": "3b011e66-7136-43b2-d9ae-e43427f6a5b1"
      },
      "outputs": [],
      "source": [
        "import numpy as np\n",
        "\n",
        "def compute_qwk(y_true, y_pred, max_rating=10, min_rating=0):\n",
        "    # Construct confusion matrix\n",
        "    conf_mat = np.zeros((max_rating + 1, max_rating + 1))\n",
        "    for a, p in zip(y_true, y_pred):\n",
        "        conf_mat[a][p] += 1\n",
        "\n",
        "    # Compute observed and expected agreement\n",
        "    num_ratings = max_rating - min_rating + 1\n",
        "    O = 0.0\n",
        "    E = 0.0\n",
        "    for i in range(num_ratings):\n",
        "        for j in range(num_ratings):\n",
        "            # Calculate weight\n",
        "            w = ((i - j) ** 2) / ((max_rating - min_rating) ** 2)\n",
        "            O += w * conf_mat[i][j]\n",
        "            E += w * (np.sum(conf_mat[i, :]) * np.sum(conf_mat[:, j])) / np.sum(conf_mat)\n",
        "\n",
        "    # Compute QWK\n",
        "    return 1.0 - O / E\n",
        "\n",
        "# # Example usage\n",
        "# y_true = np.array(y_valid)\n",
        "# y_pred = np.array(y_pred)\n",
        "# y_true = np.round(y_true*10).astype(int)\n",
        "# y_pred = np.round(y_pred*10).astype(int)\n",
        "\n",
        "\n",
        "# print(compute_qwk(y_true, y_pred))\n"
      ]
    },
    {
      "cell_type": "code",
      "execution_count": null,
      "metadata": {
        "colab": {
          "base_uri": "https://localhost:8080/"
        },
        "id": "Jeodh13Fs9bW",
        "outputId": "403161db-7cc7-40c0-918e-bc4ba7396365"
      },
      "outputs": [
        {
          "data": {
            "text/plain": [
              "array([7, 6, 6, 6, 7, 4, 7, 6, 4, 6, 5, 5, 7, 7, 5, 6, 7, 6, 4, 7, 7, 6,\n",
              "       5, 8, 6, 7, 6, 5, 6, 4, 6, 6, 5, 6, 7, 6, 4, 6, 6, 6, 5, 7, 7, 6,\n",
              "       4, 6, 7, 6, 3, 6, 4, 7, 6, 5, 6, 6, 7, 6, 7, 7, 6, 5, 7, 6, 6, 6,\n",
              "       6, 4, 6, 7, 6, 6, 7, 7, 6, 6, 6, 5, 6, 6, 7, 6, 4, 6, 6, 6, 7, 6,\n",
              "       7, 6])"
            ]
          },
          "execution_count": 95,
          "metadata": {},
          "output_type": "execute_result"
        }
      ],
      "source": [
        "y_pred"
      ]
    },
    {
      "cell_type": "code",
      "execution_count": null,
      "metadata": {
        "colab": {
          "base_uri": "https://localhost:8080/"
        },
        "id": "Mz2isLVFZRvS",
        "outputId": "d09450fe-c00a-4638-d565-5c499e5f66a6"
      },
      "outputs": [
        {
          "name": "stdout",
          "output_type": "stream",
          "text": [
            "Predicted Score : 7 -> Real Score :  7.0\n",
            "Predicted Score : 6 -> Real Score :  10.0\n",
            "Predicted Score : 6 -> Real Score :  7.0\n",
            "Predicted Score : 6 -> Real Score :  7.0\n",
            "Predicted Score : 7 -> Real Score :  2.0\n",
            "Predicted Score : 4 -> Real Score :  3.0\n",
            "Predicted Score : 7 -> Real Score :  8.0\n",
            "Predicted Score : 6 -> Real Score :  6.0\n",
            "Predicted Score : 4 -> Real Score :  2.0\n",
            "Predicted Score : 6 -> Real Score :  7.0\n",
            "Predicted Score : 5 -> Real Score :  6.0\n",
            "Predicted Score : 5 -> Real Score :  3.0\n",
            "Predicted Score : 7 -> Real Score :  8.0\n",
            "Predicted Score : 7 -> Real Score :  8.0\n",
            "Predicted Score : 5 -> Real Score :  5.0\n",
            "Predicted Score : 6 -> Real Score :  7.0\n",
            "Predicted Score : 7 -> Real Score :  7.0\n",
            "Predicted Score : 6 -> Real Score :  8.0\n",
            "Predicted Score : 4 -> Real Score :  0.0\n",
            "Predicted Score : 7 -> Real Score :  7.0\n",
            "Predicted Score : 7 -> Real Score :  8.0\n",
            "Predicted Score : 6 -> Real Score :  5.0\n",
            "Predicted Score : 5 -> Real Score :  3.0\n",
            "Predicted Score : 8 -> Real Score :  10.0\n",
            "Predicted Score : 6 -> Real Score :  4.0\n",
            "Predicted Score : 7 -> Real Score :  8.0\n",
            "Predicted Score : 6 -> Real Score :  8.0\n",
            "Predicted Score : 5 -> Real Score :  5.0\n",
            "Predicted Score : 6 -> Real Score :  8.0\n",
            "Predicted Score : 4 -> Real Score :  3.0\n",
            "Predicted Score : 6 -> Real Score :  7.0\n",
            "Predicted Score : 6 -> Real Score :  8.0\n",
            "Predicted Score : 5 -> Real Score :  5.0\n",
            "Predicted Score : 6 -> Real Score :  5.0\n",
            "Predicted Score : 7 -> Real Score :  6.0\n",
            "Predicted Score : 6 -> Real Score :  8.0\n",
            "Predicted Score : 4 -> Real Score :  0.0\n",
            "Predicted Score : 6 -> Real Score :  8.0\n",
            "Predicted Score : 6 -> Real Score :  8.0\n",
            "Predicted Score : 6 -> Real Score :  8.0\n",
            "Predicted Score : 5 -> Real Score :  5.0\n",
            "Predicted Score : 7 -> Real Score :  10.0\n",
            "Predicted Score : 7 -> Real Score :  5.0\n",
            "Predicted Score : 6 -> Real Score :  8.0\n",
            "Predicted Score : 4 -> Real Score :  3.0\n",
            "Predicted Score : 6 -> Real Score :  9.0\n",
            "Predicted Score : 7 -> Real Score :  6.0\n",
            "Predicted Score : 6 -> Real Score :  8.0\n",
            "Predicted Score : 3 -> Real Score :  0.0\n",
            "Predicted Score : 6 -> Real Score :  3.0\n",
            "Predicted Score : 4 -> Real Score :  2.0\n",
            "Predicted Score : 7 -> Real Score :  4.0\n",
            "Predicted Score : 6 -> Real Score :  6.0\n",
            "Predicted Score : 5 -> Real Score :  3.0\n",
            "Predicted Score : 6 -> Real Score :  8.0\n",
            "Predicted Score : 6 -> Real Score :  5.0\n",
            "Predicted Score : 7 -> Real Score :  5.0\n",
            "Predicted Score : 6 -> Real Score :  4.0\n",
            "Predicted Score : 7 -> Real Score :  10.0\n",
            "Predicted Score : 7 -> Real Score :  10.0\n",
            "Predicted Score : 6 -> Real Score :  8.0\n",
            "Predicted Score : 5 -> Real Score :  5.0\n",
            "Predicted Score : 7 -> Real Score :  8.0\n",
            "Predicted Score : 6 -> Real Score :  6.0\n",
            "Predicted Score : 6 -> Real Score :  10.0\n",
            "Predicted Score : 6 -> Real Score :  8.0\n",
            "Predicted Score : 6 -> Real Score :  6.0\n",
            "Predicted Score : 4 -> Real Score :  3.0\n",
            "Predicted Score : 6 -> Real Score :  4.0\n",
            "Predicted Score : 7 -> Real Score :  10.0\n",
            "Predicted Score : 6 -> Real Score :  3.0\n",
            "Predicted Score : 6 -> Real Score :  8.0\n",
            "Predicted Score : 7 -> Real Score :  10.0\n",
            "Predicted Score : 7 -> Real Score :  10.0\n",
            "Predicted Score : 6 -> Real Score :  5.0\n",
            "Predicted Score : 6 -> Real Score :  7.0\n",
            "Predicted Score : 6 -> Real Score :  2.0\n",
            "Predicted Score : 5 -> Real Score :  7.0\n",
            "Predicted Score : 6 -> Real Score :  8.0\n",
            "Predicted Score : 6 -> Real Score :  7.0\n",
            "Predicted Score : 7 -> Real Score :  10.0\n",
            "Predicted Score : 6 -> Real Score :  6.0\n",
            "Predicted Score : 4 -> Real Score :  3.0\n",
            "Predicted Score : 6 -> Real Score :  7.0\n",
            "Predicted Score : 6 -> Real Score :  8.0\n",
            "Predicted Score : 6 -> Real Score :  0.0\n",
            "Predicted Score : 7 -> Real Score :  8.0\n",
            "Predicted Score : 6 -> Real Score :  7.0\n",
            "Predicted Score : 7 -> Real Score :  5.0\n",
            "Predicted Score : 6 -> Real Score :  7.0\n"
          ]
        }
      ],
      "source": [
        "y_true = np.array(y_valid)\n",
        "y_pred = np.array(y_pred)\n",
        "for i in range(len(y_pred)):\n",
        "    print(f\"Predicted Score : {y_pred[i]} -> Real Score :  {np.round(y_true[i]*10)}\")"
      ]
    },
    {
      "cell_type": "markdown",
      "metadata": {
        "id": "egjz0Ea0ZRvS"
      },
      "source": [
        "### NOVELITY"
      ]
    },
    {
      "cell_type": "markdown",
      "metadata": {
        "id": "9UG1boMIZRvS"
      },
      "source": [
        "#### Document and token LEVEL REPRESENTATION"
      ]
    },
    {
      "cell_type": "code",
      "execution_count": null,
      "metadata": {
        "id": "iAJvg9uzZRvT"
      },
      "outputs": [],
      "source": [
        "class EssayBERTModel(nn.Module):\n",
        "    def __init__(self, bert_model_name='bert-base-uncased', regression_output_size=1):\n",
        "        super(EssayBERTModel, self).__init__()\n",
        "\n",
        "        # BERT model and tokenizer\n",
        "        self.bert = BertModel.from_pretrained(bert_model_name)\n",
        "        self.tokenizer = BertTokenizer.from_pretrained(bert_model_name)\n",
        "\n",
        "        # Regression layer with dropout\n",
        "        self.regression_layer = nn.Sequential(\n",
        "            nn.Linear(2 * self.bert.config.hidden_size, 512),  # Adjust the size as needed\n",
        "            nn.ReLU(),\n",
        "            nn.Dropout(0.1),\n",
        "            nn.Linear(512, regression_output_size)\n",
        "        )\n",
        "\n",
        "    def forward(self, input_text):\n",
        "        # Tokenize input essay\n",
        "        tokens = self.tokenizer.encode_plus(input_text, add_special_tokens=True, return_tensors='pt', max_length=512, truncation=True, padding='max_length')\n",
        "        input_ids = tokens['input_ids']\n",
        "        token_type_ids = tokens['token_type_ids']\n",
        "        attention_mask = tokens['attention_mask']\n",
        "\n",
        "        # Obtain token-scale and document-scale representations\n",
        "        outputs = self.bert(input_ids, token_type_ids=token_type_ids, attention_mask=attention_mask)\n",
        "\n",
        "        # Max pooling over the sequence outputs for token-scale representation\n",
        "        token_representation, _ = torch.max(outputs.last_hidden_state, dim=1)\n",
        "\n",
        "        # Document-scale representation (pooler output)\n",
        "        document_representation = outputs.pooler_output\n",
        "\n",
        "        # Concatenate the two representations\n",
        "        concatenated_representation = torch.cat([document_representation, token_representation], dim=1)\n",
        "\n",
        "        # Pass through the regression layer\n",
        "        output_scores = self.regression_layer(concatenated_representation)\n",
        "\n",
        "        return output_scores\n",
        "\n",
        "# Example usage\n",
        "model = EssayBERTModel(regression_output_size=1)\n",
        "\n",
        "# Input essay text\n",
        "input_text = \"Your essay text goes here.\"\n",
        "\n",
        "# Obtain output scores\n",
        "output_scores = model(input_text)\n",
        "\n",
        "# Print the output scores\n",
        "print(\"Output Scores:\", output_scores)\n"
      ]
    },
    {
      "cell_type": "markdown",
      "metadata": {
        "id": "vuTH9na7ZRvT"
      },
      "source": [
        "#### SEGEMENT SCALE REPRESENTATION"
      ]
    },
    {
      "cell_type": "code",
      "execution_count": null,
      "metadata": {
        "id": "rN6UDtw3ZRvT"
      },
      "outputs": [],
      "source": [
        "class SegmentScaleEssayModel(nn.Module):\n",
        "    def __init__(self, bert_model, lstm_hidden_size, segment_scales):\n",
        "        super(SegmentScaleEssayModel, self).__init__()\n",
        "        self.bert = BertModel.from_pretrained(bert_model)\n",
        "        self.lstm = nn.LSTM(input_size=768, hidden_size=lstm_hidden_size, batch_first=True, dropout=0.1)\n",
        "        self.attention_pooling = nn.Linear(lstm_hidden_size, 1)\n",
        "        self.tanh = nn.Tanh()\n",
        "        self.softmax = nn.Softmax(dim=1)\n",
        "        self.segment_scales = segment_scales\n",
        "\n",
        "        # Create dense regression layers for each segment-scale with dropout\n",
        "        self.regression_layers = nn.ModuleList([nn.Sequential(\n",
        "            nn.Linear(lstm_hidden_size, 512),  # Adjust the size as needed\n",
        "            nn.ReLU(),\n",
        "            nn.Dropout(0.1),\n",
        "            nn.Linear(512, 1)\n",
        "        ) for _ in segment_scales])\n",
        "\n",
        "    def forward(self, input_ids, attention_mask):\n",
        "        # Step 1: BERT Processing\n",
        "        print(input_ids.shape)\n",
        "        outputs = self.bert(input_ids, attention_mask=attention_mask)\n",
        "        sequence_outputs = outputs.last_hidden_state\n",
        "\n",
        "        print(sequence_outputs.shape)\n",
        "        sequence_outputs = sequence_outputs.view(1, -1, 768)\n",
        "\n",
        "        # Step 2: LSTM Processing\n",
        "        lstm_outputs, _ = self.lstm(sequence_outputs)\n",
        "\n",
        "        # Step 3: Attention Pooling\n",
        "        attention_scores = self.tanh(self.attention_pooling(lstm_outputs))\n",
        "        attention_weights = self.softmax(attention_scores)\n",
        "        segment_scale_representation = torch.sum(attention_weights * lstm_outputs, dim=1)\n",
        "\n",
        "        return segment_scale_representation\n",
        "\n",
        "    def segment_scale_representation(self, input_text, max_tokens):\n",
        "        # Tokenize and obtain input_ids, attention_mask\n",
        "        tokenized_input = tokenizer(input_text, return_tensors='pt', max_length=max_tokens, truncation=True, padding='max_length')\n",
        "\n",
        "        input_ids = tokenized_input['input_ids']\n",
        "        attention_mask = tokenized_input['attention_mask']\n",
        "\n",
        "        # Initialize a list to store segment representations and scores\n",
        "        segment_representations = []\n",
        "        segment_scores = []\n",
        "\n",
        "        for scale in self.segment_scales:\n",
        "            # Calculate the number of segments for each scale\n",
        "            num_segments = (input_ids.size(1) + scale - 1) // scale\n",
        "\n",
        "            # Pad the input_ids and attention_mask to fit the segments\n",
        "            pad_tokens = num_segments * scale - input_ids.size(1)\n",
        "            input_ids_padded = F.pad(input_ids, (0, pad_tokens), value=tokenizer.pad_token_id)\n",
        "            attention_mask_padded = F.pad(attention_mask, (0, pad_tokens), value=0)\n",
        "\n",
        "            # Reshape input_ids and attention_mask into segments\n",
        "            segment_input_ids = input_ids_padded.view(-1, scale)\n",
        "            segment_attention_mask = attention_mask_padded.view(-1, scale)\n",
        "\n",
        "            # Forward pass through the model for each segment-scale\n",
        "            segment_output = self.forward(segment_input_ids, segment_attention_mask)\n",
        "\n",
        "            # print(segment_output.shape)\n",
        "            segment_representations.append(segment_output)\n",
        "\n",
        "            # Apply dense regression layer for each segment-scale\n",
        "            segment_score = self.regression_layers[self.segment_scales.index(scale)](segment_output)\n",
        "            # print(segment_score)\n",
        "            segment_scores.append(segment_score)\n",
        "\n",
        "        # Concatenate segment scores\n",
        "        final_scores = torch.cat(segment_scores, dim=1)\n",
        "\n",
        "        # Sum scores across segment-scales to get the final score\n",
        "        final_score = torch.sum(final_scores, dim=1)\n",
        "\n",
        "        return final_score\n",
        "\n",
        "# Example usage:\n",
        "model = SegmentScaleEssayModel(bert_model='bert-base-uncased', lstm_hidden_size=256, segment_scales=[5, 10, 25])\n",
        "tokenizer = BertTokenizer.from_pretrained('bert-base-uncased')\n",
        "\n",
        "# Example essay\n",
        "essay = \"Your essay text goes here.\"\n",
        "\n",
        "# Set the maximum number of tokens\n",
        "max_tokens = 50\n",
        "\n",
        "# Get the segment-scale essay representation\n",
        "final_score = model.segment_scale_representation(essay, max_tokens)\n",
        "\n",
        "print(\"Final essay score:\", final_score)\n"
      ]
    },
    {
      "cell_type": "markdown",
      "metadata": {
        "id": "7MVIffLRZRvU"
      },
      "source": [
        "#### Combined Representation"
      ]
    },
    {
      "cell_type": "code",
      "execution_count": null,
      "metadata": {
        "id": "7idcSRlqZRvU"
      },
      "outputs": [],
      "source": [
        "class CombinedEssayModel(nn.Module):\n",
        "    def __init__(self, bert_model, lstm_hidden_size, segment_scales, regression_output_size=1):\n",
        "        super(CombinedEssayModel, self).__init__()\n",
        "\n",
        "        # Segment-scale model\n",
        "        self.segment_scale_model = SegmentScaleEssayModel(bert_model, lstm_hidden_size, segment_scales)\n",
        "\n",
        "        # Document-scale and Token-scale model\n",
        "        self.essay_bert_model = EssayBERTModel(bert_model, regression_output_size)\n",
        "\n",
        "    def forward(self, input_text, max_tokens):\n",
        "        # Get segment-scale representation\n",
        "        segment_scale_representation_score = self.segment_scale_model.segment_scale_representation(input_text, max_tokens)\n",
        "\n",
        "        # Get document-scale and token-scale representation\n",
        "        essay_representation_score = self.essay_bert_model(input_text)\n",
        "\n",
        "        score=essay_representation_score+segment_scale_representation_score\n",
        "        # Combine the representations (you can use any operation that suits your task)\n",
        "\n",
        "        return score\n",
        "\n",
        "# Example usage:\n",
        "combined_model = CombinedEssayModel(bert_model='bert-base-uncased', lstm_hidden_size=256, segment_scales=[5, 10, 25], regression_output_size=1)\n",
        "tokenizer = BertTokenizer.from_pretrained('bert-base-uncased')\n",
        "\n",
        "# Example essay\n",
        "essay = \"Your essay text goes here.\"\n",
        "\n",
        "# Set the maximum number of tokens\n",
        "max_tokens = 50\n",
        "\n",
        "# Get the final combined essay representation\n",
        "final_representation = combined_model(essay, max_tokens)\n",
        "\n",
        "print(\"Final combined essay score:\", final_representation)\n"
      ]
    },
    {
      "cell_type": "markdown",
      "metadata": {
        "id": "b6ABgDhXZRvV"
      },
      "source": [
        "#### LOSS FUNCTION CONSISTING OF MSE,SIM,MRR"
      ]
    },
    {
      "cell_type": "code",
      "execution_count": 51,
      "metadata": {
        "id": "J3vI93ZkZRvV"
      },
      "outputs": [],
      "source": [
        "class CustomLoss(nn.Module):\n",
        "    def __init__(self, alpha, beta, gamma):\n",
        "        super(CustomLoss, self).__init__()\n",
        "        self.alpha = alpha\n",
        "        self.beta = beta\n",
        "        self.gamma = gamma\n",
        "\n",
        "    def forward(self, predicted_scores, labels):\n",
        "        # Convert predicted_scores and labels to 1D tensors\n",
        "        predicted_scores = predicted_scores.view(-1)\n",
        "        labels = labels.view(-1)\n",
        "\n",
        "        # SIM loss\n",
        "        sim_loss = 1 - F.cosine_similarity(predicted_scores, labels, dim=0)\n",
        "\n",
        "        # MR loss\n",
        "        mr_loss = F.mse_loss(predicted_scores, labels)\n",
        "\n",
        "        # Coherence loss\n",
        "        coherence_loss = torch.mean(torch.abs(predicted_scores - labels))\n",
        "\n",
        "        # Combine losses\n",
        "        loss = self.alpha * sim_loss + self.beta * mr_loss + self.gamma * coherence_loss\n",
        "\n",
        "        return loss\n"
      ]
    },
    {
      "cell_type": "code",
      "execution_count": 52,
      "metadata": {
        "id": "Xn-0cLrhZRvV"
      },
      "outputs": [],
      "source": [
        "from tqdm import tqdm"
      ]
    },
    {
      "cell_type": "code",
      "execution_count": null,
      "metadata": {
        "id": "xc-57TETZRvW"
      },
      "outputs": [],
      "source": [
        "# model_combined = CombinedEssayModel(bert_model='bert-base-uncased', lstm_hidden_size=256, segment_scales=[20,50,100], regression_output_size=1)\n",
        "# criterion = CustomLoss(0.5, 0.5, 0.2)\n",
        "\n",
        "# max_tokens = 120\n",
        "\n",
        "# learning_rate = 6e-5\n",
        "# beta1 = 0.9\n",
        "# beta2 = 0.999\n",
        "# weight_decay = 0.005\n",
        "\n",
        "# # Set up the optimizer\n",
        "# optimizer_model = optim.Adam(model_combined.parameters(), lr=learning_rate, betas=(beta1, beta2), weight_decay=weight_decay)\n",
        "\n",
        "# for epoch in range(1):\n",
        "#     out_loss = 0\n",
        "\n",
        "#     num_samples_processed_1=0\n",
        "\n",
        "#     for batch_idx, (essay_id, essay_set, essays, prompt, normalized_score) in tqdm(enumerate(dataloader)):\n",
        "\n",
        "#         # if torch.cuda.is_available():\n",
        "#         #     essay_id, essay_set, essays, prompt, normalized_score = essay_id.cuda(), essay_set.cuda(), essays.cuda(), prompt.cuda(), normalized_score.cuda()\n",
        "#         # normalized_score = normalized_score.to(device)\n",
        "\n",
        "\n",
        "\n",
        "#         num_samples_processed_1 += essay_id.size(0)\n",
        "\n",
        "#         if num_samples_processed_1 >= 1000:\n",
        "#           break\n",
        "\n",
        "#         optimizer_model.zero_grad()\n",
        "\n",
        "#         # essays, lengths_batch = preprocess_essay(essays)\n",
        "#         # essays = essays.to(device)\n",
        "#         normalized_score = normalized_score.to(device)\n",
        "#         normalized_score = normalized_score.view(1, -1)\n",
        "\n",
        "#         # print(lengths_batch.dtype)\n",
        "#         # print(essays.dtype)\n",
        "#         # print(essays)\n",
        "\n",
        "#         out = model_combined(essays, max_tokens)\n",
        "\n",
        "#         # print(out)\n",
        "\n",
        "\n",
        "#         out = out.float()\n",
        "#         out = out.view(1, -1)\n",
        "\n",
        "#         normalized_score = normalized_score.float()\n",
        "\n",
        "#         loss = criterion(out, normalized_score)\n",
        "#         loss.backward()\n",
        "#         optimizer.step()\n",
        "\n",
        "#         out_loss += loss.item()\n",
        "\n",
        "\n",
        "#         print(f\"Epoch [{epoch + 1}/5], Batch [{batch_idx + 1}/{len(dataloader)}], Batch Loss: {loss.item():.4f}\")\n",
        "\n",
        "\n",
        "#     # train_loss.append(out_loss/len(dataloader))\n",
        "\n",
        "\n",
        "# # Save the best model\n",
        "# # torch.save(model.state_dict(), 'best_model.pth')\n"
      ]
    },
    {
      "cell_type": "code",
      "execution_count": 53,
      "metadata": {
        "colab": {
          "base_uri": "https://localhost:8080/"
        },
        "id": "2rUsZvu5ZRvW",
        "outputId": "c43c2a39-3d80-442a-b7fc-10fd916dd04d"
      },
      "outputs": [
        {
          "name": "stderr",
          "output_type": "stream",
          "text": [
            "c:\\Users\\pchhl\\anaconda3\\lib\\site-packages\\torch\\nn\\modules\\rnn.py:71: UserWarning: dropout option adds dropout after all but last recurrent layer, so non-zero dropout expects num_layers greater than 1, but got dropout=0.1 and num_layers=1\n",
            "  warnings.warn(\"dropout option adds dropout after all but last \"\n"
          ]
        },
        {
          "name": "stdout",
          "output_type": "stream",
          "text": [
            "Final essay scores (batch): tensor([[-0.0013],\n",
            "        [-0.0023]], grad_fn=<MeanBackward1>)\n"
          ]
        }
      ],
      "source": [
        "import torch\n",
        "import torch.nn as nn\n",
        "import torch.nn.functional as F\n",
        "from transformers import BertModel, BertTokenizer\n",
        "\n",
        "class SegmentScaleEssayModelo(nn.Module):\n",
        "    def __init__(self, bert_model, lstm_hidden_size, segment_scales):\n",
        "        super(SegmentScaleEssayModelo, self).__init__()\n",
        "        self.bert = BertModel.from_pretrained(bert_model)\n",
        "        self.lstm = nn.LSTM(input_size=768, hidden_size=lstm_hidden_size, batch_first=True, dropout=0.1)\n",
        "        self.attention_pooling = nn.Linear(lstm_hidden_size, 1)\n",
        "        self.tanh = nn.Tanh()\n",
        "        self.softmax = nn.Softmax(dim=1)\n",
        "        self.segment_scales = segment_scales\n",
        "        self.lstm_hidden=lstm_hidden_size\n",
        "\n",
        "        for param in self.bert.parameters():\n",
        "             param.requires_grad = False\n",
        "        # Create dense regression layers for each segment-scale with dropout\n",
        "        self.regression_layers = nn.ModuleList([nn.Sequential(\n",
        "            nn.Linear(lstm_hidden_size, 512),  # Adjust the size as needed\n",
        "            nn.ReLU(),\n",
        "            nn.Dropout(0.1),\n",
        "            nn.Linear(512, 1)\n",
        "        ) for _ in segment_scales])\n",
        "\n",
        "    def forward(self, input_ids, attention_mask):\n",
        "\n",
        "        batch_size, num_segments, max_tokens = input_ids.size()\n",
        "\n",
        "        # Reshape input_ids and attention_mask for BERT processing\n",
        "        input_ids_flat = input_ids.view(batch_size * num_segments, max_tokens)\n",
        "        attention_mask_flat = attention_mask.view(batch_size * num_segments, max_tokens)\n",
        "\n",
        "        # Step 1: BERT Processing\n",
        "        outputs = self.bert(input_ids_flat, attention_mask=attention_mask_flat)\n",
        "        sequence_outputs = outputs.last_hidden_state\n",
        "\n",
        "        # Reshape sequence_outputs back to 3D\n",
        "        sequence_outputs = sequence_outputs.view(batch_size, num_segments, max_tokens, -1)\n",
        "\n",
        "        # Initialize a list to store segment outputs\n",
        "        segment_outputs = []\n",
        "\n",
        "        for segment_index in range(num_segments):\n",
        "            # Select the current segment from the 3D tensor\n",
        "            current_segment = sequence_outputs[:, segment_index, :, :]\n",
        "\n",
        "            # Step 2: LSTM Processing for the current segment\n",
        "            lstm_outputs, _ = self.lstm(current_segment)\n",
        "\n",
        "            # Step 3: Attention Pooling for the current segment\n",
        "            attention_scores = self.tanh(self.attention_pooling(lstm_outputs))\n",
        "            attention_weights = self.softmax(attention_scores)\n",
        "            segment_scale_representation = torch.sum(attention_weights * lstm_outputs, dim=1)\n",
        "\n",
        "            # Append the segment representation to the list\n",
        "            segment_outputs.append(segment_scale_representation)\n",
        "\n",
        "        # Concatenate segment outputs to get the final representation\n",
        "\n",
        "        final_representation = torch.cat(segment_outputs, dim=1)\n",
        "\n",
        "        final_representation=final_representation.reshape(batch_size,num_segments,self.lstm_hidden)\n",
        "\n",
        "        # print(final_representation.shape)\n",
        "\n",
        "        return final_representation\n",
        "\n",
        "    def segment_scale_representation(self, input_ids, attention_mask):\n",
        "        # Forward pass through the model for each segment-scale\n",
        "\n",
        "        segment_outputs = []\n",
        "        for scale in self.segment_scales:\n",
        "            # Calculate the number of segments for each scale\n",
        "            num_segments = (input_ids.size(1) + scale - 1) // scale\n",
        "\n",
        "            # Pad the input_ids and attention_mask to fit the segments\n",
        "            pad_tokens = num_segments * scale - input_ids.size(1)\n",
        "            input_ids_padded = F.pad(input_ids, (0, pad_tokens), value=tokenizer.pad_token_id)\n",
        "            attention_mask_padded = F.pad(attention_mask, (0, pad_tokens), value=0)\n",
        "\n",
        "            # Reshape input_ids and attention_mask into segments\n",
        "            segment_input_ids = input_ids_padded.view(-1, num_segments, scale)  # Updated this line\n",
        "            # print(scale)\n",
        "            # print(segment_input_ids.shape)\n",
        "            segment_attention_mask = attention_mask_padded.view(-1, num_segments, scale)  # Updated this line\n",
        "\n",
        "\n",
        "            # Forward pass through the model for each segment-scale\n",
        "            segment_output = self.forward(segment_input_ids, segment_attention_mask)\n",
        "            segment_outputs.append(segment_output)\n",
        "\n",
        "        # Concatenate segment outputs along the sequence dimension\n",
        "        final_representation = torch.cat(segment_outputs, dim=1)\n",
        "\n",
        "        # Apply dense regression layer for each segment-scale\n",
        "        segment_scores = [layer(final_representation) for layer in self.regression_layers]\n",
        "\n",
        "        # Concatenate segment scores\n",
        "        final_scores = torch.cat(segment_scores, dim=1)\n",
        "\n",
        "        # Sum scores across segment-scales to get the final score\n",
        "        final_score = torch.mean(final_scores, dim=1)\n",
        "\n",
        "\n",
        "        return final_score\n",
        "\n",
        "# Example usage with batched input:\n",
        "model = SegmentScaleEssayModelo(bert_model='bert-base-uncased', lstm_hidden_size=256, segment_scales=[5, 10, 25])\n",
        "tokenizer = BertTokenizer.from_pretrained('bert-base-uncased')\n",
        "\n",
        "# Example essays\n",
        "essays = [\"Your essay text goes here.\", \"Another essay text.\"]\n",
        "\n",
        "# Tokenize and obtain input_ids, attention_mask\n",
        "tokenized_input = tokenizer(essays, return_tensors='pt', max_length=50, truncation=True, padding='max_length')\n",
        "\n",
        "input_ids = tokenized_input['input_ids']\n",
        "attention_mask = tokenized_input['attention_mask']\n",
        "\n",
        "# Get the segment-scale essay representation for the batch\n",
        "final_scores_batch = model.segment_scale_representation(input_ids, attention_mask)\n",
        "\n",
        "print(\"Final essay scores (batch):\", final_scores_batch)\n"
      ]
    },
    {
      "cell_type": "code",
      "execution_count": 56,
      "metadata": {
        "colab": {
          "base_uri": "https://localhost:8080/"
        },
        "id": "EA7_6B0CZRvX",
        "outputId": "a42bd640-c935-4d36-b4fb-52931758f7ed"
      },
      "outputs": [
        {
          "name": "stdout",
          "output_type": "stream",
          "text": [
            "Output Scores (Batch): tensor([[-0.2355],\n",
            "        [-0.2300]], grad_fn=<AddmmBackward0>)\n"
          ]
        }
      ],
      "source": [
        "class EssayBERTModel_(nn.Module):\n",
        "    def __init__(self, bert_model_name='bert-base-uncased', regression_output_size=1):\n",
        "        super(EssayBERTModel_, self).__init__()\n",
        "\n",
        "        # BERT model and tokenizer\n",
        "        self.bert = BertModel.from_pretrained(bert_model_name)\n",
        "        self.tokenizer = BertTokenizer.from_pretrained(bert_model_name)\n",
        "\n",
        "        for param in self.bert.parameters():\n",
        "            param.requires_grad = False\n",
        "\n",
        "        # Regression layer with dropout\n",
        "        self.regression_layer = nn.Sequential(\n",
        "            nn.Linear(2 * self.bert.config.hidden_size, 512),\n",
        "            nn.ReLU(),\n",
        "            # nn.Dropout(0.1),\n",
        "            nn.Linear(512, regression_output_size)\n",
        "        )\n",
        "\n",
        "    def forward(self,essays):\n",
        "        # Tokenize input essay\n",
        "\n",
        "        tokenized_input = tokenizer(essays, return_tensors='pt', max_length=512, truncation=True, padding='max_length')\n",
        "\n",
        "        input_ids = tokenized_input['input_ids']\n",
        "        attention_mask = tokenized_input['attention_mask']\n",
        "\n",
        "        batch_size, max_tokens = input_ids.size()\n",
        "\n",
        "        # Add an extra dimension for num_segments\n",
        "        input_ids = input_ids.unsqueeze(1)\n",
        "        attention_mask = attention_mask.unsqueeze(1)\n",
        "\n",
        "        # Reshape input_ids and attention_mask for BERT processing\n",
        "        input_ids_flat = input_ids.view(batch_size * 1, max_tokens)\n",
        "        attention_mask_flat = attention_mask.view(batch_size * 1, max_tokens)\n",
        "\n",
        "        # Step 1: BERT Processing\n",
        "        outputs = self.bert(input_ids_flat, attention_mask=attention_mask_flat)\n",
        "\n",
        "        # Max pooling over the sequence outputs for token-scale representation\n",
        "        token_representation, _ = torch.max(outputs.last_hidden_state, dim=1)\n",
        "\n",
        "        # Document-scale representation (pooler output)\n",
        "        document_representation = outputs.pooler_output\n",
        "\n",
        "        # Concatenate the two representations\n",
        "        concatenated_representation = torch.cat([document_representation, token_representation], dim=1)\n",
        "\n",
        "        # Pass through the regression layer\n",
        "        output_scores = self.regression_layer(concatenated_representation)\n",
        "\n",
        "        return output_scores\n",
        "\n",
        "\n",
        "model_essay = EssayBERTModel_(regression_output_size=1)\n",
        "\n",
        "tokenizer = BertTokenizer.from_pretrained('bert-base-uncased')\n",
        "\n",
        "# Example essays in a batch\n",
        "essays = [\"Your essay text goes here.\", \"Another essay text.\"]\n",
        "\n",
        "\n",
        "# Get the model predictions for the batch\n",
        "output_scores_batch = model_essay.forward(essays)\n",
        "\n",
        "print(\"Output Scores (Batch):\", output_scores_batch)"
      ]
    },
    {
      "cell_type": "code",
      "execution_count": 57,
      "metadata": {
        "id": "yTDwO3t7ZRvY"
      },
      "outputs": [],
      "source": [
        "class CombinedEssayModel_(nn.Module):\n",
        "    def __init__(self, bert_model, lstm_hidden_size, segment_scales, regression_output_size=1):\n",
        "        super(CombinedEssayModel_, self).__init__()\n",
        "\n",
        "        self.tokenizer=BertTokenizer.from_pretrained('bert-base-uncased')\n",
        "\n",
        "        # Segment-scale model\n",
        "        self.segment_scale_model = SegmentScaleEssayModelo(bert_model, lstm_hidden_size, segment_scales)\n",
        "\n",
        "        # Document-scale and Token-scale model\n",
        "        self.essay_bert_model = EssayBERTModel_(bert_model, regression_output_size)\n",
        "\n",
        "    def forward(self, input_text, max_tokens):\n",
        "\n",
        "        tokenized_input = tokenizer(input_text, return_tensors='pt', max_length=max_tokens, truncation=True, padding='max_length')\n",
        "\n",
        "        input_ids = tokenized_input['input_ids']\n",
        "        attention_mask = tokenized_input['attention_mask']\n",
        "        # Get segment-scale representation\n",
        "        segment_scale_representation_score = self.segment_scale_model.segment_scale_representation(input_ids, attention_mask)\n",
        "\n",
        "        # print(segment_scale_representation_score)\n",
        "        # Get document-scale and token-scale representation\n",
        "        essay_representation_score = self.essay_bert_model(input_text)\n",
        "\n",
        "        # print(essay_representation_score)\n",
        "        score=essay_representation_score+segment_scale_representation_score\n",
        "\n",
        "        return score"
      ]
    },
    {
      "cell_type": "code",
      "execution_count": 58,
      "metadata": {
        "colab": {
          "base_uri": "https://localhost:8080/"
        },
        "id": "kuf21VPUZRvY",
        "outputId": "fb027fb9-76e0-43d5-b9f1-e88f0074dc27"
      },
      "outputs": [
        {
          "name": "stdout",
          "output_type": "stream",
          "text": [
            "Final combined essay score: tensor([[-0.1233],\n",
            "        [-0.0914]], grad_fn=<AddBackward0>)\n"
          ]
        }
      ],
      "source": [
        "combined_model = CombinedEssayModel_(bert_model='bert-base-uncased', lstm_hidden_size=256, segment_scales=[5, 10, 25], regression_output_size=1)\n",
        "tokenizer = BertTokenizer.from_pretrained('bert-base-uncased')\n",
        "\n",
        "# Example essay\n",
        "essays = [\"Your essay text goes here.\", \"Another essay text.\"]\n",
        "\n",
        "# Set the maximum number of tokens\n",
        "max_tokens = 50\n",
        "\n",
        "# Get the final combined essay representation\n",
        "final_representation = combined_model(essays, max_tokens)\n",
        "\n",
        "print(\"Final combined essay score:\", final_representation)\n"
      ]
    },
    {
      "cell_type": "code",
      "execution_count": 59,
      "metadata": {
        "id": "7wy2NIcFusEs"
      },
      "outputs": [],
      "source": [
        "# Initialize the model, criterion, and optimizer\n",
        "model_combined = CombinedEssayModel_(bert_model='bert-base-uncased', lstm_hidden_size=256, segment_scales=[90,130], regression_output_size=1)\n",
        "criterion = CustomLoss(0.33, 0.33, 0.34)\n",
        "\n",
        "learning_rate = 6e-5\n",
        "beta1 = 0.9\n",
        "beta2 = 0.999\n",
        "weight_decay = 0.005\n",
        "\n",
        "\n",
        "train_loss_combine=[]\n",
        "# Set up the optimizer\n",
        "optimizer_model = optim.Adam(model_combined.parameters(), lr=learning_rate, betas=(beta1, beta2), weight_decay=weight_decay)\n"
      ]
    },
    {
      "cell_type": "code",
      "execution_count": null,
      "metadata": {
        "id": "Bz5t5lXYZRvZ",
        "outputId": "22777bca-1315-4c6e-b0ac-b72fb917e7f1"
      },
      "outputs": [
        {
          "name": "stderr",
          "output_type": "stream",
          "text": [
            "c:\\Users\\pchhl\\anaconda3\\lib\\site-packages\\torch\\nn\\modules\\rnn.py:71: UserWarning: dropout option adds dropout after all but last recurrent layer, so non-zero dropout expects num_layers greater than 1, but got dropout=0.1 and num_layers=1\n",
            "  warnings.warn(\"dropout option adds dropout after all but last \"\n",
            "1it [00:32, 32.92s/it]"
          ]
        },
        {
          "name": "stdout",
          "output_type": "stream",
          "text": [
            "Epoch [1/5], Batch [1/1498], Batch Loss: 0.3040\n"
          ]
        },
        {
          "name": "stderr",
          "output_type": "stream",
          "text": [
            "2it [01:04, 32.08s/it]"
          ]
        },
        {
          "name": "stdout",
          "output_type": "stream",
          "text": [
            "Epoch [1/5], Batch [2/1498], Batch Loss: 0.0173\n"
          ]
        },
        {
          "name": "stderr",
          "output_type": "stream",
          "text": [
            "3it [01:36, 32.30s/it]"
          ]
        },
        {
          "name": "stdout",
          "output_type": "stream",
          "text": [
            "Epoch [1/5], Batch [3/1498], Batch Loss: 0.1252\n"
          ]
        },
        {
          "name": "stderr",
          "output_type": "stream",
          "text": [
            "4it [02:09, 32.50s/it]"
          ]
        },
        {
          "name": "stdout",
          "output_type": "stream",
          "text": [
            "Epoch [1/5], Batch [4/1498], Batch Loss: 0.1413\n"
          ]
        },
        {
          "name": "stderr",
          "output_type": "stream",
          "text": [
            "5it [02:42, 32.73s/it]"
          ]
        },
        {
          "name": "stdout",
          "output_type": "stream",
          "text": [
            "Epoch [1/5], Batch [5/1498], Batch Loss: 0.1367\n"
          ]
        },
        {
          "name": "stderr",
          "output_type": "stream",
          "text": [
            "6it [03:14, 32.48s/it]"
          ]
        },
        {
          "name": "stdout",
          "output_type": "stream",
          "text": [
            "Epoch [1/5], Batch [6/1498], Batch Loss: 0.0748\n"
          ]
        },
        {
          "name": "stderr",
          "output_type": "stream",
          "text": [
            "7it [03:46, 32.34s/it]"
          ]
        },
        {
          "name": "stdout",
          "output_type": "stream",
          "text": [
            "Epoch [1/5], Batch [7/1498], Batch Loss: 0.1808\n"
          ]
        },
        {
          "name": "stderr",
          "output_type": "stream",
          "text": [
            "8it [04:18, 32.05s/it]"
          ]
        },
        {
          "name": "stdout",
          "output_type": "stream",
          "text": [
            "Epoch [1/5], Batch [8/1498], Batch Loss: 0.1078\n"
          ]
        },
        {
          "name": "stderr",
          "output_type": "stream",
          "text": [
            "9it [04:50, 32.12s/it]"
          ]
        },
        {
          "name": "stdout",
          "output_type": "stream",
          "text": [
            "Epoch [1/5], Batch [9/1498], Batch Loss: 0.1009\n"
          ]
        },
        {
          "name": "stderr",
          "output_type": "stream",
          "text": [
            "10it [05:22, 32.13s/it]"
          ]
        },
        {
          "name": "stdout",
          "output_type": "stream",
          "text": [
            "Epoch [1/5], Batch [10/1498], Batch Loss: 0.1247\n"
          ]
        },
        {
          "name": "stderr",
          "output_type": "stream",
          "text": [
            "11it [05:54, 31.99s/it]"
          ]
        },
        {
          "name": "stdout",
          "output_type": "stream",
          "text": [
            "Epoch [1/5], Batch [11/1498], Batch Loss: 0.1244\n"
          ]
        },
        {
          "name": "stderr",
          "output_type": "stream",
          "text": [
            "12it [06:26, 31.96s/it]"
          ]
        },
        {
          "name": "stdout",
          "output_type": "stream",
          "text": [
            "Epoch [1/5], Batch [12/1498], Batch Loss: 0.0495\n"
          ]
        },
        {
          "name": "stderr",
          "output_type": "stream",
          "text": [
            "13it [06:57, 31.76s/it]"
          ]
        },
        {
          "name": "stdout",
          "output_type": "stream",
          "text": [
            "Epoch [1/5], Batch [13/1498], Batch Loss: 0.1278\n"
          ]
        },
        {
          "name": "stderr",
          "output_type": "stream",
          "text": [
            "14it [07:29, 31.69s/it]"
          ]
        },
        {
          "name": "stdout",
          "output_type": "stream",
          "text": [
            "Epoch [1/5], Batch [14/1498], Batch Loss: 0.0773\n"
          ]
        },
        {
          "name": "stderr",
          "output_type": "stream",
          "text": [
            "15it [08:00, 31.67s/it]"
          ]
        },
        {
          "name": "stdout",
          "output_type": "stream",
          "text": [
            "Epoch [1/5], Batch [15/1498], Batch Loss: 0.0829\n"
          ]
        },
        {
          "name": "stderr",
          "output_type": "stream",
          "text": [
            "16it [08:32, 31.61s/it]"
          ]
        },
        {
          "name": "stdout",
          "output_type": "stream",
          "text": [
            "Epoch [1/5], Batch [16/1498], Batch Loss: 0.1630\n"
          ]
        },
        {
          "name": "stderr",
          "output_type": "stream",
          "text": [
            "17it [09:03, 31.62s/it]"
          ]
        },
        {
          "name": "stdout",
          "output_type": "stream",
          "text": [
            "Epoch [1/5], Batch [17/1498], Batch Loss: 0.1147\n"
          ]
        },
        {
          "name": "stderr",
          "output_type": "stream",
          "text": [
            "18it [09:35, 31.58s/it]"
          ]
        },
        {
          "name": "stdout",
          "output_type": "stream",
          "text": [
            "Epoch [1/5], Batch [18/1498], Batch Loss: 0.1208\n"
          ]
        },
        {
          "name": "stderr",
          "output_type": "stream",
          "text": [
            "19it [10:07, 31.61s/it]"
          ]
        },
        {
          "name": "stdout",
          "output_type": "stream",
          "text": [
            "Epoch [1/5], Batch [19/1498], Batch Loss: 0.1146\n"
          ]
        },
        {
          "name": "stderr",
          "output_type": "stream",
          "text": [
            "20it [10:38, 31.61s/it]"
          ]
        },
        {
          "name": "stdout",
          "output_type": "stream",
          "text": [
            "Epoch [1/5], Batch [20/1498], Batch Loss: 0.1225\n"
          ]
        },
        {
          "name": "stderr",
          "output_type": "stream",
          "text": [
            "21it [11:11, 31.82s/it]"
          ]
        },
        {
          "name": "stdout",
          "output_type": "stream",
          "text": [
            "Epoch [1/5], Batch [21/1498], Batch Loss: 0.1856\n"
          ]
        },
        {
          "name": "stderr",
          "output_type": "stream",
          "text": [
            "22it [11:42, 31.62s/it]"
          ]
        },
        {
          "name": "stdout",
          "output_type": "stream",
          "text": [
            "Epoch [1/5], Batch [22/1498], Batch Loss: 0.1108\n"
          ]
        },
        {
          "name": "stderr",
          "output_type": "stream",
          "text": [
            "23it [12:12, 31.29s/it]"
          ]
        },
        {
          "name": "stdout",
          "output_type": "stream",
          "text": [
            "Epoch [1/5], Batch [23/1498], Batch Loss: 0.1352\n"
          ]
        },
        {
          "name": "stderr",
          "output_type": "stream",
          "text": [
            "24it [12:43, 31.17s/it]"
          ]
        },
        {
          "name": "stdout",
          "output_type": "stream",
          "text": [
            "Epoch [1/5], Batch [24/1498], Batch Loss: 0.0810\n"
          ]
        },
        {
          "name": "stderr",
          "output_type": "stream",
          "text": [
            "25it [13:14, 30.97s/it]"
          ]
        },
        {
          "name": "stdout",
          "output_type": "stream",
          "text": [
            "Epoch [1/5], Batch [25/1498], Batch Loss: 0.0892\n"
          ]
        },
        {
          "name": "stderr",
          "output_type": "stream",
          "text": [
            "26it [13:44, 30.85s/it]"
          ]
        },
        {
          "name": "stdout",
          "output_type": "stream",
          "text": [
            "Epoch [1/5], Batch [26/1498], Batch Loss: 0.1068\n"
          ]
        },
        {
          "name": "stderr",
          "output_type": "stream",
          "text": [
            "27it [14:15, 30.81s/it]"
          ]
        },
        {
          "name": "stdout",
          "output_type": "stream",
          "text": [
            "Epoch [1/5], Batch [27/1498], Batch Loss: 0.1496\n"
          ]
        },
        {
          "name": "stderr",
          "output_type": "stream",
          "text": [
            "28it [14:45, 30.71s/it]"
          ]
        },
        {
          "name": "stdout",
          "output_type": "stream",
          "text": [
            "Epoch [1/5], Batch [28/1498], Batch Loss: 0.1202\n"
          ]
        },
        {
          "name": "stderr",
          "output_type": "stream",
          "text": [
            "29it [15:16, 30.72s/it]"
          ]
        },
        {
          "name": "stdout",
          "output_type": "stream",
          "text": [
            "Epoch [1/5], Batch [29/1498], Batch Loss: 0.0937\n"
          ]
        },
        {
          "name": "stderr",
          "output_type": "stream",
          "text": [
            "30it [15:47, 30.84s/it]"
          ]
        },
        {
          "name": "stdout",
          "output_type": "stream",
          "text": [
            "Epoch [1/5], Batch [30/1498], Batch Loss: 0.1145\n"
          ]
        },
        {
          "name": "stderr",
          "output_type": "stream",
          "text": [
            "31it [16:20, 31.43s/it]"
          ]
        },
        {
          "name": "stdout",
          "output_type": "stream",
          "text": [
            "Epoch [1/5], Batch [31/1498], Batch Loss: 0.0647\n"
          ]
        },
        {
          "name": "stderr",
          "output_type": "stream",
          "text": [
            "32it [16:53, 31.93s/it]"
          ]
        },
        {
          "name": "stdout",
          "output_type": "stream",
          "text": [
            "Epoch [1/5], Batch [32/1498], Batch Loss: 0.1488\n"
          ]
        },
        {
          "name": "stderr",
          "output_type": "stream",
          "text": [
            "33it [17:25, 31.99s/it]"
          ]
        },
        {
          "name": "stdout",
          "output_type": "stream",
          "text": [
            "Epoch [1/5], Batch [33/1498], Batch Loss: 0.1652\n"
          ]
        },
        {
          "name": "stderr",
          "output_type": "stream",
          "text": [
            "34it [17:56, 31.50s/it]"
          ]
        },
        {
          "name": "stdout",
          "output_type": "stream",
          "text": [
            "Epoch [1/5], Batch [34/1498], Batch Loss: 0.1080\n"
          ]
        },
        {
          "name": "stderr",
          "output_type": "stream",
          "text": [
            "35it [18:26, 31.05s/it]"
          ]
        },
        {
          "name": "stdout",
          "output_type": "stream",
          "text": [
            "Epoch [1/5], Batch [35/1498], Batch Loss: 0.0528\n"
          ]
        },
        {
          "name": "stderr",
          "output_type": "stream",
          "text": [
            "36it [18:56, 30.91s/it]"
          ]
        },
        {
          "name": "stdout",
          "output_type": "stream",
          "text": [
            "Epoch [1/5], Batch [36/1498], Batch Loss: 0.0632\n"
          ]
        },
        {
          "name": "stderr",
          "output_type": "stream",
          "text": [
            "37it [19:28, 31.13s/it]"
          ]
        },
        {
          "name": "stdout",
          "output_type": "stream",
          "text": [
            "Epoch [1/5], Batch [37/1498], Batch Loss: 0.0966\n"
          ]
        },
        {
          "name": "stderr",
          "output_type": "stream",
          "text": [
            "38it [19:57, 30.49s/it]"
          ]
        },
        {
          "name": "stdout",
          "output_type": "stream",
          "text": [
            "Epoch [1/5], Batch [38/1498], Batch Loss: 0.0492\n"
          ]
        },
        {
          "name": "stderr",
          "output_type": "stream",
          "text": [
            "39it [20:26, 30.12s/it]"
          ]
        },
        {
          "name": "stdout",
          "output_type": "stream",
          "text": [
            "Epoch [1/5], Batch [39/1498], Batch Loss: 0.1255\n"
          ]
        },
        {
          "name": "stderr",
          "output_type": "stream",
          "text": [
            "40it [20:56, 29.95s/it]"
          ]
        },
        {
          "name": "stdout",
          "output_type": "stream",
          "text": [
            "Epoch [1/5], Batch [40/1498], Batch Loss: 0.0826\n"
          ]
        },
        {
          "name": "stderr",
          "output_type": "stream",
          "text": [
            "41it [21:25, 29.75s/it]"
          ]
        },
        {
          "name": "stdout",
          "output_type": "stream",
          "text": [
            "Epoch [1/5], Batch [41/1498], Batch Loss: 0.0777\n"
          ]
        },
        {
          "name": "stderr",
          "output_type": "stream",
          "text": [
            "42it [21:54, 29.64s/it]"
          ]
        },
        {
          "name": "stdout",
          "output_type": "stream",
          "text": [
            "Epoch [1/5], Batch [42/1498], Batch Loss: 0.0715\n"
          ]
        },
        {
          "name": "stderr",
          "output_type": "stream",
          "text": [
            "43it [22:24, 29.59s/it]"
          ]
        },
        {
          "name": "stdout",
          "output_type": "stream",
          "text": [
            "Epoch [1/5], Batch [43/1498], Batch Loss: 0.0960\n"
          ]
        },
        {
          "name": "stderr",
          "output_type": "stream",
          "text": [
            "44it [22:53, 29.52s/it]"
          ]
        },
        {
          "name": "stdout",
          "output_type": "stream",
          "text": [
            "Epoch [1/5], Batch [44/1498], Batch Loss: 0.0627\n"
          ]
        },
        {
          "name": "stderr",
          "output_type": "stream",
          "text": [
            "45it [23:22, 29.30s/it]"
          ]
        },
        {
          "name": "stdout",
          "output_type": "stream",
          "text": [
            "Epoch [1/5], Batch [45/1498], Batch Loss: 0.1113\n"
          ]
        },
        {
          "name": "stderr",
          "output_type": "stream",
          "text": [
            "46it [23:51, 29.08s/it]"
          ]
        },
        {
          "name": "stdout",
          "output_type": "stream",
          "text": [
            "Epoch [1/5], Batch [46/1498], Batch Loss: 0.0880\n"
          ]
        },
        {
          "name": "stderr",
          "output_type": "stream",
          "text": [
            "47it [24:20, 29.08s/it]"
          ]
        },
        {
          "name": "stdout",
          "output_type": "stream",
          "text": [
            "Epoch [1/5], Batch [47/1498], Batch Loss: 0.0863\n"
          ]
        },
        {
          "name": "stderr",
          "output_type": "stream",
          "text": [
            "48it [24:49, 29.31s/it]"
          ]
        },
        {
          "name": "stdout",
          "output_type": "stream",
          "text": [
            "Epoch [1/5], Batch [48/1498], Batch Loss: 0.0482\n"
          ]
        },
        {
          "name": "stderr",
          "output_type": "stream",
          "text": [
            "49it [25:19, 29.49s/it]"
          ]
        },
        {
          "name": "stdout",
          "output_type": "stream",
          "text": [
            "Epoch [1/5], Batch [49/1498], Batch Loss: 0.0651\n"
          ]
        },
        {
          "name": "stderr",
          "output_type": "stream",
          "text": [
            "50it [25:49, 29.59s/it]"
          ]
        },
        {
          "name": "stdout",
          "output_type": "stream",
          "text": [
            "Epoch [1/5], Batch [50/1498], Batch Loss: 0.1251\n"
          ]
        },
        {
          "name": "stderr",
          "output_type": "stream",
          "text": [
            "51it [26:19, 29.65s/it]"
          ]
        },
        {
          "name": "stdout",
          "output_type": "stream",
          "text": [
            "Epoch [1/5], Batch [51/1498], Batch Loss: 0.1471\n"
          ]
        },
        {
          "name": "stderr",
          "output_type": "stream",
          "text": [
            "52it [26:49, 29.70s/it]"
          ]
        },
        {
          "name": "stdout",
          "output_type": "stream",
          "text": [
            "Epoch [1/5], Batch [52/1498], Batch Loss: 0.1049\n"
          ]
        },
        {
          "name": "stderr",
          "output_type": "stream",
          "text": [
            "53it [27:19, 29.76s/it]"
          ]
        },
        {
          "name": "stdout",
          "output_type": "stream",
          "text": [
            "Epoch [1/5], Batch [53/1498], Batch Loss: 0.0886\n"
          ]
        },
        {
          "name": "stderr",
          "output_type": "stream",
          "text": [
            "54it [27:48, 29.68s/it]"
          ]
        },
        {
          "name": "stdout",
          "output_type": "stream",
          "text": [
            "Epoch [1/5], Batch [54/1498], Batch Loss: 0.0440\n"
          ]
        },
        {
          "name": "stderr",
          "output_type": "stream",
          "text": [
            "55it [28:18, 29.72s/it]"
          ]
        },
        {
          "name": "stdout",
          "output_type": "stream",
          "text": [
            "Epoch [1/5], Batch [55/1498], Batch Loss: 0.0784\n"
          ]
        },
        {
          "name": "stderr",
          "output_type": "stream",
          "text": [
            "56it [28:52, 30.98s/it]"
          ]
        },
        {
          "name": "stdout",
          "output_type": "stream",
          "text": [
            "Epoch [1/5], Batch [56/1498], Batch Loss: 0.0420\n"
          ]
        },
        {
          "name": "stderr",
          "output_type": "stream",
          "text": [
            "57it [29:40, 36.03s/it]"
          ]
        },
        {
          "name": "stdout",
          "output_type": "stream",
          "text": [
            "Epoch [1/5], Batch [57/1498], Batch Loss: 0.0913\n"
          ]
        },
        {
          "name": "stderr",
          "output_type": "stream",
          "text": [
            "58it [30:27, 39.54s/it]"
          ]
        },
        {
          "name": "stdout",
          "output_type": "stream",
          "text": [
            "Epoch [1/5], Batch [58/1498], Batch Loss: 0.1132\n"
          ]
        },
        {
          "name": "stderr",
          "output_type": "stream",
          "text": [
            "59it [31:15, 41.89s/it]"
          ]
        },
        {
          "name": "stdout",
          "output_type": "stream",
          "text": [
            "Epoch [1/5], Batch [59/1498], Batch Loss: 0.0926\n"
          ]
        },
        {
          "name": "stderr",
          "output_type": "stream",
          "text": [
            "60it [31:48, 39.27s/it]"
          ]
        },
        {
          "name": "stdout",
          "output_type": "stream",
          "text": [
            "Epoch [1/5], Batch [60/1498], Batch Loss: 0.1142\n"
          ]
        },
        {
          "name": "stderr",
          "output_type": "stream",
          "text": [
            "61it [32:17, 36.10s/it]"
          ]
        },
        {
          "name": "stdout",
          "output_type": "stream",
          "text": [
            "Epoch [1/5], Batch [61/1498], Batch Loss: 0.0802\n"
          ]
        },
        {
          "name": "stderr",
          "output_type": "stream",
          "text": [
            "62it [32:44, 31.68s/it]"
          ]
        },
        {
          "name": "stdout",
          "output_type": "stream",
          "text": [
            "Epoch [1/5], Batch [62/1498], Batch Loss: 0.0667\n"
          ]
        },
        {
          "name": "stderr",
          "output_type": "stream",
          "text": [
            "\n",
            "1it [00:27, 27.12s/it]"
          ]
        },
        {
          "name": "stdout",
          "output_type": "stream",
          "text": [
            "Epoch [2/5], Batch [1/1498], Batch Loss: 0.1028\n"
          ]
        },
        {
          "name": "stderr",
          "output_type": "stream",
          "text": [
            "2it [00:58, 29.36s/it]"
          ]
        },
        {
          "name": "stdout",
          "output_type": "stream",
          "text": [
            "Epoch [2/5], Batch [2/1498], Batch Loss: 0.0985\n"
          ]
        },
        {
          "name": "stderr",
          "output_type": "stream",
          "text": [
            "3it [01:31, 31.22s/it]"
          ]
        },
        {
          "name": "stdout",
          "output_type": "stream",
          "text": [
            "Epoch [2/5], Batch [3/1498], Batch Loss: 0.0897\n"
          ]
        },
        {
          "name": "stderr",
          "output_type": "stream",
          "text": [
            "4it [02:04, 32.03s/it]"
          ]
        },
        {
          "name": "stdout",
          "output_type": "stream",
          "text": [
            "Epoch [2/5], Batch [4/1498], Batch Loss: 0.0788\n"
          ]
        },
        {
          "name": "stderr",
          "output_type": "stream",
          "text": [
            "5it [02:35, 31.51s/it]"
          ]
        },
        {
          "name": "stdout",
          "output_type": "stream",
          "text": [
            "Epoch [2/5], Batch [5/1498], Batch Loss: 0.0639\n"
          ]
        },
        {
          "name": "stderr",
          "output_type": "stream",
          "text": [
            "6it [03:06, 31.34s/it]"
          ]
        },
        {
          "name": "stdout",
          "output_type": "stream",
          "text": [
            "Epoch [2/5], Batch [6/1498], Batch Loss: 0.0767\n"
          ]
        },
        {
          "name": "stderr",
          "output_type": "stream",
          "text": [
            "7it [03:39, 31.86s/it]"
          ]
        },
        {
          "name": "stdout",
          "output_type": "stream",
          "text": [
            "Epoch [2/5], Batch [7/1498], Batch Loss: 0.0844\n"
          ]
        },
        {
          "name": "stderr",
          "output_type": "stream",
          "text": [
            "8it [04:11, 32.10s/it]"
          ]
        },
        {
          "name": "stdout",
          "output_type": "stream",
          "text": [
            "Epoch [2/5], Batch [8/1498], Batch Loss: 0.1010\n"
          ]
        },
        {
          "name": "stderr",
          "output_type": "stream",
          "text": [
            "9it [04:42, 31.69s/it]"
          ]
        },
        {
          "name": "stdout",
          "output_type": "stream",
          "text": [
            "Epoch [2/5], Batch [9/1498], Batch Loss: 0.1144\n"
          ]
        },
        {
          "name": "stderr",
          "output_type": "stream",
          "text": [
            "10it [05:13, 31.35s/it]"
          ]
        },
        {
          "name": "stdout",
          "output_type": "stream",
          "text": [
            "Epoch [2/5], Batch [10/1498], Batch Loss: 0.0720\n"
          ]
        },
        {
          "name": "stderr",
          "output_type": "stream",
          "text": [
            "11it [05:45, 31.69s/it]"
          ]
        },
        {
          "name": "stdout",
          "output_type": "stream",
          "text": [
            "Epoch [2/5], Batch [11/1498], Batch Loss: 0.0721\n"
          ]
        },
        {
          "name": "stderr",
          "output_type": "stream",
          "text": [
            "12it [06:18, 32.16s/it]"
          ]
        },
        {
          "name": "stdout",
          "output_type": "stream",
          "text": [
            "Epoch [2/5], Batch [12/1498], Batch Loss: 0.1064\n"
          ]
        },
        {
          "name": "stderr",
          "output_type": "stream",
          "text": [
            "13it [06:51, 32.38s/it]"
          ]
        },
        {
          "name": "stdout",
          "output_type": "stream",
          "text": [
            "Epoch [2/5], Batch [13/1498], Batch Loss: 0.1264\n"
          ]
        },
        {
          "name": "stderr",
          "output_type": "stream",
          "text": [
            "14it [07:22, 31.90s/it]"
          ]
        },
        {
          "name": "stdout",
          "output_type": "stream",
          "text": [
            "Epoch [2/5], Batch [14/1498], Batch Loss: 0.0658\n"
          ]
        },
        {
          "name": "stderr",
          "output_type": "stream",
          "text": [
            "15it [07:55, 32.10s/it]"
          ]
        },
        {
          "name": "stdout",
          "output_type": "stream",
          "text": [
            "Epoch [2/5], Batch [15/1498], Batch Loss: 0.0898\n"
          ]
        },
        {
          "name": "stderr",
          "output_type": "stream",
          "text": [
            "16it [08:26, 31.72s/it]"
          ]
        },
        {
          "name": "stdout",
          "output_type": "stream",
          "text": [
            "Epoch [2/5], Batch [16/1498], Batch Loss: 0.0741\n"
          ]
        },
        {
          "name": "stderr",
          "output_type": "stream",
          "text": [
            "17it [08:58, 31.80s/it]"
          ]
        },
        {
          "name": "stdout",
          "output_type": "stream",
          "text": [
            "Epoch [2/5], Batch [17/1498], Batch Loss: 0.1216\n"
          ]
        },
        {
          "name": "stderr",
          "output_type": "stream",
          "text": [
            "18it [09:31, 32.18s/it]"
          ]
        },
        {
          "name": "stdout",
          "output_type": "stream",
          "text": [
            "Epoch [2/5], Batch [18/1498], Batch Loss: 0.1106\n"
          ]
        },
        {
          "name": "stderr",
          "output_type": "stream",
          "text": [
            "19it [10:02, 32.04s/it]"
          ]
        },
        {
          "name": "stdout",
          "output_type": "stream",
          "text": [
            "Epoch [2/5], Batch [19/1498], Batch Loss: 0.1033\n"
          ]
        },
        {
          "name": "stderr",
          "output_type": "stream",
          "text": [
            "20it [10:33, 31.49s/it]"
          ]
        },
        {
          "name": "stdout",
          "output_type": "stream",
          "text": [
            "Epoch [2/5], Batch [20/1498], Batch Loss: 0.1278\n"
          ]
        },
        {
          "name": "stderr",
          "output_type": "stream",
          "text": [
            "21it [11:05, 31.78s/it]"
          ]
        },
        {
          "name": "stdout",
          "output_type": "stream",
          "text": [
            "Epoch [2/5], Batch [21/1498], Batch Loss: 0.1168\n"
          ]
        },
        {
          "name": "stderr",
          "output_type": "stream",
          "text": [
            "22it [11:36, 31.59s/it]"
          ]
        },
        {
          "name": "stdout",
          "output_type": "stream",
          "text": [
            "Epoch [2/5], Batch [22/1498], Batch Loss: 0.1037\n"
          ]
        },
        {
          "name": "stderr",
          "output_type": "stream",
          "text": [
            "23it [12:08, 31.73s/it]"
          ]
        },
        {
          "name": "stdout",
          "output_type": "stream",
          "text": [
            "Epoch [2/5], Batch [23/1498], Batch Loss: 0.0623\n"
          ]
        },
        {
          "name": "stderr",
          "output_type": "stream",
          "text": [
            "24it [12:41, 32.02s/it]"
          ]
        },
        {
          "name": "stdout",
          "output_type": "stream",
          "text": [
            "Epoch [2/5], Batch [24/1498], Batch Loss: 0.0701\n"
          ]
        },
        {
          "name": "stderr",
          "output_type": "stream",
          "text": [
            "25it [13:12, 31.60s/it]"
          ]
        },
        {
          "name": "stdout",
          "output_type": "stream",
          "text": [
            "Epoch [2/5], Batch [25/1498], Batch Loss: 0.1507\n"
          ]
        },
        {
          "name": "stderr",
          "output_type": "stream",
          "text": [
            "26it [13:42, 31.34s/it]"
          ]
        },
        {
          "name": "stdout",
          "output_type": "stream",
          "text": [
            "Epoch [2/5], Batch [26/1498], Batch Loss: 0.0782\n"
          ]
        },
        {
          "name": "stderr",
          "output_type": "stream",
          "text": [
            "27it [14:15, 31.71s/it]"
          ]
        },
        {
          "name": "stdout",
          "output_type": "stream",
          "text": [
            "Epoch [2/5], Batch [27/1498], Batch Loss: 0.0742\n"
          ]
        },
        {
          "name": "stderr",
          "output_type": "stream",
          "text": [
            "28it [14:48, 32.12s/it]"
          ]
        },
        {
          "name": "stdout",
          "output_type": "stream",
          "text": [
            "Epoch [2/5], Batch [28/1498], Batch Loss: 0.1148\n"
          ]
        },
        {
          "name": "stderr",
          "output_type": "stream",
          "text": [
            "29it [15:20, 32.26s/it]"
          ]
        },
        {
          "name": "stdout",
          "output_type": "stream",
          "text": [
            "Epoch [2/5], Batch [29/1498], Batch Loss: 0.0627\n"
          ]
        },
        {
          "name": "stderr",
          "output_type": "stream",
          "text": [
            "30it [15:52, 31.97s/it]"
          ]
        },
        {
          "name": "stdout",
          "output_type": "stream",
          "text": [
            "Epoch [2/5], Batch [30/1498], Batch Loss: 0.0807\n"
          ]
        },
        {
          "name": "stderr",
          "output_type": "stream",
          "text": [
            "31it [16:22, 31.57s/it]"
          ]
        },
        {
          "name": "stdout",
          "output_type": "stream",
          "text": [
            "Epoch [2/5], Batch [31/1498], Batch Loss: 0.0983\n"
          ]
        },
        {
          "name": "stderr",
          "output_type": "stream",
          "text": [
            "32it [16:55, 31.82s/it]"
          ]
        },
        {
          "name": "stdout",
          "output_type": "stream",
          "text": [
            "Epoch [2/5], Batch [32/1498], Batch Loss: 0.1148\n"
          ]
        },
        {
          "name": "stderr",
          "output_type": "stream",
          "text": [
            "33it [17:28, 32.23s/it]"
          ]
        },
        {
          "name": "stdout",
          "output_type": "stream",
          "text": [
            "Epoch [2/5], Batch [33/1498], Batch Loss: 0.1648\n"
          ]
        },
        {
          "name": "stderr",
          "output_type": "stream",
          "text": [
            "34it [18:01, 32.40s/it]"
          ]
        },
        {
          "name": "stdout",
          "output_type": "stream",
          "text": [
            "Epoch [2/5], Batch [34/1498], Batch Loss: 0.0997\n"
          ]
        },
        {
          "name": "stderr",
          "output_type": "stream",
          "text": [
            "35it [18:32, 32.12s/it]"
          ]
        },
        {
          "name": "stdout",
          "output_type": "stream",
          "text": [
            "Epoch [2/5], Batch [35/1498], Batch Loss: 0.0556\n"
          ]
        },
        {
          "name": "stderr",
          "output_type": "stream",
          "text": [
            "36it [19:03, 31.65s/it]"
          ]
        },
        {
          "name": "stdout",
          "output_type": "stream",
          "text": [
            "Epoch [2/5], Batch [36/1498], Batch Loss: 0.0672\n"
          ]
        },
        {
          "name": "stderr",
          "output_type": "stream",
          "text": [
            "37it [19:36, 31.97s/it]"
          ]
        },
        {
          "name": "stdout",
          "output_type": "stream",
          "text": [
            "Epoch [2/5], Batch [37/1498], Batch Loss: 0.0682\n"
          ]
        },
        {
          "name": "stderr",
          "output_type": "stream",
          "text": [
            "38it [20:08, 32.16s/it]"
          ]
        },
        {
          "name": "stdout",
          "output_type": "stream",
          "text": [
            "Epoch [2/5], Batch [38/1498], Batch Loss: 0.1274\n"
          ]
        },
        {
          "name": "stderr",
          "output_type": "stream",
          "text": [
            "39it [20:39, 31.91s/it]"
          ]
        },
        {
          "name": "stdout",
          "output_type": "stream",
          "text": [
            "Epoch [2/5], Batch [39/1498], Batch Loss: 0.0727\n"
          ]
        },
        {
          "name": "stderr",
          "output_type": "stream",
          "text": [
            "40it [21:10, 31.53s/it]"
          ]
        },
        {
          "name": "stdout",
          "output_type": "stream",
          "text": [
            "Epoch [2/5], Batch [40/1498], Batch Loss: 0.1002\n"
          ]
        },
        {
          "name": "stderr",
          "output_type": "stream",
          "text": [
            "41it [21:42, 31.69s/it]"
          ]
        },
        {
          "name": "stdout",
          "output_type": "stream",
          "text": [
            "Epoch [2/5], Batch [41/1498], Batch Loss: 0.2113\n"
          ]
        },
        {
          "name": "stderr",
          "output_type": "stream",
          "text": [
            "42it [22:15, 31.98s/it]"
          ]
        },
        {
          "name": "stdout",
          "output_type": "stream",
          "text": [
            "Epoch [2/5], Batch [42/1498], Batch Loss: 0.0637\n"
          ]
        },
        {
          "name": "stderr",
          "output_type": "stream",
          "text": [
            "43it [22:46, 31.82s/it]"
          ]
        },
        {
          "name": "stdout",
          "output_type": "stream",
          "text": [
            "Epoch [2/5], Batch [43/1498], Batch Loss: 0.0944\n"
          ]
        },
        {
          "name": "stderr",
          "output_type": "stream",
          "text": [
            "44it [23:17, 31.38s/it]"
          ]
        },
        {
          "name": "stdout",
          "output_type": "stream",
          "text": [
            "Epoch [2/5], Batch [44/1498], Batch Loss: 0.1283\n"
          ]
        },
        {
          "name": "stderr",
          "output_type": "stream",
          "text": [
            "45it [23:49, 31.76s/it]"
          ]
        },
        {
          "name": "stdout",
          "output_type": "stream",
          "text": [
            "Epoch [2/5], Batch [45/1498], Batch Loss: 0.1066\n"
          ]
        },
        {
          "name": "stderr",
          "output_type": "stream",
          "text": [
            "46it [24:22, 32.02s/it]"
          ]
        },
        {
          "name": "stdout",
          "output_type": "stream",
          "text": [
            "Epoch [2/5], Batch [46/1498], Batch Loss: 0.0898\n"
          ]
        },
        {
          "name": "stderr",
          "output_type": "stream",
          "text": [
            "47it [24:55, 32.35s/it]"
          ]
        },
        {
          "name": "stdout",
          "output_type": "stream",
          "text": [
            "Epoch [2/5], Batch [47/1498], Batch Loss: 0.1133\n"
          ]
        },
        {
          "name": "stderr",
          "output_type": "stream",
          "text": [
            "48it [25:27, 32.27s/it]"
          ]
        },
        {
          "name": "stdout",
          "output_type": "stream",
          "text": [
            "Epoch [2/5], Batch [48/1498], Batch Loss: 0.0961\n"
          ]
        },
        {
          "name": "stderr",
          "output_type": "stream",
          "text": [
            "49it [25:58, 31.80s/it]"
          ]
        },
        {
          "name": "stdout",
          "output_type": "stream",
          "text": [
            "Epoch [2/5], Batch [49/1498], Batch Loss: 0.0792\n"
          ]
        },
        {
          "name": "stderr",
          "output_type": "stream",
          "text": [
            "50it [26:29, 31.58s/it]"
          ]
        },
        {
          "name": "stdout",
          "output_type": "stream",
          "text": [
            "Epoch [2/5], Batch [50/1498], Batch Loss: 0.0732\n"
          ]
        },
        {
          "name": "stderr",
          "output_type": "stream",
          "text": [
            "51it [27:02, 32.11s/it]"
          ]
        },
        {
          "name": "stdout",
          "output_type": "stream",
          "text": [
            "Epoch [2/5], Batch [51/1498], Batch Loss: 0.0790\n"
          ]
        },
        {
          "name": "stderr",
          "output_type": "stream",
          "text": [
            "52it [27:34, 32.14s/it]"
          ]
        },
        {
          "name": "stdout",
          "output_type": "stream",
          "text": [
            "Epoch [2/5], Batch [52/1498], Batch Loss: 0.1197\n"
          ]
        },
        {
          "name": "stderr",
          "output_type": "stream",
          "text": [
            "53it [28:06, 31.96s/it]"
          ]
        },
        {
          "name": "stdout",
          "output_type": "stream",
          "text": [
            "Epoch [2/5], Batch [53/1498], Batch Loss: 0.1095\n"
          ]
        },
        {
          "name": "stderr",
          "output_type": "stream",
          "text": [
            "54it [28:37, 31.56s/it]"
          ]
        },
        {
          "name": "stdout",
          "output_type": "stream",
          "text": [
            "Epoch [2/5], Batch [54/1498], Batch Loss: 0.0990\n"
          ]
        },
        {
          "name": "stderr",
          "output_type": "stream",
          "text": [
            "55it [29:09, 31.93s/it]"
          ]
        },
        {
          "name": "stdout",
          "output_type": "stream",
          "text": [
            "Epoch [2/5], Batch [55/1498], Batch Loss: 0.0590\n"
          ]
        },
        {
          "name": "stderr",
          "output_type": "stream",
          "text": [
            "56it [29:43, 32.42s/it]"
          ]
        },
        {
          "name": "stdout",
          "output_type": "stream",
          "text": [
            "Epoch [2/5], Batch [56/1498], Batch Loss: 0.0980\n"
          ]
        },
        {
          "name": "stderr",
          "output_type": "stream",
          "text": [
            "57it [30:14, 31.92s/it]"
          ]
        },
        {
          "name": "stdout",
          "output_type": "stream",
          "text": [
            "Epoch [2/5], Batch [57/1498], Batch Loss: 0.0412\n"
          ]
        },
        {
          "name": "stderr",
          "output_type": "stream",
          "text": [
            "58it [30:44, 31.56s/it]"
          ]
        },
        {
          "name": "stdout",
          "output_type": "stream",
          "text": [
            "Epoch [2/5], Batch [58/1498], Batch Loss: 0.0546\n"
          ]
        },
        {
          "name": "stderr",
          "output_type": "stream",
          "text": [
            "59it [31:17, 31.80s/it]"
          ]
        },
        {
          "name": "stdout",
          "output_type": "stream",
          "text": [
            "Epoch [2/5], Batch [59/1498], Batch Loss: 0.1122\n"
          ]
        },
        {
          "name": "stderr",
          "output_type": "stream",
          "text": [
            "60it [31:50, 32.15s/it]"
          ]
        },
        {
          "name": "stdout",
          "output_type": "stream",
          "text": [
            "Epoch [2/5], Batch [60/1498], Batch Loss: 0.0633\n"
          ]
        },
        {
          "name": "stderr",
          "output_type": "stream",
          "text": [
            "61it [32:22, 32.28s/it]"
          ]
        },
        {
          "name": "stdout",
          "output_type": "stream",
          "text": [
            "Epoch [2/5], Batch [61/1498], Batch Loss: 0.0841\n"
          ]
        },
        {
          "name": "stderr",
          "output_type": "stream",
          "text": [
            "62it [32:54, 31.84s/it]"
          ]
        },
        {
          "name": "stdout",
          "output_type": "stream",
          "text": [
            "Epoch [2/5], Batch [62/1498], Batch Loss: 0.0829\n"
          ]
        },
        {
          "name": "stderr",
          "output_type": "stream",
          "text": [
            "\n",
            "1it [00:30, 30.47s/it]"
          ]
        },
        {
          "name": "stdout",
          "output_type": "stream",
          "text": [
            "Epoch [3/5], Batch [1/1498], Batch Loss: 0.0652\n"
          ]
        },
        {
          "name": "stderr",
          "output_type": "stream",
          "text": [
            "2it [01:03, 31.77s/it]"
          ]
        },
        {
          "name": "stdout",
          "output_type": "stream",
          "text": [
            "Epoch [3/5], Batch [2/1498], Batch Loss: 0.1342\n"
          ]
        },
        {
          "name": "stderr",
          "output_type": "stream",
          "text": [
            "3it [01:36, 32.62s/it]"
          ]
        },
        {
          "name": "stdout",
          "output_type": "stream",
          "text": [
            "Epoch [3/5], Batch [3/1498], Batch Loss: 0.0882\n"
          ]
        },
        {
          "name": "stderr",
          "output_type": "stream",
          "text": [
            "4it [02:07, 32.05s/it]"
          ]
        },
        {
          "name": "stdout",
          "output_type": "stream",
          "text": [
            "Epoch [3/5], Batch [4/1498], Batch Loss: 0.0901\n"
          ]
        },
        {
          "name": "stderr",
          "output_type": "stream",
          "text": [
            "5it [02:38, 31.49s/it]"
          ]
        },
        {
          "name": "stdout",
          "output_type": "stream",
          "text": [
            "Epoch [3/5], Batch [5/1498], Batch Loss: 0.0786\n"
          ]
        },
        {
          "name": "stderr",
          "output_type": "stream",
          "text": [
            "6it [03:10, 31.75s/it]"
          ]
        },
        {
          "name": "stdout",
          "output_type": "stream",
          "text": [
            "Epoch [3/5], Batch [6/1498], Batch Loss: 0.0713\n"
          ]
        },
        {
          "name": "stderr",
          "output_type": "stream",
          "text": [
            "7it [03:44, 32.30s/it]"
          ]
        },
        {
          "name": "stdout",
          "output_type": "stream",
          "text": [
            "Epoch [3/5], Batch [7/1498], Batch Loss: 0.1156\n"
          ]
        },
        {
          "name": "stderr",
          "output_type": "stream",
          "text": [
            "8it [04:16, 32.43s/it]"
          ]
        },
        {
          "name": "stdout",
          "output_type": "stream",
          "text": [
            "Epoch [3/5], Batch [8/1498], Batch Loss: 0.1022\n"
          ]
        },
        {
          "name": "stderr",
          "output_type": "stream",
          "text": [
            "9it [04:48, 32.15s/it]"
          ]
        },
        {
          "name": "stdout",
          "output_type": "stream",
          "text": [
            "Epoch [3/5], Batch [9/1498], Batch Loss: 0.1396\n"
          ]
        },
        {
          "name": "stderr",
          "output_type": "stream",
          "text": [
            "10it [05:18, 31.51s/it]"
          ]
        },
        {
          "name": "stdout",
          "output_type": "stream",
          "text": [
            "Epoch [3/5], Batch [10/1498], Batch Loss: 0.0599\n"
          ]
        },
        {
          "name": "stderr",
          "output_type": "stream",
          "text": [
            "11it [05:50, 31.81s/it]"
          ]
        },
        {
          "name": "stdout",
          "output_type": "stream",
          "text": [
            "Epoch [3/5], Batch [11/1498], Batch Loss: 0.0507\n"
          ]
        },
        {
          "name": "stderr",
          "output_type": "stream",
          "text": [
            "12it [06:24, 32.21s/it]"
          ]
        },
        {
          "name": "stdout",
          "output_type": "stream",
          "text": [
            "Epoch [3/5], Batch [12/1498], Batch Loss: 0.1202\n"
          ]
        },
        {
          "name": "stderr",
          "output_type": "stream",
          "text": [
            "13it [06:56, 32.38s/it]"
          ]
        },
        {
          "name": "stdout",
          "output_type": "stream",
          "text": [
            "Epoch [3/5], Batch [13/1498], Batch Loss: 0.1252\n"
          ]
        },
        {
          "name": "stderr",
          "output_type": "stream",
          "text": [
            "14it [07:28, 32.21s/it]"
          ]
        },
        {
          "name": "stdout",
          "output_type": "stream",
          "text": [
            "Epoch [3/5], Batch [14/1498], Batch Loss: 0.0796\n"
          ]
        },
        {
          "name": "stderr",
          "output_type": "stream",
          "text": [
            "15it [07:59, 31.79s/it]"
          ]
        },
        {
          "name": "stdout",
          "output_type": "stream",
          "text": [
            "Epoch [3/5], Batch [15/1498], Batch Loss: 0.0731\n"
          ]
        },
        {
          "name": "stderr",
          "output_type": "stream",
          "text": [
            "16it [08:31, 31.88s/it]"
          ]
        },
        {
          "name": "stdout",
          "output_type": "stream",
          "text": [
            "Epoch [3/5], Batch [16/1498], Batch Loss: 0.0917\n"
          ]
        },
        {
          "name": "stderr",
          "output_type": "stream",
          "text": [
            "17it [09:04, 32.18s/it]"
          ]
        },
        {
          "name": "stdout",
          "output_type": "stream",
          "text": [
            "Epoch [3/5], Batch [17/1498], Batch Loss: 0.0717\n"
          ]
        },
        {
          "name": "stderr",
          "output_type": "stream",
          "text": [
            "18it [09:36, 32.04s/it]"
          ]
        },
        {
          "name": "stdout",
          "output_type": "stream",
          "text": [
            "Epoch [3/5], Batch [18/1498], Batch Loss: 0.0901\n"
          ]
        },
        {
          "name": "stderr",
          "output_type": "stream",
          "text": [
            "19it [10:08, 32.00s/it]"
          ]
        },
        {
          "name": "stdout",
          "output_type": "stream",
          "text": [
            "Epoch [3/5], Batch [19/1498], Batch Loss: 0.0652\n"
          ]
        },
        {
          "name": "stderr",
          "output_type": "stream",
          "text": [
            "20it [10:38, 31.53s/it]"
          ]
        },
        {
          "name": "stdout",
          "output_type": "stream",
          "text": [
            "Epoch [3/5], Batch [20/1498], Batch Loss: 0.1004\n"
          ]
        },
        {
          "name": "stderr",
          "output_type": "stream",
          "text": [
            "21it [11:11, 32.00s/it]"
          ]
        },
        {
          "name": "stdout",
          "output_type": "stream",
          "text": [
            "Epoch [3/5], Batch [21/1498], Batch Loss: 0.1008\n"
          ]
        },
        {
          "name": "stderr",
          "output_type": "stream",
          "text": [
            "22it [11:43, 31.98s/it]"
          ]
        },
        {
          "name": "stdout",
          "output_type": "stream",
          "text": [
            "Epoch [3/5], Batch [22/1498], Batch Loss: 0.1848\n"
          ]
        },
        {
          "name": "stderr",
          "output_type": "stream",
          "text": [
            "23it [12:16, 32.28s/it]"
          ]
        },
        {
          "name": "stdout",
          "output_type": "stream",
          "text": [
            "Epoch [3/5], Batch [23/1498], Batch Loss: 0.0829\n"
          ]
        },
        {
          "name": "stderr",
          "output_type": "stream",
          "text": [
            "24it [12:48, 32.22s/it]"
          ]
        },
        {
          "name": "stdout",
          "output_type": "stream",
          "text": [
            "Epoch [3/5], Batch [24/1498], Batch Loss: 0.0718\n"
          ]
        },
        {
          "name": "stderr",
          "output_type": "stream",
          "text": [
            "25it [13:19, 31.81s/it]"
          ]
        },
        {
          "name": "stdout",
          "output_type": "stream",
          "text": [
            "Epoch [3/5], Batch [25/1498], Batch Loss: 0.1064\n"
          ]
        },
        {
          "name": "stderr",
          "output_type": "stream",
          "text": [
            "26it [13:50, 31.68s/it]"
          ]
        },
        {
          "name": "stdout",
          "output_type": "stream",
          "text": [
            "Epoch [3/5], Batch [26/1498], Batch Loss: 0.0977\n"
          ]
        },
        {
          "name": "stderr",
          "output_type": "stream",
          "text": [
            "27it [14:20, 31.11s/it]"
          ]
        },
        {
          "name": "stdout",
          "output_type": "stream",
          "text": [
            "Epoch [3/5], Batch [27/1498], Batch Loss: 0.0794\n"
          ]
        },
        {
          "name": "stderr",
          "output_type": "stream",
          "text": [
            "28it [14:45, 29.13s/it]"
          ]
        },
        {
          "name": "stdout",
          "output_type": "stream",
          "text": [
            "Epoch [3/5], Batch [28/1498], Batch Loss: 0.0821\n"
          ]
        },
        {
          "name": "stderr",
          "output_type": "stream",
          "text": [
            "29it [15:10, 28.05s/it]"
          ]
        },
        {
          "name": "stdout",
          "output_type": "stream",
          "text": [
            "Epoch [3/5], Batch [29/1498], Batch Loss: 0.0852\n"
          ]
        },
        {
          "name": "stderr",
          "output_type": "stream",
          "text": [
            "30it [15:37, 27.57s/it]"
          ]
        },
        {
          "name": "stdout",
          "output_type": "stream",
          "text": [
            "Epoch [3/5], Batch [30/1498], Batch Loss: 0.0499\n"
          ]
        },
        {
          "name": "stderr",
          "output_type": "stream",
          "text": [
            "31it [16:03, 27.16s/it]"
          ]
        },
        {
          "name": "stdout",
          "output_type": "stream",
          "text": [
            "Epoch [3/5], Batch [31/1498], Batch Loss: 0.1050\n"
          ]
        },
        {
          "name": "stderr",
          "output_type": "stream",
          "text": [
            "32it [16:28, 26.67s/it]"
          ]
        },
        {
          "name": "stdout",
          "output_type": "stream",
          "text": [
            "Epoch [3/5], Batch [32/1498], Batch Loss: 0.0928\n"
          ]
        },
        {
          "name": "stderr",
          "output_type": "stream",
          "text": [
            "33it [16:53, 26.18s/it]"
          ]
        },
        {
          "name": "stdout",
          "output_type": "stream",
          "text": [
            "Epoch [3/5], Batch [33/1498], Batch Loss: 0.0807\n"
          ]
        },
        {
          "name": "stderr",
          "output_type": "stream",
          "text": [
            "34it [17:19, 26.00s/it]"
          ]
        },
        {
          "name": "stdout",
          "output_type": "stream",
          "text": [
            "Epoch [3/5], Batch [34/1498], Batch Loss: 0.1013\n"
          ]
        },
        {
          "name": "stderr",
          "output_type": "stream",
          "text": [
            "35it [17:44, 25.81s/it]"
          ]
        },
        {
          "name": "stdout",
          "output_type": "stream",
          "text": [
            "Epoch [3/5], Batch [35/1498], Batch Loss: 0.1521\n"
          ]
        },
        {
          "name": "stderr",
          "output_type": "stream",
          "text": [
            "36it [18:10, 25.66s/it]"
          ]
        },
        {
          "name": "stdout",
          "output_type": "stream",
          "text": [
            "Epoch [3/5], Batch [36/1498], Batch Loss: 0.0814\n"
          ]
        },
        {
          "name": "stderr",
          "output_type": "stream",
          "text": [
            "37it [18:36, 25.80s/it]"
          ]
        },
        {
          "name": "stdout",
          "output_type": "stream",
          "text": [
            "Epoch [3/5], Batch [37/1498], Batch Loss: 0.0757\n"
          ]
        },
        {
          "name": "stderr",
          "output_type": "stream",
          "text": [
            "38it [19:06, 27.17s/it]"
          ]
        },
        {
          "name": "stdout",
          "output_type": "stream",
          "text": [
            "Epoch [3/5], Batch [38/1498], Batch Loss: 0.0683\n"
          ]
        },
        {
          "name": "stderr",
          "output_type": "stream",
          "text": [
            "39it [19:32, 26.78s/it]"
          ]
        },
        {
          "name": "stdout",
          "output_type": "stream",
          "text": [
            "Epoch [3/5], Batch [39/1498], Batch Loss: 0.1099\n"
          ]
        },
        {
          "name": "stderr",
          "output_type": "stream",
          "text": [
            "40it [20:03, 27.97s/it]"
          ]
        },
        {
          "name": "stdout",
          "output_type": "stream",
          "text": [
            "Epoch [3/5], Batch [40/1498], Batch Loss: 0.1358\n"
          ]
        },
        {
          "name": "stderr",
          "output_type": "stream",
          "text": [
            "41it [20:33, 28.52s/it]"
          ]
        },
        {
          "name": "stdout",
          "output_type": "stream",
          "text": [
            "Epoch [3/5], Batch [41/1498], Batch Loss: 0.0754\n"
          ]
        },
        {
          "name": "stderr",
          "output_type": "stream",
          "text": [
            "42it [21:04, 29.27s/it]"
          ]
        },
        {
          "name": "stdout",
          "output_type": "stream",
          "text": [
            "Epoch [3/5], Batch [42/1498], Batch Loss: 0.0838\n"
          ]
        },
        {
          "name": "stderr",
          "output_type": "stream",
          "text": [
            "43it [21:34, 29.58s/it]"
          ]
        },
        {
          "name": "stdout",
          "output_type": "stream",
          "text": [
            "Epoch [3/5], Batch [43/1498], Batch Loss: 0.1008\n"
          ]
        },
        {
          "name": "stderr",
          "output_type": "stream",
          "text": [
            "44it [22:04, 29.75s/it]"
          ]
        },
        {
          "name": "stdout",
          "output_type": "stream",
          "text": [
            "Epoch [3/5], Batch [44/1498], Batch Loss: 0.1107\n"
          ]
        },
        {
          "name": "stderr",
          "output_type": "stream",
          "text": [
            "45it [22:34, 29.94s/it]"
          ]
        },
        {
          "name": "stdout",
          "output_type": "stream",
          "text": [
            "Epoch [3/5], Batch [45/1498], Batch Loss: 0.1163\n"
          ]
        },
        {
          "name": "stderr",
          "output_type": "stream",
          "text": [
            "46it [23:00, 28.68s/it]"
          ]
        },
        {
          "name": "stdout",
          "output_type": "stream",
          "text": [
            "Epoch [3/5], Batch [46/1498], Batch Loss: 0.0699\n"
          ]
        },
        {
          "name": "stderr",
          "output_type": "stream",
          "text": [
            "47it [23:26, 27.96s/it]"
          ]
        },
        {
          "name": "stdout",
          "output_type": "stream",
          "text": [
            "Epoch [3/5], Batch [47/1498], Batch Loss: 0.0831\n"
          ]
        },
        {
          "name": "stderr",
          "output_type": "stream",
          "text": [
            "48it [23:51, 27.09s/it]"
          ]
        },
        {
          "name": "stdout",
          "output_type": "stream",
          "text": [
            "Epoch [3/5], Batch [48/1498], Batch Loss: 0.1295\n"
          ]
        },
        {
          "name": "stderr",
          "output_type": "stream",
          "text": [
            "49it [24:16, 26.46s/it]"
          ]
        },
        {
          "name": "stdout",
          "output_type": "stream",
          "text": [
            "Epoch [3/5], Batch [49/1498], Batch Loss: 0.1429\n"
          ]
        },
        {
          "name": "stderr",
          "output_type": "stream",
          "text": [
            "50it [24:41, 26.00s/it]"
          ]
        },
        {
          "name": "stdout",
          "output_type": "stream",
          "text": [
            "Epoch [3/5], Batch [50/1498], Batch Loss: 0.0865\n"
          ]
        },
        {
          "name": "stderr",
          "output_type": "stream",
          "text": [
            "51it [25:06, 25.70s/it]"
          ]
        },
        {
          "name": "stdout",
          "output_type": "stream",
          "text": [
            "Epoch [3/5], Batch [51/1498], Batch Loss: 0.0439\n"
          ]
        },
        {
          "name": "stderr",
          "output_type": "stream",
          "text": [
            "52it [25:32, 25.60s/it]"
          ]
        },
        {
          "name": "stdout",
          "output_type": "stream",
          "text": [
            "Epoch [3/5], Batch [52/1498], Batch Loss: 0.0360\n"
          ]
        },
        {
          "name": "stderr",
          "output_type": "stream",
          "text": [
            "53it [25:57, 25.54s/it]"
          ]
        },
        {
          "name": "stdout",
          "output_type": "stream",
          "text": [
            "Epoch [3/5], Batch [53/1498], Batch Loss: 0.0593\n"
          ]
        },
        {
          "name": "stderr",
          "output_type": "stream",
          "text": [
            "54it [26:21, 25.17s/it]"
          ]
        },
        {
          "name": "stdout",
          "output_type": "stream",
          "text": [
            "Epoch [3/5], Batch [54/1498], Batch Loss: 0.0433\n"
          ]
        },
        {
          "name": "stderr",
          "output_type": "stream",
          "text": [
            "55it [26:46, 25.14s/it]"
          ]
        },
        {
          "name": "stdout",
          "output_type": "stream",
          "text": [
            "Epoch [3/5], Batch [55/1498], Batch Loss: 0.1153\n"
          ]
        },
        {
          "name": "stderr",
          "output_type": "stream",
          "text": [
            "56it [27:12, 25.10s/it]"
          ]
        },
        {
          "name": "stdout",
          "output_type": "stream",
          "text": [
            "Epoch [3/5], Batch [56/1498], Batch Loss: 0.0730\n"
          ]
        },
        {
          "name": "stderr",
          "output_type": "stream",
          "text": [
            "57it [27:36, 25.03s/it]"
          ]
        },
        {
          "name": "stdout",
          "output_type": "stream",
          "text": [
            "Epoch [3/5], Batch [57/1498], Batch Loss: 0.0395\n"
          ]
        },
        {
          "name": "stderr",
          "output_type": "stream",
          "text": [
            "58it [28:01, 25.04s/it]"
          ]
        },
        {
          "name": "stdout",
          "output_type": "stream",
          "text": [
            "Epoch [3/5], Batch [58/1498], Batch Loss: 0.0675\n"
          ]
        },
        {
          "name": "stderr",
          "output_type": "stream",
          "text": [
            "59it [28:26, 24.82s/it]"
          ]
        },
        {
          "name": "stdout",
          "output_type": "stream",
          "text": [
            "Epoch [3/5], Batch [59/1498], Batch Loss: 0.0565\n"
          ]
        },
        {
          "name": "stderr",
          "output_type": "stream",
          "text": [
            "60it [28:51, 24.95s/it]"
          ]
        },
        {
          "name": "stdout",
          "output_type": "stream",
          "text": [
            "Epoch [3/5], Batch [60/1498], Batch Loss: 0.0799\n"
          ]
        },
        {
          "name": "stderr",
          "output_type": "stream",
          "text": [
            "61it [29:16, 25.07s/it]"
          ]
        },
        {
          "name": "stdout",
          "output_type": "stream",
          "text": [
            "Epoch [3/5], Batch [61/1498], Batch Loss: 0.1338\n"
          ]
        },
        {
          "name": "stderr",
          "output_type": "stream",
          "text": [
            "62it [29:42, 28.75s/it]"
          ]
        },
        {
          "name": "stdout",
          "output_type": "stream",
          "text": [
            "Epoch [3/5], Batch [62/1498], Batch Loss: 0.0913\n"
          ]
        },
        {
          "name": "stderr",
          "output_type": "stream",
          "text": [
            "\n",
            "1it [00:27, 27.83s/it]"
          ]
        },
        {
          "name": "stdout",
          "output_type": "stream",
          "text": [
            "Epoch [4/5], Batch [1/1498], Batch Loss: 0.0944\n"
          ]
        },
        {
          "name": "stderr",
          "output_type": "stream",
          "text": [
            "2it [00:53, 26.69s/it]"
          ]
        },
        {
          "name": "stdout",
          "output_type": "stream",
          "text": [
            "Epoch [4/5], Batch [2/1498], Batch Loss: 0.0938\n"
          ]
        },
        {
          "name": "stderr",
          "output_type": "stream",
          "text": [
            "3it [01:19, 26.29s/it]"
          ]
        },
        {
          "name": "stdout",
          "output_type": "stream",
          "text": [
            "Epoch [4/5], Batch [3/1498], Batch Loss: 0.1013\n"
          ]
        },
        {
          "name": "stderr",
          "output_type": "stream",
          "text": [
            "4it [01:48, 27.31s/it]"
          ]
        },
        {
          "name": "stdout",
          "output_type": "stream",
          "text": [
            "Epoch [4/5], Batch [4/1498], Batch Loss: 0.0989\n"
          ]
        },
        {
          "name": "stderr",
          "output_type": "stream",
          "text": [
            "5it [02:16, 27.73s/it]"
          ]
        },
        {
          "name": "stdout",
          "output_type": "stream",
          "text": [
            "Epoch [4/5], Batch [5/1498], Batch Loss: 0.0922\n"
          ]
        },
        {
          "name": "stderr",
          "output_type": "stream",
          "text": [
            "6it [02:41, 26.54s/it]"
          ]
        },
        {
          "name": "stdout",
          "output_type": "stream",
          "text": [
            "Epoch [4/5], Batch [6/1498], Batch Loss: 0.0711\n"
          ]
        },
        {
          "name": "stderr",
          "output_type": "stream",
          "text": [
            "7it [03:08, 26.89s/it]"
          ]
        },
        {
          "name": "stdout",
          "output_type": "stream",
          "text": [
            "Epoch [4/5], Batch [7/1498], Batch Loss: 0.0708\n"
          ]
        },
        {
          "name": "stderr",
          "output_type": "stream",
          "text": [
            "8it [03:41, 28.76s/it]"
          ]
        },
        {
          "name": "stdout",
          "output_type": "stream",
          "text": [
            "Epoch [4/5], Batch [8/1498], Batch Loss: 0.1307\n"
          ]
        },
        {
          "name": "stderr",
          "output_type": "stream",
          "text": [
            "9it [04:14, 30.00s/it]"
          ]
        },
        {
          "name": "stdout",
          "output_type": "stream",
          "text": [
            "Epoch [4/5], Batch [9/1498], Batch Loss: 0.0868\n"
          ]
        },
        {
          "name": "stderr",
          "output_type": "stream",
          "text": [
            "10it [04:44, 29.99s/it]"
          ]
        },
        {
          "name": "stdout",
          "output_type": "stream",
          "text": [
            "Epoch [4/5], Batch [10/1498], Batch Loss: 0.0790\n"
          ]
        },
        {
          "name": "stderr",
          "output_type": "stream",
          "text": [
            "11it [05:16, 30.84s/it]"
          ]
        },
        {
          "name": "stdout",
          "output_type": "stream",
          "text": [
            "Epoch [4/5], Batch [11/1498], Batch Loss: 0.1979\n"
          ]
        },
        {
          "name": "stderr",
          "output_type": "stream",
          "text": [
            "12it [05:49, 31.30s/it]"
          ]
        },
        {
          "name": "stdout",
          "output_type": "stream",
          "text": [
            "Epoch [4/5], Batch [12/1498], Batch Loss: 0.1224\n"
          ]
        },
        {
          "name": "stderr",
          "output_type": "stream",
          "text": [
            "13it [06:22, 31.77s/it]"
          ]
        },
        {
          "name": "stdout",
          "output_type": "stream",
          "text": [
            "Epoch [4/5], Batch [13/1498], Batch Loss: 0.0836\n"
          ]
        },
        {
          "name": "stderr",
          "output_type": "stream",
          "text": [
            "14it [06:53, 31.74s/it]"
          ]
        },
        {
          "name": "stdout",
          "output_type": "stream",
          "text": [
            "Epoch [4/5], Batch [14/1498], Batch Loss: 0.0593\n"
          ]
        },
        {
          "name": "stderr",
          "output_type": "stream",
          "text": [
            "15it [07:24, 31.55s/it]"
          ]
        },
        {
          "name": "stdout",
          "output_type": "stream",
          "text": [
            "Epoch [4/5], Batch [15/1498], Batch Loss: 0.1408\n"
          ]
        },
        {
          "name": "stderr",
          "output_type": "stream",
          "text": [
            "16it [07:58, 32.10s/it]"
          ]
        },
        {
          "name": "stdout",
          "output_type": "stream",
          "text": [
            "Epoch [4/5], Batch [16/1498], Batch Loss: 0.1581\n"
          ]
        },
        {
          "name": "stderr",
          "output_type": "stream",
          "text": [
            "17it [08:29, 31.83s/it]"
          ]
        },
        {
          "name": "stdout",
          "output_type": "stream",
          "text": [
            "Epoch [4/5], Batch [17/1498], Batch Loss: 0.0754\n"
          ]
        },
        {
          "name": "stderr",
          "output_type": "stream",
          "text": [
            "18it [09:02, 32.07s/it]"
          ]
        },
        {
          "name": "stdout",
          "output_type": "stream",
          "text": [
            "Epoch [4/5], Batch [18/1498], Batch Loss: 0.0802\n"
          ]
        },
        {
          "name": "stderr",
          "output_type": "stream",
          "text": [
            "19it [09:33, 31.97s/it]"
          ]
        },
        {
          "name": "stdout",
          "output_type": "stream",
          "text": [
            "Epoch [4/5], Batch [19/1498], Batch Loss: 0.1587\n"
          ]
        },
        {
          "name": "stderr",
          "output_type": "stream",
          "text": [
            "20it [10:07, 32.37s/it]"
          ]
        },
        {
          "name": "stdout",
          "output_type": "stream",
          "text": [
            "Epoch [4/5], Batch [20/1498], Batch Loss: 0.0815\n"
          ]
        },
        {
          "name": "stderr",
          "output_type": "stream",
          "text": [
            "21it [10:39, 32.25s/it]"
          ]
        },
        {
          "name": "stdout",
          "output_type": "stream",
          "text": [
            "Epoch [4/5], Batch [21/1498], Batch Loss: 0.0734\n"
          ]
        },
        {
          "name": "stderr",
          "output_type": "stream",
          "text": [
            "22it [11:12, 32.64s/it]"
          ]
        },
        {
          "name": "stdout",
          "output_type": "stream",
          "text": [
            "Epoch [4/5], Batch [22/1498], Batch Loss: 0.1083\n"
          ]
        },
        {
          "name": "stderr",
          "output_type": "stream",
          "text": [
            "23it [11:45, 32.58s/it]"
          ]
        },
        {
          "name": "stdout",
          "output_type": "stream",
          "text": [
            "Epoch [4/5], Batch [23/1498], Batch Loss: 0.0744\n"
          ]
        },
        {
          "name": "stderr",
          "output_type": "stream",
          "text": [
            "24it [12:17, 32.64s/it]"
          ]
        },
        {
          "name": "stdout",
          "output_type": "stream",
          "text": [
            "Epoch [4/5], Batch [24/1498], Batch Loss: 0.0812\n"
          ]
        },
        {
          "name": "stderr",
          "output_type": "stream",
          "text": [
            "25it [12:49, 32.26s/it]"
          ]
        },
        {
          "name": "stdout",
          "output_type": "stream",
          "text": [
            "Epoch [4/5], Batch [25/1498], Batch Loss: 0.0585\n"
          ]
        },
        {
          "name": "stderr",
          "output_type": "stream",
          "text": [
            "26it [13:20, 31.95s/it]"
          ]
        },
        {
          "name": "stdout",
          "output_type": "stream",
          "text": [
            "Epoch [4/5], Batch [26/1498], Batch Loss: 0.1016\n"
          ]
        },
        {
          "name": "stderr",
          "output_type": "stream",
          "text": [
            "27it [13:54, 32.51s/it]"
          ]
        },
        {
          "name": "stdout",
          "output_type": "stream",
          "text": [
            "Epoch [4/5], Batch [27/1498], Batch Loss: 0.1097\n"
          ]
        },
        {
          "name": "stderr",
          "output_type": "stream",
          "text": [
            "28it [14:26, 32.50s/it]"
          ]
        },
        {
          "name": "stdout",
          "output_type": "stream",
          "text": [
            "Epoch [4/5], Batch [28/1498], Batch Loss: 0.0624\n"
          ]
        },
        {
          "name": "stderr",
          "output_type": "stream",
          "text": [
            "29it [14:59, 32.60s/it]"
          ]
        },
        {
          "name": "stdout",
          "output_type": "stream",
          "text": [
            "Epoch [4/5], Batch [29/1498], Batch Loss: 0.2167\n"
          ]
        },
        {
          "name": "stderr",
          "output_type": "stream",
          "text": [
            "30it [15:31, 32.24s/it]"
          ]
        },
        {
          "name": "stdout",
          "output_type": "stream",
          "text": [
            "Epoch [4/5], Batch [30/1498], Batch Loss: 0.0527\n"
          ]
        },
        {
          "name": "stderr",
          "output_type": "stream",
          "text": [
            "31it [16:02, 32.01s/it]"
          ]
        },
        {
          "name": "stdout",
          "output_type": "stream",
          "text": [
            "Epoch [4/5], Batch [31/1498], Batch Loss: 0.0985\n"
          ]
        },
        {
          "name": "stderr",
          "output_type": "stream",
          "text": [
            "32it [16:34, 32.08s/it]"
          ]
        },
        {
          "name": "stdout",
          "output_type": "stream",
          "text": [
            "Epoch [4/5], Batch [32/1498], Batch Loss: 0.0482\n"
          ]
        },
        {
          "name": "stderr",
          "output_type": "stream",
          "text": [
            "33it [17:07, 32.26s/it]"
          ]
        },
        {
          "name": "stdout",
          "output_type": "stream",
          "text": [
            "Epoch [4/5], Batch [33/1498], Batch Loss: 0.0870\n"
          ]
        },
        {
          "name": "stderr",
          "output_type": "stream",
          "text": [
            "34it [17:40, 32.57s/it]"
          ]
        },
        {
          "name": "stdout",
          "output_type": "stream",
          "text": [
            "Epoch [4/5], Batch [34/1498], Batch Loss: 0.1031\n"
          ]
        },
        {
          "name": "stderr",
          "output_type": "stream",
          "text": [
            "35it [18:13, 32.49s/it]"
          ]
        },
        {
          "name": "stdout",
          "output_type": "stream",
          "text": [
            "Epoch [4/5], Batch [35/1498], Batch Loss: 0.1076\n"
          ]
        },
        {
          "name": "stderr",
          "output_type": "stream",
          "text": [
            "36it [18:45, 32.60s/it]"
          ]
        },
        {
          "name": "stdout",
          "output_type": "stream",
          "text": [
            "Epoch [4/5], Batch [36/1498], Batch Loss: 0.1110\n"
          ]
        },
        {
          "name": "stderr",
          "output_type": "stream",
          "text": [
            "37it [19:17, 32.31s/it]"
          ]
        },
        {
          "name": "stdout",
          "output_type": "stream",
          "text": [
            "Epoch [4/5], Batch [37/1498], Batch Loss: 0.0977\n"
          ]
        },
        {
          "name": "stderr",
          "output_type": "stream",
          "text": [
            "38it [19:48, 32.04s/it]"
          ]
        },
        {
          "name": "stdout",
          "output_type": "stream",
          "text": [
            "Epoch [4/5], Batch [38/1498], Batch Loss: 0.0585\n"
          ]
        },
        {
          "name": "stderr",
          "output_type": "stream",
          "text": [
            "39it [20:22, 32.48s/it]"
          ]
        },
        {
          "name": "stdout",
          "output_type": "stream",
          "text": [
            "Epoch [4/5], Batch [39/1498], Batch Loss: 0.0549\n"
          ]
        },
        {
          "name": "stderr",
          "output_type": "stream",
          "text": [
            "40it [20:55, 32.53s/it]"
          ]
        },
        {
          "name": "stdout",
          "output_type": "stream",
          "text": [
            "Epoch [4/5], Batch [40/1498], Batch Loss: 0.0942\n"
          ]
        },
        {
          "name": "stderr",
          "output_type": "stream",
          "text": [
            "41it [21:28, 32.68s/it]"
          ]
        },
        {
          "name": "stdout",
          "output_type": "stream",
          "text": [
            "Epoch [4/5], Batch [41/1498], Batch Loss: 0.0441\n"
          ]
        },
        {
          "name": "stderr",
          "output_type": "stream",
          "text": [
            "42it [21:58, 32.05s/it]"
          ]
        },
        {
          "name": "stdout",
          "output_type": "stream",
          "text": [
            "Epoch [4/5], Batch [42/1498], Batch Loss: 0.0388\n"
          ]
        },
        {
          "name": "stderr",
          "output_type": "stream",
          "text": [
            "43it [22:31, 32.32s/it]"
          ]
        },
        {
          "name": "stdout",
          "output_type": "stream",
          "text": [
            "Epoch [4/5], Batch [43/1498], Batch Loss: 0.0697\n"
          ]
        },
        {
          "name": "stderr",
          "output_type": "stream",
          "text": [
            "44it [23:03, 32.12s/it]"
          ]
        },
        {
          "name": "stdout",
          "output_type": "stream",
          "text": [
            "Epoch [4/5], Batch [44/1498], Batch Loss: 0.1427\n"
          ]
        },
        {
          "name": "stderr",
          "output_type": "stream",
          "text": [
            "45it [23:35, 32.12s/it]"
          ]
        },
        {
          "name": "stdout",
          "output_type": "stream",
          "text": [
            "Epoch [4/5], Batch [45/1498], Batch Loss: 0.0443\n"
          ]
        },
        {
          "name": "stderr",
          "output_type": "stream",
          "text": [
            "46it [24:08, 32.36s/it]"
          ]
        },
        {
          "name": "stdout",
          "output_type": "stream",
          "text": [
            "Epoch [4/5], Batch [46/1498], Batch Loss: 0.0757\n"
          ]
        },
        {
          "name": "stderr",
          "output_type": "stream",
          "text": [
            "47it [24:40, 32.39s/it]"
          ]
        },
        {
          "name": "stdout",
          "output_type": "stream",
          "text": [
            "Epoch [4/5], Batch [47/1498], Batch Loss: 0.1096\n"
          ]
        },
        {
          "name": "stderr",
          "output_type": "stream",
          "text": [
            "48it [25:13, 32.62s/it]"
          ]
        },
        {
          "name": "stdout",
          "output_type": "stream",
          "text": [
            "Epoch [4/5], Batch [48/1498], Batch Loss: 0.1447\n"
          ]
        },
        {
          "name": "stderr",
          "output_type": "stream",
          "text": [
            "49it [25:39, 30.55s/it]"
          ]
        },
        {
          "name": "stdout",
          "output_type": "stream",
          "text": [
            "Epoch [4/5], Batch [49/1498], Batch Loss: 0.0327\n"
          ]
        },
        {
          "name": "stderr",
          "output_type": "stream",
          "text": [
            "50it [26:04, 28.83s/it]"
          ]
        },
        {
          "name": "stdout",
          "output_type": "stream",
          "text": [
            "Epoch [4/5], Batch [50/1498], Batch Loss: 0.0623\n"
          ]
        },
        {
          "name": "stderr",
          "output_type": "stream",
          "text": [
            "51it [26:30, 28.00s/it]"
          ]
        },
        {
          "name": "stdout",
          "output_type": "stream",
          "text": [
            "Epoch [4/5], Batch [51/1498], Batch Loss: 0.0586\n"
          ]
        },
        {
          "name": "stderr",
          "output_type": "stream",
          "text": [
            "52it [26:56, 27.33s/it]"
          ]
        },
        {
          "name": "stdout",
          "output_type": "stream",
          "text": [
            "Epoch [4/5], Batch [52/1498], Batch Loss: 0.0526\n"
          ]
        },
        {
          "name": "stderr",
          "output_type": "stream",
          "text": [
            "53it [27:25, 27.83s/it]"
          ]
        },
        {
          "name": "stdout",
          "output_type": "stream",
          "text": [
            "Epoch [4/5], Batch [53/1498], Batch Loss: 0.0488\n"
          ]
        },
        {
          "name": "stderr",
          "output_type": "stream",
          "text": [
            "54it [27:53, 28.01s/it]"
          ]
        },
        {
          "name": "stdout",
          "output_type": "stream",
          "text": [
            "Epoch [4/5], Batch [54/1498], Batch Loss: 0.0853\n"
          ]
        },
        {
          "name": "stderr",
          "output_type": "stream",
          "text": [
            "55it [28:21, 28.01s/it]"
          ]
        },
        {
          "name": "stdout",
          "output_type": "stream",
          "text": [
            "Epoch [4/5], Batch [55/1498], Batch Loss: 0.0436\n"
          ]
        },
        {
          "name": "stderr",
          "output_type": "stream",
          "text": [
            "56it [28:46, 27.12s/it]"
          ]
        },
        {
          "name": "stdout",
          "output_type": "stream",
          "text": [
            "Epoch [4/5], Batch [56/1498], Batch Loss: 0.0956\n"
          ]
        },
        {
          "name": "stderr",
          "output_type": "stream",
          "text": [
            "57it [29:14, 27.19s/it]"
          ]
        },
        {
          "name": "stdout",
          "output_type": "stream",
          "text": [
            "Epoch [4/5], Batch [57/1498], Batch Loss: 0.0362\n"
          ]
        },
        {
          "name": "stderr",
          "output_type": "stream",
          "text": [
            "58it [29:40, 26.91s/it]"
          ]
        },
        {
          "name": "stdout",
          "output_type": "stream",
          "text": [
            "Epoch [4/5], Batch [58/1498], Batch Loss: 0.1004\n"
          ]
        },
        {
          "name": "stderr",
          "output_type": "stream",
          "text": [
            "59it [30:10, 27.97s/it]"
          ]
        },
        {
          "name": "stdout",
          "output_type": "stream",
          "text": [
            "Epoch [4/5], Batch [59/1498], Batch Loss: 0.0878\n"
          ]
        },
        {
          "name": "stderr",
          "output_type": "stream",
          "text": [
            "60it [30:40, 28.60s/it]"
          ]
        },
        {
          "name": "stdout",
          "output_type": "stream",
          "text": [
            "Epoch [4/5], Batch [60/1498], Batch Loss: 0.1114\n"
          ]
        },
        {
          "name": "stderr",
          "output_type": "stream",
          "text": [
            "61it [31:09, 28.48s/it]"
          ]
        },
        {
          "name": "stdout",
          "output_type": "stream",
          "text": [
            "Epoch [4/5], Batch [61/1498], Batch Loss: 0.0485\n"
          ]
        },
        {
          "name": "stderr",
          "output_type": "stream",
          "text": [
            "62it [31:37, 30.61s/it]"
          ]
        },
        {
          "name": "stdout",
          "output_type": "stream",
          "text": [
            "Epoch [4/5], Batch [62/1498], Batch Loss: 0.0606\n"
          ]
        },
        {
          "name": "stderr",
          "output_type": "stream",
          "text": [
            "\n",
            "1it [00:28, 28.15s/it]"
          ]
        },
        {
          "name": "stdout",
          "output_type": "stream",
          "text": [
            "Epoch [5/5], Batch [1/1498], Batch Loss: 0.0995\n"
          ]
        },
        {
          "name": "stderr",
          "output_type": "stream",
          "text": [
            "2it [00:53, 26.47s/it]"
          ]
        },
        {
          "name": "stdout",
          "output_type": "stream",
          "text": [
            "Epoch [5/5], Batch [2/1498], Batch Loss: 0.0934\n"
          ]
        },
        {
          "name": "stderr",
          "output_type": "stream",
          "text": [
            "3it [01:25, 28.92s/it]"
          ]
        },
        {
          "name": "stdout",
          "output_type": "stream",
          "text": [
            "Epoch [5/5], Batch [3/1498], Batch Loss: 0.0912\n"
          ]
        },
        {
          "name": "stderr",
          "output_type": "stream",
          "text": [
            "4it [01:52, 28.12s/it]"
          ]
        },
        {
          "name": "stdout",
          "output_type": "stream",
          "text": [
            "Epoch [5/5], Batch [4/1498], Batch Loss: 0.0583\n"
          ]
        },
        {
          "name": "stderr",
          "output_type": "stream",
          "text": [
            "5it [02:19, 27.99s/it]"
          ]
        },
        {
          "name": "stdout",
          "output_type": "stream",
          "text": [
            "Epoch [5/5], Batch [5/1498], Batch Loss: 0.0984\n"
          ]
        },
        {
          "name": "stderr",
          "output_type": "stream",
          "text": [
            "6it [02:45, 27.20s/it]"
          ]
        },
        {
          "name": "stdout",
          "output_type": "stream",
          "text": [
            "Epoch [5/5], Batch [6/1498], Batch Loss: 0.0723\n"
          ]
        },
        {
          "name": "stderr",
          "output_type": "stream",
          "text": [
            "7it [03:12, 27.04s/it]"
          ]
        },
        {
          "name": "stdout",
          "output_type": "stream",
          "text": [
            "Epoch [5/5], Batch [7/1498], Batch Loss: 0.0550\n"
          ]
        },
        {
          "name": "stderr",
          "output_type": "stream",
          "text": [
            "8it [03:38, 26.78s/it]"
          ]
        },
        {
          "name": "stdout",
          "output_type": "stream",
          "text": [
            "Epoch [5/5], Batch [8/1498], Batch Loss: 0.0460\n"
          ]
        },
        {
          "name": "stderr",
          "output_type": "stream",
          "text": [
            "9it [04:05, 26.79s/it]"
          ]
        },
        {
          "name": "stdout",
          "output_type": "stream",
          "text": [
            "Epoch [5/5], Batch [9/1498], Batch Loss: 0.0460\n"
          ]
        },
        {
          "name": "stderr",
          "output_type": "stream",
          "text": [
            "10it [04:29, 26.07s/it]"
          ]
        },
        {
          "name": "stdout",
          "output_type": "stream",
          "text": [
            "Epoch [5/5], Batch [10/1498], Batch Loss: 0.0498\n"
          ]
        },
        {
          "name": "stderr",
          "output_type": "stream",
          "text": [
            "11it [04:58, 26.82s/it]"
          ]
        },
        {
          "name": "stdout",
          "output_type": "stream",
          "text": [
            "Epoch [5/5], Batch [11/1498], Batch Loss: 0.0605\n"
          ]
        },
        {
          "name": "stderr",
          "output_type": "stream",
          "text": [
            "12it [05:25, 26.82s/it]"
          ]
        },
        {
          "name": "stdout",
          "output_type": "stream",
          "text": [
            "Epoch [5/5], Batch [12/1498], Batch Loss: 0.0403\n"
          ]
        },
        {
          "name": "stderr",
          "output_type": "stream",
          "text": [
            "13it [05:49, 26.13s/it]"
          ]
        },
        {
          "name": "stdout",
          "output_type": "stream",
          "text": [
            "Epoch [5/5], Batch [13/1498], Batch Loss: 0.0932\n"
          ]
        },
        {
          "name": "stderr",
          "output_type": "stream",
          "text": [
            "14it [06:17, 26.75s/it]"
          ]
        },
        {
          "name": "stdout",
          "output_type": "stream",
          "text": [
            "Epoch [5/5], Batch [14/1498], Batch Loss: 0.0730\n"
          ]
        },
        {
          "name": "stderr",
          "output_type": "stream",
          "text": [
            "15it [06:45, 26.90s/it]"
          ]
        },
        {
          "name": "stdout",
          "output_type": "stream",
          "text": [
            "Epoch [5/5], Batch [15/1498], Batch Loss: 0.1060\n"
          ]
        },
        {
          "name": "stderr",
          "output_type": "stream",
          "text": [
            "16it [07:09, 26.14s/it]"
          ]
        },
        {
          "name": "stdout",
          "output_type": "stream",
          "text": [
            "Epoch [5/5], Batch [16/1498], Batch Loss: 0.1005\n"
          ]
        },
        {
          "name": "stderr",
          "output_type": "stream",
          "text": [
            "17it [07:37, 26.64s/it]"
          ]
        },
        {
          "name": "stdout",
          "output_type": "stream",
          "text": [
            "Epoch [5/5], Batch [17/1498], Batch Loss: 0.0914\n"
          ]
        },
        {
          "name": "stderr",
          "output_type": "stream",
          "text": [
            "18it [08:07, 27.82s/it]"
          ]
        },
        {
          "name": "stdout",
          "output_type": "stream",
          "text": [
            "Epoch [5/5], Batch [18/1498], Batch Loss: 0.0702\n"
          ]
        },
        {
          "name": "stderr",
          "output_type": "stream",
          "text": [
            "19it [08:37, 28.48s/it]"
          ]
        },
        {
          "name": "stdout",
          "output_type": "stream",
          "text": [
            "Epoch [5/5], Batch [19/1498], Batch Loss: 0.1136\n"
          ]
        },
        {
          "name": "stderr",
          "output_type": "stream",
          "text": [
            "20it [09:10, 29.82s/it]"
          ]
        },
        {
          "name": "stdout",
          "output_type": "stream",
          "text": [
            "Epoch [5/5], Batch [20/1498], Batch Loss: 0.1304\n"
          ]
        },
        {
          "name": "stderr",
          "output_type": "stream",
          "text": [
            "21it [09:44, 31.11s/it]"
          ]
        },
        {
          "name": "stdout",
          "output_type": "stream",
          "text": [
            "Epoch [5/5], Batch [21/1498], Batch Loss: 0.1604\n"
          ]
        },
        {
          "name": "stderr",
          "output_type": "stream",
          "text": [
            "22it [10:16, 31.16s/it]"
          ]
        },
        {
          "name": "stdout",
          "output_type": "stream",
          "text": [
            "Epoch [5/5], Batch [22/1498], Batch Loss: 0.0627\n"
          ]
        },
        {
          "name": "stderr",
          "output_type": "stream",
          "text": [
            "23it [10:46, 30.91s/it]"
          ]
        },
        {
          "name": "stdout",
          "output_type": "stream",
          "text": [
            "Epoch [5/5], Batch [23/1498], Batch Loss: 0.0584\n"
          ]
        },
        {
          "name": "stderr",
          "output_type": "stream",
          "text": [
            "24it [11:19, 31.46s/it]"
          ]
        },
        {
          "name": "stdout",
          "output_type": "stream",
          "text": [
            "Epoch [5/5], Batch [24/1498], Batch Loss: 0.0697\n"
          ]
        },
        {
          "name": "stderr",
          "output_type": "stream",
          "text": [
            "25it [11:49, 31.12s/it]"
          ]
        },
        {
          "name": "stdout",
          "output_type": "stream",
          "text": [
            "Epoch [5/5], Batch [25/1498], Batch Loss: 0.0764\n"
          ]
        },
        {
          "name": "stderr",
          "output_type": "stream",
          "text": [
            "26it [12:17, 30.01s/it]"
          ]
        },
        {
          "name": "stdout",
          "output_type": "stream",
          "text": [
            "Epoch [5/5], Batch [26/1498], Batch Loss: 0.0883\n"
          ]
        },
        {
          "name": "stderr",
          "output_type": "stream",
          "text": [
            "27it [12:44, 29.10s/it]"
          ]
        },
        {
          "name": "stdout",
          "output_type": "stream",
          "text": [
            "Epoch [5/5], Batch [27/1498], Batch Loss: 0.0576\n"
          ]
        },
        {
          "name": "stderr",
          "output_type": "stream",
          "text": [
            "28it [13:12, 28.92s/it]"
          ]
        },
        {
          "name": "stdout",
          "output_type": "stream",
          "text": [
            "Epoch [5/5], Batch [28/1498], Batch Loss: 0.0716\n"
          ]
        },
        {
          "name": "stderr",
          "output_type": "stream",
          "text": [
            "29it [13:41, 29.06s/it]"
          ]
        },
        {
          "name": "stdout",
          "output_type": "stream",
          "text": [
            "Epoch [5/5], Batch [29/1498], Batch Loss: 0.0505\n"
          ]
        },
        {
          "name": "stderr",
          "output_type": "stream",
          "text": [
            "30it [14:10, 28.90s/it]"
          ]
        },
        {
          "name": "stdout",
          "output_type": "stream",
          "text": [
            "Epoch [5/5], Batch [30/1498], Batch Loss: 0.0550\n"
          ]
        },
        {
          "name": "stderr",
          "output_type": "stream",
          "text": [
            "31it [14:41, 29.56s/it]"
          ]
        },
        {
          "name": "stdout",
          "output_type": "stream",
          "text": [
            "Epoch [5/5], Batch [31/1498], Batch Loss: 0.0434\n"
          ]
        },
        {
          "name": "stderr",
          "output_type": "stream",
          "text": [
            "32it [15:12, 30.02s/it]"
          ]
        },
        {
          "name": "stdout",
          "output_type": "stream",
          "text": [
            "Epoch [5/5], Batch [32/1498], Batch Loss: 0.1340\n"
          ]
        },
        {
          "name": "stderr",
          "output_type": "stream",
          "text": [
            "33it [15:40, 29.31s/it]"
          ]
        },
        {
          "name": "stdout",
          "output_type": "stream",
          "text": [
            "Epoch [5/5], Batch [33/1498], Batch Loss: 0.0753\n"
          ]
        },
        {
          "name": "stderr",
          "output_type": "stream",
          "text": [
            "34it [16:07, 28.82s/it]"
          ]
        },
        {
          "name": "stdout",
          "output_type": "stream",
          "text": [
            "Epoch [5/5], Batch [34/1498], Batch Loss: 0.0880\n"
          ]
        },
        {
          "name": "stderr",
          "output_type": "stream",
          "text": [
            "35it [16:34, 28.03s/it]"
          ]
        },
        {
          "name": "stdout",
          "output_type": "stream",
          "text": [
            "Epoch [5/5], Batch [35/1498], Batch Loss: 0.1265\n"
          ]
        },
        {
          "name": "stderr",
          "output_type": "stream",
          "text": [
            "36it [17:00, 27.46s/it]"
          ]
        },
        {
          "name": "stdout",
          "output_type": "stream",
          "text": [
            "Epoch [5/5], Batch [36/1498], Batch Loss: 0.1134\n"
          ]
        },
        {
          "name": "stderr",
          "output_type": "stream",
          "text": [
            "37it [17:25, 26.67s/it]"
          ]
        },
        {
          "name": "stdout",
          "output_type": "stream",
          "text": [
            "Epoch [5/5], Batch [37/1498], Batch Loss: 0.0662\n"
          ]
        },
        {
          "name": "stderr",
          "output_type": "stream",
          "text": [
            "38it [17:51, 26.67s/it]"
          ]
        },
        {
          "name": "stdout",
          "output_type": "stream",
          "text": [
            "Epoch [5/5], Batch [38/1498], Batch Loss: 0.0653\n"
          ]
        },
        {
          "name": "stderr",
          "output_type": "stream",
          "text": [
            "39it [18:21, 27.64s/it]"
          ]
        },
        {
          "name": "stdout",
          "output_type": "stream",
          "text": [
            "Epoch [5/5], Batch [39/1498], Batch Loss: 0.1347\n"
          ]
        },
        {
          "name": "stderr",
          "output_type": "stream",
          "text": [
            "40it [18:53, 28.87s/it]"
          ]
        },
        {
          "name": "stdout",
          "output_type": "stream",
          "text": [
            "Epoch [5/5], Batch [40/1498], Batch Loss: 0.0905\n"
          ]
        },
        {
          "name": "stderr",
          "output_type": "stream",
          "text": [
            "41it [19:24, 29.39s/it]"
          ]
        },
        {
          "name": "stdout",
          "output_type": "stream",
          "text": [
            "Epoch [5/5], Batch [41/1498], Batch Loss: 0.1677\n"
          ]
        },
        {
          "name": "stderr",
          "output_type": "stream",
          "text": [
            "42it [19:57, 30.63s/it]"
          ]
        },
        {
          "name": "stdout",
          "output_type": "stream",
          "text": [
            "Epoch [5/5], Batch [42/1498], Batch Loss: 0.0909\n"
          ]
        },
        {
          "name": "stderr",
          "output_type": "stream",
          "text": [
            "43it [20:30, 31.43s/it]"
          ]
        },
        {
          "name": "stdout",
          "output_type": "stream",
          "text": [
            "Epoch [5/5], Batch [43/1498], Batch Loss: 0.1311\n"
          ]
        },
        {
          "name": "stderr",
          "output_type": "stream",
          "text": [
            "44it [21:02, 31.47s/it]"
          ]
        },
        {
          "name": "stdout",
          "output_type": "stream",
          "text": [
            "Epoch [5/5], Batch [44/1498], Batch Loss: 0.0765\n"
          ]
        },
        {
          "name": "stderr",
          "output_type": "stream",
          "text": [
            "45it [21:32, 30.98s/it]"
          ]
        },
        {
          "name": "stdout",
          "output_type": "stream",
          "text": [
            "Epoch [5/5], Batch [45/1498], Batch Loss: 0.0577\n"
          ]
        },
        {
          "name": "stderr",
          "output_type": "stream",
          "text": [
            "46it [21:59, 29.76s/it]"
          ]
        },
        {
          "name": "stdout",
          "output_type": "stream",
          "text": [
            "Epoch [5/5], Batch [46/1498], Batch Loss: 0.1067\n"
          ]
        },
        {
          "name": "stderr",
          "output_type": "stream",
          "text": [
            "47it [22:29, 29.90s/it]"
          ]
        },
        {
          "name": "stdout",
          "output_type": "stream",
          "text": [
            "Epoch [5/5], Batch [47/1498], Batch Loss: 0.0513\n"
          ]
        },
        {
          "name": "stderr",
          "output_type": "stream",
          "text": [
            "48it [23:00, 30.20s/it]"
          ]
        },
        {
          "name": "stdout",
          "output_type": "stream",
          "text": [
            "Epoch [5/5], Batch [48/1498], Batch Loss: 0.0589\n"
          ]
        },
        {
          "name": "stderr",
          "output_type": "stream",
          "text": [
            "49it [23:27, 29.41s/it]"
          ]
        },
        {
          "name": "stdout",
          "output_type": "stream",
          "text": [
            "Epoch [5/5], Batch [49/1498], Batch Loss: 0.0935\n"
          ]
        },
        {
          "name": "stderr",
          "output_type": "stream",
          "text": [
            "50it [23:58, 29.89s/it]"
          ]
        },
        {
          "name": "stdout",
          "output_type": "stream",
          "text": [
            "Epoch [5/5], Batch [50/1498], Batch Loss: 0.1332\n"
          ]
        },
        {
          "name": "stderr",
          "output_type": "stream",
          "text": [
            "51it [24:30, 30.42s/it]"
          ]
        },
        {
          "name": "stdout",
          "output_type": "stream",
          "text": [
            "Epoch [5/5], Batch [51/1498], Batch Loss: 0.0566\n"
          ]
        },
        {
          "name": "stderr",
          "output_type": "stream",
          "text": [
            "52it [24:57, 29.52s/it]"
          ]
        },
        {
          "name": "stdout",
          "output_type": "stream",
          "text": [
            "Epoch [5/5], Batch [52/1498], Batch Loss: 0.0629\n"
          ]
        },
        {
          "name": "stderr",
          "output_type": "stream",
          "text": [
            "53it [25:28, 29.86s/it]"
          ]
        },
        {
          "name": "stdout",
          "output_type": "stream",
          "text": [
            "Epoch [5/5], Batch [53/1498], Batch Loss: 0.0323\n"
          ]
        },
        {
          "name": "stderr",
          "output_type": "stream",
          "text": [
            "54it [25:56, 29.32s/it]"
          ]
        },
        {
          "name": "stdout",
          "output_type": "stream",
          "text": [
            "Epoch [5/5], Batch [54/1498], Batch Loss: 0.0967\n"
          ]
        },
        {
          "name": "stderr",
          "output_type": "stream",
          "text": [
            "55it [26:21, 28.00s/it]"
          ]
        },
        {
          "name": "stdout",
          "output_type": "stream",
          "text": [
            "Epoch [5/5], Batch [55/1498], Batch Loss: 0.1040\n"
          ]
        },
        {
          "name": "stderr",
          "output_type": "stream",
          "text": [
            "56it [26:49, 27.97s/it]"
          ]
        },
        {
          "name": "stdout",
          "output_type": "stream",
          "text": [
            "Epoch [5/5], Batch [56/1498], Batch Loss: 0.0991\n"
          ]
        },
        {
          "name": "stderr",
          "output_type": "stream",
          "text": [
            "57it [27:20, 28.80s/it]"
          ]
        },
        {
          "name": "stdout",
          "output_type": "stream",
          "text": [
            "Epoch [5/5], Batch [57/1498], Batch Loss: 0.0718\n"
          ]
        },
        {
          "name": "stderr",
          "output_type": "stream",
          "text": [
            "58it [27:50, 29.10s/it]"
          ]
        },
        {
          "name": "stdout",
          "output_type": "stream",
          "text": [
            "Epoch [5/5], Batch [58/1498], Batch Loss: 0.0605\n"
          ]
        },
        {
          "name": "stderr",
          "output_type": "stream",
          "text": [
            "59it [28:16, 28.32s/it]"
          ]
        },
        {
          "name": "stdout",
          "output_type": "stream",
          "text": [
            "Epoch [5/5], Batch [59/1498], Batch Loss: 0.0747\n"
          ]
        },
        {
          "name": "stderr",
          "output_type": "stream",
          "text": [
            "60it [28:44, 28.28s/it]"
          ]
        },
        {
          "name": "stdout",
          "output_type": "stream",
          "text": [
            "Epoch [5/5], Batch [60/1498], Batch Loss: 0.0971\n"
          ]
        },
        {
          "name": "stderr",
          "output_type": "stream",
          "text": [
            "61it [29:13, 28.42s/it]"
          ]
        },
        {
          "name": "stdout",
          "output_type": "stream",
          "text": [
            "Epoch [5/5], Batch [61/1498], Batch Loss: 0.1003\n"
          ]
        },
        {
          "name": "stderr",
          "output_type": "stream",
          "text": [
            "62it [29:43, 28.77s/it]"
          ]
        },
        {
          "name": "stdout",
          "output_type": "stream",
          "text": [
            "Epoch [5/5], Batch [62/1498], Batch Loss: 0.0667\n"
          ]
        },
        {
          "name": "stderr",
          "output_type": "stream",
          "text": [
            "\n"
          ]
        }
      ],
      "source": [
        "\n",
        "# Training loop\n",
        "for epoch in range(5):\n",
        "\n",
        "    out_loss = 0\n",
        "    num_samples_processed_1 = 0\n",
        "\n",
        "    for batch_idx, (essay_id, essay_set, essays, prompt, normalized_score) in tqdm(enumerate(dataloader)):\n",
        "\n",
        "        num_samples_processed_1 += essay_id.size(0)\n",
        "\n",
        "        if num_samples_processed_1 >= 500:\n",
        "            break\n",
        "\n",
        "        optimizer_model.zero_grad()\n",
        "\n",
        "        # normalized_score = normalized_score.to(device)\n",
        "        # normalized_score = normalized_score.view(1, -1)\n",
        "\n",
        "        out = model_combined(essays, 800)\n",
        "\n",
        "        out=out.squeeze()\n",
        "\n",
        "        # print(out)\n",
        "        # print(normalized_score)\n",
        "        out = out.float()\n",
        "        # out = out.view(1, -1)\n",
        "\n",
        "        normalized_score = normalized_score.float()\n",
        "\n",
        "        loss = criterion(out, normalized_score)\n",
        "        loss.backward()\n",
        "        optimizer_model.step()\n",
        "\n",
        "        out_loss += loss.item()\n",
        "\n",
        "        # break\n",
        "        print(f\"Epoch [{epoch + 1}/5], Batch [{batch_idx + 1}/{len(dataloader)}], Batch Loss: {loss.item():.4f}\")\n",
        "\n",
        "    train_loss_combine.append(out_loss)\n",
        "    # Save the model after every iteration\n",
        "    torch.save(model_combined.state_dict(), f'model_epoch_{epoch + 10}.pt')\n",
        "\n",
        "    # Save the final model after training\n",
        "    if epoch == 4:  # Assuming you want to save the model after the last epoch\n",
        "        torch.save(model_combined.state_dict(), 'final_model.pt')\n",
        "\n",
        "# Save the entire model (including optimizer and other state)\n",
        "torch.save({\n",
        "    'epoch': 5,  # Assuming you trained for 5 epochs\n",
        "    'model_state_dict': model_combined.state_dict(),\n",
        "    'optimizer_state_dict': optimizer_model.state_dict(),\n",
        "    'loss': out_loss / len(dataloader),\n",
        "}, 'entire_model.pt')\n"
      ]
    },
    {
      "cell_type": "code",
      "execution_count": null,
      "metadata": {
        "id": "47rZbZkkZRvZ",
        "outputId": "e18f29b2-008d-414f-89bb-8c0d67f864f2"
      },
      "outputs": [
        {
          "data": {
            "text/plain": [
              "[<matplotlib.lines.Line2D at 0x212595e4340>]"
            ]
          },
          "execution_count": 77,
          "metadata": {},
          "output_type": "execute_result"
        },
        {
          "data": {
            "image/png": "[encoded data removed]",
            "text/plain": [
              "<Figure size 640x480 with 1 Axes>"
            ]
          },
          "metadata": {},
          "output_type": "display_data"
        }
      ],
      "source": [
        "plt.plot([1,2,3,4,5],train_loss_combine)"
      ]
    },
    {
      "cell_type": "code",
      "execution_count": null,
      "metadata": {
        "id": "duekbhCPZRva",
        "outputId": "dcea0d1d-ec22-4f2f-9b86-4fc14a1393dc"
      },
      "outputs": [
        {
          "data": {
            "text/plain": [
              "[<matplotlib.lines.Line2D at 0x19f54553430>]"
            ]
          },
          "execution_count": 94,
          "metadata": {},
          "output_type": "execute_result"
        },
        {
          "data": {
            "image/png": "[encoded data removed]",
            "text/plain": [
              "<Figure size 640x480 with 1 Axes>"
            ]
          },
          "metadata": {},
          "output_type": "display_data"
        }
      ],
      "source": [
        "plt.plot([1,2,3,4],train_loss_combine)"
      ]
    },
    {
      "cell_type": "code",
      "execution_count": 60,
      "metadata": {
        "colab": {
          "base_uri": "https://localhost:8080/"
        },
        "id": "wtvMhBe8uHQi",
        "outputId": "9ec783b5-9172-487f-8dbc-992551f0e542"
      },
      "outputs": [
        {
          "data": {
            "text/plain": [
              "<All keys matched successfully>"
            ]
          },
          "execution_count": 60,
          "metadata": {},
          "output_type": "execute_result"
        }
      ],
      "source": [
        "# model_combined.load_state_dict(torch.load(\"/content/drive/MyDrive/ire_v2t/entire_model.pt\"))\n",
        "\n",
        "# model_combined.eval()\n",
        "\n",
        "loaded_model_checkpoint = torch.load('entire_model.pt', map_location=torch.device('cpu'))\n",
        "\n",
        "# Assuming 'model_state_dict' is the key for your model\n",
        "loaded_model_state_dict = loaded_model_checkpoint['model_state_dict']\n",
        "\n",
        "# Now, you need to create an instance of your model and load the state dictionary\n",
        "# Replace 'YourModelClass' with the actual class of your model\n",
        "model_combined.load_state_dict(loaded_model_state_dict)\n",
        "\n"
      ]
    },
    {
      "cell_type": "code",
      "execution_count": null,
      "metadata": {
        "colab": {
          "base_uri": "https://localhost:8080/"
        },
        "id": "CRCsI4ZqwL0t",
        "outputId": "3d8438f8-1ecc-4855-f0ec-c1e3d86e5dec"
      },
      "outputs": [
        {
          "name": "stderr",
          "output_type": "stream",
          "text": [
            "0it [02:55, ?it/s]\n"
          ]
        }
      ],
      "source": [
        "for batch_idx, (essay_id, essay_set, essays, prompt, normalized_score) in tqdm(enumerate(dataloader)):\n",
        "    x = model_combined(essays,800)\n",
        "    break"
      ]
    },
    {
      "cell_type": "code",
      "execution_count": null,
      "metadata": {
        "colab": {
          "base_uri": "https://localhost:8080/"
        },
        "id": "zHBQHhsLxlK9",
        "outputId": "ac584d6e-b8be-46ad-f0e2-b8061e286ec9"
      },
      "outputs": [
        {
          "name": "stderr",
          "output_type": "stream",
          "text": [
            "0it [00:00, ?it/s]\n"
          ]
        }
      ],
      "source": [
        "for batch_idx, (essay_id, essay_set, essays, prompt, normalized_score) in tqdm(enumerate(dataloader)):\n",
        "    y = normalized_score\n",
        "    break"
      ]
    },
    {
      "cell_type": "code",
      "execution_count": null,
      "metadata": {
        "colab": {
          "base_uri": "https://localhost:8080/"
        },
        "id": "eVBx1OMSw50R",
        "outputId": "ecc076fe-1416-4a18-9ead-711edd87d057"
      },
      "outputs": [
        {
          "data": {
            "text/plain": [
              "tensor([[0.4576],\n",
              "        [0.5561],\n",
              "        [0.2083],\n",
              "        [0.6316],\n",
              "        [0.0641],\n",
              "        [0.3843],\n",
              "        [0.7712],\n",
              "        [0.6273],\n",
              "        [0.3556],\n",
              "        [0.6836],\n",
              "        [0.5091],\n",
              "        [0.6014],\n",
              "        [0.6097],\n",
              "        [0.6902],\n",
              "        [0.5522],\n",
              "        [0.3617],\n",
              "        [0.5664],\n",
              "        [0.5959],\n",
              "        [0.3753],\n",
              "        [0.7696],\n",
              "        [0.4606],\n",
              "        [0.7146],\n",
              "        [0.3165],\n",
              "        [0.6356],\n",
              "        [0.6674],\n",
              "        [0.8357],\n",
              "        [0.6473],\n",
              "        [0.7392],\n",
              "        [0.6404],\n",
              "        [0.6453],\n",
              "        [0.6600],\n",
              "        [0.6721]], grad_fn=<AddBackward0>)"
            ]
          },
          "execution_count": 123,
          "metadata": {},
          "output_type": "execute_result"
        }
      ],
      "source": [
        "x"
      ]
    },
    {
      "cell_type": "code",
      "execution_count": null,
      "metadata": {
        "colab": {
          "base_uri": "https://localhost:8080/"
        },
        "id": "3kRn3-TJx4bV",
        "outputId": "a6ed28ba-452e-4ccc-d96d-fd6b7867c117"
      },
      "outputs": [
        {
          "name": "stdout",
          "output_type": "stream",
          "text": [
            "Real :  tensor(1., dtype=torch.float64) pred :  tensor([0.4576], grad_fn=<UnbindBackward0>)\n",
            "Real :  tensor(1., dtype=torch.float64) pred :  tensor([0.5561], grad_fn=<UnbindBackward0>)\n",
            "Real :  tensor(0.6000, dtype=torch.float64) pred :  tensor([0.2083], grad_fn=<UnbindBackward0>)\n",
            "Real :  tensor(0.6667, dtype=torch.float64) pred :  tensor([0.6316], grad_fn=<UnbindBackward0>)\n",
            "Real :  tensor(0.7000, dtype=torch.float64) pred :  tensor([0.0641], grad_fn=<UnbindBackward0>)\n",
            "Real :  tensor(0.6667, dtype=torch.float64) pred :  tensor([0.3843], grad_fn=<UnbindBackward0>)\n",
            "Real :  tensor(1., dtype=torch.float64) pred :  tensor([0.7712], grad_fn=<UnbindBackward0>)\n",
            "Real :  tensor(0.5000, dtype=torch.float64) pred :  tensor([0.6273], grad_fn=<UnbindBackward0>)\n",
            "Real :  tensor(0.2000, dtype=torch.float64) pred :  tensor([0.3556], grad_fn=<UnbindBackward0>)\n",
            "Real :  tensor(0.5000, dtype=torch.float64) pred :  tensor([0.6836], grad_fn=<UnbindBackward0>)\n",
            "Real :  tensor(0.5000, dtype=torch.float64) pred :  tensor([0.5091], grad_fn=<UnbindBackward0>)\n",
            "Real :  tensor(0., dtype=torch.float64) pred :  tensor([0.6014], grad_fn=<UnbindBackward0>)\n",
            "Real :  tensor(1., dtype=torch.float64) pred :  tensor([0.6097], grad_fn=<UnbindBackward0>)\n",
            "Real :  tensor(0.8000, dtype=torch.float64) pred :  tensor([0.6902], grad_fn=<UnbindBackward0>)\n",
            "Real :  tensor(0.3333, dtype=torch.float64) pred :  tensor([0.5522], grad_fn=<UnbindBackward0>)\n",
            "Real :  tensor(0.6667, dtype=torch.float64) pred :  tensor([0.3617], grad_fn=<UnbindBackward0>)\n",
            "Real :  tensor(0.7778, dtype=torch.float64) pred :  tensor([0.5664], grad_fn=<UnbindBackward0>)\n",
            "Real :  tensor(0.5000, dtype=torch.float64) pred :  tensor([0.5959], grad_fn=<UnbindBackward0>)\n",
            "Real :  tensor(1., dtype=torch.float64) pred :  tensor([0.3753], grad_fn=<UnbindBackward0>)\n",
            "Real :  tensor(0.5000, dtype=torch.float64) pred :  tensor([0.7696], grad_fn=<UnbindBackward0>)\n",
            "Real :  tensor(1., dtype=torch.float64) pred :  tensor([0.4606], grad_fn=<UnbindBackward0>)\n",
            "Real :  tensor(1., dtype=torch.float64) pred :  tensor([0.7146], grad_fn=<UnbindBackward0>)\n",
            "Real :  tensor(0.2500, dtype=torch.float64) pred :  tensor([0.3165], grad_fn=<UnbindBackward0>)\n",
            "Real :  tensor(0.6667, dtype=torch.float64) pred :  tensor([0.6356], grad_fn=<UnbindBackward0>)\n",
            "Real :  tensor(0.4000, dtype=torch.float64) pred :  tensor([0.6674], grad_fn=<UnbindBackward0>)\n",
            "Real :  tensor(0.3333, dtype=torch.float64) pred :  tensor([0.8357], grad_fn=<UnbindBackward0>)\n",
            "Real :  tensor(0.2000, dtype=torch.float64) pred :  tensor([0.6473], grad_fn=<UnbindBackward0>)\n",
            "Real :  tensor(0.6000, dtype=torch.float64) pred :  tensor([0.7392], grad_fn=<UnbindBackward0>)\n",
            "Real :  tensor(0.9444, dtype=torch.float64) pred :  tensor([0.6404], grad_fn=<UnbindBackward0>)\n",
            "Real :  tensor(0., dtype=torch.float64) pred :  tensor([0.6453], grad_fn=<UnbindBackward0>)\n",
            "Real :  tensor(0.4000, dtype=torch.float64) pred :  tensor([0.6600], grad_fn=<UnbindBackward0>)\n",
            "Real :  tensor(0.8000, dtype=torch.float64) pred :  tensor([0.6721], grad_fn=<UnbindBackward0>)\n"
          ]
        }
      ],
      "source": [
        "for v1, v2 in zip(x, y):\n",
        "    print(\"Real : \", v2, \"pred : \", v1)"
      ]
    },
    {
      "cell_type": "markdown",
      "metadata": {
        "id": "Qh3pO7IrZRvc"
      },
      "source": [
        "Coherence NLI"
      ]
    },
    {
      "cell_type": "code",
      "execution_count": 61,
      "metadata": {
        "colab": {
          "base_uri": "https://localhost:8080/"
        },
        "id": "dceaYrP4ZRvd",
        "outputId": "242315f8-30e5-4610-b06e-c935a76499d2"
      },
      "outputs": [
        {
          "name": "stdout",
          "output_type": "stream",
          "text": [
            "101 102 0 100\n"
          ]
        }
      ],
      "source": [
        "bert = BertModel.from_pretrained('bert-base-uncased')\n",
        "# bert_tokenizer = transformers.BertTokenizer.from_pretrained('bert-base-uncased')\n",
        "bert_tokenizer = BertTokenizer.from_pretrained('bert-base-uncased')\n",
        "\n",
        "cls = bert_tokenizer.cls_token\n",
        "sep = bert_tokenizer.sep_token\n",
        "pad = bert_tokenizer.pad_token\n",
        "unk = bert_tokenizer.unk_token\n",
        "\n",
        "cls_id = bert_tokenizer.cls_token_id\n",
        "sep_id = bert_tokenizer.sep_token_id\n",
        "pad_id = bert_tokenizer.pad_token_id\n",
        "unk_id = bert_tokenizer.unk_token_id\n",
        "print(cls_id,sep_id,pad_id,unk_id)"
      ]
    },
    {
      "cell_type": "code",
      "execution_count": 62,
      "metadata": {
        "id": "QRb5pkkrZRve"
      },
      "outputs": [],
      "source": [
        "#Helper functions for pre-processing\n",
        "def limit_sentence_length(sentence):\n",
        "  sentence = sentence.split()\n",
        "  sentence = sentence[:128]\n",
        "  return \" \".join(sentence)\n",
        "\n",
        "def get_token_type(sentence,num):\n",
        "  return [num]*len(sentence)\n"
      ]
    },
    {
      "cell_type": "code",
      "execution_count": 63,
      "metadata": {
        "id": "1wTwui0AZRve"
      },
      "outputs": [],
      "source": [
        "#Model\n",
        "class Bert_Model(nn.Module):\n",
        "  def __init__(self,output_dim):\n",
        "    super().__init__()\n",
        "    self.bert = bert\n",
        "    embedding_dim = bert.config.to_dict()['hidden_size']\n",
        "    self.out = nn.Linear(embedding_dim, output_dim)\n",
        "  def forward(self, seq, attention_mask, token_type):\n",
        "    embeddings = self.bert(input_ids = seq, attention_mask = attention_mask, token_type_ids= token_type)[1]\n",
        "    return self.out(embeddings)\n"
      ]
    },
    {
      "cell_type": "code",
      "execution_count": 64,
      "metadata": {
        "colab": {
          "base_uri": "https://localhost:8080/"
        },
        "id": "k7UvaBcoZRve",
        "outputId": "3d6ae339-5c71-46ee-af4c-432a145132b5"
      },
      "outputs": [
        {
          "name": "stderr",
          "output_type": "stream",
          "text": [
            "c:\\Users\\pchhl\\anaconda3\\lib\\site-packages\\transformers\\optimization.py:411: FutureWarning: This implementation of AdamW is deprecated and will be removed in a future version. Use the PyTorch implementation torch.optim.AdamW instead, or set `no_deprecation_warning=True` to disable this warning\n",
            "  warnings.warn(\n"
          ]
        }
      ],
      "source": [
        "bert_model_snli = Bert_Model(3).to(device)\n",
        "bert_model_snli.load_state_dict(torch.load(r\"bert_model_snli.pth\",map_location=torch.device('cpu')))\n",
        "optimizer_snli = AdamW(bert_model_snli.parameters(),lr=2e-5,eps=1e-6,correct_bias=False)\n",
        "criterion_snli = nn.CrossEntropyLoss().to(device)\n"
      ]
    },
    {
      "cell_type": "code",
      "execution_count": 65,
      "metadata": {
        "id": "77-8Vo40ZRvf"
      },
      "outputs": [],
      "source": [
        "def predict_inference(premise, hypothesis, bert_model):\n",
        "    torch.cuda.empty_cache()\n",
        "    bert_model.eval()\n",
        "    premise = cls + ' ' + premise + ' ' + sep\n",
        "    hypothesis = hypothesis + ' ' + sep\n",
        "\n",
        "    premise_tokens = bert_tokenizer.tokenize(premise)\n",
        "    hypothesis_tokens = bert_tokenizer.tokenize(hypothesis)\n",
        "\n",
        "    premise_token_type = get_token_type(premise_tokens,0)\n",
        "    hypothesis_token_type = get_token_type(hypothesis_tokens,1)\n",
        "    # print(premise_token_type, hypothesis_token_type)\n",
        "    seq = premise_tokens + hypothesis_tokens\n",
        "    seq = bert_tokenizer.convert_tokens_to_ids(seq)\n",
        "    # print(seq)\n",
        "    tokens_type = premise_token_type + hypothesis_token_type\n",
        "    attention_mask = get_token_type(seq,1)\n",
        "\n",
        "    seq = torch.LongTensor(seq).unsqueeze(0).to(device)\n",
        "    tokens_type = torch.LongTensor(tokens_type).unsqueeze(0).to(device)\n",
        "    attention_mask = torch.LongTensor(attention_mask).unsqueeze(0).to(device)\n",
        "\n",
        "    prediction = bert_model(seq, attention_mask, tokens_type)\n",
        "    prediction = F.softmax(prediction, dim=-1)\n",
        "\n",
        "    return prediction[0, 0].item()"
      ]
    },
    {
      "cell_type": "code",
      "execution_count": 66,
      "metadata": {
        "colab": {
          "base_uri": "https://localhost:8080/"
        },
        "id": "nuVDwW0vZRvf",
        "outputId": "50dfbfa1-8720-4f46-bb1c-5bfaddb2b340"
      },
      "outputs": [
        {
          "name": "stdout",
          "output_type": "stream",
          "text": [
            "0.9508330821990967\n"
          ]
        }
      ],
      "source": [
        "premise = 'A soccer game with multiple males playing.'\n",
        "hypothesis = 'Some men are playing a sport.'\n",
        "\n",
        "print(predict_inference(premise, hypothesis,bert_model_snli))"
      ]
    },
    {
      "cell_type": "code",
      "execution_count": 67,
      "metadata": {
        "colab": {
          "base_uri": "https://localhost:8080/"
        },
        "id": "8nbGnCY2ZRvg",
        "outputId": "99f5488b-f423-4b68-f6da-99fa20322b59"
      },
      "outputs": [
        {
          "name": "stdout",
          "output_type": "stream",
          "text": [
            "0.17029417385088486\n"
          ]
        }
      ],
      "source": [
        "\n",
        "def coherence_score_snli(essay):\n",
        "    paragraphs = essay.split('\\n\\n')\n",
        "    final_sum = 0\n",
        "    for paragraph in paragraphs:\n",
        "        sentences = sent_tokenize(paragraph)\n",
        "        # print(sentences)\n",
        "        size = len(sentences)-1\n",
        "        # print(size)\n",
        "        sum = 0\n",
        "        for i in range(size):\n",
        "            x = predict_inference(sentences[i], sentences[i+1], bert_model_snli)\n",
        "            # print(sentences[i], sentences[i+1], x)\n",
        "            sum += x\n",
        "        # print(sum, size, \"score :\",sum / size)\n",
        "        final_sum += sum / max(1, size)\n",
        "\n",
        "    # print(\"final_sum :\", final_sum/len(paragraphs))\n",
        "    return final_sum/len(paragraphs)\n",
        "\n",
        "\n",
        "# essay = \"\"\"In the rapidly evolving landscape of technology, Artificial Intelligence (AI) stands out as a revolutionary force with the potential to reshape every aspect of human life. From intelligent virtual assistants and autonomous vehicles to sophisticated medical diagnostics, AI has transcended the realm of science fiction, becoming an integral part of our daily existence. This essay explores the impact of artificial intelligence on various domains and discusses both its promises and challenges. At its core, AI refers to the development of computer systems that can perform tasks that typically require human intelligence. These tasks include learning from experience (machine learning), understanding natural language, recognizing patterns, and solving complex problems. The power of AI lies in its ability to process vast amounts of data, learn from it, and make informed decisions without explicit programming. One of the most visible manifestations of AI in our lives is through virtual assistants like Siri, Alexa, and Google Assistant. These systems use natural language processing and machine learning algorithms to understand and respond to user queries, making our interactions with technology more intuitive and user-friendly. Similarly, AI has transformed industries such as healthcare, finance, and manufacturing, enhancing efficiency and productivity. In healthcare, AI plays a crucial role in medical imaging analysis, disease diagnosis, and drug discovery. Machine learning algorithms can analyze medical images, detect anomalies, and assist healthcare professionals in making more accurate and timely decisions. In finance, AI algorithms are employed for fraud detection, risk assessment, and algorithmic trading, contributing to the stability and security of financial systems. However, the widespread adoption of AI also raises ethical and societal concerns. The deployment of AI in decision-making processes, such as hiring, lending, and law enforcement, has raised questions about bias and fairness. Ensuring transparency, accountability, and ethical considerations in AI systems is crucial to avoid reinforcing existing societal inequalities. Moreover, there are concerns about job displacement as automation and AI technologies continue to advance. While AI has the potential to create new job opportunities, it is essential to address the skills gap and provide education and training to empower the workforce for the jobs of the future. The development of AI also poses challenges related to privacy and security. As AI systems rely on massive datasets for training, protecting sensitive information from misuse and ensuring robust cybersecurity measures become paramount. In conclusion, artificial intelligence is a transformative force that holds immense potential for positive impact across various domains. Its ability to process data, learn from experience, and make intelligent decisions opens up new possibilities for innovation and efficiency. However, ethical considerations, societal impacts, and the need for responsible development and deployment are critical aspects that must be carefully navigated to harness the full benefits of AI while addressing its challenges. As we move forward into an AI-driven future, it is imperative to strike a balance that maximizes the positive contributions of AI while safeguarding the well-being of individuals and society as a whole\"\"\"\n",
        "# print(coherence_score_snli(essay))\n",
        "\n",
        "\n",
        "# essay = \"Dear local newspaper, I think effects computers have on people are great learning skills/affects because they give us time to chat with friends/new people, helps us learn about the globe(astronomy) and keeps us out of troble! Thing about! Dont you think so? How would you feel if your teenager is always on the phone with friends! Do you ever time to chat with your friends or buisness partner about things. Well now - there's a new way to chat the computer, theirs plenty of sites on the internet to do so: @ORGANIZATION1, @ORGANIZATION2, @CAPS1, facebook, myspace ect. Just think now while your setting up meeting with your boss on the computer, your teenager is having fun on the phone not rushing to get off cause you want to use it. How did you learn about other countrys/states outside of yours? Well I have by computer/internet, it's a new way to learn about what going on in our time! You might think your child spends a lot of time on the computer, but ask them so question about the economy, sea floor spreading or even about the @DATE1's you'll be surprise at how much he/she knows. Believe it or not the computer is much interesting then in class all day reading out of books. If your child is home on your computer or at a local library, it's better than being out with friends being fresh, or being perpressured to doing something they know isnt right. You might not know where your child is, @CAPS2 forbidde in a hospital bed because of a drive-by. Rather than your child on the computer learning, chatting or just playing games, safe and sound in your home or community place. Now I hope you have reached a point to understand and agree with me, because computers can have great effects on you or child because it gives us time to chat with friends/new people, helps us learn about the globe and believe or not keeps us out of troble. Thank you for listening.\"\n",
        "# print(coherence_score_snli(essay))\n",
        "\n",
        "essay = 'the mood created by the author in the memoir was a mood of admiration. i think it was a mood of admiration because narciso admires the fact that his mother and father both left their families friends and careers in the country they loved. caps1 mood that the memoir sets is the mood of family and friends. i think the memoir sets the mood family and friend because it talks alot about the meaning of family for example in paragraph num1 the author says growing up in this environment instilled in me a great sense that family had nothing to do with being blood relative. that means that even though someone is not blood related to you can love them just as much as if they were. caps1 thing the memoir said was i learned the real definition of family. and for this i will never forget that house or its gracious neighbor hood or the many things i learned there about how to love. i will never forget how my parents turned this simple house into a home. this means that his parents turned a small house into a welcoming. loving place that holds so many memories.'\n",
        "print(coherence_score_snli(essay))"
      ]
    },
    {
      "cell_type": "code",
      "execution_count": 86,
      "metadata": {},
      "outputs": [
        {
          "name": "stderr",
          "output_type": "stream",
          "text": [
            "The tokenizer class you load from this checkpoint is not the same type as the class this function is called from. It may result in unexpected tokenization. \n",
            "The tokenizer class you load from this checkpoint is 'DPRQuestionEncoderTokenizer'. \n",
            "The class this function is called from is 'DPRContextEncoderTokenizer'.\n",
            "Some weights of the model checkpoint at facebook/dpr-ctx_encoder-multiset-base were not used when initializing DPRContextEncoder: ['ctx_encoder.bert_model.pooler.dense.bias', 'ctx_encoder.bert_model.pooler.dense.weight']\n",
            "- This IS expected if you are initializing DPRContextEncoder from the checkpoint of a model trained on another task or with another architecture (e.g. initializing a BertForSequenceClassification model from a BertForPreTraining model).\n",
            "- This IS NOT expected if you are initializing DPRContextEncoder from the checkpoint of a model that you expect to be exactly identical (initializing a BertForSequenceClassification model from a BertForSequenceClassification model).\n"
          ]
        }
      ],
      "source": [
        "from transformers import DPRContextEncoder, DPRContextEncoderTokenizer\n",
        "\n",
        "context_encoder_model_name = 'facebook/dpr-ctx_encoder-multiset-base'\n",
        "context_encoder_tokenizer = DPRContextEncoderTokenizer.from_pretrained(context_encoder_model_name)\n",
        "context_encoder_model = DPRContextEncoder.from_pretrained(context_encoder_model_name)"
      ]
    },
    {
      "cell_type": "markdown",
      "metadata": {},
      "source": [
        "RANKED MODEL"
      ]
    },
    {
      "cell_type": "code",
      "execution_count": null,
      "metadata": {},
      "outputs": [],
      "source": [
        "import re\n",
        "import random as scale\n",
        "\n",
        "# file type contains {'bert-base-uncased', 'roberta-base', 'xlnet-base-cased'}\n",
        "file = 'bert-base-uncased'\n",
        "bert_tokenizer = BertTokenizer.from_pretrained(file, sep_token='[SEP]')\n",
        "url_replacer = '<url>'\n",
        "num_regex = re.compile('^[+-]?[0-9]+\\.?[0-9]*$')\n",
        "ref_scores_dtype = 'int32'\n",
        "\n",
        "MAX_SENTLEN = 50\n",
        "MAX_SENTNUM = 100\n",
        "\n",
        "asap_ranges = {\n",
        "    0: (-60, 60),\n",
        "    1: (-10, 10),\n",
        "    2: (-5, 5),\n",
        "    3: (-3, 3),\n",
        "    4: (-3, 3),\n",
        "    5: (-4, 4),\n",
        "    6: (-4, 4),\n",
        "    7: (-30, 30),\n",
        "    8: (-60, 60)\n",
        "}\n",
        "def get_ref_dtype():\n",
        "    return ref_scores_dtype\n",
        "\n",
        "\n",
        "def tokenize(string):\n",
        "    tokens = nltk.word_tokenize(string)\n",
        "    for index, token in enumerate(tokens):\n",
        "        if token == '@' and (index+1) < len(tokens):\n",
        "            tokens[index+1] = '@' + re.sub('[0-9]+.*', '', tokens[index+1])\n",
        "            tokens.pop(index)\n",
        "    return tokens\n",
        "\n",
        "\n",
        "def get_score_range(prompt_id):\n",
        "    return asap_ranges[prompt_id]\n",
        "\n",
        "def scaled_value(low, high):\n",
        "    return scale.uniform(low, high)\n",
        "\n",
        "import re\n",
        "# import nltk\n",
        "\n",
        "# Download the necessary resource if not already downloaded\n",
        "# nltk.download('punkt')\n",
        "\n",
        "def text_tokenizer(text, replace_url_flag=True, tokenize_sent_flag=True, create_vocab_flag=True):\n",
        "    text = replace_url(text)\n",
        "    text = text.replace(u'\"', u'')\n",
        "\n",
        "    if \"...\" in text:\n",
        "        text = re.sub(r'\\.{3,}(\\s+\\.{3,})*', '...', text)\n",
        "    if \"??\" in text:\n",
        "        text = re.sub(r'\\?{2,}(\\s+\\?{2,})*', '?', text)\n",
        "    if \"!!\" in text:\n",
        "        text = re.sub(r'\\!{2,}(\\s+\\!{2,})*', '!', text)\n",
        "\n",
        "    # Use nltk word tokenizer\n",
        "    tokens = nltk.word_tokenize(text)\n",
        "\n",
        "    if tokenize_sent_flag:\n",
        "        punctuation = '.!,;:?\"\\'、，；'\n",
        "        text = \" \".join(tokens)\n",
        "        text_nopun = re.sub(r'[{}]+'.format(punctuation), '', text)\n",
        "        sent_tokens = text_nopun\n",
        "\n",
        "\n",
        "        return sent_tokens\n",
        "    else:\n",
        "        raise NotImplementedError\n",
        "\n",
        "def read_input_essay(input):\n",
        "    \n",
        "\n",
        "    data_id = []\n",
        "\n",
        "    # tokenize text into sentences\n",
        "    sent_tokens = text_tokenizer(input, replace_url_flag=True, tokenize_sent_flag=True)\n",
        "    tokenized_text = bert_tokenizer.tokenize(sent_tokens)\n",
        "    max_num = 512\n",
        "    indexed_tokens = bert_tokenizer.convert_tokens_to_ids(tokenized_text)\n",
        "\n",
        "\n",
        "    data_id.append(indexed_tokens)\n",
        "\n",
        "\n",
        "    return data_id\n",
        "\n",
        "import numpy as np\n",
        "import math\n",
        "\n",
        "def padding_sentence_sequences_input(index_sequences, maxnum, post_padding=True):\n",
        "\n",
        "\n",
        "    index_sequences = np.array(index_sequences)\n",
        "    num_seq = math.ceil((index_sequences.size) / maxnum)\n",
        "    index_sequences = index_sequences.flatten()\n",
        "\n",
        "    X = np.empty([num_seq, maxnum], dtype=np.int32)\n",
        "    mask = np.zeros([num_seq, maxnum], dtype=np.float32)\n",
        "\n",
        "    j = 0\n",
        "\n",
        "    for i in range(0, len(index_sequences), maxnum):\n",
        "        # Get a slice of elements for the current row\n",
        "        row = index_sequences[i:i + maxnum]\n",
        "\n",
        "        # If the row is shorter than maxnum, set values and mask for padding\n",
        "        X[j, :len(row)] = row\n",
        "        X[j, len(row):] = 1\n",
        "        mask[j, :len(row)] = 1\n",
        "        mask[j, len(row):] = 0\n",
        "\n",
        "        j += 1\n",
        "\n",
        "    return X, mask\n",
        "\n",
        "def prepare_sentence_data(input):\n",
        "    \n",
        "    data = read_input_essay(input)\n",
        "\n",
        "    X_data,mask = padding_sentence_sequences_input(data, max_num, post_padding=True)\n",
        "\n",
        "\n",
        "    return X_data,mask\n",
        "\n",
        "# from transformers import BertModel\n",
        "\n",
        "file = 'bert-base-uncased'\n",
        "bert_model = BertModel.from_pretrained(file)\n",
        "\n",
        "\n",
        "\n",
        "class mlp(nn.Module):\n",
        "    def __init__(self, in_f, out_f):\n",
        "        super(mlp, self).__init__()\n",
        "        self.layer1 = nn.Linear(in_f, 768)\n",
        "        self.active = nn.Tanh()\n",
        "        self.layer2 = nn.Linear(768, out_f)\n",
        "\n",
        "    def forward(self, x):\n",
        "        out = self.layer1(x)\n",
        "\n",
        "        return out\n",
        "\n",
        "\n",
        "class npcr_model(nn.Module):\n",
        "    def __init__(self, maxSq=512):\n",
        "        super(npcr_model, self).__init__()\n",
        "\n",
        "        self.embedding = bert_model\n",
        "        self.dropout = nn.Dropout(0.5)\n",
        "\n",
        "        self.nn1 = nn.Linear(768, 768)\n",
        "        self.output = nn.Linear(768, 1, bias=False)\n",
        "\n",
        "        self.init_weights()\n",
        "\n",
        "    def init_weights(self):\n",
        "        \"\"\"\n",
        "        Here we reproduce Keras default initialization weights for consistency with Keras version\n",
        "        \"\"\"\n",
        "        ih = (param.data for name, param in self.named_parameters() if 'weight_ih' in name)\n",
        "        hh = (param.data for name, param in self.named_parameters() if 'weight_hh' in name)\n",
        "        b = (param.data for name, param in self.named_parameters() if 'bias_ih' in name or 'bias_hh' in name)\n",
        "        # nn.init.uniform(self.embed.weight.data, a=-0.5, b=0.5)\n",
        "        for t in ih:\n",
        "            nn.init.xavier_uniform_(t)\n",
        "        for t in hh:\n",
        "            nn.init.orthogonal_(t)\n",
        "        for t in b:\n",
        "            nn.init.constant_(t, 0)\n",
        "\n",
        "    def forward(self, x0, x1):\n",
        "        x0_embed = self.embedding(x0)[1]\n",
        "        x1_embed = self.embedding(x1)[1]\n",
        "\n",
        "        # the linear layer nn1 can be replaced by MLP(the above or overwite by yourself)\n",
        "        x0_nn1 = self.nn1(x0_embed)\n",
        "        x1_nn1 = self.nn1(x1_embed)\n",
        "\n",
        "        x0_nn1_d = self.dropout(x0_nn1)\n",
        "        x1_nn1_d = self.dropout(x1_nn1)\n",
        "\n",
        "        diff_x = (x0_nn1_d - x1_nn1_d)\n",
        "        y = self.output(diff_x)\n",
        "\n",
        "        y = torch.sigmoid(y)\n",
        "\n",
        "        return y\n",
        "\n",
        "model = npcr_model(512)\n",
        "\n",
        "def replace_url(text):\n",
        "    replaced_text = re.sub('(http[s]?://)?((www)\\.)?([a-zA-Z0-9]+)\\.{1}((com)(\\.(cn))?|(org))', url_replacer, text)\n",
        "    return replaced_text\n",
        "max_num = 512\n",
        "def is_number(token):\n",
        "    return bool(num_regex.match(token))\n",
        "# .cuda()\n",
        "# For PyTorch model\n",
        "import torch\n",
        "\n",
        "\n",
        "model = torch.load('testrank_core_bert.prompt1.pt', map_location=torch.device('cpu'))\n",
        "# model = torch.load('testrank_core_bert.prompt1.pt')\n",
        "# model = model.to(device)\n",
        "\n",
        "# Function to convert model prediction to a score\n",
        "def convert_prediction_to_score(prediction):\n",
        "\n",
        "    scaled_factor = scaled_value(0, 10)\n",
        "    final_score = scaled_factor*prediction*2\n",
        "    return final_score\n",
        "\n",
        "def predict_score(essay_text, reference_text, model):\n",
        "    # Prepare input data\n",
        "    tensor_input,mask_input = prepare_sentence_data(essay_text)\n",
        "    tensor_reference,mask_reference = prepare_sentence_data(reference_text)\n",
        "\n",
        "    # Extract only the first sequence\n",
        "    tensor_input = torch.tensor(tensor_input)\n",
        "    mask_input = torch.tensor(mask_input)\n",
        "    tensor_reference = torch.tensor(tensor_reference)\n",
        "    mask_reference = torch.tensor(mask_reference)\n",
        "\n",
        "    # Move tensors to the specified device\n",
        "    tensor_input = tensor_input.to(device)\n",
        "    mask_input = mask_input.to(device)\n",
        "    tensor_reference = tensor_reference.to(device)\n",
        "    mask_reference = mask_reference.to(device)\n",
        "\n",
        "    size = tensor_input.size()\n",
        "\n",
        "    # Use the loaded model to make predictions\n",
        "    with torch.no_grad():\n",
        "        prediction = model(tensor_input, tensor_reference)\n",
        "\n",
        "\n",
        "    # Convert the model's prediction to a score\n",
        "    predicted_score = convert_prediction_to_score(prediction[0].item())\n",
        "\n",
        "    return predicted_score\n",
        "\n",
        "\n",
        "# from Reference import list\n",
        "lst =[\"the world. This is why chatting is the best setting. Computer helps the world in many ways. It helps kids if they need to research something. It helps the cops catch the bad people. The computer helps parents get from their children by vaction ads. This is has the computer helps the world. The computer does benifit our society. It has change the world. You can do many things on it. On the computer, you can chat with people from anywhere. The computer helps the world everyday. This is how the computer benifits our society.\",\"Dear Newspaper, I think computers are great. There really helpful. They can teach us about things. Also they have fun games and websites which is always a plus. Computers are helpful in lots of things, like if you need to look something up for school you can just easily go on the computer and find it also some teachers have websites now where insted of bringing a big social studies book home, you can go on the internet and use the online book. Did you know that @PERCENT1 of @CAPS1 students rather use the internet book then taking the actual one home. Also if you forgot to write down your homework theres a website to lookup all the homework you have. Also computers can teach us things. There are websites that have math games and school related things. Also you can easilly go on google and look up things and they can give you thousands of information. Lastly the internet is a good source for fun they have millions of games on the internet and also fun websites like facebook. Did you know @PERCENT2 of @CAPS1 students use the computer for the games and online talking. This also gives kids lots of things to do on a rainy day. So weither your using the internet for it's helpfulness its resources, or just for the fun games and websites. Computers are really helpful.\",\"Although some people believe that computers turn us children into zombies, I believe that they effect us in a posotive way. Computers can help us explore far away places that we @MONTH1 never go to. Maybe help us connect with an old friend or just a little help on homeworks. One reason why I think computers are only helping us is they help us explore othe places. I know for a fact that every kid dreams of a place that they would love to visit. But not at all of us can afford to travel far away. Most families however, do have computers. With these computers, kids with a parents permission, can use the internet to learn tons of cool facts about their place. \"\"I have always wanted to go to @LOCATION1 but my parents just don't have the proper incomg\"\" said @PERSON1 of @CAPS1-@CAPS2 @CAPS3 school @CAPS4 I used my @CAPS6 and the internet to discover. HUNDREDS of amazing facts on it.\"\" @CAPS4 as you can see computers can help people realize their dreams. Another reason why I\",\"said @PERSON1 of @CAPS1-@CAPS2 @CAPS3 school @CAPS4 I used my @CAPS6 and the internet to discover. HUNDREDS of amazing facts on it.\"\" @CAPS4 as you can see computers can help people realize their dreams. Another reason why I think computers are good is they help you connect with friends. If you are like me, you like to talk to your friends. A @CAPS5! But sometimes they are too far away to call if you don't want to pay for it. A solution a new wonderful machine called. The @CAPS6! You can chat long distances without being for it. This is especially good for me because not too long ago, one of my best friends moved away to @LOCATION2. I thoughy I would never talk to him again. Then I learned about @CAPS7 @CAPS8. It allows you to talk whenever you want, whenever you want! Now, me and my friend can stay in touch and @CAPS4 can you! My finale reason as to why I think computers are good is they can help you on homework too. Even have a tricky math problem you couldn't figure out? How about the capital of a state that visit, slipped your mined? Well the @CAPS6 can solve both of those problems and more! @PERCENT1 of computers these days come with soft wear in them that comes with a calculator. For the other @PERCENT1 you can download and install softwear onto your @CAPS6 for a low price. And every @CAPS6 made in this world has internet capabilities. All's you need to do is it on and get ready for a ride! @CAPS4 don'y worry about too much @CAPS6 use, because computers can only help us not hurt us. @CAPS4 remember, computers help us live our dreams to the full extent. they also help us connect with no another, and help us excel in school. @CAPS4 get on, and get goin. Have you used your @CAPS6 today?\",\"Dear local newspaper, @CAPS1 you know how long you go on the computer for? Well get up and go outside. Thats one of my reasons why I think people spend to much time on it my other reason is your eyesit can go bad. Its a nice sunny day dont wast your time on the computer! Go outside! All, kids @CAPS1 is sit on the computer all day not getting exercis. Did you know @NUM1 out of @NUM2 kids that sit on the computers all day gain at least @NUM3? @PERSON1 told me that. I mean I believe him because its true kids dont get up.There missing a nice day out would you wanna miss a nice sunny day? My finall reason is kids eyesight can go bad. I mean having them stare at a screen all day, thats bad. @PERSON1 told me if your on the computer for @NUM4 hours on the computer for @NUM4 hours straight your eyes can get worst. I remember a tiny when I was on the computer for @NUM4 1/@NUM4 hours my eyes were killing me everything I blink. I know the computer is fun playing games, talking to friends but you should take a break and @CAPS1 something ples. In conclusion just go outside and have fun! @CAPS1 you want to wast a nice sunny day by staying in doors hurting your eyes? I know I @CAPS1!\"]\n",
        "\n",
        "# Move the model to GPU if available\n",
        "device = torch.device(\"cuda:0\" if torch.cuda.is_available() else \"cpu\")\n",
        "loaded_model = model.to(device)\n",
        "\n",
        "\n",
        "def vaibhav(input):\n",
        "    score = []\n",
        "    for i,reference_essay in enumerate(lst):\n",
        "            predicted_score = predict_score(input, reference_essay, loaded_model)\n",
        "            score.append(predicted_score)\n",
        "\n",
        "    final =  ((sum(score)/len(score)))/10\n",
        "    # print(\"Score of the essay is : \",final)\n",
        "    return final\n",
        "\n",
        "\n",
        "def get_final_score_vaibhav(essays):\n",
        "    main_data = pd.DataFrame()\n",
        "    essays = [essays]\n",
        "    prompt = [prompt]\n",
        "\n",
        "\n",
        "    main_data = pd.DataFrame()\n",
        "    temp_df = pd.DataFrame({\n",
        "        'score_vaibhav' : vaibhav(essays[0]),\n",
        "        # 'normalized_score': normalized_score\n",
        "      }, index=[0])\n",
        "\n",
        "    main_data = pd.concat([main_data, temp_df], ignore_index=True)\n",
        "    return main_data\n"
      ]
    },
    {
      "cell_type": "markdown",
      "metadata": {
        "id": "2VxSRpmWZRvh"
      },
      "source": [
        "#### LOADING MODELS"
      ]
    },
    {
      "cell_type": "code",
      "execution_count": 68,
      "metadata": {
        "colab": {
          "base_uri": "https://localhost:8080/"
        },
        "id": "kVQFmDlPZRvi",
        "outputId": "3a400a75-71cb-4e20-9411-176498a87da6"
      },
      "outputs": [
        {
          "name": "stderr",
          "output_type": "stream",
          "text": [
            "  0%|          | 1/375 [03:30<21:49:18, 210.05s/it]"
          ]
        },
        {
          "name": "stdout",
          "output_type": "stream",
          "text": [
            "Shapes before creating DataFrame:\n",
            "out_semantic: [0.5041676  0.5058102  0.502608   0.50287455 0.50404686 0.50277233\n",
            " 0.50056565 0.5020878  0.5010128  0.503953   0.5014078  0.50247675\n",
            " 0.5045078  0.50253713 0.5027312  0.5011677  0.5047954  0.5013811\n",
            " 0.50262076 0.5020898  0.5041601  0.5029414  0.5050386  0.5051391\n",
            " 0.5047843  0.50509703 0.50239867 0.50468963 0.50275725 0.5047855\n",
            " 0.50498825 0.5026075 ]\n",
            "out_coher: [0.20128092 0.25307566 0.3057093  0.25506708 0.486871   0.28607333\n",
            " 0.49314734 0.2623561  0.49528807 0.48553845 0.29493693 0.4938039\n",
            " 0.25549588 0.28205845 0.26798272 0.21793818 0.49968788 0.22260246\n",
            " 0.49619412 0.3018118  0.24301194 0.48705998 0.21740443 0.35942394\n",
            " 0.23218921 0.520518   0.5018147  0.50791806 0.24308681 0.47924337\n",
            " 0.4979789  0.33004555]\n",
            "out_prompt: [3.7481838e-01 3.3711219e-01 3.5261744e-01 1.6347622e-03 5.9876265e-04\n",
            " 8.8455759e-02 4.3537896e-04 3.0506713e-02 2.2002889e-04 9.7791723e-04\n",
            " 1.2113331e-03 4.9347960e-04 2.3321380e-01 3.9572718e-05 5.6572873e-03\n",
            " 3.7320857e-03 4.4233733e-04 2.8152380e-03 1.6973396e-04 3.7582588e-01\n",
            " 3.9074264e-02 4.6374579e-04 3.2306598e-03 2.1565683e-02 1.6522548e-03\n",
            " 2.5506249e-01 9.4520850e-03 1.2802638e-03 6.7851756e-04 3.5630512e-01\n",
            " 3.6590710e-01 1.7061766e-03]\n",
            "combined_score: [0.8089645504951477, 0.7509770393371582, 0.3830060660839081, 0.49134451150894165, 0.6217251420021057, 0.5068507194519043, 0.7659192085266113, 0.6684898734092712, 0.7423932552337646, 0.5384134650230408, 0.6579111218452454, 0.6989704370498657, 0.677025556564331, 0.34712791442871094, 0.6346402764320374, 0.5627251863479614, 0.6145594716072083, 0.3555423617362976, 0.6352373957633972, 0.584093451499939, 0.8007922172546387, 0.4646506905555725, 0.49567145109176636, 0.6813594102859497, 0.5353637933731079, 0.7754020690917969, 0.6241016387939453, 0.6088380813598633, 0.553592324256897, 0.4940599203109741, 0.14477774500846863, 0.4937933683395386]\n",
            "coherence_score_nli: [0.02900255666463636, 0.08082141308113933, 0.0, 0.053883322436983384, 0.17676403987570666, 0.2098458447597093, 0.08000460561985771, 0.05735557805746794, 0.12906764950603247, 0.18209633845835924, 0.13587885916543505, 0.1939341001303142, 0.041417800795493856, 0.12279111643632253, 0.13840732040504614, 0.37103900127112865, 0.1303337442688644, 0.2228147517889738, 0.09305790144329269, 0.10016601847989175, 0.061411408125422895, 0.1721137210726738, 0.08919080059664945, 0.2873355846174739, 0.050341054797172546, 0.09980345714332846, 0.1746746662001197, 0.15211123673038351, 0.2830615702162807, 0.05360168315625439, 0.8491758108139038, 0.18197965979292666]\n",
            "normalized_score: [1.         1.         0.61111111 0.5        0.7        0.6\n",
            " 1.         0.4        1.         0.5        0.33333333 0.75\n",
            " 0.66666667 0.5        0.66666667 0.4        0.5        0.33333333\n",
            " 0.75       0.77777778 0.88888889 0.5        0.66666667 0.6\n",
            " 0.66666667 1.         0.7        1.         0.66666667 0.5\n",
            " 0.         0.4       ]\n"
          ]
        },
        {
          "name": "stderr",
          "output_type": "stream",
          "text": [
            "  1%|          | 2/375 [07:00<21:45:27, 209.99s/it]"
          ]
        },
        {
          "name": "stdout",
          "output_type": "stream",
          "text": [
            "Shapes before creating DataFrame:\n",
            "out_semantic: [0.50195634 0.50283825 0.50206286 0.5018214  0.5044791  0.5060237\n",
            " 0.5060105  0.505131   0.5045028  0.5009789  0.5004945  0.500899\n",
            " 0.506553   0.5048256  0.5014836  0.5006048  0.50181043 0.5057422\n",
            " 0.5049106  0.5001196  0.5025507  0.5001426  0.504355   0.5025994\n",
            " 0.5026567  0.50396544 0.50178224 0.50338495 0.5062427  0.5015843\n",
            " 0.50428295 0.5044761 ]\n",
            "out_coher: [0.27353266 0.28895065 0.51333785 0.4977665  0.47825173 0.1866511\n",
            " 0.3003453  0.4805716  0.21293339 0.50281715 0.5044949  0.48646092\n",
            " 0.23832285 0.49989364 0.48328513 0.20883188 0.2128558  0.27511472\n",
            " 0.506421   0.24195035 0.50893205 0.24842139 0.49660793 0.50077254\n",
            " 0.20818193 0.15969677 0.35215387 0.5213442  0.27518004 0.48956728\n",
            " 0.24001464 0.28714016]\n",
            "out_prompt: [3.8168782e-01 3.6919311e-01 5.4765709e-02 2.1706663e-04 8.2059741e-02\n",
            " 4.3425080e-03 6.4740749e-04 3.1072509e-01 9.4798929e-04 5.1836896e-04\n",
            " 1.0416515e-01 2.3699630e-04 3.4353736e-01 3.6868864e-01 1.5264735e-01\n",
            " 3.8073480e-01 2.9232284e-01 2.3547320e-02 5.3276500e-04 3.4964573e-01\n",
            " 3.6495197e-01 3.2785782e-01 1.4162502e-03 5.9197984e-05 5.6318408e-03\n",
            " 3.7227249e-01 7.5432353e-02 1.0407150e-03 9.1658876e-04 8.0360910e-03\n",
            " 3.7557986e-01 1.4734869e-03]\n",
            "combined_score: [0.7249132394790649, 0.1265864074230194, 0.6490401029586792, 0.7190290689468384, 0.5344785451889038, 0.564810574054718, 0.39449217915534973, 0.6711390614509583, 0.6786651015281677, 0.8351670503616333, 0.5973444581031799, 0.7798693776130676, 0.1622929722070694, 0.5700590014457703, 0.4408003091812134, 0.5468209981918335, 0.43502506613731384, 0.6619346141815186, 0.7181810140609741, 0.7458395957946777, 0.674817681312561, 0.630161702632904, 0.7709407806396484, 0.7184325456619263, 0.5964237451553345, 0.296063095331192, 0.6178517937660217, 0.48388129472732544, 0.7330528497695923, 0.7019711136817932, 0.562433660030365, 0.7127934098243713]\n",
            "coherence_score_nli: [0.02759631509737422, 0.0, 0.13585799955762923, 0.15774220597813837, 0.15875471368457916, 0.06334932870231569, 0.08385717961937189, 0.13224999204447324, 0.08427210591201272, 0.1893921459268313, 0.1787415085360408, 0.1464326542669109, 0.5203396081924438, 0.16666666213423015, 0.2406002159363457, 0.020806366531178355, 0.2144745032665714, 0.2030217434144824, 0.11656474531628191, 0.15067045514115307, 0.15637872533552583, 0.01931080999202095, 0.12320550647564232, 0.1238113811791495, 0.14345858680705229, 0.007288975175470114, 0.15115328377578408, 0.16250136730377562, 0.09525011647825263, 0.1380429288433136, 0.07058924529701471, 0.0924797919831927]\n",
            "normalized_score: [0.83333333 0.         0.6        0.75       0.6        0.66666667\n",
            " 0.33333333 0.7        0.66666667 0.9        0.6        0.75\n",
            " 0.33333333 0.5        0.4        0.72222222 0.2        0.6\n",
            " 0.5        0.77777778 0.5        0.66666667 1.         0.8\n",
            " 0.66666667 0.33333333 0.6        0.5        1.         0.6\n",
            " 1.         0.8       ]\n"
          ]
        },
        {
          "name": "stderr",
          "output_type": "stream",
          "text": [
            "  1%|          | 3/375 [10:13<20:55:45, 202.54s/it]"
          ]
        },
        {
          "name": "stdout",
          "output_type": "stream",
          "text": [
            "Shapes before creating DataFrame:\n",
            "out_semantic: [0.5038754  0.5047081  0.50483525 0.501616   0.5023313  0.50302935\n",
            " 0.50651187 0.50722605 0.5003463  0.50342387 0.5004033  0.5086954\n",
            " 0.4996521  0.5041163  0.5030865  0.504545   0.49995363 0.49388197\n",
            " 0.50634474 0.50375015 0.5037394  0.5037652  0.49822786 0.5018451\n",
            " 0.50365996 0.5028655  0.50623566 0.50372934 0.5034286  0.49971393\n",
            " 0.5043417  0.505206  ]\n",
            "out_coher: [0.49701285 0.30287424 0.24867696 0.4939459  0.24378747 0.2007252\n",
            " 0.50329244 0.5090041  0.29975808 0.22154742 0.5157145  0.50380087\n",
            " 0.42291284 0.25354356 0.49590722 0.5023525  0.52209383 0.46966738\n",
            " 0.27739727 0.26849863 0.49192095 0.49476674 0.27433544 0.4979245\n",
            " 0.23336434 0.48385927 0.2155025  0.21329747 0.37895668 0.51243526\n",
            " 0.23130523 0.4853448 ]\n",
            "out_prompt: [3.1208005e-03 6.9638086e-03 3.6201063e-01 2.9628402e-01 1.0678002e-01\n",
            " 7.2220587e-03 1.1940798e-03 9.6981442e-03 3.6162813e-03 3.7402523e-01\n",
            " 3.5537845e-01 4.8658168e-03 2.6868465e-05 4.1036230e-01 1.0981938e-03\n",
            " 4.3216324e-04 3.6307752e-01 1.2860911e-03 2.3133755e-03 1.0370266e-02\n",
            " 1.9426577e-04 3.5895878e-01 3.5672984e-01 5.2219321e-04 3.8183409e-01\n",
            " 3.4831809e-03 3.6635411e-01 3.5876858e-01 3.8382089e-01 3.8909140e-01\n",
            " 3.6047643e-01 3.6364883e-01]\n",
            "combined_score: [0.5183544158935547, 0.6715822219848633, 0.26325109601020813, 0.7897017002105713, 0.3767870366573334, 0.756368100643158, 0.7373272776603699, 0.7257134914398193, 0.6455768346786499, 0.2638842463493347, 0.7066478729248047, 0.6442165374755859, 0.7104535102844238, 0.36742591857910156, 0.5450201630592346, 0.677943766117096, 0.7834855914115906, 0.7522525787353516, 0.6089065670967102, 0.5297753214836121, 0.4713486433029175, 0.6546770930290222, 0.6555535793304443, 0.5754648447036743, 0.5958672165870667, 0.6431176662445068, 0.795494019985199, 0.32311105728149414, 0.3513900637626648, 0.6639143824577332, 0.6440798044204712, 0.807515561580658]\n",
            "coherence_score_nli: [0.22264443103922532, 0.16566330582524338, 0.0, 0.09432171616936103, 0.1138550393017275, 0.13460927905345504, 0.11446846835315228, 0.2938765953294933, 0.22697637043893337, 0.0, 0.1070469099296523, 0.18410632868900018, 0.19367128691488975, 0.0017898834776133299, 0.28088880019883317, 0.20067501581568076, 0.09222455220879056, 0.16794630069246827, 0.09592815291834995, 0.22811982857392116, 0.026822763407835737, 0.058484858533899696, 0.10092115487592916, 0.24729813926893732, 0.17051197066903115, 0.28952392869229826, 0.3284302060492337, 0.0005821510567329824, 0.02261311002075672, 0.14332845502067357, 0.09463067824253812, 0.12682147251649034]\n",
            "normalized_score: [0.4        0.6        0.         1.         0.4        0.66666667\n",
            " 0.75       0.7        1.         0.         1.         0.4\n",
            " 0.6        0.33333333 0.5        0.6        0.75       0.8\n",
            " 0.4        0.4        0.5        0.75       0.66666667 0.6\n",
            " 0.94444444 0.75       0.94444444 0.         0.33333333 0.75\n",
            " 0.66666667 1.        ]\n"
          ]
        },
        {
          "name": "stderr",
          "output_type": "stream",
          "text": [
            "  1%|          | 4/375 [13:42<21:08:40, 205.18s/it]"
          ]
        },
        {
          "name": "stdout",
          "output_type": "stream",
          "text": [
            "Shapes before creating DataFrame:\n",
            "out_semantic: [0.50306916 0.50068057 0.5058496  0.504758   0.5038954  0.50461924\n",
            " 0.5019042  0.50255346 0.5034965  0.49885985 0.50266594 0.5020915\n",
            " 0.5009798  0.50136834 0.50069535 0.504953   0.5028172  0.5044715\n",
            " 0.50051075 0.5049442  0.5028525  0.49328253 0.5020175  0.50448674\n",
            " 0.5013468  0.5019502  0.5043612  0.50113434 0.50142175 0.50650305\n",
            " 0.50372595 0.50295   ]\n",
            "out_coher: [0.49605027 0.20978342 0.22859216 0.23277217 0.27950144 0.28386027\n",
            " 0.2105453  0.20300959 0.5059921  0.49642256 0.27083147 0.26943952\n",
            " 0.5143301  0.25643036 0.20159145 0.2259805  0.49104574 0.30640435\n",
            " 0.24104436 0.24861515 0.24861382 0.41727608 0.24322708 0.25241113\n",
            " 0.48595354 0.18963791 0.48485252 0.19018894 0.17918631 0.49456298\n",
            " 0.48975822 0.501661  ]\n",
            "out_prompt: [3.3486354e-01 4.3410607e-04 1.4388168e-03 3.4933361e-01 3.6769563e-01\n",
            " 3.6407551e-01 3.6710027e-01 1.3395338e-01 1.3142708e-03 3.4096646e-01\n",
            " 1.1128543e-03 1.4391498e-03 1.6292739e-01 3.7149999e-01 9.8700970e-03\n",
            " 9.4682706e-04 1.0127433e-03 5.8171414e-02 3.7132183e-01 9.4823958e-04\n",
            " 1.2985275e-03 9.6925913e-04 3.5712537e-01 3.6567909e-01 1.6100240e-03\n",
            " 1.0578325e-03 2.8987715e-01 3.7046621e-04 3.9263061e-01 3.5249028e-01\n",
            " 3.3905262e-01 8.2836404e-02]\n",
            "combined_score: [0.42408546805381775, 0.2688134014606476, 0.7415646314620972, 0.5178167819976807, 0.41078394651412964, 0.6694475412368774, 0.599298357963562, 0.6817396283149719, 0.5891706943511963, 0.6920348405838013, 0.44461941719055176, 0.7658313512802124, 0.623840868473053, 0.5282071828842163, 0.6820632815361023, 0.5383668541908264, 0.5205683708190918, 0.6040201783180237, 0.5264955759048462, 0.37336885929107666, 0.531451940536499, 0.5910364389419556, 0.6489666104316711, 0.21284353733062744, 0.7390409708023071, 0.49129781126976013, 0.5885449051856995, 0.7555071115493774, 0.36226364970207214, 0.528328001499176, 0.6915877461433411, 0.6031054258346558]\n",
            "coherence_score_nli: [0.16279953430322083, 0.059765081852674484, 0.10698316413133095, 0.015649895028521616, 0.34131919199393856, 0.051895004347898066, 0.058838644597147195, 0.28904595569922376, 0.24124513193964958, 0.05733419582247734, 0.11857605755794794, 0.018776502925902605, 0.12621344421916691, 0.21308599793701433, 0.15085813278953233, 0.09318163928886254, 0.015942061960231513, 0.3191203892997959, 0.09309991728514433, 0.02205154113471508, 0.09348975587636232, 0.14872487259117406, 0.3146878699106829, 0.052840158343315125, 0.1743450307339016, 0.08457697400202353, 0.10057869229543333, 0.13208075451664628, 0.046606700867414474, 0.15395046334015206, 0.04404492462232996, 0.14635634356980315]\n",
            "normalized_score: [0.4        0.33333333 1.         0.55555556 0.4        0.66666667\n",
            " 0.77777778 0.7        1.         0.75       0.66666667 1.\n",
            " 0.77777778 0.         1.         0.33333333 0.75       0.6\n",
            " 0.66666667 0.25       1.         0.6        0.6        0.\n",
            " 1.         0.66666667 0.6        0.8        0.33333333 0.4\n",
            " 0.77777778 0.4       ]\n"
          ]
        },
        {
          "name": "stderr",
          "output_type": "stream",
          "text": [
            "  1%|▏         | 5/375 [17:13<21:18:26, 207.31s/it]"
          ]
        },
        {
          "name": "stdout",
          "output_type": "stream",
          "text": [
            "Shapes before creating DataFrame:\n",
            "out_semantic: [0.50055844 0.49944332 0.50032234 0.5021193  0.5032242  0.50050396\n",
            " 0.50569177 0.4920254  0.5024821  0.5038018  0.50326246 0.5032311\n",
            " 0.5065999  0.5050708  0.5073802  0.5014173  0.5030377  0.50268984\n",
            " 0.50373846 0.5028733  0.5010309  0.50401014 0.50526786 0.5035871\n",
            " 0.50481313 0.50015014 0.50570637 0.50615484 0.50107026 0.50301987\n",
            " 0.50221115 0.5051882 ]\n",
            "out_coher: [0.50253296 0.25059667 0.17756182 0.4997006  0.21937269 0.2198983\n",
            " 0.50231296 0.3293674  0.24464247 0.32947046 0.50181353 0.24653304\n",
            " 0.24194016 0.51400983 0.1973884  0.47816497 0.51499885 0.47962573\n",
            " 0.5103975  0.21027973 0.28378758 0.245397   0.2401445  0.24917229\n",
            " 0.47861448 0.40361148 0.21163084 0.5033299  0.4841402  0.25602087\n",
            " 0.27358583 0.50025225]\n",
            "out_prompt: [3.4572239e-04 1.5862143e-01 9.6345879e-04 3.8491634e-01 3.4966657e-01\n",
            " 3.5046434e-01 5.9543923e-02 1.1910956e-03 8.1805832e-04 3.7117296e-01\n",
            " 3.5243246e-01 1.3120086e-01 3.6868286e-01 3.6522627e-03 1.4164593e-03\n",
            " 3.5653171e-01 3.6968297e-01 4.0547969e-04 3.6227819e-01 8.7401160e-04\n",
            " 3.6510354e-01 1.1111064e-01 3.7418246e-01 1.0610885e-03 4.7352612e-03\n",
            " 2.5279386e-04 3.7867931e-01 1.7959550e-03 3.6214826e-01 3.6085075e-01\n",
            " 2.7065277e-03 3.6102828e-01]\n",
            "combined_score: [0.43428272008895874, 0.5115365982055664, 0.6815442442893982, 0.7789926528930664, 0.6640511155128479, 0.6465895175933838, 0.823276162147522, 0.8785363435745239, 0.3587896227836609, 0.7097679376602173, 0.4564625918865204, 0.6052548885345459, 0.42068395018577576, 0.5299623608589172, 0.47988536953926086, 0.6244540214538574, 0.47684744000434875, 0.5747385025024414, 0.5526586771011353, 0.7978845834732056, 0.5875755548477173, 0.564217746257782, 0.29158663749694824, 0.5636425018310547, 0.7345653176307678, 0.8542595505714417, 0.5825821161270142, 0.6187446117401123, 0.8058859705924988, 0.673839271068573, 0.674614667892456, 0.8708095550537109]\n",
            "coherence_score_nli: [0.40920156333595514, 0.15287308442251135, 0.005133969090820756, 0.07974665869648258, 0.1458395984955132, 0.013419669052382233, 0.05691088332591958, 0.1097170474477025, 0.13916947692632675, 0.09793729679659009, 0.20249931948880354, 0.142449693993994, 0.18338040681555867, 0.16529384503761926, 0.3085675872862339, 0.2864969196832842, 0.13397906293076547, 0.12718052277341485, 0.12080016848631203, 0.1881748703867197, 0.18377091316506267, 0.22827885049628094, 0.2553364485502243, 0.0667170052183792, 0.20143002203743285, 0.16607943239311376, 0.26122161839157343, 0.24135867149743717, 0.05801727661552528, 0.03517629023796568, 0.3461364184816678, 0.08522709391804205]\n",
            "normalized_score: [0.25       0.4        0.66666667 0.88888889 0.66666667 0.77777778\n",
            " 0.83333333 0.9        0.5        0.66666667 0.4        0.4\n",
            " 0.72222222 0.33333333 0.33333333 0.25       0.6        0.75\n",
            " 0.4        0.6        0.77777778 0.6        0.4        0.33333333\n",
            " 0.8        0.8        0.75       0.5        1.         1.\n",
            " 1.         0.75      ]\n"
          ]
        },
        {
          "name": "stderr",
          "output_type": "stream",
          "text": [
            "  2%|▏         | 6/375 [20:16<20:23:33, 198.95s/it]"
          ]
        },
        {
          "name": "stdout",
          "output_type": "stream",
          "text": [
            "Shapes before creating DataFrame:\n",
            "out_semantic: [0.50324804 0.50947803 0.5044832  0.5042509  0.50504315 0.50138474\n",
            " 0.50550455 0.5062647  0.50404215 0.50234187 0.4990321  0.5030232\n",
            " 0.5017519  0.50337267 0.498706   0.5028516  0.50081444 0.5064656\n",
            " 0.50477976 0.5045509  0.5027393  0.5061717  0.50439054 0.5065653\n",
            " 0.5058003  0.50478166 0.502493   0.50166374 0.49902165 0.50486755\n",
            " 0.505068   0.5042761 ]\n",
            "out_coher: [0.48433462 0.20711361 0.20885387 0.50712407 0.22889476 0.51094574\n",
            " 0.285769   0.21630403 0.5076762  0.4925852  0.2839048  0.29609662\n",
            " 0.48242754 0.48804477 0.25972337 0.50081617 0.2757927  0.27194345\n",
            " 0.28526786 0.4966437  0.28098372 0.4777677  0.495429   0.27992323\n",
            " 0.21733926 0.51426387 0.22133923 0.22166325 0.49315175 0.21119143\n",
            " 0.5050091  0.48671213]\n",
            "out_prompt: [3.7373704e-01 3.7495074e-01 7.7302760e-04 1.5599023e-01 2.3894746e-02\n",
            " 3.7713712e-01 3.7073958e-01 3.7275773e-01 1.8476482e-04 3.6119402e-04\n",
            " 4.0983484e-04 3.9452240e-01 3.5346285e-01 1.3493121e-02 2.6431354e-02\n",
            " 2.3167094e-03 1.0302180e-01 2.8197342e-03 1.0555178e-03 2.1716849e-04\n",
            " 3.4244624e-01 2.3226321e-03 1.0196811e-01 2.8852304e-03 3.5276508e-01\n",
            " 3.3831033e-01 3.7572950e-01 8.9792610e-04 3.7013900e-01 3.7293503e-01\n",
            " 1.0886214e-02 3.6925948e-01]\n",
            "combined_score: [0.4542286694049835, 0.24073262512683868, 0.41382551193237305, 0.503722071647644, 0.6132082343101501, 0.4865895211696625, 0.6689902544021606, 0.37889641523361206, 0.4911794066429138, 0.7039095759391785, 0.7734251022338867, 0.42366209626197815, 0.5031243562698364, 0.6154847145080566, 0.7129917144775391, 0.8197794556617737, 0.8073370456695557, 0.5387773513793945, 0.25557392835617065, 0.6016054749488831, 0.47212061285972595, 0.696320116519928, 0.8088721036911011, 0.6168814301490784, 0.7996466755867004, 0.7128095030784607, 0.3494834303855896, 0.47483083605766296, 0.26082003116607666, 0.4831831157207489, 0.5729673504829407, 0.646276593208313]\n",
            "coherence_score_nli: [0.04102438264453667, 0.0, 0.0, 0.16346341832540928, 0.1528763025708031, 0.17918437564124665, 0.08058814462274314, 0.10513649135828018, 0.2155646285771028, 0.1940540895642092, 0.1414425166190735, 0.18115555122494698, 0.29587807366624475, 0.16172929995638483, 0.16340606172161642, 0.07159732913391458, 0.09864211820497397, 0.1688905154587701, 0.0, 0.2272322266140864, 0.06578253820242191, 0.13129583920817822, 0.13790350424139486, 0.16201957955490798, 0.030122139533473688, 0.2894628846940274, 0.0, 0.02331404418994983, 0.5329584032297134, 0.1294335308484733, 0.21408666585768132, 0.15118648843573673]\n",
            "normalized_score: [0.5        0.25       0.25       0.4        0.6        0.33333333\n",
            " 1.         0.         0.4        0.5        0.8        0.33333333\n",
            " 0.5        0.7        0.6        0.75       1.         0.66666667\n",
            " 0.33333333 0.7        0.77777778 0.75       0.83333333 0.66666667\n",
            " 0.66666667 0.5        0.33333333 0.33333333 0.         0.25\n",
            " 0.6        0.75      ]\n"
          ]
        },
        {
          "name": "stderr",
          "output_type": "stream",
          "text": [
            "  2%|▏         | 7/375 [23:30<20:09:05, 197.14s/it]"
          ]
        },
        {
          "name": "stdout",
          "output_type": "stream",
          "text": [
            "Shapes before creating DataFrame:\n",
            "out_semantic: [0.4981102  0.50395054 0.50510234 0.5062168  0.5044323  0.5017649\n",
            " 0.50412256 0.50298727 0.50177294 0.5005379  0.5025836  0.5042765\n",
            " 0.50281054 0.5000427  0.50382835 0.5030029  0.5043332  0.5046169\n",
            " 0.5049817  0.49814686 0.50238425 0.5007963  0.5004261  0.50509804\n",
            " 0.50452137 0.50048083 0.50422966 0.50190777 0.50456375 0.5034171\n",
            " 0.5002416  0.5047075 ]\n",
            "out_coher: [0.21006149 0.41474247 0.25210774 0.48805913 0.22219439 0.2381349\n",
            " 0.30278045 0.49887726 0.5037335  0.48760986 0.5060668  0.25025982\n",
            " 0.48287818 0.26372358 0.49140346 0.22680572 0.22293374 0.4981465\n",
            " 0.24430175 0.2733209  0.21936406 0.50343096 0.4972926  0.23243879\n",
            " 0.50197613 0.48419094 0.50262916 0.4955593  0.4893228  0.47380605\n",
            " 0.29623154 0.20918964]\n",
            "out_prompt: [9.2006335e-03 9.9827834e-05 2.1461423e-03 3.5625613e-01 3.3004364e-01\n",
            " 3.5126069e-01 1.2503625e-03 3.5568607e-01 3.5528424e-01 4.7444501e-03\n",
            " 4.8729384e-04 3.5137492e-01 7.0664245e-03 3.8067216e-01 1.4433084e-03\n",
            " 2.4464990e-03 1.6304346e-03 7.6417840e-04 3.6278760e-01 3.6293849e-01\n",
            " 3.6867595e-01 3.4632769e-01 3.6213884e-01 9.7070478e-02 1.3715514e-03\n",
            " 3.9859799e-01 6.6935502e-02 5.5735498e-03 3.6669293e-01 3.6050332e-01\n",
            " 1.1564465e-03 3.5725915e-01]\n",
            "combined_score: [0.424555242061615, 0.8193635940551758, 0.3485032618045807, 0.8120318651199341, 0.6616647839546204, 0.2915918827056885, 0.6519461870193481, 0.7371422648429871, 0.645552396774292, 0.8804504871368408, 0.5288141369819641, 0.5406090021133423, 0.6454092860221863, 0.45488879084587097, 0.7118863463401794, 0.4538175165653229, 0.6303644180297852, 0.6049014329910278, 0.5660684704780579, 0.42267829179763794, 0.38225698471069336, 0.6844302415847778, 0.8004943132400513, 0.5095055103302002, 0.7853372097015381, 0.6505295038223267, 0.3749864101409912, 0.6238833069801331, 0.6955757737159729, 0.7818686366081238, 0.5258470773696899, 0.6266601085662842]\n",
            "coherence_score_nli: [0.31351619213819504, 0.19054901439812966, 0.10266236832831055, 0.06515967364733417, 0.03616591835660594, 0.0, 0.30918372073210776, 0.1335300779069907, 0.36400112378246646, 0.10791455998939152, 0.2931801344923399, 0.2553310438990593, 0.16770342934787982, 0.36479300260543823, 0.11809061239990923, 0.4653321676887572, 0.14988858341239392, 0.1444972252772589, 0.05252728424966335, 0.3186380583756545, 0.0, 0.3103745127251993, 0.018113275431096552, 0.26132858369517353, 0.17002763925120234, 0.11799835221609101, 0.18450083641024928, 0.31977818030420513, 0.07864964324980975, 0.09709548333194107, 0.23152256752971723, 0.053980515202662595]\n",
            "normalized_score: [0.         0.8        0.33333333 1.         0.4        0.33333333\n",
            " 1.         1.         0.5        1.         0.6        0.5\n",
            " 0.6        0.33333333 0.75       0.33333333 0.66666667 0.5\n",
            " 0.61111111 0.83333333 0.25       0.5        0.5        0.4\n",
            " 1.         0.75       0.4        0.6        0.75       1.\n",
            " 0.6        0.66666667]\n"
          ]
        },
        {
          "name": "stderr",
          "output_type": "stream",
          "text": [
            "  2%|▏         | 8/375 [26:56<20:24:13, 200.15s/it]"
          ]
        },
        {
          "name": "stdout",
          "output_type": "stream",
          "text": [
            "Shapes before creating DataFrame:\n",
            "out_semantic: [0.50231683 0.50589174 0.50118303 0.5031869  0.5019471  0.505782\n",
            " 0.50428474 0.5054589  0.49978462 0.50403094 0.5075097  0.50384575\n",
            " 0.49840817 0.5043646  0.50317794 0.5019296  0.50163764 0.50007385\n",
            " 0.50502306 0.50324684 0.5002696  0.5045333  0.5035324  0.5021492\n",
            " 0.50246066 0.50483865 0.4994061  0.50424725 0.5038579  0.5004523\n",
            " 0.501888   0.50123155]\n",
            "out_coher: [0.5085158  0.2479236  0.260184   0.21995826 0.49136275 0.50122726\n",
            " 0.2009056  0.50618076 0.29743102 0.3089583  0.4870553  0.21759799\n",
            " 0.4962032  0.51291806 0.23486307 0.48359907 0.5110454  0.20727879\n",
            " 0.29316542 0.49619165 0.5154281  0.22478072 0.24430475 0.51368076\n",
            " 0.49418917 0.50223464 0.30540255 0.31970227 0.2884814  0.24548163\n",
            " 0.33599094 0.22921658]\n",
            "out_prompt: [1.5223774e-03 3.0670220e-01 3.8489074e-01 3.7937275e-01 1.9109958e-04\n",
            " 2.1391321e-02 7.7213137e-03 3.5965586e-01 1.4183730e-02 1.3278226e-03\n",
            " 1.2886796e-02 3.5206714e-01 1.1706623e-02 5.0549641e-02 9.0443790e-02\n",
            " 4.7859509e-04 4.0085196e-01 4.4462220e-03 1.1131613e-03 3.7868693e-01\n",
            " 1.6212107e-04 1.3061620e-03 3.6733103e-01 3.6945334e-01 3.6399093e-01\n",
            " 3.8020998e-01 3.7017903e-01 1.6707431e-03 3.3574176e-03 4.2417743e-03\n",
            " 1.3400773e-03 3.3672816e-01]\n",
            "combined_score: [0.7911475300788879, 0.5513442754745483, 0.5997871160507202, 0.7015222907066345, 0.7277156114578247, 0.5840564370155334, 0.7883241176605225, 0.7512066960334778, 0.7758816480636597, 0.51435786485672, 0.6661731004714966, 0.6069066524505615, 0.6259343028068542, 0.5207193493843079, 0.49374809861183167, 0.47449764609336853, 0.5279034376144409, 0.4837682843208313, 0.6069909334182739, 0.4949055314064026, 0.8548682332038879, 0.7319377064704895, 0.5593125820159912, 0.7228314876556396, 0.6432414054870605, 0.6502978801727295, 0.6568223834037781, 0.5588688254356384, 0.5006570816040039, 0.5182604789733887, 0.7075346112251282, 0.4827595353126526]\n",
            "coherence_score_nli: [0.11924043430813722, 0.2303391255151767, 0.06083419488277286, 0.045335821947082876, 0.15634997259599692, 0.21411617178147516, 0.1444382032337175, 0.11876439879415557, 0.173229171934983, 0.07708935174159706, 0.1313825530587169, 0.6487274169921875, 0.18304359969624784, 0.32748468284262344, 0.18010024520481238, 0.05769126329687424, 0.13354339384074723, 0.056732057283322014, 0.052955401285241045, 0.07217173177438478, 0.06978860936270884, 0.28671639746365446, 0.10567322216229513, 0.06541987143767376, 0.12302256813272834, 0.14489666345928395, 0.005721444962546229, 0.13288387036300264, 0.0353397784444193, 0.01872253728409608, 0.06907909525034484, 0.022043696604669094]\n",
            "normalized_score: [1.         0.4        0.88888889 0.         0.7        0.6\n",
            " 0.7        1.         0.6        0.75       0.7        0.33333333\n",
            " 0.6        0.6        0.6        0.5        0.94444444 0.66666667\n",
            " 0.66666667 0.5        0.7        0.66666667 0.66666667 1.\n",
            " 0.5        0.83333333 0.77777778 0.66666667 0.33333333 0.33333333\n",
            " 1.         0.44444444]\n"
          ]
        },
        {
          "name": "stderr",
          "output_type": "stream",
          "text": [
            "  2%|▏         | 9/375 [30:19<20:25:03, 200.83s/it]"
          ]
        },
        {
          "name": "stdout",
          "output_type": "stream",
          "text": [
            "Shapes before creating DataFrame:\n",
            "out_semantic: [0.5018625  0.50550115 0.50203454 0.50617903 0.5037906  0.5026193\n",
            " 0.50397074 0.5044152  0.49818668 0.501886   0.50440556 0.5037108\n",
            " 0.50479656 0.50240004 0.5027331  0.5042888  0.50611067 0.50119567\n",
            " 0.50143695 0.5026636  0.5017979  0.5043445  0.4999746  0.503511\n",
            " 0.500204   0.5045779  0.5016654  0.5047843  0.5045473  0.50471604\n",
            " 0.50174093 0.49991715]\n",
            "out_coher: [0.50656635 0.51894796 0.48525667 0.5052192  0.49720186 0.47561455\n",
            " 0.21561319 0.20928545 0.4525625  0.29054794 0.49013874 0.48041308\n",
            " 0.25894558 0.49824616 0.52416015 0.50487256 0.49233034 0.49868554\n",
            " 0.507329   0.49370077 0.49861816 0.49656114 0.5207955  0.23165433\n",
            " 0.31727928 0.49876484 0.2941964  0.23073383 0.26167467 0.27463564\n",
            " 0.49170792 0.5062575 ]\n",
            "out_prompt: [1.74950121e-03 1.67261076e-03 3.64520936e-03 1.62373134e-03\n",
            " 1.53397977e-01 8.33479688e-03 1.82315484e-01 3.74921918e-01\n",
            " 1.71761676e-05 6.60721511e-02 1.11567148e-03 1.66586608e-01\n",
            " 4.16502468e-02 3.56847495e-01 1.38161168e-01 4.44988022e-04\n",
            " 3.62576485e-01 3.58131319e-01 3.92905384e-01 6.16657510e-02\n",
            " 1.33326394e-03 3.82302493e-01 9.77122225e-03 2.46859831e-03\n",
            " 3.35030586e-01 3.87847155e-01 3.58782530e-01 3.55333596e-01\n",
            " 3.53213310e-01 1.83233507e-02 1.17798254e-01 3.80001783e-01]\n",
            "combined_score: [0.6511938571929932, 0.3349531888961792, 0.44356822967529297, 0.5279377102851868, 0.5378800630569458, 0.5811463594436646, 0.3248492181301117, 0.41588419675827026, 0.5656259655952454, 0.5280890464782715, 0.6726062297821045, 0.5116556286811829, 0.4275856018066406, 0.6544349193572998, 0.6618770956993103, 0.6716638803482056, 0.7819579839706421, 0.6385872960090637, 0.6832255721092224, 0.5689685344696045, 0.7471293210983276, 0.6525701284408569, 0.5603658556938171, 0.4714984595775604, 0.7440592646598816, 0.7060335278511047, 0.43563899397850037, 0.7790241837501526, 0.15221494436264038, 0.6393940448760986, 0.594569742679596, 0.5043736100196838]\n",
            "coherence_score_nli: [0.17286042751844174, 0.11526451616858442, 0.051913252705708145, 0.24685752764344215, 0.10483892812626436, 0.16968300845474005, 0.3807157297311018, 0.17432272775913588, 0.1376844910784822, 0.2350652819389806, 0.282458549624102, 0.19603361734189093, 0.21932490938343108, 0.01883414546318818, 0.17924246456823312, 0.12664334422775678, 0.19087497694417835, 0.024128734300445234, 0.13753608707338572, 0.1265628439346876, 0.18632518073233464, 0.03743745774651567, 0.2107977778747833, 0.0482713533565402, 0.05213085305083289, 0.19205795997404493, 0.40231478214263916, 0.07965418235010778, 0.9583368301391602, 0.1431616996292417, 0.18109900898450768, 0.24715410580392927]\n",
            "normalized_score: [0.9        0.25       0.5        0.33333333 0.6        0.6\n",
            " 0.2        0.77777778 0.6        0.6        0.6        0.4\n",
            " 0.4        0.77777778 0.6        0.75       0.75       0.5\n",
            " 1.         0.8        1.         0.75       0.4        0.33333333\n",
            " 1.         0.6        0.66666667 0.94444444 0.         0.6\n",
            " 0.6        0.4       ]\n"
          ]
        },
        {
          "name": "stderr",
          "output_type": "stream",
          "text": [
            "  3%|▎         | 10/375 [33:35<20:13:55, 199.55s/it]"
          ]
        },
        {
          "name": "stdout",
          "output_type": "stream",
          "text": [
            "Shapes before creating DataFrame:\n",
            "out_semantic: [0.50258267 0.50521976 0.502338   0.5000316  0.50691247 0.5029654\n",
            " 0.5032367  0.50228876 0.5049792  0.50149864 0.5021549  0.5019183\n",
            " 0.5035301  0.50275046 0.5006272  0.50180686 0.5019928  0.500003\n",
            " 0.50262684 0.49671793 0.5030164  0.50338876 0.50180334 0.500743\n",
            " 0.5012648  0.49785253 0.50232506 0.4999907  0.50302255 0.50129694\n",
            " 0.501369   0.5022761 ]\n",
            "out_coher: [0.22621417 0.29860282 0.18744975 0.22676903 0.22391924 0.24984568\n",
            " 0.22111808 0.50087774 0.48968387 0.49805441 0.23923326 0.33074117\n",
            " 0.49900487 0.2730146  0.28381655 0.49810374 0.18005016 0.50926477\n",
            " 0.22411987 0.45546332 0.33877295 0.48908523 0.2777849  0.27986854\n",
            " 0.49229378 0.49326536 0.22391014 0.23219594 0.2678133  0.4955852\n",
            " 0.49711448 0.3203557 ]\n",
            "out_prompt: [2.8949194e-03 2.9172949e-03 1.0685103e-03 3.5064816e-01 3.6450997e-01\n",
            " 3.8151407e-01 3.7278804e-01 1.5295533e-03 5.3815143e-03 3.4662017e-01\n",
            " 3.5154521e-01 3.6148456e-01 3.3369783e-01 1.6217668e-03 3.1059053e-02\n",
            " 3.6944300e-01 3.4957007e-01 3.5239878e-01 3.4889594e-01 1.0011402e-04\n",
            " 4.8407745e-03 3.6926547e-01 5.8522861e-04 3.7181881e-01 3.5931700e-01\n",
            " 1.2608874e-03 1.4662531e-03 8.1834763e-02 3.6187595e-01 1.0564261e-03\n",
            " 1.3740568e-02 3.4896496e-01]\n",
            "combined_score: [0.6491768956184387, 0.7607584595680237, 0.27996835112571716, 0.6220810413360596, 0.6206624507904053, 0.5896674990653992, 0.7419003248214722, 0.8497584462165833, 0.8081504106521606, 0.5305168032646179, 0.47003424167633057, 0.5168559551239014, 0.8179010152816772, 0.6375268697738647, 0.6184775233268738, 0.7779958248138428, 0.6413394808769226, 0.4943692684173584, 0.6975427269935608, 0.7709829211235046, 0.638365626335144, 0.8723188042640686, 0.46702665090560913, 0.2892330586910248, 0.8013210296630859, 0.691248893737793, 0.3673838675022125, 0.47366154193878174, 0.5463690161705017, 0.5534657835960388, 0.7360168695449829, 0.4009976387023926]\n",
            "coherence_score_nli: [0.04248748421669006, 0.22379163528482118, 0.04246842861175537, 0.17382606382016091, 0.07050390294753014, 0.201639916941834, 0.019893993018195034, 0.1596277991322697, 0.12435193879914899, 0.17902636341750622, 0.269216206989118, 0.023462142795324326, 0.09805458605804138, 0.0308806949906284, 0.13542767751496285, 0.17002461535028285, 0.01869659766089171, 0.06250686748119604, 0.06892447848804295, 0.1279700090755906, 0.10356207060006757, 0.09892081236466765, 0.03454858809709549, 0.0, 0.07405841946601868, 0.12354132435575593, 0.10435777474776842, 0.20105916834162438, 0.07682733684778213, 0.25739885252658967, 0.16004947808952155, 0.08561557531356812]\n",
            "normalized_score: [1.         1.         0.33333333 0.61111111 0.25       0.66666667\n",
            " 0.66666667 1.         0.6        0.4        0.6        0.66666667\n",
            " 1.         1.         0.6        0.75       0.66666667 0.25\n",
            " 0.83333333 0.6        0.66666667 0.75       0.25       0.33333333\n",
            " 1.         0.9        0.33333333 0.6        0.66666667 0.4\n",
            " 0.7        0.        ]\n"
          ]
        },
        {
          "name": "stderr",
          "output_type": "stream",
          "text": [
            "  3%|▎         | 11/375 [36:50<20:02:22, 198.20s/it]"
          ]
        },
        {
          "name": "stdout",
          "output_type": "stream",
          "text": [
            "Shapes before creating DataFrame:\n",
            "out_semantic: [0.5044783  0.50406003 0.5021276  0.5032503  0.5032067  0.5045532\n",
            " 0.5024672  0.50422364 0.5007823  0.5014801  0.50618327 0.5015655\n",
            " 0.50394136 0.4929577  0.5028419  0.4989763  0.5057106  0.5016847\n",
            " 0.50375545 0.50108564 0.5030851  0.5034282  0.5053034  0.50192845\n",
            " 0.49805796 0.50591594 0.50601774 0.50581855 0.50709426 0.5003737\n",
            " 0.50670385 0.503857  ]\n",
            "out_coher: [0.21958616 0.3176106  0.29812318 0.25589916 0.2659053  0.26223657\n",
            " 0.48166144 0.25789487 0.28317842 0.47214776 0.49742684 0.48366553\n",
            " 0.20818377 0.4932988  0.28228647 0.5156321  0.48427066 0.49968952\n",
            " 0.22334924 0.30369264 0.31492686 0.25922757 0.2429658  0.2408038\n",
            " 0.1969537  0.266142   0.51506287 0.3397854  0.49398825 0.25694475\n",
            " 0.48067427 0.26981813]\n",
            "out_prompt: [3.0401018e-03 2.9187459e-03 5.4208864e-02 4.7077560e-03 3.6060995e-01\n",
            " 3.5461074e-01 5.4482516e-04 9.3217718e-04 1.8947282e-04 1.6652431e-01\n",
            " 1.8986908e-04 3.6886823e-01 3.6406806e-01 1.8026156e-03 3.8052809e-01\n",
            " 1.8636215e-02 1.4899941e-03 7.8598270e-05 3.4109029e-01 3.5361627e-01\n",
            " 1.2261513e-02 2.7499273e-01 3.5769546e-01 1.9441916e-03 3.8491515e-03\n",
            " 3.3106074e-01 6.2146364e-03 3.5544696e-01 2.4565766e-03 3.5604626e-01\n",
            " 1.4120426e-04 2.6961559e-01]\n",
            "combined_score: [0.2702693045139313, 0.7591719627380371, 0.459805428981781, 0.3291196823120117, 0.26544618606567383, 0.5753358602523804, 0.8035280704498291, 0.6982775926589966, 0.7357351183891296, 0.7260767221450806, 0.8205687999725342, 0.7841170430183411, 0.6609325408935547, 0.5193396210670471, 0.45834875106811523, 0.6449494361877441, 0.6088050603866577, 0.437542200088501, 0.4352760910987854, 0.2037932574748993, 0.5540366768836975, 0.3384956121444702, 0.8059608340263367, 0.5595624446868896, 0.7681531310081482, 0.5718016028404236, 0.49204021692276, 0.32155895233154297, 0.39937958121299744, 0.35087859630584717, 0.6221261620521545, 0.5391641855239868]\n",
            "coherence_score_nli: [0.9582810401916504, 0.08848092504777014, 0.08433191571384668, 0.07582959920788805, 0.07541538091997306, 0.29918378591537476, 0.2448438743206983, 0.08448415071082611, 0.24843593914588186, 0.05279903198019243, 0.08508969470858574, 0.17524289842694998, 0.11643198553550367, 0.18648086972266006, 0.18421469402632543, 0.16190550028113648, 0.27233281717635693, 0.14158793874958064, 0.10108965029940009, 0.0, 0.005329808540409431, 0.17075944688570285, 0.12747828289866447, 0.31753311213105917, 0.10506589817149299, 0.027828585356473923, 0.23748017979475358, 0.13980260491371155, 0.17473972775042057, 0.016480990995963413, 0.2361628515413031, 0.2882077880203724]\n",
            "normalized_score: [0.33333333 1.         0.4        0.33333333 0.44444444 0.88888889\n",
            " 0.75       1.         0.6        0.66666667 1.         0.5\n",
            " 0.61111111 0.6        0.66666667 0.6        0.33333333 0.5\n",
            " 0.2        0.         0.33333333 0.2        0.75       0.66666667\n",
            " 1.         0.66666667 0.4        0.         0.5        0.61111111\n",
            " 0.6        0.4       ]\n"
          ]
        },
        {
          "name": "stderr",
          "output_type": "stream",
          "text": [
            "  3%|▎         | 12/375 [40:01<19:45:08, 195.89s/it]"
          ]
        },
        {
          "name": "stdout",
          "output_type": "stream",
          "text": [
            "Shapes before creating DataFrame:\n",
            "out_semantic: [0.5058807  0.5045242  0.500466   0.5064343  0.50408614 0.50410444\n",
            " 0.5026066  0.49989745 0.49747244 0.5026473  0.50272304 0.49985126\n",
            " 0.501221   0.5059108  0.50434214 0.5022532  0.5039096  0.49381608\n",
            " 0.50457644 0.50284433 0.5004862  0.5018046  0.5023606  0.50569487\n",
            " 0.5058801  0.5020712  0.50095844 0.5037749  0.50339234 0.5003043\n",
            " 0.502797   0.5047165 ]\n",
            "out_coher: [0.22602703 0.26982033 0.49127764 0.19358931 0.27572763 0.2699618\n",
            " 0.49725464 0.4959583  0.21987185 0.25771457 0.49714193 0.21443616\n",
            " 0.4887475  0.49975157 0.2836566  0.49845874 0.30137488 0.48713675\n",
            " 0.23688953 0.36578855 0.49296442 0.49865407 0.5049536  0.48630416\n",
            " 0.49169964 0.25069505 0.2029411  0.19006199 0.49672675 0.49695563\n",
            " 0.22900853 0.22444887]\n",
            "out_prompt: [3.5611421e-01 5.2963677e-03 3.7739107e-01 3.6987683e-01 3.6948088e-01\n",
            " 5.5566714e-03 1.2214885e-03 1.9508241e-03 2.6847634e-03 6.0600862e-02\n",
            " 3.6183128e-01 2.9695482e-04 3.6351237e-01 3.6629659e-01 3.6550751e-01\n",
            " 3.5681590e-01 1.1920547e-03 2.6074768e-04 1.4340183e-03 3.9091349e-01\n",
            " 4.6598396e-04 1.6585403e-03 3.5625225e-01 3.5705060e-01 3.5409856e-01\n",
            " 3.5132375e-03 2.8654523e-03 1.7187684e-03 3.6302477e-01 9.5407380e-04\n",
            " 3.4152833e-01 3.7105846e-01]\n",
            "combined_score: [0.5990283489227295, 0.29488277435302734, 0.7316844463348389, 0.4437330663204193, 0.05906011164188385, 0.5328922271728516, 0.5588374137878418, 0.6543450355529785, 0.6185254454612732, 0.6739740371704102, 0.703725278377533, 0.379193514585495, 0.8866506218910217, 0.5775564908981323, 0.7470408082008362, 0.5286350250244141, 0.6955267786979675, 0.7382887005805969, 0.45638421177864075, 0.10126805305480957, 0.8177247047424316, 0.5462707281112671, 0.528577983379364, 0.4655694365501404, 0.7272010445594788, 0.6552733778953552, 0.12212379276752472, 0.48592549562454224, 0.7489482164382935, 0.7324888110160828, 0.6581931114196777, 0.5497603416442871]\n",
            "coherence_score_nli: [0.30708372965455055, 0.3286588490009308, 0.13606389984488487, 0.07482244369263451, 0.0, 0.07106190058402717, 0.250964601803571, 0.049038629712803025, 0.02930949507281184, 0.12187972768237267, 0.11535462620668113, 0.037458328530192375, 0.0726728459703736, 0.02473381080199033, 0.11441861093044281, 0.1797126788749463, 0.14513040247506329, 0.20486586665113768, 0.17575761396437883, 0.0, 0.21299810953099618, 0.11063951067626476, 0.19760423845478467, 0.15979762190383756, 0.17016739817336202, 0.1608083342667669, 0.06443065591156483, 0.29609283059835434, 0.10381105176306196, 0.1656852657924901, 0.09367528268194292, 0.3726736009120941]\n",
            "normalized_score: [0.4        0.         0.75       0.5        0.         0.5\n",
            " 0.5        0.75       0.66666667 0.6        0.75       0.25\n",
            " 0.75       0.75       1.         0.4        0.75       0.8\n",
            " 0.5        0.33333333 1.         0.66666667 0.2        0.25\n",
            " 0.75       0.66666667 0.         0.33333333 0.75       0.9\n",
            " 0.         0.4       ]\n"
          ]
        },
        {
          "name": "stderr",
          "output_type": "stream",
          "text": [
            "  3%|▎         | 13/375 [43:12<19:33:42, 194.54s/it]"
          ]
        },
        {
          "name": "stdout",
          "output_type": "stream",
          "text": [
            "Shapes before creating DataFrame:\n",
            "out_semantic: [0.50180846 0.499012   0.5005315  0.5031914  0.50564617 0.5091898\n",
            " 0.50489926 0.50324744 0.50019187 0.50623554 0.5000247  0.5077564\n",
            " 0.50276506 0.50163954 0.5025069  0.5030624  0.503891   0.50417596\n",
            " 0.50369436 0.50348514 0.5026028  0.50517386 0.501477   0.5083819\n",
            " 0.50093305 0.49976826 0.5038923  0.5023505  0.50490844 0.5033444\n",
            " 0.50489676 0.50203466]\n",
            "out_coher: [0.50416887 0.4965349  0.24985665 0.47612375 0.17923214 0.49608552\n",
            " 0.2599534  0.49572963 0.50318617 0.2100008  0.23282997 0.5004165\n",
            " 0.4993193  0.4955771  0.2778042  0.4934933  0.49081755 0.32540667\n",
            " 0.25752756 0.26296192 0.49202222 0.25056705 0.2580356  0.26817292\n",
            " 0.4935459  0.20278078 0.2816224  0.21188195 0.49016643 0.29084015\n",
            " 0.4942006  0.5157762 ]\n",
            "out_prompt: [1.6563419e-02 3.6173677e-01 3.9311070e-03 3.5685551e-01 2.6084015e-03\n",
            " 1.2539944e-04 1.7745914e-03 5.1677241e-03 3.6749497e-01 3.4029958e-01\n",
            " 3.8026899e-01 3.7875500e-01 2.7751553e-01 1.6701877e-02 3.6570325e-01\n",
            " 3.3760768e-01 3.7427011e-01 4.5555364e-03 5.7129968e-02 9.5425925e-04\n",
            " 5.4582809e-03 3.6067462e-01 3.6391446e-01 1.9276286e-02 3.2182306e-01\n",
            " 2.6903367e-01 3.9298174e-01 3.6173195e-01 4.1125619e-01 3.7427402e-01\n",
            " 3.9267904e-01 3.7873426e-01]\n",
            "combined_score: [0.7357462644577026, 0.7034503817558289, 0.7605372667312622, 0.35514381527900696, 0.7260079383850098, 0.7658450603485107, 0.3157603144645691, 0.5270907282829285, 0.6945196390151978, 0.43859803676605225, 0.46302399039268494, 0.7274290323257446, 0.5998664498329163, 0.5670360922813416, 0.4694223701953888, 0.5901885032653809, 0.6735295653343201, 0.6513692736625671, 0.2210197150707245, 0.33389776945114136, 0.5004615783691406, 0.5126230716705322, 0.5528063774108887, 0.539210319519043, 0.5601896643638611, 0.6013389825820923, 0.48652878403663635, 0.6567050218582153, 0.3253999352455139, 0.1784534901380539, 0.6968050003051758, 0.5606898069381714]\n",
            "coherence_score_nli: [0.0660667100455612, 0.192124714575974, 0.028592101046039414, 0.23397860820405186, 0.025214325170964003, 0.13131583580573977, 0.0, 0.11480197412893176, 0.014291834202595055, 0.1612314786761999, 0.007816100493073463, 0.09508914706141998, 0.16692230899241708, 0.11843627770140301, 0.028046017255595263, 0.1479530099662952, 0.008492945414036512, 0.20904735517170694, 0.005763837601989508, 0.0, 0.43820160379012424, 0.23521851158390442, 0.1470210949992179, 0.17533569905208424, 0.06616853303178989, 0.17686368428191848, 0.1081717309425585, 0.06727002518406759, 0.14115237519145013, 0.06305935978889465, 0.19355405527832253, 0.0011805090859221916]\n",
            "normalized_score: [0.75       0.75       1.         0.4        0.66666667 0.8\n",
            " 0.33333333 0.75       0.75       0.4        0.         0.75\n",
            " 0.6        0.5        0.66666667 0.4        0.5        1.\n",
            " 0.25       0.33333333 0.33333333 0.5        0.2        0.6\n",
            " 0.5        0.6        0.4        0.6        0.33333333 0.33333333\n",
            " 0.75       0.25      ]\n"
          ]
        },
        {
          "name": "stderr",
          "output_type": "stream",
          "text": [
            "  4%|▎         | 14/375 [46:20<19:17:20, 192.36s/it]"
          ]
        },
        {
          "name": "stdout",
          "output_type": "stream",
          "text": [
            "Shapes before creating DataFrame:\n",
            "out_semantic: [0.50829375 0.50604576 0.5030597  0.5067113  0.50365055 0.5022154\n",
            " 0.5017775  0.5010622  0.5029102  0.5025347  0.50364    0.5006757\n",
            " 0.5049438  0.50247586 0.5000267  0.50283587 0.5032957  0.50099593\n",
            " 0.5010402  0.5023413  0.5028098  0.5024447  0.50223297 0.48764026\n",
            " 0.5031956  0.5017667  0.5026088  0.49895725 0.5058145  0.50540197\n",
            " 0.49867624 0.5038331 ]\n",
            "out_coher: [0.4904998  0.355604   0.49710315 0.2178143  0.2599214  0.5018909\n",
            " 0.29421744 0.5022805  0.4883902  0.23976834 0.4954819  0.25944015\n",
            " 0.19485848 0.48338616 0.23028019 0.4705422  0.29243213 0.2523409\n",
            " 0.2655893  0.2164173  0.48079905 0.49111202 0.4892823  0.5051634\n",
            " 0.49151155 0.27462578 0.23850489 0.27063793 0.18854041 0.3221288\n",
            " 0.5146522  0.4786297 ]\n",
            "out_prompt: [5.3296058e-04 1.1435242e-01 3.6683488e-01 1.0453286e-02 3.7093970e-01\n",
            " 2.2216540e-04 4.4901641e-03 3.5295856e-01 9.6891570e-04 3.3548307e-01\n",
            " 3.3452582e-01 2.6456648e-03 4.6116137e-03 4.7493340e-03 3.6157441e-01\n",
            " 6.1623671e-04 3.4885651e-01 3.7799382e-01 3.7733737e-01 4.9849418e-03\n",
            " 4.1279042e-04 5.0025649e-04 2.3890004e-01 2.6522347e-04 7.9455395e-04\n",
            " 3.7447202e-01 3.8830924e-01 3.0435860e-01 1.0780879e-01 3.8620964e-01\n",
            " 3.6645430e-01 2.8786892e-01]\n",
            "combined_score: [0.6019883751869202, 0.5080392360687256, 0.7678664922714233, 0.5571668744087219, 0.6219106316566467, 0.7900248169898987, 0.444976806640625, 0.4331797957420349, 0.7864487171173096, 0.5062466859817505, 0.6355396509170532, 0.37469762563705444, 0.5308305621147156, 0.7841981053352356, 0.6257082223892212, 0.6225073337554932, 0.6515563726425171, 0.5938853621482849, 0.5370374321937561, 0.533402681350708, 0.6080138683319092, 0.6168588399887085, 0.6244171857833862, 0.5060904026031494, 0.5319416522979736, 0.565020740032196, 0.5675449371337891, 0.8617926239967346, 0.6729099750518799, 0.20606034994125366, 0.7450602650642395, 0.5800864696502686]\n",
            "coherence_score_nli: [0.05382444150745869, 0.22197866067290306, 0.12796007357537748, 0.0, 0.04944613063707948, 0.20745160841298374, 0.1585241618255774, 0.060378014420469604, 0.21230971269930402, 0.2560615713397662, 0.07239415206842953, 0.1667539986471335, 0.19181090220808983, 0.23820515031761982, 0.3015887310818168, 0.1833484265635806, 0.11966177050701597, 0.19507234543561935, 0.17427910827100276, 0.14573440662781267, 0.21730170386413541, 0.22853828708036378, 0.25292609525578363, 0.19805292386669093, 0.2608300160791259, 0.06045930335919062, 0.20344783707211414, 0.020542051309894303, 0.14890828071576026, 0.0, 0.07525926678707558, 0.27353862843786675]\n",
            "normalized_score: [0.75       0.4        0.5        0.33333333 0.66666667 0.8\n",
            " 0.33333333 0.66666667 1.         0.33333333 0.72222222 0.33333333\n",
            " 0.33333333 0.8        0.72222222 0.4        0.88888889 0.33333333\n",
            " 0.66666667 0.2        0.4        0.6        0.5        0.6\n",
            " 0.4        0.66666667 0.33333333 0.83333333 0.5        0.25\n",
            " 0.75       0.5       ]\n"
          ]
        },
        {
          "name": "stderr",
          "output_type": "stream",
          "text": [
            "  4%|▍         | 15/375 [49:33<19:15:18, 192.55s/it]"
          ]
        },
        {
          "name": "stdout",
          "output_type": "stream",
          "text": [
            "Shapes before creating DataFrame:\n",
            "out_semantic: [0.5063936  0.5019981  0.50554556 0.5036537  0.50332236 0.5022053\n",
            " 0.5017217  0.50011885 0.5045343  0.50418144 0.5031655  0.5033021\n",
            " 0.5029082  0.5026891  0.50174063 0.5038907  0.50556695 0.50512344\n",
            " 0.5024897  0.5034367  0.50273204 0.49903283 0.5026353  0.5036661\n",
            " 0.50447965 0.5073133  0.5035828  0.50095373 0.5059788  0.5028765\n",
            " 0.50385237 0.49889714]\n",
            "out_coher: [0.49407804 0.31187618 0.49422094 0.48689666 0.21818903 0.23291865\n",
            " 0.22860976 0.3044328  0.4914709  0.21723437 0.22264089 0.30096298\n",
            " 0.5121983  0.3426042  0.22311893 0.22286594 0.48754117 0.20387904\n",
            " 0.25414267 0.3349728  0.49658373 0.3325213  0.4997056  0.24568944\n",
            " 0.49735498 0.5032826  0.29491094 0.24091311 0.50773424 0.4923475\n",
            " 0.25375682 0.23532876]\n",
            "out_prompt: [2.3222029e-04 5.3333357e-04 3.2783241e-03 8.3310843e-02 8.4520597e-04\n",
            " 2.3696512e-04 9.0668537e-04 5.1216024e-04 2.4244425e-04 3.4580150e-01\n",
            " 8.1305165e-04 3.9048907e-01 8.5421040e-04 1.6185587e-04 1.3413114e-03\n",
            " 3.2805112e-01 1.5096922e-04 3.6232233e-01 3.4591720e-01 3.7249425e-01\n",
            " 3.4257650e-01 4.3319771e-03 7.5587147e-04 7.3547370e-04 3.7271208e-01\n",
            " 1.1554789e-02 3.7708968e-01 3.2087830e-01 2.5101801e-04 3.7541729e-01\n",
            " 2.5989997e-01 1.1972517e-05]\n",
            "combined_score: [0.6554273366928101, 0.6703683733940125, 0.5327941179275513, 0.52557373046875, 0.33638596534729004, 0.7015936374664307, 0.2549820840358734, 0.5720352530479431, 0.6777958869934082, 0.5450667142868042, 0.528611421585083, 0.6634054183959961, 0.6605132818222046, 0.44418710470199585, 0.78242027759552, 0.4765740633010864, 0.6070801019668579, 0.2778490483760834, 0.3585547208786011, 0.21002240478992462, 0.3741617202758789, 0.5795192122459412, 0.7711189985275269, 0.2280479371547699, 0.6806029081344604, 0.5554304122924805, 0.31334400177001953, 0.49021536111831665, 0.5155017971992493, 0.6327858567237854, 0.8422510623931885, 0.6809126734733582]\n",
            "coherence_score_nli: [0.19326396343832905, 0.14647894042233625, 0.16192971444171336, 0.2971851587450753, 0.13418657278331617, 0.04424888011999428, 0.0, 0.18547135069966317, 0.452593067322265, 0.13105189823545516, 0.19947115564718843, 0.04746428680502706, 0.07090390578377992, 0.2107398919761181, 0.07393842751237874, 0.14599448777735233, 0.06354193657817733, 0.033408649265766144, 0.0, 0.07452007755637169, 0.09923809883184731, 0.21154693109718592, 0.21477364575611832, 0.05640394985675812, 0.08985510461830667, 0.1401760958135128, 0.006459096446633339, 0.1775718768913066, 0.07677973830141127, 0.102822195738554, 0.07772896071599628, 0.17622400161165458]\n",
            "normalized_score: [0.8        0.66666667 0.6        0.5        0.33333333 1.\n",
            " 0.25       0.25       0.5        0.4        0.33333333 0.77777778\n",
            " 0.75       0.5        0.33333333 0.3        0.5        0.\n",
            " 0.25       0.33333333 0.25       0.6        0.7        0.25\n",
            " 0.75       0.6        0.33333333 0.4        0.5        0.5\n",
            " 0.77777778 0.8       ]\n"
          ]
        },
        {
          "name": "stderr",
          "output_type": "stream",
          "text": [
            "  4%|▍         | 16/375 [52:56<19:31:52, 195.86s/it]"
          ]
        },
        {
          "name": "stdout",
          "output_type": "stream",
          "text": [
            "Shapes before creating DataFrame:\n",
            "out_semantic: [0.49929425 0.49918333 0.50299317 0.5014509  0.5058923  0.5007369\n",
            " 0.50005645 0.50442857 0.49833283 0.501417   0.5021144  0.5005854\n",
            " 0.5040647  0.503189   0.5046176  0.51177186 0.50148225 0.506306\n",
            " 0.5070398  0.5040992  0.50485224 0.5040805  0.5069239  0.5017709\n",
            " 0.5035082  0.49991608 0.5015258  0.5024203  0.5033041  0.5015035\n",
            " 0.5022328  0.506745  ]\n",
            "out_coher: [0.50983816 0.48787713 0.2044588  0.5161592  0.503963   0.28885266\n",
            " 0.252746   0.29085758 0.49374133 0.19945358 0.48347932 0.2679416\n",
            " 0.5013239  0.2523216  0.48402688 0.49419457 0.3014932  0.47812012\n",
            " 0.26428545 0.3201935  0.48623398 0.292549   0.5190707  0.50678486\n",
            " 0.2937894  0.29155228 0.49252674 0.49878564 0.48513263 0.19195549\n",
            " 0.23912919 0.2647128 ]\n",
            "out_prompt: [3.7334713e-01 9.5797731e-03 3.7383407e-01 3.8111585e-04 3.8014424e-01\n",
            " 3.6505577e-01 2.0529267e-03 3.5720173e-01 5.0535781e-04 3.8689855e-01\n",
            " 4.0650548e-04 2.1869589e-03 2.0656599e-04 9.4569701e-04 5.6252200e-02\n",
            " 1.8410693e-04 2.8403425e-03 4.9941032e-04 3.6291698e-01 8.1769394e-04\n",
            " 1.3982340e-04 3.4609735e-01 8.6952180e-02 2.6417384e-01 3.5623056e-01\n",
            " 4.6538487e-03 1.3446486e-02 3.4573326e-01 3.5048109e-01 3.7157318e-01\n",
            " 3.3928323e-01 3.7161091e-01]\n",
            "combined_score: [0.29137641191482544, 0.6934001445770264, 0.2987757921218872, 0.554672360420227, 0.5619383454322815, 0.4046481251716614, 0.57917320728302, 0.49125367403030396, 0.6873925924301147, 0.7439152002334595, 0.721008837223053, 0.8021773099899292, 0.6602442860603333, 0.46641653776168823, 0.7486293911933899, 0.7818458676338196, 0.5027201771736145, 0.6966613531112671, 0.5439648032188416, 0.22446192800998688, 0.5314493179321289, 0.5652505159378052, 0.5318134427070618, 0.6048328280448914, 0.40080687403678894, 0.19943714141845703, 0.6564719080924988, 0.776165783405304, 0.5368861556053162, 0.32611462473869324, 0.7521675825119019, 0.5780442357063293]\n",
            "coherence_score_nli: [0.05332911185299357, 0.08385983369841526, 0.06073638051748276, 0.23688531541265548, 0.20288796598712602, 0.009265728411264718, 0.46244116127491, 0.14459432987496257, 0.280180084393578, 0.17210049847407, 0.12916471542143193, 0.09240709409849453, 0.19071417428656584, 0.09624833834823221, 0.1719598510923485, 0.1607032448535652, 0.27621260929542285, 0.2999098428990692, 0.17573332600295544, 0.40027639269828796, 0.12619061845665178, 0.14330047395612514, 0.19075839576850595, 0.14349212583329063, 0.05741309653967619, 0.15965203940868378, 0.19686775097701079, 0.31891844514757395, 0.29047063663601874, 0.20141415856778622, 0.06598373338864702, 0.0905641932040453]\n",
            "normalized_score: [0.2        0.8        0.         0.5        0.5        0.33333333\n",
            " 0.66666667 0.77777778 0.8        0.83333333 0.8        1.\n",
            " 0.75       0.33333333 0.7        0.9        0.33333333 1.\n",
            " 0.6        0.         0.5        0.4        0.6        0.6\n",
            " 0.33333333 0.66666667 0.8        0.5        0.33333333 0.\n",
            " 0.72222222 0.75      ]\n"
          ]
        },
        {
          "name": "stderr",
          "output_type": "stream",
          "text": [
            "  5%|▍         | 17/375 [56:08<19:21:50, 194.72s/it]"
          ]
        },
        {
          "name": "stdout",
          "output_type": "stream",
          "text": [
            "Shapes before creating DataFrame:\n",
            "out_semantic: [0.5015369  0.5042827  0.5036714  0.5040723  0.5029252  0.50261956\n",
            " 0.50560945 0.50068533 0.50177777 0.502756   0.5039239  0.5005096\n",
            " 0.50223756 0.5045953  0.5011911  0.5027377  0.5015124  0.50394726\n",
            " 0.5040824  0.50207675 0.5025862  0.50350726 0.50333303 0.5015231\n",
            " 0.5047618  0.5058656  0.50226617 0.5020219  0.50370723 0.5003616\n",
            " 0.5057421  0.5001287 ]\n",
            "out_coher: [0.24282649 0.24712521 0.2715522  0.2560396  0.29770175 0.49716833\n",
            " 0.48871583 0.28713435 0.46009406 0.4790941  0.2355041  0.28678554\n",
            " 0.5084246  0.5035665  0.2833904  0.23118967 0.32561687 0.2700177\n",
            " 0.24820311 0.4923442  0.49822947 0.25031263 0.49462298 0.2378438\n",
            " 0.48947936 0.30226576 0.48753852 0.236993   0.22555825 0.4980526\n",
            " 0.3273291  0.2466299 ]\n",
            "out_prompt: [1.2300136e-01 3.5112959e-01 3.3442491e-01 1.0474370e-03 1.9857509e-03\n",
            " 2.8556149e-04 7.4106567e-02 3.8181928e-01 9.2771319e-05 1.0122266e-01\n",
            " 2.1664198e-02 3.6730278e-01 3.9567956e-01 3.5967591e-01 3.5829616e-01\n",
            " 3.6443520e-01 3.6737818e-01 5.8890029e-04 2.3597314e-03 7.1723729e-02\n",
            " 3.6990070e-01 3.7348190e-01 3.4531823e-01 1.2586544e-03 7.4182510e-02\n",
            " 3.4893391e-04 7.0670288e-04 4.9373200e-03 3.6523414e-01 3.6066651e-01\n",
            " 1.3644116e-02 3.8541809e-01]\n",
            "combined_score: [0.4225706160068512, 0.6434832811355591, 0.7430014610290527, 0.5676823258399963, 0.8482478857040405, 0.7432931065559387, 0.5026007294654846, 0.5764046907424927, 0.8780391216278076, 0.4766349196434021, 0.5717310905456543, 0.6182883977890015, 0.6656323671340942, 0.4078945517539978, 0.21159982681274414, 0.7423179149627686, 0.4888591170310974, 0.7754595279693604, 0.4918171763420105, 0.6720228791236877, 0.45642322301864624, 0.7223201394081116, 0.46647152304649353, 0.7119339108467102, 0.5115145444869995, 0.7214924693107605, 0.6824474930763245, 0.5440819263458252, 0.6137177348136902, 0.35161730647087097, 0.657774806022644, 0.5809454917907715]\n",
            "coherence_score_nli: [0.15719479293777391, 0.36088990047574043, 0.18113360876062265, 0.019793804734945297, 0.29344247803092005, 0.23896502695667246, 0.1078326105925953, 0.30294921435415745, 0.11048743440287895, 0.3438903867499903, 0.06790181123797083, 0.224061352511247, 0.11567306495271623, 0.320016723126173, 0.0, 0.09200203514192254, 0.09181562873224418, 0.16126824027014663, 0.054287251085042953, 0.2964360447866576, 0.07494584596133791, 0.1015196005270506, 0.3574161392947038, 0.020945008285343646, 0.20545424208311097, 0.08962764096213505, 0.050325203886521716, 0.029806408216245472, 0.11686956072743568, 0.6463966766993204, 0.14393482130253688, 0.07878639657671253]\n",
            "normalized_score: [0.4        0.25       0.88888889 0.5        0.66666667 0.7\n",
            " 0.6        0.66666667 1.         0.4        0.4        1.\n",
            " 0.66666667 0.         0.         1.         0.66666667 0.75\n",
            " 0.5        0.8        0.5        0.75       0.4        0.66666667\n",
            " 0.4        0.7        0.75       0.33333333 0.66666667 0.27777778\n",
            " 1.         0.33333333]\n"
          ]
        },
        {
          "name": "stderr",
          "output_type": "stream",
          "text": [
            "  5%|▍         | 18/375 [59:14<19:02:44, 192.06s/it]"
          ]
        },
        {
          "name": "stdout",
          "output_type": "stream",
          "text": [
            "Shapes before creating DataFrame:\n",
            "out_semantic: [0.5010613  0.5063695  0.5010437  0.50361836 0.50214857 0.5047692\n",
            " 0.5033168  0.50642353 0.50389695 0.5067124  0.50165945 0.5087229\n",
            " 0.50130546 0.5027792  0.49762547 0.5045017  0.50343084 0.50401294\n",
            " 0.5029317  0.50075287 0.50411236 0.5050257  0.5037534  0.5015433\n",
            " 0.5067598  0.5053708  0.5047306  0.4985409  0.5053367  0.50079036\n",
            " 0.5040097  0.5027255 ]\n",
            "out_coher: [0.5003565  0.18214925 0.5071582  0.510842   0.21151686 0.2136145\n",
            " 0.28449368 0.2631962  0.29709497 0.24403873 0.29285344 0.5004888\n",
            " 0.5154223  0.21126147 0.48751828 0.25471017 0.25817704 0.30955723\n",
            " 0.21531928 0.24426968 0.22099216 0.28121674 0.3474404  0.5036003\n",
            " 0.31874603 0.47753298 0.50227463 0.28904104 0.4905006  0.49874318\n",
            " 0.29231733 0.49498045]\n",
            "out_prompt: [3.70167464e-01 2.91817385e-04 3.52634698e-01 3.59345973e-01\n",
            " 2.44264095e-03 3.71807516e-01 1.81624200e-02 1.03832655e-01\n",
            " 1.82598387e-03 3.90813351e-01 2.01916378e-02 1.13124924e-03\n",
            " 8.56009200e-02 1.19808035e-04 1.04520448e-04 3.56353074e-01\n",
            " 3.76123548e-01 1.83954672e-03 3.61943662e-01 3.71653885e-01\n",
            " 1.96354254e-03 3.83981615e-01 3.66582572e-01 3.94824982e-01\n",
            " 5.59054781e-03 3.60070914e-01 1.25164224e-03 2.01209169e-03\n",
            " 3.80027354e-01 3.73134226e-01 3.81785333e-01 3.66717935e-01]\n",
            "combined_score: [0.7846276760101318, 0.7557176947593689, 0.4820292592048645, 0.7645053267478943, 0.34979087114334106, 0.6045259237289429, 0.724164605140686, 0.663796603679657, 0.1396290361881256, 0.5307807922363281, 0.577135443687439, 0.7415583729743958, 0.40853363275527954, 0.3560168743133545, 0.6703140139579773, 0.3168465793132782, 0.6232888698577881, 0.7248553037643433, 0.4748823344707489, 0.6813852787017822, 0.5768071413040161, 0.6296103596687317, 0.8048115372657776, 0.6263540387153625, 0.7713737487792969, 0.6005763411521912, 0.5077231526374817, 0.445973664522171, 0.2072465419769287, 0.7399068474769592, 0.756874144077301, 0.83043372631073]\n",
            "coherence_score_nli: [0.0915648876171973, 0.09778557448104645, 0.19572662162993634, 0.07661802177400594, 0.3434224526087443, 0.008889054879546165, 0.16893020171361664, 0.12073245955010255, 0.05393262207508087, 0.021472690626978874, 0.1222723055165261, 0.08445287612266839, 0.1523864035339405, 0.38943259914716083, 0.15371624052885077, 0.39625438824296, 0.03772006129535536, 0.12351566534489393, 0.21416879321138063, 0.05353153784138461, 0.09083780832588673, 0.1901128612080356, 0.07301633324599467, 0.07516801262972876, 0.03174745062798528, 0.0413639333888164, 0.018320550210773945, 0.0, 0.2718104999512434, 0.06293811928480864, 0.05529526928294217, 0.191305617051613]\n",
            "normalized_score: [1.         1.         0.83333333 0.5        0.66666667 0.66666667\n",
            " 0.7        0.83333333 0.33333333 0.33333333 0.6        1.\n",
            " 0.4        0.25       0.6        0.33333333 0.66666667 0.66666667\n",
            " 0.         0.25       0.66666667 0.61111111 0.66666667 0.77777778\n",
            " 0.66666667 1.         0.5        0.33333333 0.11111111 0.75\n",
            " 0.         1.        ]\n"
          ]
        },
        {
          "name": "stderr",
          "output_type": "stream",
          "text": [
            "  5%|▌         | 19/375 [1:02:27<19:00:40, 192.25s/it]"
          ]
        },
        {
          "name": "stdout",
          "output_type": "stream",
          "text": [
            "Shapes before creating DataFrame:\n",
            "out_semantic: [0.5021966  0.50337446 0.49977943 0.50437206 0.50172156 0.5048877\n",
            " 0.50393045 0.51105845 0.5019751  0.50071156 0.5045664  0.50487155\n",
            " 0.5025986  0.5046627  0.50475276 0.5025901  0.5021697  0.5000102\n",
            " 0.5056624  0.5015065  0.5018215  0.5050165  0.50500757 0.5039015\n",
            " 0.5037521  0.50264734 0.5041356  0.50226015 0.5064127  0.5013151\n",
            " 0.5036005  0.5031135 ]\n",
            "out_coher: [0.26661536 0.4867895  0.48976737 0.49267715 0.21908626 0.25634316\n",
            " 0.30677256 0.4697142  0.49601033 0.22404619 0.23658085 0.49389946\n",
            " 0.19444904 0.25425625 0.25978988 0.25914872 0.32880503 0.24241152\n",
            " 0.5058063  0.25856003 0.2749936  0.2691346  0.25860676 0.50237775\n",
            " 0.23311844 0.25633666 0.23467928 0.4789012  0.2315746  0.2146298\n",
            " 0.49751145 0.49723092]\n",
            "out_prompt: [3.51139337e-01 3.77476931e-01 1.97546557e-01 3.20112765e-01\n",
            " 3.78985733e-01 2.38146214e-03 3.56038570e-01 3.44593078e-04\n",
            " 6.21853746e-04 1.51830202e-03 3.73121083e-01 1.14830680e-01\n",
            " 3.65323722e-01 1.54327616e-04 1.99585140e-01 1.53737530e-01\n",
            " 3.66036206e-01 3.33108101e-03 1.61147863e-02 3.54654193e-01\n",
            " 1.67004741e-03 3.79170418e-01 3.91872078e-01 1.30925566e-01\n",
            " 3.49987835e-01 3.66547465e-01 3.59788060e-01 3.46558243e-01\n",
            " 3.62078905e-01 9.38985310e-03 1.76936667e-02 1.23421505e-01]\n",
            "combined_score: [0.46523797512054443, 0.6751823425292969, 0.6310153603553772, 0.43902337551116943, 0.04856029152870178, 0.6566659212112427, 0.24077162146568298, 0.8160494565963745, 0.6226683855056763, 0.7435815334320068, 0.665702760219574, 0.8139894604682922, 0.4214376211166382, 0.610401451587677, 0.5199578404426575, 0.43391990661621094, 0.6985054016113281, 0.5892823338508606, 0.6054850220680237, 0.4847111403942108, 0.36074361205101013, 0.6833139657974243, 0.6850576996803284, 0.6471801996231079, 0.6357403993606567, 0.4375683069229126, 0.6288489103317261, 0.5661640167236328, 0.7458898425102234, 0.5017796754837036, 0.6344744563102722, 0.6380705833435059]\n",
            "coherence_score_nli: [0.2027537017905464, 0.24301052875816823, 0.16274715160868844, 0.16549820164218546, 0.0, 0.07868303365207144, 0.0061779203824698925, 0.17259786473894362, 0.08441971933934837, 0.04461014777835873, 0.3574381177313626, 0.03514242091256639, 0.0008668004884384573, 0.314431595033966, 0.21237425826903847, 0.3276324135561784, 0.05606300927077731, 0.028921980665472802, 0.2088155053369701, 0.2548461535945535, 0.24684437178075314, 0.04134105430178655, 0.005592662375420332, 0.24857182434708294, 0.0416666170116514, 0.26324883911625613, 0.15938353250385262, 0.17215925469492122, 0.11559897395116943, 0.0, 0.09837673637957778, 0.22235509864740857]\n",
            "normalized_score: [0.5        1.         0.4        0.4        0.         1.\n",
            " 0.25       0.8        0.75       1.         0.4        1.\n",
            " 0.33333333 0.5        0.4        0.4        0.66666667 0.66666667\n",
            " 0.7        0.66666667 0.5        0.83333333 0.66666667 0.6\n",
            " 0.75       0.4        0.5        0.77777778 0.75       0.5\n",
            " 0.6        0.6       ]\n"
          ]
        },
        {
          "name": "stderr",
          "output_type": "stream",
          "text": [
            "  5%|▌         | 20/375 [1:05:34<18:47:52, 190.63s/it]"
          ]
        },
        {
          "name": "stdout",
          "output_type": "stream",
          "text": [
            "Shapes before creating DataFrame:\n",
            "out_semantic: [0.49788982 0.5007817  0.50068957 0.50234514 0.50596076 0.5042434\n",
            " 0.5045278  0.503044   0.5016294  0.5040087  0.50234026 0.5049634\n",
            " 0.5017206  0.5035144  0.5012329  0.51165825 0.50735736 0.5073615\n",
            " 0.4995986  0.5036622  0.50071454 0.50275934 0.504786   0.50192785\n",
            " 0.5049615  0.5016003  0.50449044 0.50226206 0.4990802  0.50483567\n",
            " 0.5052626  0.5020049 ]\n",
            "out_coher: [0.22189248 0.4856402  0.23921917 0.48557955 0.47922918 0.5008269\n",
            " 0.28655928 0.48028648 0.4931983  0.47063023 0.23708671 0.5031022\n",
            " 0.5044988  0.29511198 0.23507188 0.5129557  0.23115124 0.49634367\n",
            " 0.48016185 0.51036614 0.5096562  0.25404453 0.5169251  0.2598504\n",
            " 0.16199455 0.2311194  0.5079929  0.48813707 0.26007348 0.29183832\n",
            " 0.24024671 0.2560723 ]\n",
            "out_prompt: [3.8937941e-01 2.7810148e-04 3.6691996e-01 3.6430657e-01 1.1290356e-01\n",
            " 4.4927295e-02 3.7520489e-01 3.6770064e-01 3.6014131e-01 6.8584521e-04\n",
            " 3.7861714e-01 3.5757846e-01 5.0283042e-03 3.9228759e-04 3.6453208e-01\n",
            " 9.4844145e-05 7.1104232e-04 3.5158062e-01 3.7398472e-01 3.4251797e-01\n",
            " 3.5247353e-01 4.1118293e-04 1.7429831e-02 3.5858914e-01 3.5034910e-01\n",
            " 3.7861100e-01 9.7359404e-02 3.7659255e-01 2.4979417e-01 5.0361105e-04\n",
            " 3.8431704e-01 3.7715665e-01]\n",
            "combined_score: [0.2734948694705963, 0.541422963142395, 0.6551902294158936, 0.7770155072212219, 0.7631760239601135, 0.8313611149787903, 0.35657304525375366, 0.6168456673622131, 0.4714481830596924, 0.7886375188827515, 0.5585808753967285, 0.40748536586761475, 0.8044223785400391, 0.5730974674224854, 0.27162131667137146, 0.8025325536727905, 0.6353890895843506, 0.5758746266365051, 0.7461804151535034, 0.11655498296022415, 0.5325711369514465, 0.6849738955497742, 0.666981041431427, 0.7206802368164062, 0.5672984719276428, 0.5032257437705994, 0.46074438095092773, 0.5711555480957031, 0.6263926029205322, 0.5281193256378174, 0.5520042777061462, 0.6025189757347107]\n",
            "coherence_score_nli: [0.06121882330626249, 0.23022882582154125, 0.17041792823001742, 0.08083359621066068, 0.21378754652840526, 0.1341452865634069, 0.4678609839756973, 0.1297059950302355, 0.14500607977000377, 0.12570416345261037, 0.09569816128350794, 0.33995941653847694, 0.11188439519451897, 0.033096631756052375, 0.024026893079280853, 0.22278329978753636, 0.06274155496309201, 0.4003546792747719, 0.09058375740423799, 0.18592517790966667, 0.19076792793348432, 0.16962475081284842, 0.20349239655770363, 0.12310715219549213, 0.08421991889675458, 0.0339003074914217, 0.16917143832357728, 0.052493024132369705, 0.14873831515756641, 0.1477272268384695, 0.1625697761774063, 0.06546101938667041]\n",
            "normalized_score: [0.         0.25       0.77777778 0.75       0.7        0.9\n",
            " 0.33333333 0.66666667 0.4        0.5        0.25       0.33333333\n",
            " 0.6        0.33333333 0.33333333 0.8        0.5        0.66666667\n",
            " 0.75       0.         0.4        0.66666667 0.6        0.77777778\n",
            " 0.25       0.77777778 0.6        0.5        0.4        0.66666667\n",
            " 0.66666667 0.66666667]\n"
          ]
        },
        {
          "name": "stderr",
          "output_type": "stream",
          "text": [
            "  6%|▌         | 21/375 [1:08:58<19:08:09, 194.60s/it]"
          ]
        },
        {
          "name": "stdout",
          "output_type": "stream",
          "text": [
            "Shapes before creating DataFrame:\n",
            "out_semantic: [0.50098836 0.5024248  0.502895   0.497704   0.50426334 0.5032356\n",
            " 0.5027512  0.50475305 0.4998608  0.50493    0.49991393 0.50047773\n",
            " 0.5033576  0.5024517  0.5031811  0.50497556 0.5030247  0.504132\n",
            " 0.50830513 0.50112474 0.5027008  0.5049577  0.5040089  0.504473\n",
            " 0.50493497 0.50470656 0.50309795 0.50140196 0.5012773  0.50692374\n",
            " 0.503107   0.5003958 ]\n",
            "out_coher: [0.25729123 0.24637184 0.22334601 0.49087805 0.22073501 0.50099146\n",
            " 0.24464116 0.51574606 0.23822637 0.48537815 0.27199107 0.2437412\n",
            " 0.4914011  0.4895266  0.48967943 0.26282504 0.25745934 0.501947\n",
            " 0.49214122 0.23077616 0.1969533  0.29881194 0.31885442 0.22781989\n",
            " 0.25613394 0.23791474 0.48928264 0.29026616 0.2724033  0.5048684\n",
            " 0.48449856 0.2921381 ]\n",
            "out_prompt: [7.8249234e-04 1.8331838e-03 3.6914653e-01 3.7995511e-01 2.2336047e-03\n",
            " 1.4012853e-04 3.8014311e-01 4.6447286e-04 2.7366498e-01 3.0340324e-04\n",
            " 7.9908170e-04 3.8961676e-01 4.0470758e-03 3.5583746e-01 1.1174738e-03\n",
            " 1.5176133e-03 3.3458646e-03 3.6845961e-01 3.6955732e-01 3.0421600e-04\n",
            " 1.3575597e-03 5.8751862e-04 1.4531091e-03 3.7499267e-01 3.6169198e-01\n",
            " 3.8414562e-01 1.8917873e-03 9.5723051e-04 3.6711177e-01 3.5392806e-01\n",
            " 3.8144225e-01 2.8085888e-03]\n",
            "combined_score: [0.46079590916633606, 0.1192653477191925, 0.5652140974998474, 0.6548240184783936, 0.4697139263153076, 0.767327606678009, 0.540898859500885, 0.7182782292366028, 0.7766048908233643, 0.7499373555183411, 0.4532610774040222, 0.5158871412277222, 0.600048303604126, 0.7339226007461548, 0.6663793921470642, 0.7514249086380005, 0.7887094616889954, 0.6308324337005615, 0.8392964601516724, 0.4471355080604553, 0.7021552324295044, 0.5722079277038574, 0.4777582585811615, 0.666585385799408, 0.8101037740707397, 0.6583364009857178, 0.7403582334518433, 0.7404834032058716, 0.5143917202949524, 0.41146624088287354, 0.809883177280426, 0.8205016851425171]\n",
            "coherence_score_nli: [0.18867383431643248, 0.40172094106674194, 0.6003727912902832, 0.06684073515740845, 0.19909127047285438, 0.07915438269264996, 0.1157859687693417, 0.11953167555232842, 0.13679426193185565, 0.16998433869697951, 0.133335642516613, 0.0, 0.27727778363359074, 0.04041368122367809, 0.31172568863257766, 0.06751716838599267, 0.04929110439843498, 0.16574342641979456, 0.09628672821616585, 0.350111852089564, 0.16215460188686848, 0.0393882361240685, 0.12879741999010244, 0.23771977424621582, 0.12596273887902498, 0.2187870701142986, 0.14178641566315725, 0.10067496001720429, 0.11259472474921495, 0.04717289904753367, 0.07874178767881611, 0.14055122762587607]\n",
            "normalized_score: [0.66666667 0.         0.75       1.         0.25       1.\n",
            " 1.         1.         0.8        0.8        0.33333333 0.2\n",
            " 0.6        0.5        0.8        1.         1.         0.66666667\n",
            " 1.         0.25       0.66666667 0.33333333 0.33333333 0.72222222\n",
            " 1.         0.75       0.6        0.25       0.4        0.\n",
            " 1.         1.        ]\n"
          ]
        },
        {
          "name": "stderr",
          "output_type": "stream",
          "text": [
            "  6%|▌         | 22/375 [1:12:13<19:06:49, 194.93s/it]"
          ]
        },
        {
          "name": "stdout",
          "output_type": "stream",
          "text": [
            "Shapes before creating DataFrame:\n",
            "out_semantic: [0.5038755  0.5022137  0.50575864 0.501677   0.5021843  0.5049349\n",
            " 0.49590254 0.50445914 0.5020949  0.5009735  0.503467   0.50545275\n",
            " 0.5030255  0.5053604  0.5027192  0.5020637  0.5009661  0.5035765\n",
            " 0.5017378  0.50145227 0.50086415 0.5023841  0.5036611  0.504826\n",
            " 0.5024744  0.50030744 0.50516456 0.50563264 0.5016553  0.50414574\n",
            " 0.50184333 0.5048761 ]\n",
            "out_coher: [0.49207506 0.50718796 0.51048696 0.21586187 0.21799287 0.25251204\n",
            " 0.29911304 0.23285554 0.2335872  0.28612548 0.26293766 0.49885517\n",
            " 0.4874971  0.31717736 0.49994582 0.2831932  0.48645568 0.48281246\n",
            " 0.4879299  0.25427204 0.5090946  0.48425165 0.50366217 0.21097812\n",
            " 0.49357423 0.4991696  0.47716928 0.2255474  0.490653   0.48532838\n",
            " 0.51555634 0.24779424]\n",
            "out_prompt: [3.6283875e-01 3.6038259e-01 3.6502606e-01 3.7098476e-01 3.8767341e-01\n",
            " 3.7557873e-01 1.1360272e-03 3.5843855e-01 9.3832304e-04 1.6178915e-02\n",
            " 8.7676637e-02 3.7244767e-01 8.4552637e-05 3.6176038e-01 3.9049423e-01\n",
            " 3.6942410e-01 3.7694541e-01 3.6991343e-01 3.4170938e-01 1.0511045e-01\n",
            " 3.6732417e-01 8.8180689e-04 3.6214200e-01 3.9626813e-01 1.8027352e-02\n",
            " 3.6468378e-01 3.4560588e-01 3.2897612e-01 2.5579091e-02 1.3707976e-01\n",
            " 3.6779761e-01 3.5646677e-01]\n",
            "combined_score: [0.6486721038818359, 0.7752499580383301, 0.732600748538971, 0.06077892333269119, 0.44240981340408325, 0.6327647566795349, 0.7829508185386658, 0.6080912351608276, 0.6778131723403931, 0.5914161205291748, 0.7240848541259766, 0.5996749997138977, 0.713186502456665, 0.6954188942909241, 0.5829461812973022, 0.6274959444999695, 0.7116122245788574, 0.6033446788787842, 0.46809086203575134, 0.5241764187812805, 0.7604020833969116, 0.7512127161026001, 0.7801951169967651, 0.34756869077682495, 0.862481951713562, 0.65718674659729, 0.7241707444190979, 0.5816385746002197, 0.5700466632843018, 0.7297835350036621, 0.8590585589408875, 0.6185956001281738]\n",
            "coherence_score_nli: [0.1283679629365603, 0.13152392164597082, 0.1022101016715169, 0.1428038626909256, 0.0, 0.04469495337818646, 0.26283939233871934, 0.08819139810899894, 0.14238325553014874, 0.2080799280152218, 0.17195034379449983, 0.24954368341166308, 0.24095682132368287, 0.07822504331124946, 0.12315349156657855, 0.20829803224478383, 0.147447606921196, 0.16528737199093615, 0.012882286061843237, 0.19771685684099793, 0.09635489899665117, 0.04682192269247025, 0.07361348047673416, 0.08004341274499893, 0.20852293791540433, 0.06201311506863151, 0.1814124829194043, 0.19142997375733795, 0.10332387713715434, 0.2468702624945973, 0.17321985860222153, 0.15682435096241534]\n",
            "normalized_score: [0.5        0.75       0.75       0.         0.         0.83333333\n",
            " 0.8        0.66666667 1.         0.7        0.7        0.4\n",
            " 0.75       0.75       0.4        0.66666667 1.         1.\n",
            " 0.5        0.6        1.         0.75       0.88888889 0.27777778\n",
            " 0.7        0.75       0.7        0.6        0.75       0.6\n",
            " 1.         0.72222222]\n"
          ]
        },
        {
          "name": "stderr",
          "output_type": "stream",
          "text": [
            "  6%|▌         | 23/375 [1:15:23<18:55:14, 193.51s/it]"
          ]
        },
        {
          "name": "stdout",
          "output_type": "stream",
          "text": [
            "Shapes before creating DataFrame:\n",
            "out_semantic: [0.5058989  0.50218743 0.5013875  0.5026874  0.5046248  0.49988565\n",
            " 0.50474113 0.5002123  0.50280523 0.5031738  0.50301176 0.4930554\n",
            " 0.5053673  0.50249064 0.5035447  0.50270426 0.49921376 0.5033841\n",
            " 0.4993849  0.50322694 0.5040305  0.50421    0.5030089  0.50079507\n",
            " 0.5021172  0.50200677 0.5040353  0.50293016 0.50609815 0.5012473\n",
            " 0.5059715  0.5025814 ]\n",
            "out_coher: [0.5035321  0.50788504 0.19524264 0.48966628 0.4825272  0.4929479\n",
            " 0.49532032 0.4811818  0.25801212 0.27625525 0.5034558  0.46663594\n",
            " 0.48707283 0.49137795 0.5133412  0.19787073 0.49747714 0.26599255\n",
            " 0.29795513 0.28112188 0.22147605 0.22158265 0.24541964 0.51039636\n",
            " 0.5046177  0.5109407  0.27713987 0.50432676 0.5095418  0.25410143\n",
            " 0.33635858 0.2576868 ]\n",
            "out_prompt: [3.9753271e-03 2.8180424e-03 5.6351312e-03 6.7374550e-02 3.4314361e-01\n",
            " 3.6303708e-01 1.6419885e-03 1.8255336e-03 3.6994657e-01 3.8787657e-01\n",
            " 3.6636063e-01 3.2251398e-04 2.3336828e-02 4.0543830e-01 3.6244228e-01\n",
            " 3.9369482e-01 1.7101357e-02 2.6859690e-03 3.4717134e-01 1.4522149e-01\n",
            " 8.0573617e-04 3.2507079e-03 3.6226642e-01 3.6990517e-01 3.7360147e-01\n",
            " 4.5856051e-02 3.5462251e-01 3.5648426e-01 2.8532273e-01 3.3029705e-01\n",
            " 3.7528440e-01 4.1021495e-03]\n",
            "combined_score: [0.8187888264656067, 0.5352950692176819, 0.7602410912513733, 0.48969951272010803, 0.6182841658592224, 0.7441556453704834, 0.6970763802528381, 0.4858053922653198, 0.7550232410430908, 0.4430120587348938, 0.586467444896698, 0.6650829315185547, 0.6738479137420654, 0.4752904772758484, 0.4375874400138855, 0.6440971493721008, 0.6863030195236206, 0.8034502863883972, 0.4733060896396637, 0.6135636568069458, 0.5228527188301086, 0.48071759939193726, 0.3971865773200989, 0.7406440377235413, 0.7055827975273132, 0.6103099584579468, 0.5102491974830627, 0.09379132091999054, 0.705318808555603, 0.4093923568725586, 0.42906373739242554, 0.5041356682777405]\n",
            "coherence_score_nli: [0.027491572379533733, 0.20331137932537655, 0.027627259865403174, 0.2277841871837154, 0.22596715659730965, 0.032443047811587654, 0.10863361434478845, 0.13719479007542962, 0.07918887661459545, 0.22704686286548773, 0.20400908775627613, 0.23537515764914904, 0.1603834884069664, 0.1490545098980268, 0.22563063763082028, 0.212890716874972, 0.1977794803255661, 0.13611865153403155, 0.012791822664439678, 0.11568196341977455, 0.23800885019591078, 0.14405257999897003, 0.08099382929503918, 0.02798466479871422, 0.17080472940579056, 0.21880409261824466, 0.03662547065565983, 0.18008861877024174, 0.11785169600625522, 0.04723978911836942, 0.19914551405236125, 0.2612925859866664]\n",
            "normalized_score: [0.75       0.6        1.         0.4        0.4        0.75\n",
            " 1.         0.33333333 0.77777778 0.77777778 0.66666667 0.6\n",
            " 0.8        0.77777778 0.33333333 0.66666667 0.6        1.\n",
            " 0.66666667 0.4        0.5        0.33333333 0.61111111 0.75\n",
            " 1.         0.6        0.33333333 0.2        0.5        0.33333333\n",
            " 0.2        0.33333333]\n"
          ]
        },
        {
          "name": "stderr",
          "output_type": "stream",
          "text": [
            "  6%|▋         | 24/375 [1:18:33<18:45:54, 192.46s/it]"
          ]
        },
        {
          "name": "stdout",
          "output_type": "stream",
          "text": [
            "Shapes before creating DataFrame:\n",
            "out_semantic: [0.5014045  0.50249964 0.50364786 0.50503606 0.49758422 0.5009368\n",
            " 0.50423485 0.50395983 0.5025797  0.5037915  0.50228935 0.5037629\n",
            " 0.50441396 0.5016442  0.5047535  0.50314647 0.50292975 0.49983448\n",
            " 0.5027352  0.5046232  0.5023671  0.5038838  0.5044613  0.5060565\n",
            " 0.49934664 0.50415003 0.50081825 0.5005197  0.50125897 0.5022041\n",
            " 0.50124055 0.50288564]\n",
            "out_coher: [0.49882713 0.4893551  0.24436697 0.20299414 0.47432134 0.49739933\n",
            " 0.49219966 0.23316747 0.24113466 0.5097162  0.276207   0.29761288\n",
            " 0.28972277 0.21761605 0.2403904  0.30730775 0.26632714 0.20718478\n",
            " 0.4930733  0.24835576 0.32461017 0.48716268 0.48308757 0.48050973\n",
            " 0.49188483 0.2556685  0.4975891  0.5013767  0.20405366 0.51675624\n",
            " 0.48514718 0.5104392 ]\n",
            "out_prompt: [3.91609967e-01 2.60550017e-03 3.61826092e-01 1.11906428e-03\n",
            " 2.10060226e-03 2.28041332e-04 3.58721405e-01 3.60557497e-01\n",
            " 1.33160537e-03 3.88921857e-01 3.75652283e-01 9.41053673e-04\n",
            " 9.43778362e-03 2.98738736e-03 3.48123044e-01 3.59421939e-01\n",
            " 1.80555001e-01 1.02828036e-03 1.06540763e-04 3.39752525e-01\n",
            " 1.20842867e-01 1.24571305e-02 3.63234371e-01 1.80060118e-01\n",
            " 3.70331764e-01 3.25179875e-01 6.01620879e-04 1.09798359e-02\n",
            " 3.72462839e-01 3.68351340e-01 1.50771847e-03 3.63010496e-01]\n",
            "combined_score: [0.6267907619476318, 0.6786893606185913, 0.6613810062408447, 0.7456272840499878, 0.5134806036949158, 0.5012249946594238, 0.6927791237831116, 0.6539521217346191, 0.46993550658226013, 0.6070212125778198, 0.6210696697235107, 0.46544355154037476, 0.31950557231903076, 0.5990286469459534, 0.2676399052143097, 0.43991658091545105, 0.6602300405502319, 0.403654009103775, 0.24110960960388184, 0.35110485553741455, 0.9259140491485596, 0.5172882080078125, 0.6418625116348267, 0.6521189212799072, 0.6524222493171692, 0.4817802608013153, 0.5530412793159485, 0.5116509795188904, 0.6591538786888123, 0.6257308721542358, 0.6817291975021362, 0.7028013467788696]\n",
            "coherence_score_nli: [0.16081427425766984, 0.11059961712453514, 0.101958406327123, 0.06468951313290745, 0.10610568406072592, 0.15426757665617125, 0.16711174871306866, 0.21665015692512193, 0.18757282942533493, 0.23360092826187612, 0.11585083790123463, 0.11190006230026484, 0.39476834679953754, 0.03156727117796739, 0.35124891996383667, 0.10397003905382007, 0.22994403923965162, 0.04707694333046675, 0.20530700962990522, 0.03838310856372118, 0.04885856464272365, 0.16392914950847626, 0.09518110234057531, 0.1767373054579366, 0.15633790619904175, 0.06184441555524245, 0.057316051330417395, 0.06952433786581322, 0.018183940866341192, 0.06539085507392883, 0.011845025466755033, 0.15184863736586912]\n",
            "normalized_score: [0.75       1.         0.77777778 1.         0.6        0.5\n",
            " 0.75       1.         0.66666667 0.6        0.25       0.66666667\n",
            " 0.         0.66666667 0.27777778 0.         0.6        0.25\n",
            " 0.25       0.25       0.77777778 0.25       0.75       0.6\n",
            " 0.5        0.4        0.5        0.6        0.5        0.5\n",
            " 0.75       0.75      ]\n"
          ]
        },
        {
          "name": "stderr",
          "output_type": "stream",
          "text": [
            "  7%|▋         | 25/375 [1:21:36<18:24:52, 189.41s/it]"
          ]
        },
        {
          "name": "stdout",
          "output_type": "stream",
          "text": [
            "Shapes before creating DataFrame:\n",
            "out_semantic: [0.5022333  0.5051001  0.50584596 0.49994147 0.50209445 0.5042052\n",
            " 0.5029627  0.49188468 0.5016565  0.50341874 0.50251186 0.5044161\n",
            " 0.506109   0.50263417 0.50515985 0.5032081  0.5026416  0.5040986\n",
            " 0.50534374 0.50280374 0.5029026  0.5028321  0.5043789  0.5052613\n",
            " 0.49938375 0.5043316  0.49999684 0.4991414  0.49680558 0.5051258\n",
            " 0.50532955 0.5007408 ]\n",
            "out_coher: [0.26638368 0.2568239  0.21690957 0.502578   0.30106798 0.18827851\n",
            " 0.2941165  0.4731554  0.4974646  0.23366484 0.22033353 0.50225013\n",
            " 0.50130355 0.33750895 0.2798113  0.49600726 0.4877475  0.2339511\n",
            " 0.5074992  0.49413398 0.2389697  0.49185959 0.49409986 0.5033213\n",
            " 0.23189808 0.26459935 0.21697061 0.20312175 0.22306326 0.49395525\n",
            " 0.4832811  0.49221087]\n",
            "out_prompt: [3.5629129e-01 1.5778684e-03 3.2028368e-01 3.7917992e-04 3.5144210e-01\n",
            " 1.1662923e-03 3.6565128e-01 1.6058992e-04 3.6714381e-01 2.0897207e-03\n",
            " 3.8391039e-01 5.6648288e-02 3.7394828e-01 3.5056326e-01 3.8385636e-01\n",
            " 3.9940584e-01 3.9093566e-01 3.7668616e-01 3.8413486e-01 5.6651118e-03\n",
            " 4.4059069e-03 2.7726966e-04 3.6717314e-01 2.1485862e-04 3.6618069e-01\n",
            " 2.8658325e-03 3.5782799e-01 3.4234804e-01 3.9643031e-01 3.9434853e-01\n",
            " 3.8159594e-01 3.4631070e-01]\n",
            "combined_score: [0.6265338659286499, 0.7849592566490173, 0.7114511728286743, 0.6878861784934998, 0.6346904039382935, 0.47294989228248596, 0.4716216027736664, 0.7246957421302795, 0.4026971161365509, 0.5472951531410217, 0.7629875540733337, 0.7255816459655762, 0.3667892515659332, 0.2760474979877472, 0.27080023288726807, 0.49663078784942627, 0.5141358971595764, 0.5309851169586182, 0.6844434142112732, 0.5543889999389648, 0.2819540202617645, 0.6881207227706909, 0.6520357728004456, 0.6629347801208496, 0.3349688947200775, 0.5746861696243286, 0.6708353161811829, 0.194060280919075, 0.39711934328079224, 0.6673245429992676, 0.608953058719635, 0.5640367269515991]\n",
            "coherence_score_nli: [0.02828277531079948, 0.16399193488177843, 0.21162720722629905, 0.178822825592237, 0.15973672834225, 0.01929066702723503, 0.25119150223003495, 0.15161882891617198, 0.1758726364509626, 0.9304630160331726, 0.035715566109865905, 0.1638428993478772, 0.07255798857659101, 0.30209880173206327, 0.05165584827773273, 0.28097007870674134, 0.1433070545705656, 0.03775161551311612, 0.04805657956749201, 0.19458981553606433, 0.42131656408309937, 0.04407185888183968, 0.10027361055836082, 0.036371241440065205, 0.0, 0.19685116037726402, 0.04212293348973617, 0.03134674532338977, 0.0014329304685816169, 0.21775007089599968, 0.05140103991808636, 0.14285283181099936]\n",
            "normalized_score: [0.5        1.         0.6        0.9        0.33333333 0.5\n",
            " 0.6        0.6        0.6        0.66666667 0.5        0.7\n",
            " 0.33333333 0.2        0.2        0.66666667 0.66666667 0.66666667\n",
            " 0.75       0.6        0.25       0.5        0.75       0.75\n",
            " 0.         0.66666667 0.33333333 0.33333333 0.         0.66666667\n",
            " 1.         0.4       ]\n"
          ]
        },
        {
          "name": "stderr",
          "output_type": "stream",
          "text": [
            "  7%|▋         | 26/375 [1:24:58<18:44:05, 193.25s/it]"
          ]
        },
        {
          "name": "stdout",
          "output_type": "stream",
          "text": [
            "Shapes before creating DataFrame:\n",
            "out_semantic: [0.5022605  0.5060153  0.50377584 0.50274897 0.5036847  0.5010822\n",
            " 0.5026792  0.5051304  0.50348884 0.5044244  0.5019787  0.503799\n",
            " 0.503336   0.50346917 0.50585914 0.50389755 0.5042199  0.5046971\n",
            " 0.50295675 0.5017685  0.4993338  0.49948496 0.5021139  0.505108\n",
            " 0.50227815 0.49913302 0.50324744 0.5009176  0.50521135 0.506182\n",
            " 0.50257367 0.5009516 ]\n",
            "out_coher: [0.50385314 0.48534817 0.49097118 0.24236092 0.22623275 0.26565883\n",
            " 0.34002736 0.50253457 0.2356325  0.26673913 0.27361462 0.25087547\n",
            " 0.20796059 0.50958955 0.2215306  0.49286723 0.49866402 0.5154972\n",
            " 0.24438797 0.5064444  0.48653722 0.26996404 0.50093687 0.2778219\n",
            " 0.24797082 0.4983692  0.26826167 0.18191813 0.23514263 0.49589315\n",
            " 0.22487478 0.49620783]\n",
            "out_prompt: [0.3069251  0.09431928 0.02252548 0.00053598 0.37698105 0.3643977\n",
            " 0.36892158 0.35251182 0.37014094 0.37785992 0.3533547  0.36148345\n",
            " 0.3905121  0.37006402 0.21005414 0.00048225 0.04578428 0.00205576\n",
            " 0.38358945 0.24344471 0.00886427 0.38870925 0.10868289 0.29990748\n",
            " 0.37165892 0.00091992 0.3734277  0.3732742  0.13298441 0.11716466\n",
            " 0.35249358 0.2212068 ]\n",
            "combined_score: [0.575819730758667, 0.8105926513671875, 0.7488937377929688, 0.748444676399231, 0.5955218076705933, 0.7829346656799316, 0.5897746086120605, 0.8298177123069763, 0.5385795831680298, 0.42807847261428833, 0.47283387184143066, 0.328685462474823, 0.5306335091590881, 0.8456273078918457, 0.4688397943973541, 0.6247515678405762, 0.6770403385162354, 0.5453701019287109, 0.3248210549354553, 0.5183322429656982, 0.7085769176483154, 0.5698091387748718, 0.6090158820152283, 0.544110894203186, 0.46177858114242554, 0.5826441645622253, 0.7211575508117676, 0.6799510717391968, 0.5839440226554871, 0.625363826751709, 0.6364298462867737, 0.6481092572212219]\n",
            "coherence_score_nli: [0.0809364772738061, 0.13831863628279062, 0.17773687691777013, 0.09524608944775537, 0.31542594521306455, 0.11526865071871063, 0.05792677216231823, 0.18442622951697557, 0.14734598947688937, 0.0158092575147748, 0.1414357942994684, 0.14367827773094177, 0.3213818669319153, 0.055348668654914945, 0.18503395123407246, 0.05129810480866581, 0.22601965065890303, 0.24351309874327853, 0.009260616265237331, 0.262776188342832, 0.18826209979098557, 0.23300798157624042, 0.23056874343786726, 0.20367747834226227, 0.29672043439414764, 0.2608456338206545, 0.09684276426144477, 0.18467157080092214, 0.18963004543620626, 0.09303191772196442, 0.6279267072677612, 0.1120683397472787]\n",
            "normalized_score: [0.6        0.8        0.6        0.75       0.61111111 0.6\n",
            " 0.66666667 1.         0.55555556 0.33333333 0.         0.\n",
            " 0.38888889 1.         0.6        0.66666667 0.6        0.5\n",
            " 0.         0.4        0.7        0.6        0.4        0.6\n",
            " 0.4        0.8        0.38888889 0.7        0.6        0.8\n",
            " 0.55555556 0.7       ]\n"
          ]
        },
        {
          "name": "stderr",
          "output_type": "stream",
          "text": [
            "  7%|▋         | 27/375 [1:28:23<19:01:21, 196.79s/it]"
          ]
        },
        {
          "name": "stdout",
          "output_type": "stream",
          "text": [
            "Shapes before creating DataFrame:\n",
            "out_semantic: [0.5029799  0.5008951  0.5004028  0.5034254  0.5019708  0.50404376\n",
            " 0.5042142  0.5018428  0.50703806 0.50483143 0.50039524 0.50055224\n",
            " 0.50383306 0.5072963  0.50359756 0.50688654 0.5060814  0.50482285\n",
            " 0.50196964 0.49899513 0.50556034 0.50063866 0.5021313  0.50384206\n",
            " 0.50514555 0.4961144  0.50215256 0.5026863  0.5082749  0.5031103\n",
            " 0.5078617  0.50141245]\n",
            "out_coher: [0.49034944 0.4896984  0.4922007  0.21171339 0.31332886 0.48729986\n",
            " 0.49452734 0.48692232 0.47618195 0.2194721  0.2971199  0.29654613\n",
            " 0.49189362 0.49137026 0.50225353 0.49967113 0.32761234 0.2500313\n",
            " 0.20000637 0.22991869 0.21266544 0.25136384 0.48206922 0.50097287\n",
            " 0.19803272 0.4677927  0.4989109  0.5065964  0.5176238  0.46874815\n",
            " 0.50991935 0.5041255 ]\n",
            "out_prompt: [2.4610346e-02 2.9575065e-04 5.0846180e-03 8.5741159e-04 1.6231022e-03\n",
            " 1.0308057e-02 1.1134092e-02 3.6655888e-01 3.5390884e-01 3.4990239e-01\n",
            " 3.7163535e-01 3.8009408e-01 3.5186866e-01 3.4669319e-01 1.2171025e-03\n",
            " 3.5981527e-01 3.7171236e-01 3.2791453e-03 2.6586256e-03 4.9247347e-02\n",
            " 3.8154575e-01 4.0243682e-01 1.0151995e-03 3.7984332e-01 3.7662366e-01\n",
            " 1.7146930e-03 1.5335742e-01 3.7937962e-02 4.1798100e-02 3.5938638e-01\n",
            " 3.6273646e-01 3.8859412e-01]\n",
            "combined_score: [0.6277384161949158, 0.8051455020904541, 0.45814773440361023, 0.760362446308136, 0.7903273105621338, 0.5940427780151367, 0.7542152404785156, 0.8178166747093201, 0.46181076765060425, 0.7733492851257324, 0.5098061561584473, 0.5207163095474243, 0.6843085289001465, 0.692267656326294, 0.8277565240859985, 0.6713473796844482, 0.49866414070129395, 0.4490169286727905, 0.2674590051174164, 0.45565569400787354, 0.44510963559150696, 0.3671064078807831, 0.7155075669288635, 0.7555139064788818, 0.7332658767700195, 0.7849351763725281, 0.6371977925300598, 0.7162676453590393, 0.8274969458580017, 0.7890794277191162, 0.6803178191184998, 0.8126301765441895]\n",
            "coherence_score_nli: [0.0762719586957246, 0.2143994259902022, 0.09438688540831208, 0.20344952782179462, 0.022644452711877722, 0.15374160474831505, 0.17876474523255903, 0.1483688864391297, 0.18641486477905087, 0.12252379802521318, 0.17855590550849834, 0.24715252074279956, 0.04085352458059788, 0.1763247950002551, 0.1342298310353524, 0.14444508036831394, 0.16305414501888058, 0.04303643406213572, 0.0, 0.10229073464870453, 0.10193795978557318, 0.0, 0.11468956416669804, 0.08998111257096753, 0.10084678336150116, 0.18168193739521402, 0.23273032913915814, 0.1412695807191388, 0.18814485470647924, 0.1271843625211411, 0.15471952706575393, 0.1735849440906589]\n",
            "normalized_score: [0.75       1.         0.5        1.         1.         0.5\n",
            " 0.8        1.         0.6        0.94444444 0.6        0.6\n",
            " 0.25       0.75       1.         0.5        0.25       0.5\n",
            " 0.33333333 0.25       0.33333333 0.38888889 1.         0.75\n",
            " 0.66666667 0.8        0.7        0.9        0.9        1.\n",
            " 0.5        0.8       ]\n"
          ]
        },
        {
          "name": "stderr",
          "output_type": "stream",
          "text": [
            "  7%|▋         | 28/375 [1:31:58<19:29:31, 202.22s/it]"
          ]
        },
        {
          "name": "stdout",
          "output_type": "stream",
          "text": [
            "Shapes before creating DataFrame:\n",
            "out_semantic: [0.50384015 0.5007822  0.50678116 0.50200427 0.5043936  0.506788\n",
            " 0.5010384  0.49821505 0.5077432  0.50192946 0.50330323 0.5021748\n",
            " 0.49962428 0.5040414  0.5025998  0.5038471  0.50170815 0.5040411\n",
            " 0.5045268  0.5003838  0.5033924  0.5061855  0.5108456  0.5020939\n",
            " 0.50288063 0.5024276  0.50139475 0.50352466 0.49956456 0.50270534\n",
            " 0.5037007  0.50383765]\n",
            "out_coher: [0.17800906 0.2834837  0.21820858 0.2818753  0.49742565 0.51152647\n",
            " 0.25428814 0.28496978 0.5185627  0.4979504  0.5045516  0.48849607\n",
            " 0.21020249 0.2449876  0.18687123 0.4956578  0.4836207  0.4920776\n",
            " 0.21973953 0.26454023 0.48719913 0.475994   0.50434476 0.4948667\n",
            " 0.3084153  0.28824034 0.23860258 0.49350315 0.4867662  0.28700554\n",
            " 0.27304104 0.5135756 ]\n",
            "out_prompt: [3.5033658e-01 1.4170659e-03 3.7666979e-01 9.6551445e-04 5.0729315e-04\n",
            " 4.2526435e-02 3.8104281e-01 3.7741476e-01 8.9306606e-04 1.4326315e-04\n",
            " 2.7914131e-02 3.5928133e-01 5.0879043e-04 1.6944023e-02 1.3602911e-03\n",
            " 3.5961443e-01 2.9433126e-04 1.1997963e-04 3.0470644e-03 3.5926694e-01\n",
            " 3.9121139e-01 9.5949136e-04 1.2352047e-02 6.8215368e-04 3.6665155e-03\n",
            " 3.8661811e-01 3.5006151e-01 1.2806448e-04 8.7764391e-05 3.6424151e-01\n",
            " 3.6965203e-01 9.5302472e-03]\n",
            "combined_score: [0.5507650375366211, 0.6397708058357239, 0.789787769317627, 0.6827762722969055, 0.6646053791046143, 0.6487952470779419, 0.7741742730140686, 0.7571859359741211, 0.6521556377410889, 0.7518017888069153, 0.6219297647476196, 0.7109601497650146, 0.406674325466156, 0.641872763633728, 0.593717634677887, 0.5888915061950684, 0.48906928300857544, 0.6309422850608826, 0.5969582796096802, 0.3549403250217438, 0.6232386231422424, 0.5794541239738464, 0.7620752453804016, 0.608978271484375, 0.6350218057632446, 0.8322572708129883, 0.6520075798034668, 0.8094139695167542, 0.6579406261444092, 0.7115839123725891, 0.6009816527366638, 0.6093397736549377]\n",
            "coherence_score_nli: [0.11784376415889711, 0.14077512241367782, 0.1498224877868779, 0.1230860979296267, 0.21177095045956473, 0.2181035883491859, 0.09739165681613875, 0.07584057956202221, 0.348863285167941, 0.20153053290365885, 0.08829927947815686, 0.13034695163369178, 0.01750505343079567, 0.11556695512540284, 0.081484854221344, 0.18165167211554945, 0.2572815085295588, 0.16336720105541377, 0.23001613091522208, 0.0, 0.08500371139962226, 0.1697203855562423, 0.17402489649612107, 0.1816755727379738, 0.38249722123146057, 0.04274415158267532, 0.1780034786905162, 0.06538454815745354, 0.09691091486352629, 0.12545788629601398, 0.13222019345266744, 0.14917910449905322]\n",
            "normalized_score: [0.         0.66666667 0.75       0.66666667 0.6        0.8\n",
            " 0.75       0.66666667 0.75       0.8        0.6        1.\n",
            " 0.66666667 0.7        0.33333333 0.4        0.5        0.9\n",
            " 0.66666667 0.2        0.66666667 0.5        0.7        0.6\n",
            " 0.66666667 1.         0.66666667 1.         0.8        0.83333333\n",
            " 0.66666667 0.6       ]\n"
          ]
        },
        {
          "name": "stderr",
          "output_type": "stream",
          "text": [
            "  8%|▊         | 29/375 [1:35:18<19:22:18, 201.56s/it]"
          ]
        },
        {
          "name": "stdout",
          "output_type": "stream",
          "text": [
            "Shapes before creating DataFrame:\n",
            "out_semantic: [0.5053224  0.49552172 0.5030713  0.5010986  0.5076731  0.5044379\n",
            " 0.5011804  0.50515145 0.500204   0.50114524 0.5025707  0.50141287\n",
            " 0.50634766 0.5003293  0.50331163 0.50532544 0.50364953 0.5039402\n",
            " 0.5024997  0.507032   0.50541395 0.50002193 0.5010103  0.502322\n",
            " 0.49834988 0.5010579  0.50166196 0.5015231  0.50416666 0.4992353\n",
            " 0.503457   0.50544   ]\n",
            "out_coher: [0.52417725 0.45817515 0.4951561  0.50588155 0.23117542 0.25153503\n",
            " 0.21576348 0.2818396  0.4880345  0.1882119  0.21160835 0.362921\n",
            " 0.48852277 0.50708103 0.2876585  0.52127737 0.49194565 0.5011318\n",
            " 0.20549044 0.5116725  0.4890633  0.29736093 0.26643836 0.49426767\n",
            " 0.5003954  0.26654884 0.50026935 0.5103642  0.5156141  0.5000658\n",
            " 0.2802826  0.4920575 ]\n",
            "out_prompt: [3.7685817e-01 8.1863807e-04 2.4809060e-01 3.5076037e-01 2.5630922e-03\n",
            " 3.8060132e-01 3.8084811e-01 3.5366172e-01 3.8279900e-01 3.3737117e-01\n",
            " 3.4859961e-01 1.8532287e-03 1.5110059e-01 3.3485913e-01 9.5081534e-03\n",
            " 4.0722728e-01 3.7726745e-01 3.2650629e-01 3.9436042e-01 2.2626978e-01\n",
            " 3.7596920e-01 6.9606380e-04 3.8615304e-01 3.5234764e-01 1.4302090e-03\n",
            " 1.5322365e-04 5.0700329e-02 3.4218094e-01 3.7115389e-01 6.8695989e-04\n",
            " 3.9694265e-01 3.5879400e-03]\n",
            "combined_score: [0.6566740870475769, 0.6362274289131165, 0.6351665258407593, 0.7650381326675415, 0.567886233329773, 0.4974760413169861, 0.7471880316734314, 0.6515570878982544, 0.6746700406074524, 0.6117433309555054, 0.45851993560791016, 0.7791411280632019, 0.6568864583969116, 0.6603927612304688, 0.36360791325569153, 0.3845328092575073, 0.640572190284729, 0.47425898909568787, 0.47094830870628357, 0.4706766903400421, 0.6262548565864563, 0.6205494999885559, 0.5430485010147095, 0.8243428468704224, 0.395565927028656, 0.48822861909866333, 0.6168124675750732, 0.5946128368377686, 0.5661447644233704, 0.7285033464431763, 0.6119512319564819, 0.5266987681388855]\n",
            "coherence_score_nli: [0.09425757643683548, 0.16112297624707794, 0.21586492657661438, 0.07023979898076504, 0.06907761127998431, 0.19176680140662938, 0.2149971217440907, 0.060379277964654775, 0.09971354440785944, 0.10940227527171373, 0.17032460638632377, 0.18932376039447263, 0.300043567915314, 0.08689216007769573, 0.13913205886880556, 0.6649268642067909, 0.094927927612194, 0.09883197388262488, 0.2792976275086403, 0.23261783703377373, 0.2160381999833939, 0.1436272129746309, 0.004317714095426102, 0.09280248140831562, 0.30278311800211666, 0.07588758692145348, 0.05100273846862061, 0.09544669402142365, 0.038815377124895654, 0.17886574869044125, 0.1233600890263915, 0.028186026960611343]\n",
            "normalized_score: [0.66666667 0.8        0.         0.8        0.66666667 0.5\n",
            " 0.25       0.72222222 0.75       0.6        0.6        0.66666667\n",
            " 0.8        0.6        0.5        0.4        1.         0.6\n",
            " 0.33333333 0.4        0.66666667 0.66666667 0.66666667 0.75\n",
            " 0.25       0.33333333 0.7        1.         0.5        0.8\n",
            " 0.66666667 0.5       ]\n"
          ]
        },
        {
          "name": "stderr",
          "output_type": "stream",
          "text": [
            "  8%|▊         | 30/375 [1:38:30<19:02:50, 198.76s/it]"
          ]
        },
        {
          "name": "stdout",
          "output_type": "stream",
          "text": [
            "Shapes before creating DataFrame:\n",
            "out_semantic: [0.5039781  0.5036723  0.50558895 0.49986425 0.5034545  0.50147516\n",
            " 0.5034588  0.5004367  0.5056315  0.50552464 0.50202537 0.50474226\n",
            " 0.5045134  0.5037374  0.50294685 0.5059867  0.5036397  0.5019913\n",
            " 0.50291884 0.505299   0.500306   0.5012378  0.49865538 0.50213635\n",
            " 0.49735638 0.5019653  0.50337607 0.5003822  0.50257117 0.50473994\n",
            " 0.5012065  0.50166196]\n",
            "out_coher: [0.48575747 0.28101236 0.22452241 0.2013095  0.2677858  0.22302282\n",
            " 0.5090885  0.5106892  0.22661379 0.27425283 0.49527463 0.5074915\n",
            " 0.20416237 0.50145614 0.17781025 0.16611922 0.25751358 0.27639365\n",
            " 0.1982527  0.4872976  0.49198395 0.49694696 0.29739428 0.2279957\n",
            " 0.26484573 0.28648803 0.2452449  0.50092536 0.24390443 0.18364617\n",
            " 0.2396835  0.48269302]\n",
            "out_prompt: [6.1800971e-04 3.6338887e-01 3.6852401e-01 4.5349519e-03 3.5709089e-01\n",
            " 3.7442183e-01 3.0519912e-01 1.4169615e-02 5.5590790e-04 3.6742777e-01\n",
            " 6.7356392e-03 3.7015024e-01 3.4504658e-01 3.9074329e-01 6.0996809e-03\n",
            " 3.1040376e-01 2.2928047e-03 2.6644100e-03 3.6695287e-01 2.0262664e-02\n",
            " 3.7068102e-01 2.8482947e-01 1.9097263e-04 3.7807435e-01 3.6761570e-01\n",
            " 3.6546332e-01 3.7209460e-01 3.7985530e-01 2.6563914e-03 5.6931279e-03\n",
            " 3.9437828e-03 3.6725372e-01]\n",
            "combined_score: [0.7208391427993774, 0.33987441658973694, 0.32094448804855347, 0.4777999520301819, 0.6176176071166992, 0.6056564450263977, 0.5532591342926025, 0.6554533839225769, 0.5878420472145081, 0.45845919847488403, 0.6657028794288635, 0.8475526571273804, 0.2776489555835724, 0.5094378590583801, 0.3635295331478119, 0.6464326977729797, 0.44445016980171204, 0.4775180220603943, 0.5324294567108154, 0.6796214580535889, 0.5881465077400208, 0.580158531665802, 0.7562441229820251, 0.31685730814933777, 0.5912836790084839, 0.3608236014842987, 0.8136144876480103, 0.5751835107803345, 0.6332481503486633, 0.4529731273651123, 0.5139116644859314, 0.46284469962120056]\n",
            "coherence_score_nli: [0.16666697131262886, 0.05800406634807587, 0.06182289868593216, 0.2379302109281222, 0.21388000001509985, 0.9323949217796326, 0.1544239329639822, 0.22425941648042022, 0.03753924393095076, 0.05036522075533867, 0.21960277565813158, 0.18840129367890768, 0.6921152472496033, 0.12806297341982523, 0.010770434979349375, 0.13335104066775078, 0.023502510972321033, 0.016720468488832314, 0.17514825006051418, 0.14059372810671839, 0.07530932473018766, 0.16475736486932469, 0.1499977894297733, 0.03373781684786081, 0.164196774762656, 0.5876161456108093, 0.12615603516460397, 0.042252974957227706, 0.12271149102598429, 0.1083370879253683, 0.38875519286375493, 0.03841028842143714]\n",
            "normalized_score: [1.         0.2        0.33333333 0.33333333 0.66666667 0.5\n",
            " 0.6        0.7        0.66666667 0.33333333 0.7        1.\n",
            " 0.         0.5        0.33333333 0.6        0.33333333 0.33333333\n",
            " 0.6        0.6        0.25       0.6        0.55555556 0.\n",
            " 1.         0.5        0.88888889 0.66666667 0.66666667 0.66666667\n",
            " 0.66666667 0.5       ]\n"
          ]
        },
        {
          "name": "stderr",
          "output_type": "stream",
          "text": [
            "  8%|▊         | 31/375 [1:41:42<18:48:43, 196.87s/it]"
          ]
        },
        {
          "name": "stdout",
          "output_type": "stream",
          "text": [
            "Shapes before creating DataFrame:\n",
            "out_semantic: [0.5039272  0.5017827  0.5054774  0.5029224  0.50277764 0.50119025\n",
            " 0.50113565 0.503494   0.49915463 0.50127333 0.5042491  0.5029451\n",
            " 0.5076022  0.5025381  0.5062244  0.5014353  0.5071186  0.5028056\n",
            " 0.5033664  0.5027902  0.50123155 0.50039685 0.49911317 0.5055391\n",
            " 0.5044753  0.49960643 0.5061613  0.5025528  0.50218123 0.5039631\n",
            " 0.5043261  0.5020492 ]\n",
            "out_coher: [0.23015764 0.48301375 0.262086   0.5132246  0.51195693 0.50146925\n",
            " 0.22357874 0.48642582 0.50273776 0.24214238 0.23284988 0.5136517\n",
            " 0.28701544 0.28543374 0.24655165 0.4846202  0.26630908 0.2598139\n",
            " 0.25945342 0.4964826  0.49672592 0.49585634 0.50399625 0.22846736\n",
            " 0.29701647 0.2266567  0.17577438 0.33356    0.48921895 0.21096899\n",
            " 0.5227372  0.4958975 ]\n",
            "out_prompt: [3.9137354e-01 7.2959803e-02 3.7596461e-03 2.2785878e-04 3.4567219e-01\n",
            " 7.4621348e-04 3.6845738e-01 2.5185937e-01 2.5370582e-03 3.7854874e-01\n",
            " 2.9451502e-03 3.8272542e-01 9.6521089e-03 1.2139053e-03 3.8470969e-01\n",
            " 1.7516945e-03 2.5460362e-03 3.8231802e-01 3.6765686e-01 1.2839463e-01\n",
            " 2.2361220e-01 3.6889651e-01 9.6020307e-03 3.7935415e-01 3.5869882e-01\n",
            " 3.4121767e-01 2.6280056e-03 3.7696412e-01 6.2348251e-04 3.8267365e-01\n",
            " 6.8500120e-04 3.5665548e-01]\n",
            "combined_score: [0.5014036297798157, 0.5865793228149414, 0.52409827709198, 0.7019040584564209, 0.7308493852615356, 0.5655032992362976, 0.7520900368690491, 0.5049496293067932, 0.6534309983253479, 0.3567937910556793, 0.23195108771324158, 0.713200032711029, 0.6245152950286865, 0.5074722766876221, 0.6010370850563049, 0.5814093351364136, 0.3735949695110321, 0.534893274307251, 0.3205336630344391, 0.4939468204975128, 0.6029704809188843, 0.5571023225784302, 0.5481315851211548, 0.7602894902229309, 0.5364406108856201, 0.6062673330307007, 0.7551952600479126, 0.5333321690559387, 0.5391809940338135, 0.6532013416290283, 0.6777381896972656, 0.661045253276825]\n",
            "coherence_score_nli: [0.22557624313049018, 0.3087038881235963, 0.04704849421977997, 0.1090813020709902, 0.16922109325726828, 0.18642071352780262, 0.06767351599410176, 0.15058987085441394, 0.17597099599411845, 0.06831920907522242, 0.07282193005084991, 0.04414609337358603, 0.15310510732334756, 0.005960940460984905, 0.25012747574510286, 0.10706975013636111, 0.25810159227694385, 0.0582972401753068, 0.26893165458459406, 0.3289630393264815, 0.2807478732739886, 0.1982882217465279, 0.34154014763995433, 0.181008455529809, 0.057848192867822945, 0.057915142090577215, 0.07317705407816295, 0.2115076866466552, 0.28153477869927884, 0.11783475540578366, 0.007839225562444577, 0.12123985106591136]\n",
            "normalized_score: [0.66666667 0.6        0.66666667 0.75       0.75       0.8\n",
            " 1.         0.4        0.6        0.2        0.33333333 0.75\n",
            " 0.6        0.66666667 0.5        0.7        0.33333333 0.5\n",
            " 0.55555556 0.6        0.4        0.75       0.6        0.83333333\n",
            " 0.66666667 0.77777778 1.         0.5        0.5        1.\n",
            " 0.25       0.75      ]\n"
          ]
        },
        {
          "name": "stderr",
          "output_type": "stream",
          "text": [
            "\n"
          ]
        }
      ],
      "source": [
        "main_data = pd.DataFrame()\n",
        "\n",
        "total_rows_123=0\n",
        "\n",
        "for essay_id, essay_set, essays, prompt, normalized_score in tqdm(dataloader):\n",
        "    total_rows_123 += essay_id.size(0)\n",
        "\n",
        "    if total_rows_123 >= 1000:\n",
        "          break\n",
        "\n",
        "        \n",
        "    # encoded_prompt = context_encoder_tokenizer(prompt, return_tensors='pt', padding=True, truncation=True)\n",
        "    # prompt_tokens = context_encoder_model(**encoded_prompt).pooler_output\n",
        "\n",
        "    # essays_dpr=list(essays)\n",
        "    # document_embeddings_batch = context_encoder_tokenizer(essays_dpr, return_tensors='pt', padding=True, truncation=True)\n",
        "    # document_embeddings_batch = context_encoder_model(**document_embeddings_batch).pooler_output\n",
        "\n",
        "    # with torch.no_grad():\n",
        "    #     prompt_embedding = model(**prompt_tokens).last_hidden_state.mean(dim=1)\n",
        "    #     essay_embedding = model(**document_embeddings_batch).last_hidden_state.mean(dim=1)\n",
        "\n",
        "    # # Calculate similarity (cosine similarity in this case)\n",
        "    # dpr_score = torch.nn.functional.cosine_similarity(prompt_embedding, essay_embedding).item()\n",
        "    # print(type(essays))\n",
        "    means, variances, grammaticals, word_counts, char_counts, coherence_score_nli, val =[], [], [], [], [], [], []\n",
        "    for index in range(len(essays)):\n",
        "        # print(essays[index])\n",
        "        means.append(get_mean_score(essays[index]))\n",
        "        variances.append(get_variance_score(essays[index]))\n",
        "        grammaticals.append(get_grammatical_score(essays[index]))\n",
        "        word_counts.append(get_word_count(essays[index]))\n",
        "        char_counts.append(get_char_count(essays[index]))\n",
        "        coherence_score_nli.append(coherence_score_snli(essays[index]))\n",
        "        val.append(prompt[index]+\".\"+essays[index])\n",
        "\n",
        "    combined_score = model_combined(essays,800)\n",
        "    combined_score = [item.item() for item in combined_score]\n",
        "\n",
        "    val, lengths_batch = preprocess_essay(val)\n",
        "    # val = val.to(device)\n",
        "    essays, lengths_batch = preprocess_essay(essays)\n",
        "    # essays = essays.to(device)\n",
        "\n",
        "    out_semantic = model_semantic(essays, lengths_batch)\n",
        "    out_coher = model_coher(essays, lengths_batch)\n",
        "    # mittal_sahab_score = mittal_is_a_model(essay)\n",
        "    # normalized_score = normalized_score.to(device)\n",
        "\n",
        "    out_prompt = model_prompt(val, lengths_batch)\n",
        "\n",
        "    out_semantic = out_semantic.cpu().detach().numpy()\n",
        "    out_coher = out_coher.cpu().detach().numpy()\n",
        "    out_prompt = out_prompt.cpu().detach().numpy()\n",
        "    normalized_score = normalized_score.cpu().detach().numpy()\n",
        "\n",
        "\n",
        "    # mittal_sahab = mittal_sahab_score().cpu().detach().numpy()\n",
        "\n",
        "\n",
        "    # print(normalized_score_np.is_cuda, word_counts.is_cuda)\n",
        "\n",
        "    # Print the shapes of arrays before creating the DataFrame\n",
        "    print(\"Shapes before creating DataFrame:\")\n",
        "    print(\"out_semantic:\", out_semantic)\n",
        "    print(\"out_coher:\", out_coher)\n",
        "    print(\"out_prompt:\", out_prompt)\n",
        "    print(\"combined_score:\", combined_score)\n",
        "    print(\"coherence_score_nli:\", coherence_score_nli)\n",
        "    print(\"normalized_score:\", normalized_score)\n",
        "\n",
        "    # Create the DataFrame\n",
        "    temp_df = pd.DataFrame({\n",
        "        'means': means,\n",
        "        'variances': variances,\n",
        "        'grammaticals': grammaticals,\n",
        "        'word_counts': word_counts,\n",
        "        'char_counts': char_counts,\n",
        "        'out_semantic': np.squeeze(out_semantic),\n",
        "        'out_coher': np.squeeze(out_coher),\n",
        "        'out_prompt': np.squeeze(out_prompt),\n",
        "        'combined_score' : np.squeeze(combined_score),\n",
        "        'coherence_score_nli' : np.squeeze(coherence_score_nli),\n",
        "        'normalized_score': np.squeeze(normalized_score)\n",
        "    })\n",
        "    main_data = pd.concat([main_data, temp_df], ignore_index=True)\n",
        "    \n",
        "main_data.to_csv('main_data.csv', index=False)\n"
      ]
    },
    {
      "cell_type": "code",
      "execution_count": 70,
      "metadata": {
        "id": "CO8UfzPwZRvi",
        "outputId": "2e9c580c-01b8-458b-c667-b37dc78e9185"
      },
      "outputs": [
        {
          "data": {
            "text/html": [
              "<div>\n",
              "<style scoped>\n",
              "    .dataframe tbody tr th:only-of-type {\n",
              "        vertical-align: middle;\n",
              "    }\n",
              "\n",
              "    .dataframe tbody tr th {\n",
              "        vertical-align: top;\n",
              "    }\n",
              "\n",
              "    .dataframe thead th {\n",
              "        text-align: right;\n",
              "    }\n",
              "</style>\n",
              "<table border=\"1\" class=\"dataframe\">\n",
              "  <thead>\n",
              "    <tr style=\"text-align: right;\">\n",
              "      <th></th>\n",
              "      <th>means</th>\n",
              "      <th>variances</th>\n",
              "      <th>grammaticals</th>\n",
              "      <th>word_counts</th>\n",
              "      <th>char_counts</th>\n",
              "      <th>out_semantic</th>\n",
              "      <th>out_coher</th>\n",
              "      <th>out_prompt</th>\n",
              "      <th>combined_score</th>\n",
              "      <th>coherence_score_nli</th>\n",
              "      <th>normalized_score</th>\n",
              "    </tr>\n",
              "  </thead>\n",
              "  <tbody>\n",
              "    <tr>\n",
              "      <th>0</th>\n",
              "      <td>4.258621</td>\n",
              "      <td>4.726219</td>\n",
              "      <td>0.918103</td>\n",
              "      <td>232</td>\n",
              "      <td>1219</td>\n",
              "      <td>0.504168</td>\n",
              "      <td>0.201281</td>\n",
              "      <td>0.374818</td>\n",
              "      <td>0.808965</td>\n",
              "      <td>0.029003</td>\n",
              "      <td>1.000000</td>\n",
              "    </tr>\n",
              "    <tr>\n",
              "      <th>1</th>\n",
              "      <td>4.563265</td>\n",
              "      <td>4.841916</td>\n",
              "      <td>0.951020</td>\n",
              "      <td>245</td>\n",
              "      <td>1362</td>\n",
              "      <td>0.505810</td>\n",
              "      <td>0.253076</td>\n",
              "      <td>0.337112</td>\n",
              "      <td>0.750977</td>\n",
              "      <td>0.080821</td>\n",
              "      <td>1.000000</td>\n",
              "    </tr>\n",
              "    <tr>\n",
              "      <th>2</th>\n",
              "      <td>3.773585</td>\n",
              "      <td>5.043076</td>\n",
              "      <td>0.867925</td>\n",
              "      <td>53</td>\n",
              "      <td>252</td>\n",
              "      <td>0.502608</td>\n",
              "      <td>0.305709</td>\n",
              "      <td>0.352617</td>\n",
              "      <td>0.383006</td>\n",
              "      <td>0.000000</td>\n",
              "      <td>0.611111</td>\n",
              "    </tr>\n",
              "    <tr>\n",
              "      <th>3</th>\n",
              "      <td>4.276786</td>\n",
              "      <td>3.896604</td>\n",
              "      <td>0.848214</td>\n",
              "      <td>112</td>\n",
              "      <td>590</td>\n",
              "      <td>0.502875</td>\n",
              "      <td>0.255067</td>\n",
              "      <td>0.001635</td>\n",
              "      <td>0.491345</td>\n",
              "      <td>0.053883</td>\n",
              "      <td>0.500000</td>\n",
              "    </tr>\n",
              "    <tr>\n",
              "      <th>4</th>\n",
              "      <td>4.651961</td>\n",
              "      <td>6.192594</td>\n",
              "      <td>0.901961</td>\n",
              "      <td>408</td>\n",
              "      <td>2305</td>\n",
              "      <td>0.504047</td>\n",
              "      <td>0.486871</td>\n",
              "      <td>0.000599</td>\n",
              "      <td>0.621725</td>\n",
              "      <td>0.176764</td>\n",
              "      <td>0.700000</td>\n",
              "    </tr>\n",
              "    <tr>\n",
              "      <th>...</th>\n",
              "      <td>...</td>\n",
              "      <td>...</td>\n",
              "      <td>...</td>\n",
              "      <td>...</td>\n",
              "      <td>...</td>\n",
              "      <td>...</td>\n",
              "      <td>...</td>\n",
              "      <td>...</td>\n",
              "      <td>...</td>\n",
              "      <td>...</td>\n",
              "      <td>...</td>\n",
              "    </tr>\n",
              "    <tr>\n",
              "      <th>987</th>\n",
              "      <td>4.555147</td>\n",
              "      <td>5.835194</td>\n",
              "      <td>0.900735</td>\n",
              "      <td>272</td>\n",
              "      <td>1510</td>\n",
              "      <td>0.502553</td>\n",
              "      <td>0.333560</td>\n",
              "      <td>0.376964</td>\n",
              "      <td>0.533332</td>\n",
              "      <td>0.211508</td>\n",
              "      <td>0.500000</td>\n",
              "    </tr>\n",
              "    <tr>\n",
              "      <th>988</th>\n",
              "      <td>4.694444</td>\n",
              "      <td>6.989969</td>\n",
              "      <td>0.888889</td>\n",
              "      <td>72</td>\n",
              "      <td>409</td>\n",
              "      <td>0.502181</td>\n",
              "      <td>0.489219</td>\n",
              "      <td>0.000623</td>\n",
              "      <td>0.539181</td>\n",
              "      <td>0.281535</td>\n",
              "      <td>0.500000</td>\n",
              "    </tr>\n",
              "    <tr>\n",
              "      <th>989</th>\n",
              "      <td>4.291209</td>\n",
              "      <td>4.898714</td>\n",
              "      <td>0.923077</td>\n",
              "      <td>182</td>\n",
              "      <td>962</td>\n",
              "      <td>0.503963</td>\n",
              "      <td>0.210969</td>\n",
              "      <td>0.382674</td>\n",
              "      <td>0.653201</td>\n",
              "      <td>0.117835</td>\n",
              "      <td>1.000000</td>\n",
              "    </tr>\n",
              "    <tr>\n",
              "      <th>990</th>\n",
              "      <td>4.553191</td>\n",
              "      <td>5.566320</td>\n",
              "      <td>0.819149</td>\n",
              "      <td>94</td>\n",
              "      <td>521</td>\n",
              "      <td>0.504326</td>\n",
              "      <td>0.522737</td>\n",
              "      <td>0.000685</td>\n",
              "      <td>0.677738</td>\n",
              "      <td>0.007839</td>\n",
              "      <td>0.250000</td>\n",
              "    </tr>\n",
              "    <tr>\n",
              "      <th>991</th>\n",
              "      <td>4.704918</td>\n",
              "      <td>5.683418</td>\n",
              "      <td>0.907104</td>\n",
              "      <td>183</td>\n",
              "      <td>1043</td>\n",
              "      <td>0.502049</td>\n",
              "      <td>0.495898</td>\n",
              "      <td>0.356655</td>\n",
              "      <td>0.661045</td>\n",
              "      <td>0.121240</td>\n",
              "      <td>0.750000</td>\n",
              "    </tr>\n",
              "  </tbody>\n",
              "</table>\n",
              "<p>992 rows × 11 columns</p>\n",
              "</div>"
            ],
            "text/plain": [
              "        means  variances  grammaticals  word_counts  char_counts  \\\n",
              "0    4.258621   4.726219      0.918103          232         1219   \n",
              "1    4.563265   4.841916      0.951020          245         1362   \n",
              "2    3.773585   5.043076      0.867925           53          252   \n",
              "3    4.276786   3.896604      0.848214          112          590   \n",
              "4    4.651961   6.192594      0.901961          408         2305   \n",
              "..        ...        ...           ...          ...          ...   \n",
              "987  4.555147   5.835194      0.900735          272         1510   \n",
              "988  4.694444   6.989969      0.888889           72          409   \n",
              "989  4.291209   4.898714      0.923077          182          962   \n",
              "990  4.553191   5.566320      0.819149           94          521   \n",
              "991  4.704918   5.683418      0.907104          183         1043   \n",
              "\n",
              "     out_semantic  out_coher  out_prompt  combined_score  coherence_score_nli  \\\n",
              "0        0.504168   0.201281    0.374818        0.808965             0.029003   \n",
              "1        0.505810   0.253076    0.337112        0.750977             0.080821   \n",
              "2        0.502608   0.305709    0.352617        0.383006             0.000000   \n",
              "3        0.502875   0.255067    0.001635        0.491345             0.053883   \n",
              "4        0.504047   0.486871    0.000599        0.621725             0.176764   \n",
              "..            ...        ...         ...             ...                  ...   \n",
              "987      0.502553   0.333560    0.376964        0.533332             0.211508   \n",
              "988      0.502181   0.489219    0.000623        0.539181             0.281535   \n",
              "989      0.503963   0.210969    0.382674        0.653201             0.117835   \n",
              "990      0.504326   0.522737    0.000685        0.677738             0.007839   \n",
              "991      0.502049   0.495898    0.356655        0.661045             0.121240   \n",
              "\n",
              "     normalized_score  \n",
              "0            1.000000  \n",
              "1            1.000000  \n",
              "2            0.611111  \n",
              "3            0.500000  \n",
              "4            0.700000  \n",
              "..                ...  \n",
              "987          0.500000  \n",
              "988          0.500000  \n",
              "989          1.000000  \n",
              "990          0.250000  \n",
              "991          0.750000  \n",
              "\n",
              "[992 rows x 11 columns]"
            ]
          },
          "execution_count": 70,
          "metadata": {},
          "output_type": "execute_result"
        }
      ],
      "source": [
        "main_data"
      ]
    },
    {
      "cell_type": "code",
      "execution_count": 69,
      "metadata": {
        "id": "0r0ZlG7oZRvj",
        "outputId": "8400434f-2f45-4fd3-f392-9b076238cff7"
      },
      "outputs": [],
      "source": [
        "# device = 'cuda'\n",
        "# model = model.to(device)"
      ]
    },
    {
      "cell_type": "code",
      "execution_count": null,
      "metadata": {
        "id": "rMhhiCLhZRvj"
      },
      "outputs": [],
      "source": [
        "def get_final_score(essays, prompt):\n",
        "    main_data = pd.DataFrame()\n",
        "\n",
        "    means, variances, grammaticals, word_counts, char_counts = get_mean_score(essays[0]), get_variance_score(essays[0]), get_grammatical_score(essays[0]),get_word_count(essays[0]), get_char_count(essays[0])\n",
        "\n",
        "    val = []\n",
        "    for i in range(1):\n",
        "        val.append(prompt[i]+\".\"+essays[i])\n",
        "\n",
        "    val, lengths_batch = preprocess_essay(val)\n",
        "    val = val.to(device)\n",
        "    essays, lengths_batch = preprocess_essay(essays)\n",
        "    essays = essays.to(device)\n",
        "    out_semantic = model_semantic(essays, lengths_batch)\n",
        "    out_coher = model_coher(essays, lengths_batch)\n",
        "\n",
        "    out_prompt = model_prompt(val, lengths_batch)\n",
        "    out_semantic = out_semantic.cpu().detach().numpy()\n",
        "    out_coher = out_coher.cpu().detach().numpy()\n",
        "    out_prompt = out_prompt.cpu().detach().numpy()\n",
        "\n",
        "    coherence_nli = coherence_score_nli(essay)\n",
        "    score_combined_score = combined_score(essay, 500)\n",
        "    # score_vaibhav = mittal_is_a_model(essay)\n",
        "\n",
        "    main_data = pd.DataFrame()\n",
        "    temp_df = pd.DataFrame({\n",
        "        'means': means,\n",
        "        'variances': variances,\n",
        "        'grammaticals': grammaticals,\n",
        "        'word_counts': word_counts,\n",
        "        'char_counts': char_counts,\n",
        "        'out_semantic': out_semantic[0],\n",
        "        'out_coher': out_coher[0],\n",
        "        'out_prompt': out_prompt[0],\n",
        "        'coherence_nli' : coherence_nli,\n",
        "        'score_combined_score' : score_combined_score,\n",
        "        # 'score_vaibhav' : score_vaibhav,\n",
        "        # 'normalized_score': normalized_score\n",
        "      }, index=[0])\n",
        "\n",
        "    main_data = pd.concat([main_data, temp_df], ignore_index=True)\n",
        "    return main_data\n"
      ]
    },
    {
      "cell_type": "code",
      "execution_count": 165,
      "metadata": {},
      "outputs": [],
      "source": [
        "main_data_vaibhav = pd.DataFrame()\n",
        "\n",
        "total_rows_123=0\n",
        "\n",
        "for essay_id, essay_set, essays, prompt, normalized_score in tqdm(dataloader):\n",
        "    total_rows_123 += essay_id.size(0)\n",
        "\n",
        "    if total_rows_123 >= 1000:\n",
        "          break\n",
        "\n",
        "    vaibhav_lst =[]\n",
        "    for index in range(len(essays)):\n",
        "        vaibhav_lst.append(vaibhav(essays[index]))\n",
        "\n",
        "    \n",
        "    # print(\"normalized_score:\", normalized_score)\n",
        "\n",
        "    # Create the DataFrame\n",
        "    temp_df = pd.DataFrame({\n",
        "        'ranks': vaibhav_lst,\n",
        "    })\n",
        "    main_data_vaibhav = pd.concat([main_data_vaibhav, temp_df], ignore_index=True)\n",
        "    \n",
        "# main_data.to_csv('main_data.csv', index=False)\n"
      ]
    },
    {
      "cell_type": "code",
      "execution_count": 166,
      "metadata": {},
      "outputs": [
        {
          "data": {
            "text/html": [
              "<div>\n",
              "<style scoped>\n",
              "    .dataframe tbody tr th:only-of-type {\n",
              "        vertical-align: middle;\n",
              "    }\n",
              "\n",
              "    .dataframe tbody tr th {\n",
              "        vertical-align: top;\n",
              "    }\n",
              "\n",
              "    .dataframe thead th {\n",
              "        text-align: right;\n",
              "    }\n",
              "</style>\n",
              "<table border=\"1\" class=\"dataframe\">\n",
              "  <thead>\n",
              "    <tr style=\"text-align: right;\">\n",
              "      <th></th>\n",
              "      <th>ranks</th>\n",
              "    </tr>\n",
              "  </thead>\n",
              "  <tbody>\n",
              "    <tr>\n",
              "      <th>0</th>\n",
              "      <td>4</td>\n",
              "    </tr>\n",
              "    <tr>\n",
              "      <th>1</th>\n",
              "      <td>4</td>\n",
              "    </tr>\n",
              "    <tr>\n",
              "      <th>2</th>\n",
              "      <td>5</td>\n",
              "    </tr>\n",
              "    <tr>\n",
              "      <th>3</th>\n",
              "      <td>4</td>\n",
              "    </tr>\n",
              "    <tr>\n",
              "      <th>4</th>\n",
              "      <td>10</td>\n",
              "    </tr>\n",
              "    <tr>\n",
              "      <th>...</th>\n",
              "      <td>...</td>\n",
              "    </tr>\n",
              "    <tr>\n",
              "      <th>379</th>\n",
              "      <td>5</td>\n",
              "    </tr>\n",
              "    <tr>\n",
              "      <th>380</th>\n",
              "      <td>5</td>\n",
              "    </tr>\n",
              "    <tr>\n",
              "      <th>381</th>\n",
              "      <td>5</td>\n",
              "    </tr>\n",
              "    <tr>\n",
              "      <th>382</th>\n",
              "      <td>8</td>\n",
              "    </tr>\n",
              "    <tr>\n",
              "      <th>383</th>\n",
              "      <td>5</td>\n",
              "    </tr>\n",
              "  </tbody>\n",
              "</table>\n",
              "<p>384 rows × 1 columns</p>\n",
              "</div>"
            ],
            "text/plain": [
              "     ranks\n",
              "0        4\n",
              "1        4\n",
              "2        5\n",
              "3        4\n",
              "4       10\n",
              "..     ...\n",
              "379      5\n",
              "380      5\n",
              "381      5\n",
              "382      8\n",
              "383      5\n",
              "\n",
              "[384 rows x 1 columns]"
            ]
          },
          "execution_count": 166,
          "metadata": {},
          "output_type": "execute_result"
        }
      ],
      "source": [
        "main_data_vaibhav"
      ]
    },
    {
      "cell_type": "code",
      "execution_count": 191,
      "metadata": {},
      "outputs": [
        {
          "name": "stderr",
          "output_type": "stream",
          "text": [
            "C:\\Users\\pchhl\\AppData\\Local\\Temp\\ipykernel_25820\\4213488995.py:2: SettingWithCopyWarning: \n",
            "A value is trying to be set on a copy of a slice from a DataFrame.\n",
            "Try using .loc[row_indexer,col_indexer] = value instead\n",
            "\n",
            "See the caveats in the documentation: https://pandas.pydata.org/pandas-docs/stable/user_guide/indexing.html#returning-a-view-versus-a-copy\n",
            "  final_dataframe['ranks'] = main_data_vaibhav['ranks']/10\n"
          ]
        }
      ],
      "source": [
        "final_dataframe = main_data[:384]\n",
        "final_dataframe['ranks'] = main_data_vaibhav['ranks']/10\n",
        "final_dataframe.to_csv(\"final_dataframe.csv\")"
      ]
    },
    {
      "cell_type": "code",
      "execution_count": 144,
      "metadata": {},
      "outputs": [],
      "source": [
        "import sklearn\n",
        "from sklearn.model_selection import train_test_split\n",
        "# means\tvariances\tgrammaticals\tword_counts\tchar_counts\tout_semantic\tout_coher\tout_prompt\tcombined_score\tcoherence_score_nli\tnormalized_score\n",
        "X = main_data[['means', 'variances', 'grammaticals', 'word_counts', 'char_counts', 'out_semantic', 'out_coher', 'out_prompt', 'combined_score', 'coherence_score_nli','ranks']]\n",
        "y = main_data['normalized_score']\n",
        "\n",
        "X_train, X_valid, y_train, y_valid = train_test_split(X, y, test_size=0.2, random_state=42)\n"
      ]
    },
    {
      "cell_type": "code",
      "execution_count": 145,
      "metadata": {},
      "outputs": [
        {
          "name": "stdout",
          "output_type": "stream",
          "text": [
            "[0]\ttrain-rmse:0.24290\tvalid-rmse:0.27675\n",
            "[1]\ttrain-rmse:0.24166\tvalid-rmse:0.27547\n",
            "[2]\ttrain-rmse:0.24045\tvalid-rmse:0.27421\n",
            "[3]\ttrain-rmse:0.23925\tvalid-rmse:0.27297\n",
            "[4]\ttrain-rmse:0.23807\tvalid-rmse:0.27173\n",
            "[5]\ttrain-rmse:0.23691\tvalid-rmse:0.27053\n",
            "[6]\ttrain-rmse:0.23576\tvalid-rmse:0.26931\n",
            "[7]\ttrain-rmse:0.23463\tvalid-rmse:0.26810\n",
            "[8]\ttrain-rmse:0.23352\tvalid-rmse:0.26693\n",
            "[9]\ttrain-rmse:0.23241\tvalid-rmse:0.26575\n",
            "[10]\ttrain-rmse:0.23133\tvalid-rmse:0.26459\n",
            "[11]\ttrain-rmse:0.23026\tvalid-rmse:0.26345\n",
            "[12]\ttrain-rmse:0.22920\tvalid-rmse:0.26233\n",
            "[13]\ttrain-rmse:0.22816\tvalid-rmse:0.26126\n",
            "[14]\ttrain-rmse:0.22714\tvalid-rmse:0.26016\n",
            "[15]\ttrain-rmse:0.22613\tvalid-rmse:0.25908\n",
            "[16]\ttrain-rmse:0.22513\tvalid-rmse:0.25802\n",
            "[17]\ttrain-rmse:0.22416\tvalid-rmse:0.25700\n",
            "[18]\ttrain-rmse:0.22319\tvalid-rmse:0.25596\n",
            "[19]\ttrain-rmse:0.22224\tvalid-rmse:0.25494\n",
            "[20]\ttrain-rmse:0.22131\tvalid-rmse:0.25397\n",
            "[21]\ttrain-rmse:0.22037\tvalid-rmse:0.25296\n",
            "[22]\ttrain-rmse:0.21945\tvalid-rmse:0.25197\n",
            "[23]\ttrain-rmse:0.21854\tvalid-rmse:0.25092\n",
            "[24]\ttrain-rmse:0.21765\tvalid-rmse:0.24996\n",
            "[25]\ttrain-rmse:0.21677\tvalid-rmse:0.24893\n",
            "[26]\ttrain-rmse:0.21592\tvalid-rmse:0.24804\n",
            "[27]\ttrain-rmse:0.21506\tvalid-rmse:0.24711\n",
            "[28]\ttrain-rmse:0.21422\tvalid-rmse:0.24613\n",
            "[29]\ttrain-rmse:0.21339\tvalid-rmse:0.24523\n",
            "[30]\ttrain-rmse:0.21257\tvalid-rmse:0.24427\n",
            "[31]\ttrain-rmse:0.21178\tvalid-rmse:0.24344\n",
            "[32]\ttrain-rmse:0.21099\tvalid-rmse:0.24255\n",
            "[33]\ttrain-rmse:0.21020\tvalid-rmse:0.24171\n",
            "[34]\ttrain-rmse:0.20943\tvalid-rmse:0.24079\n",
            "[35]\ttrain-rmse:0.20866\tvalid-rmse:0.23999\n",
            "[36]\ttrain-rmse:0.20791\tvalid-rmse:0.23918\n",
            "[37]\ttrain-rmse:0.20717\tvalid-rmse:0.23840\n",
            "[38]\ttrain-rmse:0.20644\tvalid-rmse:0.23753\n",
            "[39]\ttrain-rmse:0.20572\tvalid-rmse:0.23678\n",
            "[40]\ttrain-rmse:0.20501\tvalid-rmse:0.23601\n",
            "[41]\ttrain-rmse:0.20431\tvalid-rmse:0.23527\n",
            "[42]\ttrain-rmse:0.20362\tvalid-rmse:0.23446\n",
            "[43]\ttrain-rmse:0.20294\tvalid-rmse:0.23376\n",
            "[44]\ttrain-rmse:0.20227\tvalid-rmse:0.23302\n",
            "[45]\ttrain-rmse:0.20161\tvalid-rmse:0.23229\n",
            "[46]\ttrain-rmse:0.20096\tvalid-rmse:0.23161\n",
            "[47]\ttrain-rmse:0.20032\tvalid-rmse:0.23086\n",
            "[48]\ttrain-rmse:0.19969\tvalid-rmse:0.23020\n",
            "[49]\ttrain-rmse:0.19907\tvalid-rmse:0.22957\n",
            "[50]\ttrain-rmse:0.19846\tvalid-rmse:0.22891\n",
            "[51]\ttrain-rmse:0.19786\tvalid-rmse:0.22828\n",
            "[52]\ttrain-rmse:0.19726\tvalid-rmse:0.22767\n",
            "[53]\ttrain-rmse:0.19667\tvalid-rmse:0.22706\n",
            "[54]\ttrain-rmse:0.19610\tvalid-rmse:0.22639\n",
            "[55]\ttrain-rmse:0.19553\tvalid-rmse:0.22579\n"
          ]
        },
        {
          "name": "stdout",
          "output_type": "stream",
          "text": [
            "[56]\ttrain-rmse:0.19496\tvalid-rmse:0.22520\n",
            "[57]\ttrain-rmse:0.19441\tvalid-rmse:0.22462\n",
            "[58]\ttrain-rmse:0.19387\tvalid-rmse:0.22398\n",
            "[59]\ttrain-rmse:0.19333\tvalid-rmse:0.22341\n",
            "[60]\ttrain-rmse:0.19280\tvalid-rmse:0.22280\n",
            "[61]\ttrain-rmse:0.19229\tvalid-rmse:0.22226\n",
            "[62]\ttrain-rmse:0.19177\tvalid-rmse:0.22173\n",
            "[63]\ttrain-rmse:0.19126\tvalid-rmse:0.22114\n",
            "[64]\ttrain-rmse:0.19076\tvalid-rmse:0.22068\n",
            "[65]\ttrain-rmse:0.19027\tvalid-rmse:0.22011\n",
            "[66]\ttrain-rmse:0.18978\tvalid-rmse:0.21966\n",
            "[67]\ttrain-rmse:0.18931\tvalid-rmse:0.21915\n",
            "[68]\ttrain-rmse:0.18883\tvalid-rmse:0.21860\n",
            "[69]\ttrain-rmse:0.18837\tvalid-rmse:0.21811\n",
            "[70]\ttrain-rmse:0.18791\tvalid-rmse:0.21767\n",
            "[71]\ttrain-rmse:0.18746\tvalid-rmse:0.21719\n",
            "[72]\ttrain-rmse:0.18702\tvalid-rmse:0.21673\n",
            "[73]\ttrain-rmse:0.18658\tvalid-rmse:0.21626\n",
            "[74]\ttrain-rmse:0.18614\tvalid-rmse:0.21575\n",
            "[75]\ttrain-rmse:0.18571\tvalid-rmse:0.21534\n",
            "[76]\ttrain-rmse:0.18529\tvalid-rmse:0.21490\n",
            "[77]\ttrain-rmse:0.18488\tvalid-rmse:0.21443\n",
            "[78]\ttrain-rmse:0.18448\tvalid-rmse:0.21401\n",
            "[79]\ttrain-rmse:0.18407\tvalid-rmse:0.21365\n",
            "[80]\ttrain-rmse:0.18368\tvalid-rmse:0.21323\n",
            "[81]\ttrain-rmse:0.18329\tvalid-rmse:0.21281\n",
            "[82]\ttrain-rmse:0.18289\tvalid-rmse:0.21235\n",
            "[83]\ttrain-rmse:0.18251\tvalid-rmse:0.21190\n",
            "[84]\ttrain-rmse:0.18213\tvalid-rmse:0.21154\n",
            "[85]\ttrain-rmse:0.18175\tvalid-rmse:0.21109\n",
            "[86]\ttrain-rmse:0.18139\tvalid-rmse:0.21075\n",
            "[87]\ttrain-rmse:0.18102\tvalid-rmse:0.21035\n",
            "[88]\ttrain-rmse:0.18067\tvalid-rmse:0.21002\n",
            "[89]\ttrain-rmse:0.18032\tvalid-rmse:0.20964\n",
            "[90]\ttrain-rmse:0.17994\tvalid-rmse:0.20927\n",
            "[91]\ttrain-rmse:0.17959\tvalid-rmse:0.20882\n",
            "[92]\ttrain-rmse:0.17923\tvalid-rmse:0.20848\n",
            "[93]\ttrain-rmse:0.17889\tvalid-rmse:0.20807\n",
            "[94]\ttrain-rmse:0.17853\tvalid-rmse:0.20771\n",
            "[95]\ttrain-rmse:0.17820\tvalid-rmse:0.20728\n",
            "[96]\ttrain-rmse:0.17786\tvalid-rmse:0.20697\n",
            "[97]\ttrain-rmse:0.17754\tvalid-rmse:0.20662\n",
            "[98]\ttrain-rmse:0.17720\tvalid-rmse:0.20632\n",
            "[99]\ttrain-rmse:0.17688\tvalid-rmse:0.20600\n"
          ]
        },
        {
          "name": "stderr",
          "output_type": "stream",
          "text": [
            "c:\\Users\\pchhl\\anaconda3\\lib\\site-packages\\xgboost\\core.py:726: FutureWarning: Pass `evals` as keyword args.\n",
            "  warnings.warn(msg, FutureWarning)\n"
          ]
        }
      ],
      "source": [
        "import xgboost as xgb\n",
        "\n",
        "dtrain = xgb.DMatrix(X_train, label=y_train)\n",
        "dvalid = xgb.DMatrix(X_valid, label=y_valid)\n",
        "\n",
        "param = {\n",
        "    'max_depth': 3,\n",
        "    'eta': 0.01,\n",
        "    'objective': 'reg:squarederror'\n",
        "}\n",
        "num_round = 100\n",
        "\n",
        "bst = xgb.train(param, dtrain, num_round, [(dtrain, 'train'), (dvalid, 'valid')])\n"
      ]
    },
    {
      "cell_type": "code",
      "execution_count": 146,
      "metadata": {},
      "outputs": [
        {
          "data": {
            "text/plain": [
              "<xgboost.core.Booster at 0x21b96040130>"
            ]
          },
          "execution_count": 146,
          "metadata": {},
          "output_type": "execute_result"
        }
      ],
      "source": [
        "bst"
      ]
    },
    {
      "cell_type": "code",
      "execution_count": 147,
      "metadata": {},
      "outputs": [
        {
          "data": {
            "text/html": [
              "<div>\n",
              "<style scoped>\n",
              "    .dataframe tbody tr th:only-of-type {\n",
              "        vertical-align: middle;\n",
              "    }\n",
              "\n",
              "    .dataframe tbody tr th {\n",
              "        vertical-align: top;\n",
              "    }\n",
              "\n",
              "    .dataframe thead th {\n",
              "        text-align: right;\n",
              "    }\n",
              "</style>\n",
              "<table border=\"1\" class=\"dataframe\">\n",
              "  <thead>\n",
              "    <tr style=\"text-align: right;\">\n",
              "      <th></th>\n",
              "      <th>means</th>\n",
              "      <th>variances</th>\n",
              "      <th>grammaticals</th>\n",
              "      <th>word_counts</th>\n",
              "      <th>char_counts</th>\n",
              "      <th>out_semantic</th>\n",
              "      <th>out_coher</th>\n",
              "      <th>out_prompt</th>\n",
              "      <th>combined_score</th>\n",
              "      <th>coherence_score_nli</th>\n",
              "    </tr>\n",
              "  </thead>\n",
              "  <tbody>\n",
              "    <tr>\n",
              "      <th>213</th>\n",
              "      <td>4.954955</td>\n",
              "      <td>7.196169</td>\n",
              "      <td>0.891892</td>\n",
              "      <td>111</td>\n",
              "      <td>660</td>\n",
              "      <td>0.500796</td>\n",
              "      <td>0.503431</td>\n",
              "      <td>0.346328</td>\n",
              "      <td>0.684430</td>\n",
              "      <td>0.310375</td>\n",
              "    </tr>\n",
              "    <tr>\n",
              "      <th>331</th>\n",
              "      <td>5.120690</td>\n",
              "      <td>6.433710</td>\n",
              "      <td>0.887931</td>\n",
              "      <td>116</td>\n",
              "      <td>709</td>\n",
              "      <td>0.501566</td>\n",
              "      <td>0.483666</td>\n",
              "      <td>0.368868</td>\n",
              "      <td>0.784117</td>\n",
              "      <td>0.175243</td>\n",
              "    </tr>\n",
              "    <tr>\n",
              "      <th>501</th>\n",
              "      <td>4.313043</td>\n",
              "      <td>4.690410</td>\n",
              "      <td>0.939130</td>\n",
              "      <td>345</td>\n",
              "      <td>1832</td>\n",
              "      <td>0.504080</td>\n",
              "      <td>0.292549</td>\n",
              "      <td>0.346097</td>\n",
              "      <td>0.565251</td>\n",
              "      <td>0.143300</td>\n",
              "    </tr>\n",
              "    <tr>\n",
              "      <th>309</th>\n",
              "      <td>4.830409</td>\n",
              "      <td>6.374748</td>\n",
              "      <td>0.918129</td>\n",
              "      <td>171</td>\n",
              "      <td>996</td>\n",
              "      <td>0.503389</td>\n",
              "      <td>0.489085</td>\n",
              "      <td>0.369265</td>\n",
              "      <td>0.872319</td>\n",
              "      <td>0.098921</td>\n",
              "    </tr>\n",
              "    <tr>\n",
              "      <th>88</th>\n",
              "      <td>3.328125</td>\n",
              "      <td>2.230876</td>\n",
              "      <td>0.838542</td>\n",
              "      <td>192</td>\n",
              "      <td>830</td>\n",
              "      <td>0.503660</td>\n",
              "      <td>0.233364</td>\n",
              "      <td>0.381834</td>\n",
              "      <td>0.595867</td>\n",
              "      <td>0.170512</td>\n",
              "    </tr>\n",
              "    <tr>\n",
              "      <th>...</th>\n",
              "      <td>...</td>\n",
              "      <td>...</td>\n",
              "      <td>...</td>\n",
              "      <td>...</td>\n",
              "      <td>...</td>\n",
              "      <td>...</td>\n",
              "      <td>...</td>\n",
              "      <td>...</td>\n",
              "      <td>...</td>\n",
              "      <td>...</td>\n",
              "    </tr>\n",
              "    <tr>\n",
              "      <th>705</th>\n",
              "      <td>4.257840</td>\n",
              "      <td>4.435261</td>\n",
              "      <td>0.846690</td>\n",
              "      <td>287</td>\n",
              "      <td>1508</td>\n",
              "      <td>0.502187</td>\n",
              "      <td>0.507885</td>\n",
              "      <td>0.002818</td>\n",
              "      <td>0.535295</td>\n",
              "      <td>0.203311</td>\n",
              "    </tr>\n",
              "    <tr>\n",
              "      <th>305</th>\n",
              "      <td>4.990566</td>\n",
              "      <td>6.518779</td>\n",
              "      <td>0.896226</td>\n",
              "      <td>106</td>\n",
              "      <td>634</td>\n",
              "      <td>0.500003</td>\n",
              "      <td>0.509265</td>\n",
              "      <td>0.352399</td>\n",
              "      <td>0.494369</td>\n",
              "      <td>0.062507</td>\n",
              "    </tr>\n",
              "    <tr>\n",
              "      <th>809</th>\n",
              "      <td>4.138462</td>\n",
              "      <td>3.780828</td>\n",
              "      <td>0.923077</td>\n",
              "      <td>65</td>\n",
              "      <td>333</td>\n",
              "      <td>0.504424</td>\n",
              "      <td>0.266739</td>\n",
              "      <td>0.377860</td>\n",
              "      <td>0.428078</td>\n",
              "      <td>0.015809</td>\n",
              "    </tr>\n",
              "    <tr>\n",
              "      <th>237</th>\n",
              "      <td>3.828169</td>\n",
              "      <td>3.308502</td>\n",
              "      <td>0.847887</td>\n",
              "      <td>355</td>\n",
              "      <td>1713</td>\n",
              "      <td>0.504365</td>\n",
              "      <td>0.512918</td>\n",
              "      <td>0.050550</td>\n",
              "      <td>0.520719</td>\n",
              "      <td>0.327485</td>\n",
              "    </tr>\n",
              "    <tr>\n",
              "      <th>754</th>\n",
              "      <td>5.130435</td>\n",
              "      <td>5.635161</td>\n",
              "      <td>0.847826</td>\n",
              "      <td>46</td>\n",
              "      <td>281</td>\n",
              "      <td>0.502735</td>\n",
              "      <td>0.493073</td>\n",
              "      <td>0.000107</td>\n",
              "      <td>0.241110</td>\n",
              "      <td>0.205307</td>\n",
              "    </tr>\n",
              "  </tbody>\n",
              "</table>\n",
              "<p>199 rows × 10 columns</p>\n",
              "</div>"
            ],
            "text/plain": [
              "        means  variances  grammaticals  word_counts  char_counts  \\\n",
              "213  4.954955   7.196169      0.891892          111          660   \n",
              "331  5.120690   6.433710      0.887931          116          709   \n",
              "501  4.313043   4.690410      0.939130          345         1832   \n",
              "309  4.830409   6.374748      0.918129          171          996   \n",
              "88   3.328125   2.230876      0.838542          192          830   \n",
              "..        ...        ...           ...          ...          ...   \n",
              "705  4.257840   4.435261      0.846690          287         1508   \n",
              "305  4.990566   6.518779      0.896226          106          634   \n",
              "809  4.138462   3.780828      0.923077           65          333   \n",
              "237  3.828169   3.308502      0.847887          355         1713   \n",
              "754  5.130435   5.635161      0.847826           46          281   \n",
              "\n",
              "     out_semantic  out_coher  out_prompt  combined_score  coherence_score_nli  \n",
              "213      0.500796   0.503431    0.346328        0.684430             0.310375  \n",
              "331      0.501566   0.483666    0.368868        0.784117             0.175243  \n",
              "501      0.504080   0.292549    0.346097        0.565251             0.143300  \n",
              "309      0.503389   0.489085    0.369265        0.872319             0.098921  \n",
              "88       0.503660   0.233364    0.381834        0.595867             0.170512  \n",
              "..            ...        ...         ...             ...                  ...  \n",
              "705      0.502187   0.507885    0.002818        0.535295             0.203311  \n",
              "305      0.500003   0.509265    0.352399        0.494369             0.062507  \n",
              "809      0.504424   0.266739    0.377860        0.428078             0.015809  \n",
              "237      0.504365   0.512918    0.050550        0.520719             0.327485  \n",
              "754      0.502735   0.493073    0.000107        0.241110             0.205307  \n",
              "\n",
              "[199 rows x 10 columns]"
            ]
          },
          "execution_count": 147,
          "metadata": {},
          "output_type": "execute_result"
        }
      ],
      "source": [
        "(X_valid)\n"
      ]
    },
    {
      "cell_type": "code",
      "execution_count": 148,
      "metadata": {},
      "outputs": [
        {
          "name": "stderr",
          "output_type": "stream",
          "text": [
            "c:\\Users\\pchhl\\anaconda3\\lib\\site-packages\\xgboost\\core.py:160: UserWarning: [23:33:41] WARNING: C:\\buildkite-agent\\builds\\buildkite-windows-cpu-autoscaling-group-i-07f6e447eee219473-1\\xgboost\\xgboost-ci-windows\\src\\c_api\\c_api.cc:1240: Saving into deprecated binary model format, please consider using `json` or `ubj`. Model format will default to JSON in XGBoost 2.2 if not specified.\n",
            "  warnings.warn(smsg, UserWarning)\n"
          ]
        }
      ],
      "source": [
        "model_path = 'xgboost_model_.pth'\n",
        "bst.save_model(model_path)\n",
        "\n",
        "# Load the model later\n",
        "loaded_model = xgb.Booster()\n",
        "loaded_model.load_model(model_path)\n",
        "\n",
        "# Now you can use the loaded_model for predictions\n",
        "dpredict = xgb.DMatrix(X_valid)\n",
        "predictions = loaded_model.predict(dpredict)"
      ]
    },
    {
      "cell_type": "code",
      "execution_count": 274,
      "metadata": {},
      "outputs": [],
      "source": [
        "dpredict = xgb.DMatrix(X_valid)\n",
        "y_pred = bst.predict(dpredict)\n",
        "# print(y_pred.shape)\n",
        "# print(y_valid.shape)"
      ]
    },
    {
      "cell_type": "code",
      "execution_count": 133,
      "metadata": {},
      "outputs": [],
      "source": [
        "def get_final_score(essays, prompt):\n",
        "    main_data = pd.DataFrame()\n",
        "\n",
        "    means, variances, grammaticals, word_counts, char_counts = get_mean_score(essays[0]), get_variance_score(essays[0]), get_grammatical_score(essays[0]),get_word_count(essays[0]), get_char_count(essays[0])\n",
        "\n",
        "    val = []\n",
        "    for i in range(1):\n",
        "        val.append(prompt[i]+\".\"+essays[i])\n",
        "\n",
        "    val, lengths_batch = preprocess_essay(val)\n",
        "    val = val.to(device)\n",
        "    essays, lengths_batch = preprocess_essay(essays)\n",
        "    essays = essays.to(device)\n",
        "    out_semantic = model_semantic(essays, lengths_batch)\n",
        "    out_coher = model_coher(essays, lengths_batch)\n",
        "\n",
        "    out_prompt = model_prompt(val, lengths_batch)\n",
        "    out_semantic = out_semantic.cpu().detach().numpy()\n",
        "    out_coher = out_coher.cpu().detach().numpy()\n",
        "    out_prompt = out_prompt.cpu().detach().numpy()\n",
        "\n",
        "    main_data = pd.DataFrame()\n",
        "    temp_df = pd.DataFrame({\n",
        "        'means': means,\n",
        "        'variances': variances,\n",
        "        'grammaticals': grammaticals,\n",
        "        'word_counts': word_counts,\n",
        "        'char_counts': char_counts,\n",
        "        'out_semantic': out_semantic[0],\n",
        "        'out_coher': out_coher[0],\n",
        "        'out_prompt': out_prompt[0],\n",
        "        # 'normalized_score': normalized_score\n",
        "      }, index=[0])\n",
        "\n",
        "    main_data = pd.concat([main_data, temp_df], ignore_index=True)\n",
        "    return main_data\n"
      ]
    },
    {
      "cell_type": "code",
      "execution_count": 162,
      "metadata": {},
      "outputs": [],
      "source": [
        "# get_final_score(essays, prompt)"
      ]
    },
    {
      "cell_type": "code",
      "execution_count": 118,
      "metadata": {},
      "outputs": [
        {
          "data": {
            "text/plain": [
              "array([0.6534078 , 0.6685848 , 0.5662235 , 0.7438714 , 0.6241441 ,\n",
              "       0.68078595, 0.68416196, 0.6890191 , 0.52516776, 0.640056  ,\n",
              "       0.6700448 , 0.32127282, 0.68078595, 0.48067266, 0.6677401 ,\n",
              "       0.32352638, 0.6481685 , 0.5472554 , 0.67674243, 0.6433277 ,\n",
              "       0.66454893, 0.35765594, 0.68078595, 0.55290973, 0.5235108 ,\n",
              "       0.66104245, 0.4181817 , 0.5235108 , 0.5183698 , 0.5239977 ,\n",
              "       0.4937937 , 0.6734772 , 0.5840133 , 0.6530848 , 0.69923294,\n",
              "       0.6249911 , 0.6555466 , 0.32453158, 0.52412045, 0.7015259 ,\n",
              "       0.6765273 , 0.6433277 , 0.33486572, 0.5147451 , 0.66241014,\n",
              "       0.6644684 , 0.5662235 , 0.6563565 , 0.7562974 , 0.6677401 ,\n",
              "       0.5929126 , 0.5929126 , 0.5307187 , 0.43094075, 0.6700448 ,\n",
              "       0.76540685, 0.625801  , 0.6717836 , 0.600708  , 0.48067266,\n",
              "       0.59337485, 0.5248448 , 0.6241441 , 0.6677401 , 0.68416196,\n",
              "       0.6433277 , 0.6433277 , 0.6156393 , 0.68416196, 0.32334176,\n",
              "       0.6677401 , 0.7355087 , 0.75522983, 0.47501794, 0.5929126 ,\n",
              "       0.5929126 , 0.6249911 , 0.38096893, 0.76193917, 0.6433277 ,\n",
              "       0.6145073 , 0.70052546, 0.67674243, 0.6433277 , 0.742218  ,\n",
              "       0.4288381 , 0.5533451 , 0.6249911 , 0.39843705, 0.66454893,\n",
              "       0.67751426, 0.7389519 , 0.6731513 , 0.6824795 , 0.55980444,\n",
              "       0.6966537 , 0.6534078 , 0.49545068, 0.6700448 , 0.4309635 ,\n",
              "       0.76073223, 0.600708  , 0.66104245, 0.70823526, 0.76073223,\n",
              "       0.6734772 , 0.5257774 , 0.4534791 , 0.625801  , 0.76073223,\n",
              "       0.5610497 , 0.45588115, 0.6805809 , 0.6824795 , 0.55371475,\n",
              "       0.46206576, 0.67674243, 0.5244595 , 0.6249911 , 0.55728793,\n",
              "       0.68078595, 0.69923294, 0.6481685 , 0.5016698 , 0.30648938,\n",
              "       0.6534078 , 0.48443538, 0.55541986, 0.5235108 , 0.3475496 ,\n",
              "       0.7190871 , 0.5472554 , 0.70823526, 0.69923294, 0.76073223,\n",
              "       0.54683656, 0.5147451 , 0.4276126 , 0.69923294, 0.625801  ,\n",
              "       0.64905834, 0.6931643 , 0.68078595, 0.37696776, 0.6522749 ,\n",
              "       0.4937937 , 0.67674243, 0.44530085, 0.5235108 , 0.39037246,\n",
              "       0.6258918 , 0.43326733, 0.58627987, 0.70823526, 0.6717836 ,\n",
              "       0.65777075, 0.62423486, 0.5235108 , 0.68023187, 0.68416196,\n",
              "       0.66185236, 0.501991  , 0.6717836 , 0.69923294, 0.35665074,\n",
              "       0.4974353 , 0.52906173, 0.6734772 , 0.70823526, 0.6249911 ,\n",
              "       0.64905834, 0.76073223, 0.6433277 , 0.65777075, 0.7173291 ,\n",
              "       0.6391662 , 0.6792078 , 0.6717836 , 0.70052546, 0.5533451 ,\n",
              "       0.50131047, 0.76193917, 0.58567023, 0.35706344, 0.344103  ,\n",
              "       0.5595545 , 0.46350336, 0.3549945 , 0.65233004, 0.6433277 ,\n",
              "       0.5183812 , 0.6433277 , 0.6241441 , 0.54682004, 0.54682004,\n",
              "       0.52516776, 0.47501794, 0.56170905, 0.37948096], dtype=float32)"
            ]
          },
          "execution_count": 118,
          "metadata": {},
          "output_type": "execute_result"
        }
      ],
      "source": [
        "y_pred"
      ]
    },
    {
      "cell_type": "code",
      "execution_count": 275,
      "metadata": {},
      "outputs": [
        {
          "name": "stdout",
          "output_type": "stream",
          "text": [
            "0.4838198825320863\n"
          ]
        }
      ],
      "source": [
        "import numpy as np\n",
        "\n",
        "def compute_qwk(y_true, y_pred, max_rating=10, min_rating=0):\n",
        "    # Construct confusion matrix\n",
        "    conf_mat = np.zeros((max_rating + 1, max_rating + 1))\n",
        "    for a, p in zip(y_true, y_pred):\n",
        "        conf_mat[a][p] += 1\n",
        "\n",
        "    # Compute observed and expected agreement\n",
        "    num_ratings = max_rating - min_rating + 1\n",
        "    O = 0.0\n",
        "    E = 0.0\n",
        "    for i in range(num_ratings):\n",
        "        for j in range(num_ratings):\n",
        "            # Calculate weight\n",
        "            w = ((i - j) ** 2) / ((max_rating - min_rating) ** 2)\n",
        "            O += w * conf_mat[i][j]\n",
        "            E += w * (np.sum(conf_mat[i, :]) * np.sum(conf_mat[:, j])) / np.sum(conf_mat)\n",
        "\n",
        "    # Compute QWK\n",
        "    return 1.0 - O / E\n",
        "\n",
        "# Example usage\n",
        "y_true = np.array(y_valid)\n",
        "y_pred = np.array(y_pred)\n",
        "y_true = np.round(y_true*10).astype(int)\n",
        "y_pred = np.round(y_pred*10).astype(int)\n",
        "\n",
        "\n",
        "print(compute_qwk(y_true, y_pred))\n"
      ]
    },
    {
      "cell_type": "code",
      "execution_count": 120,
      "metadata": {},
      "outputs": [
        {
          "data": {
            "text/plain": [
              "array([7, 7, 6, 7, 6, 7, 7, 7, 5, 6, 7, 3, 7, 5, 7, 3, 6, 5, 7, 6, 7, 4,\n",
              "       7, 6, 5, 7, 4, 5, 5, 5, 5, 7, 6, 7, 7, 6, 7, 3, 5, 7, 7, 6, 3, 5,\n",
              "       7, 7, 6, 7, 8, 7, 6, 6, 5, 4, 7, 8, 6, 7, 6, 5, 6, 5, 6, 7, 7, 6,\n",
              "       6, 6, 7, 3, 7, 7, 8, 5, 6, 6, 6, 4, 8, 6, 6, 7, 7, 6, 7, 4, 6, 6,\n",
              "       4, 7, 7, 7, 7, 7, 6, 7, 7, 5, 7, 4, 8, 6, 7, 7, 8, 7, 5, 5, 6, 8,\n",
              "       6, 5, 7, 7, 6, 5, 7, 5, 6, 6, 7, 7, 6, 5, 3, 7, 5, 6, 5, 3, 7, 5,\n",
              "       7, 7, 8, 5, 5, 4, 7, 6, 6, 7, 7, 4, 7, 5, 7, 4, 5, 4, 6, 4, 6, 7,\n",
              "       7, 7, 6, 5, 7, 7, 7, 5, 7, 7, 4, 5, 5, 7, 7, 6, 6, 8, 6, 7, 7, 6,\n",
              "       7, 7, 7, 6, 5, 8, 6, 4, 3, 6, 5, 4, 7, 6, 5, 6, 6, 5, 5, 5, 5, 6,\n",
              "       4])"
            ]
          },
          "execution_count": 120,
          "metadata": {},
          "output_type": "execute_result"
        }
      ],
      "source": [
        "y_pred"
      ]
    },
    {
      "cell_type": "code",
      "execution_count": 167,
      "metadata": {},
      "outputs": [
        {
          "name": "stdout",
          "output_type": "stream",
          "text": [
            "Predicted Score : 7 -> Real Score :  8.0\n",
            "Predicted Score : 7 -> Real Score :  7.0\n",
            "Predicted Score : 5 -> Real Score :  5.0\n",
            "Predicted Score : 7 -> Real Score :  8.0\n",
            "Predicted Score : 3 -> Real Score :  2.0\n",
            "Predicted Score : 7 -> Real Score :  8.0\n",
            "Predicted Score : 5 -> Real Score :  4.0\n",
            "Predicted Score : 3 -> Real Score :  3.0\n",
            "Predicted Score : 6 -> Real Score :  7.0\n",
            "Predicted Score : 5 -> Real Score :  6.0\n",
            "Predicted Score : 7 -> Real Score :  6.0\n",
            "Predicted Score : 6 -> Real Score :  7.0\n",
            "Predicted Score : 6 -> Real Score :  5.0\n",
            "Predicted Score : 5 -> Real Score :  4.0\n",
            "Predicted Score : 7 -> Real Score :  8.0\n",
            "Predicted Score : 4 -> Real Score :  3.0\n",
            "Predicted Score : 5 -> Real Score :  6.0\n",
            "Predicted Score : 5 -> Real Score :  4.0\n",
            "Predicted Score : 5 -> Real Score :  6.0\n",
            "Predicted Score : 5 -> Real Score :  6.0\n",
            "Predicted Score : 7 -> Real Score :  8.0\n",
            "Predicted Score : 7 -> Real Score :  8.0\n",
            "Predicted Score : 5 -> Real Score :  4.0\n",
            "Predicted Score : 6 -> Real Score :  6.0\n",
            "Predicted Score : 7 -> Real Score :  6.0\n",
            "Predicted Score : 7 -> Real Score :  7.0\n",
            "Predicted Score : 6 -> Real Score :  6.0\n",
            "Predicted Score : 5 -> Real Score :  5.0\n",
            "Predicted Score : 4 -> Real Score :  3.0\n",
            "Predicted Score : 7 -> Real Score :  7.0\n",
            "Predicted Score : 7 -> Real Score :  8.0\n",
            "Predicted Score : 6 -> Real Score :  5.0\n",
            "Predicted Score : 5 -> Real Score :  4.0\n",
            "Predicted Score : 5 -> Real Score :  6.0\n",
            "Predicted Score : 6 -> Real Score :  7.0\n",
            "Predicted Score : 7 -> Real Score :  6.0\n",
            "Predicted Score : 7 -> Real Score :  8.0\n",
            "Predicted Score : 6 -> Real Score :  7.0\n",
            "Predicted Score : 6 -> Real Score :  6.0\n",
            "Predicted Score : 6 -> Real Score :  7.0\n",
            "Predicted Score : 7 -> Real Score :  8.0\n",
            "Predicted Score : 7 -> Real Score :  8.0\n",
            "Predicted Score : 8 -> Real Score :  8.0\n",
            "Predicted Score : 6 -> Real Score :  6.0\n",
            "Predicted Score : 6 -> Real Score :  5.0\n",
            "Predicted Score : 4 -> Real Score :  3.0\n",
            "Predicted Score : 8 -> Real Score :  7.0\n",
            "Predicted Score : 7 -> Real Score :  8.0\n",
            "Predicted Score : 6 -> Real Score :  7.0\n",
            "Predicted Score : 7 -> Real Score :  7.0\n",
            "Predicted Score : 4 -> Real Score :  5.0\n",
            "Predicted Score : 6 -> Real Score :  5.0\n",
            "Predicted Score : 7 -> Real Score :  8.0\n",
            "Predicted Score : 7 -> Real Score :  7.0\n",
            "Predicted Score : 7 -> Real Score :  8.0\n",
            "Predicted Score : 6 -> Real Score :  5.0\n",
            "Predicted Score : 7 -> Real Score :  7.0\n",
            "Predicted Score : 6 -> Real Score :  6.0\n",
            "Predicted Score : 7 -> Real Score :  8.0\n",
            "Predicted Score : 8 -> Real Score :  8.0\n",
            "Predicted Score : 5 -> Real Score :  5.0\n",
            "Predicted Score : 8 -> Real Score :  8.0\n",
            "Predicted Score : 5 -> Real Score :  5.0\n",
            "Predicted Score : 6 -> Real Score :  5.0\n",
            "Predicted Score : 7 -> Real Score :  8.0\n",
            "Predicted Score : 6 -> Real Score :  7.0\n",
            "Predicted Score : 6 -> Real Score :  6.0\n",
            "Predicted Score : 3 -> Real Score :  3.0\n",
            "Predicted Score : 5 -> Real Score :  4.0\n",
            "Predicted Score : 3 -> Real Score :  3.0\n",
            "Predicted Score : 7 -> Real Score :  8.0\n",
            "Predicted Score : 5 -> Real Score :  6.0\n",
            "Predicted Score : 7 -> Real Score :  8.0\n",
            "Predicted Score : 8 -> Real Score :  8.0\n",
            "Predicted Score : 4 -> Real Score :  5.0\n",
            "Predicted Score : 7 -> Real Score :  8.0\n",
            "Predicted Score : 6 -> Real Score :  5.0\n",
            "Predicted Score : 6 -> Real Score :  6.0\n",
            "Predicted Score : 5 -> Real Score :  6.0\n",
            "Predicted Score : 7 -> Real Score :  6.0\n",
            "Predicted Score : 4 -> Real Score :  3.0\n",
            "Predicted Score : 5 -> Real Score :  4.0\n",
            "Predicted Score : 4 -> Real Score :  3.0\n",
            "Predicted Score : 6 -> Real Score :  5.0\n",
            "Predicted Score : 4 -> Real Score :  4.0\n",
            "Predicted Score : 6 -> Real Score :  6.0\n",
            "Predicted Score : 6 -> Real Score :  7.0\n",
            "Predicted Score : 5 -> Real Score :  4.0\n",
            "Predicted Score : 7 -> Real Score :  6.0\n",
            "Predicted Score : 7 -> Real Score :  7.0\n",
            "Predicted Score : 7 -> Real Score :  8.0\n",
            "Predicted Score : 5 -> Real Score :  5.0\n",
            "Predicted Score : 7 -> Real Score :  7.0\n",
            "Predicted Score : 6 -> Real Score :  7.0\n",
            "Predicted Score : 6 -> Real Score :  6.0\n",
            "Predicted Score : 6 -> Real Score :  6.0\n",
            "Predicted Score : 7 -> Real Score :  8.0\n",
            "Predicted Score : 7 -> Real Score :  8.0\n",
            "Predicted Score : 6 -> Real Score :  5.0\n",
            "Predicted Score : 5 -> Real Score :  5.0\n",
            "Predicted Score : 6 -> Real Score :  7.0\n",
            "Predicted Score : 4 -> Real Score :  3.0\n",
            "Predicted Score : 3 -> Real Score :  2.0\n",
            "Predicted Score : 7 -> Real Score :  8.0\n",
            "Predicted Score : 6 -> Real Score :  6.0\n",
            "Predicted Score : 6 -> Real Score :  6.0\n",
            "Predicted Score : 5 -> Real Score :  6.0\n",
            "Predicted Score : 5 -> Real Score :  6.0\n",
            "Predicted Score : 6 -> Real Score :  6.0\n",
            "109 199\n"
          ]
        }
      ],
      "source": [
        "y_true = np.array(y_valid)\n",
        "y_pred = np.array(y_pred)\n",
        "count=0\n",
        "for i in range(len(y_pred)):\n",
        "    print(f\"Predicted Score : {y_pred[i]} -> Real Score :  {np.round(y_true[i]*10)}\")\n",
        "\n",
        "print(count, len(y_pred))"
      ]
    },
    {
      "cell_type": "code",
      "execution_count": 183,
      "metadata": {},
      "outputs": [
        {
          "name": "stdout",
          "output_type": "stream",
          "text": [
            "   Kendall Tau  Pearson Correlation  Spearman Correlation\n",
            "0     0.633349             0.728448              0.762087\n"
          ]
        }
      ],
      "source": [
        "from scipy.stats import kendalltau,spearmanr,pearsonr\n",
        "\n",
        "def kendall_tau(y_true, y_pred):\n",
        "    return kendalltau(y_true, y_pred)[0]\n",
        "\n",
        "def spearman(y_true, y_pred):\n",
        "    return spearmanr(y_true, y_pred)[0]\n",
        "\n",
        "def pearson(y_true, y_pred):\n",
        "    return pearsonr(y_true, y_pred)[0]\n",
        "\n",
        "\n",
        "kendall_ta = kendall_tau(y_true, y_pred)\n",
        "pearson_corr = pearson(y_true, y_pred)\n",
        "spearma_corr = spearman(y_true, y_pred)\n",
        "\n",
        "\n",
        "results_df = pd.DataFrame({\n",
        "    'Kendall Tau': [kendall_ta],\n",
        "    'Pearson Correlation': [pearson_corr],\n",
        "    'Spearman Correlation': [spearma_corr],\n",
        "})\n",
        "\n",
        "print(results_df)"
      ]
    },
    {
      "cell_type": "code",
      "execution_count": null,
      "metadata": {},
      "outputs": [],
      "source": []
    },
    {
      "cell_type": "markdown",
      "metadata": {},
      "source": [
        "MODEL WITH DIFFERENT PARAMETERS"
      ]
    },
    {
      "cell_type": "code",
      "execution_count": 122,
      "metadata": {
        "id": "Agikco3TZRvk"
      },
      "outputs": [],
      "source": [
        "import pandas as pd\n",
        "import numpy as np\n",
        "import torch\n",
        "import torch.nn as nn\n",
        "import torch.optim as optim\n",
        "from sklearn.model_selection import train_test_split\n",
        "from sklearn.preprocessing import StandardScaler"
      ]
    },
    {
      "cell_type": "code",
      "execution_count": 125,
      "metadata": {
        "id": "5XqNggSMZRvl",
        "outputId": "8443610b-2ed7-4bff-b8c2-83564b2a8b5f"
      },
      "outputs": [
        {
          "name": "stdout",
          "output_type": "stream",
          "text": [
            "Epoch [1/5], Loss: 41.5945\n",
            "Epoch [2/5], Loss: 41.5945\n",
            "Epoch [3/5], Loss: 41.5945\n",
            "Epoch [4/5], Loss: 41.5945\n",
            "Epoch [5/5], Loss: 41.5945\n",
            "OUTPUTS : \n",
            "tensor([[1.],\n",
            "        [1.],\n",
            "        [1.],\n",
            "        [1.],\n",
            "        [1.],\n",
            "        [1.],\n",
            "        [1.],\n",
            "        [1.],\n",
            "        [1.],\n",
            "        [1.],\n",
            "        [1.],\n",
            "        [1.],\n",
            "        [1.],\n",
            "        [1.],\n",
            "        [1.],\n",
            "        [1.],\n",
            "        [1.],\n",
            "        [1.],\n",
            "        [1.],\n",
            "        [1.],\n",
            "        [1.],\n",
            "        [1.],\n",
            "        [1.],\n",
            "        [1.],\n",
            "        [1.],\n",
            "        [1.],\n",
            "        [1.],\n",
            "        [1.],\n",
            "        [1.],\n",
            "        [1.],\n",
            "        [1.],\n",
            "        [1.],\n",
            "        [1.],\n",
            "        [1.],\n",
            "        [1.],\n",
            "        [1.],\n",
            "        [1.],\n",
            "        [1.],\n",
            "        [1.],\n",
            "        [1.],\n",
            "        [1.],\n",
            "        [1.],\n",
            "        [1.],\n",
            "        [1.],\n",
            "        [1.],\n",
            "        [1.],\n",
            "        [1.],\n",
            "        [1.],\n",
            "        [1.],\n",
            "        [1.],\n",
            "        [1.],\n",
            "        [1.],\n",
            "        [1.],\n",
            "        [1.],\n",
            "        [1.],\n",
            "        [1.],\n",
            "        [1.],\n",
            "        [1.],\n",
            "        [1.],\n",
            "        [1.],\n",
            "        [1.],\n",
            "        [1.],\n",
            "        [1.],\n",
            "        [1.],\n",
            "        [1.],\n",
            "        [1.],\n",
            "        [1.],\n",
            "        [1.],\n",
            "        [1.],\n",
            "        [1.],\n",
            "        [1.],\n",
            "        [1.],\n",
            "        [1.],\n",
            "        [1.],\n",
            "        [1.],\n",
            "        [1.],\n",
            "        [1.],\n",
            "        [1.],\n",
            "        [1.],\n",
            "        [1.],\n",
            "        [1.],\n",
            "        [1.],\n",
            "        [1.],\n",
            "        [1.],\n",
            "        [1.],\n",
            "        [1.],\n",
            "        [1.],\n",
            "        [1.],\n",
            "        [1.],\n",
            "        [1.],\n",
            "        [1.],\n",
            "        [1.],\n",
            "        [1.],\n",
            "        [1.],\n",
            "        [1.],\n",
            "        [1.],\n",
            "        [1.],\n",
            "        [1.],\n",
            "        [1.],\n",
            "        [1.],\n",
            "        [1.],\n",
            "        [1.],\n",
            "        [1.],\n",
            "        [1.],\n",
            "        [1.],\n",
            "        [1.],\n",
            "        [1.],\n",
            "        [1.],\n",
            "        [1.],\n",
            "        [1.],\n",
            "        [1.],\n",
            "        [1.],\n",
            "        [1.],\n",
            "        [1.],\n",
            "        [1.],\n",
            "        [1.],\n",
            "        [1.],\n",
            "        [1.],\n",
            "        [1.],\n",
            "        [1.],\n",
            "        [1.],\n",
            "        [1.],\n",
            "        [1.],\n",
            "        [1.],\n",
            "        [1.],\n",
            "        [1.],\n",
            "        [1.],\n",
            "        [1.],\n",
            "        [1.],\n",
            "        [1.],\n",
            "        [1.],\n",
            "        [1.],\n",
            "        [1.],\n",
            "        [1.],\n",
            "        [1.],\n",
            "        [1.],\n",
            "        [1.],\n",
            "        [1.],\n",
            "        [1.],\n",
            "        [1.],\n",
            "        [1.],\n",
            "        [1.],\n",
            "        [1.],\n",
            "        [1.],\n",
            "        [1.],\n",
            "        [1.],\n",
            "        [1.],\n",
            "        [1.],\n",
            "        [1.],\n",
            "        [1.],\n",
            "        [1.],\n",
            "        [1.],\n",
            "        [1.],\n",
            "        [1.],\n",
            "        [1.],\n",
            "        [1.],\n",
            "        [1.],\n",
            "        [1.],\n",
            "        [1.],\n",
            "        [1.],\n",
            "        [1.],\n",
            "        [1.],\n",
            "        [1.],\n",
            "        [1.],\n",
            "        [1.],\n",
            "        [1.],\n",
            "        [1.],\n",
            "        [1.],\n",
            "        [1.],\n",
            "        [1.],\n",
            "        [1.],\n",
            "        [1.],\n",
            "        [1.],\n",
            "        [1.],\n",
            "        [1.],\n",
            "        [1.],\n",
            "        [1.],\n",
            "        [1.],\n",
            "        [1.],\n",
            "        [1.],\n",
            "        [1.],\n",
            "        [1.],\n",
            "        [1.],\n",
            "        [1.],\n",
            "        [1.],\n",
            "        [1.],\n",
            "        [1.],\n",
            "        [1.],\n",
            "        [1.],\n",
            "        [1.],\n",
            "        [1.],\n",
            "        [1.],\n",
            "        [1.],\n",
            "        [1.],\n",
            "        [1.],\n",
            "        [1.],\n",
            "        [1.],\n",
            "        [1.],\n",
            "        [1.]])\n",
            "================================================================================\n",
            "tensor([[0.5000],\n",
            "        [0.5000],\n",
            "        [0.4000],\n",
            "        [0.7500],\n",
            "        [0.9444],\n",
            "        [0.6667],\n",
            "        [1.0000],\n",
            "        [1.0000],\n",
            "        [0.5000],\n",
            "        [0.8000],\n",
            "        [0.7500],\n",
            "        [0.2500],\n",
            "        [0.7500],\n",
            "        [0.4000],\n",
            "        [0.9000],\n",
            "        [0.2778],\n",
            "        [0.6667],\n",
            "        [0.6000],\n",
            "        [0.6000],\n",
            "        [0.7000],\n",
            "        [1.0000],\n",
            "        [0.0000],\n",
            "        [1.0000],\n",
            "        [0.5000],\n",
            "        [0.4000],\n",
            "        [0.7500],\n",
            "        [0.3333],\n",
            "        [0.6000],\n",
            "        [0.4000],\n",
            "        [0.6000],\n",
            "        [0.6000],\n",
            "        [1.0000],\n",
            "        [0.7778],\n",
            "        [0.8333],\n",
            "        [0.7500],\n",
            "        [1.0000],\n",
            "        [0.0000],\n",
            "        [0.0000],\n",
            "        [0.4000],\n",
            "        [1.0000],\n",
            "        [1.0000],\n",
            "        [0.6000],\n",
            "        [0.0000],\n",
            "        [0.3333],\n",
            "        [0.3333],\n",
            "        [0.6000],\n",
            "        [0.4000],\n",
            "        [1.0000],\n",
            "        [1.0000],\n",
            "        [0.7000],\n",
            "        [0.4000],\n",
            "        [0.6000],\n",
            "        [0.5000],\n",
            "        [0.3333],\n",
            "        [0.6667],\n",
            "        [1.0000],\n",
            "        [0.7778],\n",
            "        [0.7500],\n",
            "        [0.5000],\n",
            "        [0.4000],\n",
            "        [0.3333],\n",
            "        [0.6000],\n",
            "        [0.6667],\n",
            "        [0.6000],\n",
            "        [0.7500],\n",
            "        [0.7000],\n",
            "        [0.6000],\n",
            "        [0.7000],\n",
            "        [0.7500],\n",
            "        [0.0000],\n",
            "        [0.8000],\n",
            "        [1.0000],\n",
            "        [0.8000],\n",
            "        [0.6667],\n",
            "        [0.4000],\n",
            "        [0.6000],\n",
            "        [0.5000],\n",
            "        [0.3333],\n",
            "        [0.7000],\n",
            "        [0.8000],\n",
            "        [0.2500],\n",
            "        [1.0000],\n",
            "        [0.8000],\n",
            "        [0.7000],\n",
            "        [0.6667],\n",
            "        [0.5000],\n",
            "        [0.5000],\n",
            "        [1.0000],\n",
            "        [0.2500],\n",
            "        [0.7500],\n",
            "        [1.0000],\n",
            "        [1.0000],\n",
            "        [0.6667],\n",
            "        [0.7500],\n",
            "        [0.5000],\n",
            "        [1.0000],\n",
            "        [0.6667],\n",
            "        [0.2500],\n",
            "        [1.0000],\n",
            "        [0.6667],\n",
            "        [1.0000],\n",
            "        [0.6000],\n",
            "        [0.7500],\n",
            "        [1.0000],\n",
            "        [0.7778],\n",
            "        [1.0000],\n",
            "        [0.5000],\n",
            "        [0.0000],\n",
            "        [0.3333],\n",
            "        [0.7778],\n",
            "        [0.2500],\n",
            "        [0.5000],\n",
            "        [0.9444],\n",
            "        [1.0000],\n",
            "        [0.5000],\n",
            "        [0.0000],\n",
            "        [0.8000],\n",
            "        [0.0000],\n",
            "        [0.6667],\n",
            "        [0.6000],\n",
            "        [1.0000],\n",
            "        [1.0000],\n",
            "        [1.0000],\n",
            "        [0.2500],\n",
            "        [0.3333],\n",
            "        [0.5000],\n",
            "        [0.2000],\n",
            "        [0.3333],\n",
            "        [0.4000],\n",
            "        [0.3333],\n",
            "        [0.8000],\n",
            "        [0.6000],\n",
            "        [0.7500],\n",
            "        [1.0000],\n",
            "        [0.7500],\n",
            "        [0.6667],\n",
            "        [0.6667],\n",
            "        [0.5000],\n",
            "        [0.8000],\n",
            "        [0.5000],\n",
            "        [0.6000],\n",
            "        [1.0000],\n",
            "        [1.0000],\n",
            "        [0.5556],\n",
            "        [0.8889],\n",
            "        [0.6000],\n",
            "        [0.6000],\n",
            "        [0.3333],\n",
            "        [0.4000],\n",
            "        [0.3333],\n",
            "        [0.5000],\n",
            "        [0.4000],\n",
            "        [0.6111],\n",
            "        [1.0000],\n",
            "        [1.0000],\n",
            "        [1.0000],\n",
            "        [0.6667],\n",
            "        [0.4000],\n",
            "        [0.6000],\n",
            "        [1.0000],\n",
            "        [0.6667],\n",
            "        [0.2500],\n",
            "        [0.8333],\n",
            "        [1.0000],\n",
            "        [0.2500],\n",
            "        [0.0000],\n",
            "        [0.5000],\n",
            "        [0.6667],\n",
            "        [1.0000],\n",
            "        [0.6667],\n",
            "        [0.6000],\n",
            "        [1.0000],\n",
            "        [0.6000],\n",
            "        [0.8333],\n",
            "        [1.0000],\n",
            "        [0.2500],\n",
            "        [1.0000],\n",
            "        [0.7500],\n",
            "        [1.0000],\n",
            "        [0.5000],\n",
            "        [0.5000],\n",
            "        [1.0000],\n",
            "        [0.6667],\n",
            "        [0.3333],\n",
            "        [0.2000],\n",
            "        [0.3333],\n",
            "        [0.2500],\n",
            "        [0.0000],\n",
            "        [0.8000],\n",
            "        [0.6000],\n",
            "        [0.3333],\n",
            "        [0.6000],\n",
            "        [0.2500],\n",
            "        [0.6000],\n",
            "        [0.6000],\n",
            "        [0.2500],\n",
            "        [0.3333],\n",
            "        [0.6000],\n",
            "        [0.2500]])\n",
            "tensor([[1.],\n",
            "        [1.],\n",
            "        [1.],\n",
            "        [1.],\n",
            "        [1.],\n",
            "        [1.],\n",
            "        [1.],\n",
            "        [1.],\n",
            "        [1.],\n",
            "        [1.],\n",
            "        [1.],\n",
            "        [1.],\n",
            "        [1.],\n",
            "        [1.],\n",
            "        [1.],\n",
            "        [1.],\n",
            "        [1.],\n",
            "        [1.],\n",
            "        [1.],\n",
            "        [1.],\n",
            "        [1.],\n",
            "        [1.],\n",
            "        [1.],\n",
            "        [1.],\n",
            "        [1.],\n",
            "        [1.],\n",
            "        [1.],\n",
            "        [1.],\n",
            "        [1.],\n",
            "        [1.],\n",
            "        [1.],\n",
            "        [1.],\n",
            "        [1.],\n",
            "        [1.],\n",
            "        [1.],\n",
            "        [1.],\n",
            "        [1.],\n",
            "        [1.],\n",
            "        [1.],\n",
            "        [1.],\n",
            "        [1.],\n",
            "        [1.],\n",
            "        [1.],\n",
            "        [1.],\n",
            "        [1.],\n",
            "        [1.],\n",
            "        [1.],\n",
            "        [1.],\n",
            "        [1.],\n",
            "        [1.],\n",
            "        [1.],\n",
            "        [1.],\n",
            "        [1.],\n",
            "        [1.],\n",
            "        [1.],\n",
            "        [1.],\n",
            "        [1.],\n",
            "        [1.],\n",
            "        [1.],\n",
            "        [1.],\n",
            "        [1.],\n",
            "        [1.],\n",
            "        [1.],\n",
            "        [1.],\n",
            "        [1.],\n",
            "        [1.],\n",
            "        [1.],\n",
            "        [1.],\n",
            "        [1.],\n",
            "        [1.],\n",
            "        [1.],\n",
            "        [1.],\n",
            "        [1.],\n",
            "        [1.],\n",
            "        [1.],\n",
            "        [1.],\n",
            "        [1.],\n",
            "        [1.],\n",
            "        [1.],\n",
            "        [1.],\n",
            "        [1.],\n",
            "        [1.],\n",
            "        [1.],\n",
            "        [1.],\n",
            "        [1.],\n",
            "        [1.],\n",
            "        [1.],\n",
            "        [1.],\n",
            "        [1.],\n",
            "        [1.],\n",
            "        [1.],\n",
            "        [1.],\n",
            "        [1.],\n",
            "        [1.],\n",
            "        [1.],\n",
            "        [1.],\n",
            "        [1.],\n",
            "        [1.],\n",
            "        [1.],\n",
            "        [1.],\n",
            "        [1.],\n",
            "        [1.],\n",
            "        [1.],\n",
            "        [1.],\n",
            "        [1.],\n",
            "        [1.],\n",
            "        [1.],\n",
            "        [1.],\n",
            "        [1.],\n",
            "        [1.],\n",
            "        [1.],\n",
            "        [1.],\n",
            "        [1.],\n",
            "        [1.],\n",
            "        [1.],\n",
            "        [1.],\n",
            "        [1.],\n",
            "        [1.],\n",
            "        [1.],\n",
            "        [1.],\n",
            "        [1.],\n",
            "        [1.],\n",
            "        [1.],\n",
            "        [1.],\n",
            "        [1.],\n",
            "        [1.],\n",
            "        [1.],\n",
            "        [1.],\n",
            "        [1.],\n",
            "        [1.],\n",
            "        [1.],\n",
            "        [1.],\n",
            "        [1.],\n",
            "        [1.],\n",
            "        [1.],\n",
            "        [1.],\n",
            "        [1.],\n",
            "        [1.],\n",
            "        [1.],\n",
            "        [1.],\n",
            "        [1.],\n",
            "        [1.],\n",
            "        [1.],\n",
            "        [1.],\n",
            "        [1.],\n",
            "        [1.],\n",
            "        [1.],\n",
            "        [1.],\n",
            "        [1.],\n",
            "        [1.],\n",
            "        [1.],\n",
            "        [1.],\n",
            "        [1.],\n",
            "        [1.],\n",
            "        [1.],\n",
            "        [1.],\n",
            "        [1.],\n",
            "        [1.],\n",
            "        [1.],\n",
            "        [1.],\n",
            "        [1.],\n",
            "        [1.],\n",
            "        [1.],\n",
            "        [1.],\n",
            "        [1.],\n",
            "        [1.],\n",
            "        [1.],\n",
            "        [1.],\n",
            "        [1.],\n",
            "        [1.],\n",
            "        [1.],\n",
            "        [1.],\n",
            "        [1.],\n",
            "        [1.],\n",
            "        [1.],\n",
            "        [1.],\n",
            "        [1.],\n",
            "        [1.],\n",
            "        [1.],\n",
            "        [1.],\n",
            "        [1.],\n",
            "        [1.],\n",
            "        [1.],\n",
            "        [1.],\n",
            "        [1.],\n",
            "        [1.],\n",
            "        [1.],\n",
            "        [1.],\n",
            "        [1.],\n",
            "        [1.],\n",
            "        [1.],\n",
            "        [1.],\n",
            "        [1.],\n",
            "        [1.],\n",
            "        [1.],\n",
            "        [1.],\n",
            "        [1.],\n",
            "        [1.],\n",
            "        [1.]]) tensor([[0.5000],\n",
            "        [0.5000],\n",
            "        [0.4000],\n",
            "        [0.7500],\n",
            "        [0.9444],\n",
            "        [0.6667],\n",
            "        [1.0000],\n",
            "        [1.0000],\n",
            "        [0.5000],\n",
            "        [0.8000],\n",
            "        [0.7500],\n",
            "        [0.2500],\n",
            "        [0.7500],\n",
            "        [0.4000],\n",
            "        [0.9000],\n",
            "        [0.2778],\n",
            "        [0.6667],\n",
            "        [0.6000],\n",
            "        [0.6000],\n",
            "        [0.7000],\n",
            "        [1.0000],\n",
            "        [0.0000],\n",
            "        [1.0000],\n",
            "        [0.5000],\n",
            "        [0.4000],\n",
            "        [0.7500],\n",
            "        [0.3333],\n",
            "        [0.6000],\n",
            "        [0.4000],\n",
            "        [0.6000],\n",
            "        [0.6000],\n",
            "        [1.0000],\n",
            "        [0.7778],\n",
            "        [0.8333],\n",
            "        [0.7500],\n",
            "        [1.0000],\n",
            "        [0.0000],\n",
            "        [0.0000],\n",
            "        [0.4000],\n",
            "        [1.0000],\n",
            "        [1.0000],\n",
            "        [0.6000],\n",
            "        [0.0000],\n",
            "        [0.3333],\n",
            "        [0.3333],\n",
            "        [0.6000],\n",
            "        [0.4000],\n",
            "        [1.0000],\n",
            "        [1.0000],\n",
            "        [0.7000],\n",
            "        [0.4000],\n",
            "        [0.6000],\n",
            "        [0.5000],\n",
            "        [0.3333],\n",
            "        [0.6667],\n",
            "        [1.0000],\n",
            "        [0.7778],\n",
            "        [0.7500],\n",
            "        [0.5000],\n",
            "        [0.4000],\n",
            "        [0.3333],\n",
            "        [0.6000],\n",
            "        [0.6667],\n",
            "        [0.6000],\n",
            "        [0.7500],\n",
            "        [0.7000],\n",
            "        [0.6000],\n",
            "        [0.7000],\n",
            "        [0.7500],\n",
            "        [0.0000],\n",
            "        [0.8000],\n",
            "        [1.0000],\n",
            "        [0.8000],\n",
            "        [0.6667],\n",
            "        [0.4000],\n",
            "        [0.6000],\n",
            "        [0.5000],\n",
            "        [0.3333],\n",
            "        [0.7000],\n",
            "        [0.8000],\n",
            "        [0.2500],\n",
            "        [1.0000],\n",
            "        [0.8000],\n",
            "        [0.7000],\n",
            "        [0.6667],\n",
            "        [0.5000],\n",
            "        [0.5000],\n",
            "        [1.0000],\n",
            "        [0.2500],\n",
            "        [0.7500],\n",
            "        [1.0000],\n",
            "        [1.0000],\n",
            "        [0.6667],\n",
            "        [0.7500],\n",
            "        [0.5000],\n",
            "        [1.0000],\n",
            "        [0.6667],\n",
            "        [0.2500],\n",
            "        [1.0000],\n",
            "        [0.6667],\n",
            "        [1.0000],\n",
            "        [0.6000],\n",
            "        [0.7500],\n",
            "        [1.0000],\n",
            "        [0.7778],\n",
            "        [1.0000],\n",
            "        [0.5000],\n",
            "        [0.0000],\n",
            "        [0.3333],\n",
            "        [0.7778],\n",
            "        [0.2500],\n",
            "        [0.5000],\n",
            "        [0.9444],\n",
            "        [1.0000],\n",
            "        [0.5000],\n",
            "        [0.0000],\n",
            "        [0.8000],\n",
            "        [0.0000],\n",
            "        [0.6667],\n",
            "        [0.6000],\n",
            "        [1.0000],\n",
            "        [1.0000],\n",
            "        [1.0000],\n",
            "        [0.2500],\n",
            "        [0.3333],\n",
            "        [0.5000],\n",
            "        [0.2000],\n",
            "        [0.3333],\n",
            "        [0.4000],\n",
            "        [0.3333],\n",
            "        [0.8000],\n",
            "        [0.6000],\n",
            "        [0.7500],\n",
            "        [1.0000],\n",
            "        [0.7500],\n",
            "        [0.6667],\n",
            "        [0.6667],\n",
            "        [0.5000],\n",
            "        [0.8000],\n",
            "        [0.5000],\n",
            "        [0.6000],\n",
            "        [1.0000],\n",
            "        [1.0000],\n",
            "        [0.5556],\n",
            "        [0.8889],\n",
            "        [0.6000],\n",
            "        [0.6000],\n",
            "        [0.3333],\n",
            "        [0.4000],\n",
            "        [0.3333],\n",
            "        [0.5000],\n",
            "        [0.4000],\n",
            "        [0.6111],\n",
            "        [1.0000],\n",
            "        [1.0000],\n",
            "        [1.0000],\n",
            "        [0.6667],\n",
            "        [0.4000],\n",
            "        [0.6000],\n",
            "        [1.0000],\n",
            "        [0.6667],\n",
            "        [0.2500],\n",
            "        [0.8333],\n",
            "        [1.0000],\n",
            "        [0.2500],\n",
            "        [0.0000],\n",
            "        [0.5000],\n",
            "        [0.6667],\n",
            "        [1.0000],\n",
            "        [0.6667],\n",
            "        [0.6000],\n",
            "        [1.0000],\n",
            "        [0.6000],\n",
            "        [0.8333],\n",
            "        [1.0000],\n",
            "        [0.2500],\n",
            "        [1.0000],\n",
            "        [0.7500],\n",
            "        [1.0000],\n",
            "        [0.5000],\n",
            "        [0.5000],\n",
            "        [1.0000],\n",
            "        [0.6667],\n",
            "        [0.3333],\n",
            "        [0.2000],\n",
            "        [0.3333],\n",
            "        [0.2500],\n",
            "        [0.0000],\n",
            "        [0.8000],\n",
            "        [0.6000],\n",
            "        [0.3333],\n",
            "        [0.6000],\n",
            "        [0.2500],\n",
            "        [0.6000],\n",
            "        [0.6000],\n",
            "        [0.2500],\n",
            "        [0.3333],\n",
            "        [0.6000],\n",
            "        [0.2500]])\n",
            "Test Loss: 38.3166, Test Accuracy: 0.1960\n"
          ]
        }
      ],
      "source": [
        "# Split the data into training and testing sets\n",
        "# X_train, X_test, y_train, y_test = train_test_split(X, y, test_size=0.1, random_state=42)\n",
        "X_test = X_valid\n",
        "y_test = y_valid\n",
        "\n",
        "X_train_tensor = torch.tensor(X_train.values, dtype=torch.float32)\n",
        "y_train_tensor = torch.tensor(y_train.values, dtype=torch.float32)\n",
        "X_test_tensor = torch.tensor(X_test.values, dtype=torch.float32)\n",
        "y_test_tensor = torch.tensor(y_test.values, dtype=torch.float32)\n",
        "\n",
        "import torch.nn as nn\n",
        "\n",
        "class NeuralNetwork(nn.Module):\n",
        "    def __init__(self, input_size, hidden_sizes):\n",
        "        super(NeuralNetwork, self).__init__()\n",
        "        self.weights = nn.ParameterList([\n",
        "            nn.Parameter(torch.randn(input_size, hidden_sizes[0]))\n",
        "        ])\n",
        "        self.biases = nn.ParameterList([\n",
        "            nn.Parameter(torch.zeros(hidden_sizes[0]))\n",
        "        ])\n",
        "        for i in range(1, len(hidden_sizes)):\n",
        "            self.weights.append(nn.Parameter(torch.randn(hidden_sizes[i-1], hidden_sizes[i])))\n",
        "            self.biases.append(nn.Parameter(torch.zeros(hidden_sizes[i])))\n",
        "        self.output_layer = nn.Linear(hidden_sizes[-1], 1)\n",
        "\n",
        "    def forward(self, x):\n",
        "        for weight, bias in zip(self.weights, self.biases):\n",
        "            x = torch.relu(x @ weight + bias)\n",
        "        x = torch.sigmoid(self.output_layer(x))  # Apply sigmoid activation\n",
        "        return x\n",
        "\n",
        "\n",
        "input_size = X_train.shape[1]\n",
        "hidden_sizes = [32, 16]\n",
        "model_neural = NeuralNetwork(input_size, hidden_sizes)\n",
        "\n",
        "\n",
        "criterion = nn.BCELoss()  # Binary Cross Entropy Loss for binary classification\n",
        "optimizer = optim.Adam(model.parameters(), lr=0.001)\n",
        "\n",
        "# Training loop\n",
        "epochs = 5\n",
        "for epoch in range(epochs):\n",
        "    # Forward pass\n",
        "    outputs = model_neural(X_train_tensor)\n",
        "    loss = criterion(outputs, y_train_tensor.view(-1, 1))\n",
        "\n",
        "    # Backward pass and optimization\n",
        "    optimizer.zero_grad()\n",
        "    loss.backward()\n",
        "    optimizer.step()\n",
        "\n",
        "    # Print training loss every epoch\n",
        "    print(f'Epoch [{epoch + 1}/{epochs}], Loss: {loss.item():.4f}')\n",
        "\n",
        "# Evaluate the model_neural on the test set\n",
        "with torch.no_grad():\n",
        "    test_outputs = model_neural(X_test_tensor)\n",
        "    print(\"OUTPUTS : \")\n",
        "    print(test_outputs)\n",
        "    print(\"=\"*80)\n",
        "    print(y_test_tensor.view(-1, 1))\n",
        "\n",
        "\n",
        "with torch.no_grad():\n",
        "    test_outputs = model_neural(X_test_tensor)\n",
        "    test_loss = criterion(test_outputs, y_test_tensor.view(-1, 1))\n",
        "    predictions = (test_outputs >= 0.5).float()  # Threshold at 0.5 for binary classification\n",
        "    accuracy = (predictions == y_test_tensor.view(-1, 1)).float().mean()\n",
        "    print(predictions,y_test_tensor.view(-1, 1))\n",
        "\n",
        "    print(f'Test Loss: {test_loss.item():.4f}, Test Accuracy: {accuracy.item():.4f}')"
      ]
    },
    {
      "cell_type": "code",
      "execution_count": 126,
      "metadata": {
        "id": "RgjIThE2ZRvl",
        "outputId": "f9071c41-5633-4ac3-e4c5-117b57f0b521"
      },
      "outputs": [
        {
          "data": {
            "text/plain": [
              "tensor([[4.9550e+00, 7.1962e+00, 8.9189e-01,  ..., 5.0343e-01, 3.4633e-01,\n",
              "         6.8443e-01],\n",
              "        [5.1207e+00, 6.4337e+00, 8.8793e-01,  ..., 4.8367e-01, 3.6887e-01,\n",
              "         7.8412e-01],\n",
              "        [4.3130e+00, 4.6904e+00, 9.3913e-01,  ..., 2.9255e-01, 3.4610e-01,\n",
              "         5.6525e-01],\n",
              "        ...,\n",
              "        [4.1385e+00, 3.7808e+00, 9.2308e-01,  ..., 2.6674e-01, 3.7786e-01,\n",
              "         4.2808e-01],\n",
              "        [3.8282e+00, 3.3085e+00, 8.4789e-01,  ..., 5.1292e-01, 5.0550e-02,\n",
              "         5.2072e-01],\n",
              "        [5.1304e+00, 5.6352e+00, 8.4783e-01,  ..., 4.9307e-01, 1.0654e-04,\n",
              "         2.4111e-01]])"
            ]
          },
          "execution_count": 126,
          "metadata": {},
          "output_type": "execute_result"
        }
      ],
      "source": [
        "X_test_tensor"
      ]
    },
    {
      "cell_type": "code",
      "execution_count": 136,
      "metadata": {
        "id": "7wHAbEO7ZRvm"
      },
      "outputs": [],
      "source": [
        "def get_final_score(essays, prompt):\n",
        "    main_data = pd.DataFrame()\n",
        "    essays = [essays]\n",
        "    prompt = [prompt]\n",
        "\n",
        "        # coherence_score_nli.append(coherence_score_snli(essays[index]))\n",
        "    # print(type(essays[0]))\n",
        "    means, variances, grammaticals, word_counts, char_counts, coherence_nli = get_mean_score(essays[0]), get_variance_score(essays[0]), get_grammatical_score(essays[0]),get_word_count(essays[0]), get_char_count(essays[0]), coherence_score_snli(essays[0])\n",
        "\n",
        "    val = []\n",
        "    for i in range(1):\n",
        "        val.append(prompt[i]+\".\"+essays[i])\n",
        "\n",
        "\n",
        "    combined_score = model_combined(essays,300).cpu().detach().numpy()\n",
        "\n",
        "\n",
        "    val, lengths_batch = preprocess_essay(val)\n",
        "    val = val.to(device)\n",
        "    essays, lengths_batch = preprocess_essay(essays)\n",
        "    essays = essays.to(device)\n",
        "    out_semantic = model_semantic(essays, lengths_batch)\n",
        "    out_coher = model_coher(essays, lengths_batch)\n",
        "\n",
        "    out_prompt = model_prompt(val, lengths_batch)\n",
        "    out_semantic = out_semantic.cpu().detach().numpy()\n",
        "    out_coher = out_coher.cpu().detach().numpy()\n",
        "    out_prompt = out_prompt.cpu().detach().numpy()\n",
        "\n",
        "    # coherence_nli = coherence_score_nli(essay)\n",
        "    # score_vaibhav = mittal_is_a_model(essay)\n",
        "\n",
        "\n",
        "    # print(\"Shapes before creating DataFrame:\")\n",
        "    # print(\"out_semantic:\", out_semantic)\n",
        "    # print(\"out_coher:\", out_coher)\n",
        "    # print(\"out_prompt:\", out_prompt)\n",
        "    # print(\"combined_score:\", combined_score)\n",
        "    # print(\"coherence_score_nli:\", coherence_nli)\n",
        "    # print(\"normalized_score:\", normalized_score)\n",
        "\n",
        "    main_data = pd.DataFrame()\n",
        "    temp_df = pd.DataFrame({\n",
        "        'means': means,\n",
        "        'variances': variances,\n",
        "        'grammaticals': grammaticals,\n",
        "        'word_counts': word_counts,\n",
        "        'char_counts': char_counts,\n",
        "        'out_semantic': out_semantic[0],\n",
        "        'out_coher': out_coher[0],\n",
        "        'out_prompt': out_prompt[0],\n",
        "        'coherence_nli' : coherence_nli,\n",
        "        'combined_score' : combined_score[0][0],\n",
        "        # 'score_vaibhav' : score_vaibhav,\n",
        "        # 'normalized_score': normalized_score\n",
        "      }, index=[0])\n",
        "\n",
        "    main_data = pd.concat([main_data, temp_df], ignore_index=True)\n",
        "    return main_data\n"
      ]
    },
    {
      "cell_type": "code",
      "execution_count": null,
      "metadata": {},
      "outputs": [
        {
          "name": "stdout",
          "output_type": "stream",
          "text": [
            "0.6238198825320863\n"
          ]
        }
      ],
      "source": [
        "import numpy as np\n",
        "\n",
        "def compute_qwk(y_true, y_pred, max_rating=10, min_rating=0):\n",
        "    # Construct confusion matrix\n",
        "    conf_mat = np.zeros((max_rating + 1, max_rating + 1))\n",
        "    for a, p in zip(y_true, y_pred):\n",
        "        conf_mat[a][p] += 1\n",
        "\n",
        "    # Compute observed and expected agreement\n",
        "    num_ratings = max_rating - min_rating + 1\n",
        "    O = 0.0\n",
        "    E = 0.0\n",
        "    for i in range(num_ratings):\n",
        "        for j in range(num_ratings):\n",
        "            # Calculate weight\n",
        "            w = ((i - j) ** 2) / ((max_rating - min_rating) ** 2)\n",
        "            O += w * conf_mat[i][j]\n",
        "            E += w * (np.sum(conf_mat[i, :]) * np.sum(conf_mat[:, j])) / np.sum(conf_mat)\n",
        "\n",
        "    # Compute QWK\n",
        "    return 1.0 - O / E\n",
        "\n",
        "# Example usage\n",
        "y_true = np.array(y_valid)\n",
        "y_pred = np.array(y_pred)\n",
        "y_true = np.round(y_true*10).astype(int)\n",
        "y_pred = np.round(y_pred*10).astype(int)\n",
        "\n",
        "\n",
        "print(compute_qwk(y_true, y_pred))\n"
      ]
    },
    {
      "cell_type": "code",
      "execution_count": 137,
      "metadata": {
        "id": "pyZsbO4aZRvm",
        "outputId": "af4b6b81-3c76-45a1-82d8-990d5609bb21"
      },
      "outputs": [
        {
          "name": "stdout",
          "output_type": "stream",
          "text": [
            "0.6\n"
          ]
        },
        {
          "data": {
            "text/html": [
              "<div>\n",
              "<style scoped>\n",
              "    .dataframe tbody tr th:only-of-type {\n",
              "        vertical-align: middle;\n",
              "    }\n",
              "\n",
              "    .dataframe tbody tr th {\n",
              "        vertical-align: top;\n",
              "    }\n",
              "\n",
              "    .dataframe thead th {\n",
              "        text-align: right;\n",
              "    }\n",
              "</style>\n",
              "<table border=\"1\" class=\"dataframe\">\n",
              "  <thead>\n",
              "    <tr style=\"text-align: right;\">\n",
              "      <th></th>\n",
              "      <th>means</th>\n",
              "      <th>variances</th>\n",
              "      <th>grammaticals</th>\n",
              "      <th>word_counts</th>\n",
              "      <th>char_counts</th>\n",
              "      <th>out_semantic</th>\n",
              "      <th>out_coher</th>\n",
              "      <th>out_prompt</th>\n",
              "      <th>coherence_nli</th>\n",
              "      <th>combined_score</th>\n",
              "    </tr>\n",
              "  </thead>\n",
              "  <tbody>\n",
              "    <tr>\n",
              "      <th>0</th>\n",
              "      <td>4.126016</td>\n",
              "      <td>4.573551</td>\n",
              "      <td>0.861789</td>\n",
              "      <td>246</td>\n",
              "      <td>1260</td>\n",
              "      <td>0.48984</td>\n",
              "      <td>0.186854</td>\n",
              "      <td>0.008063</td>\n",
              "      <td>0.188973</td>\n",
              "      <td>0.669489</td>\n",
              "    </tr>\n",
              "  </tbody>\n",
              "</table>\n",
              "</div>"
            ],
            "text/plain": [
              "      means  variances  grammaticals  word_counts  char_counts  out_semantic  \\\n",
              "0  4.126016   4.573551      0.861789          246         1260       0.48984   \n",
              "\n",
              "   out_coher  out_prompt  coherence_nli  combined_score  \n",
              "0   0.186854    0.008063       0.188973        0.669489  "
            ]
          },
          "execution_count": 137,
          "metadata": {},
          "output_type": "execute_result"
        }
      ],
      "source": [
        "idx = 5\n",
        "ess = custom_df['essay'].iloc[idx]\n",
        "prp = custom_df['prompt'].iloc[idx]\n",
        "\n",
        "# print(ess)\n",
        "# print(prp)\n",
        "output = get_final_score(ess, prp)\n",
        "print(custom_df['normalized_score'].iloc[idx])\n",
        "output"
      ]
    },
    {
      "cell_type": "code",
      "execution_count": null,
      "metadata": {
        "id": "_JO2FR5dZRvm",
        "outputId": "9292040c-01b5-42ae-8918-601f153cccb2"
      },
      "outputs": [
        {
          "data": {
            "text/html": [
              "<div>\n",
              "<style scoped>\n",
              "    .dataframe tbody tr th:only-of-type {\n",
              "        vertical-align: middle;\n",
              "    }\n",
              "\n",
              "    .dataframe tbody tr th {\n",
              "        vertical-align: top;\n",
              "    }\n",
              "\n",
              "    .dataframe thead th {\n",
              "        text-align: right;\n",
              "    }\n",
              "</style>\n",
              "<table border=\"1\" class=\"dataframe\">\n",
              "  <thead>\n",
              "    <tr style=\"text-align: right;\">\n",
              "      <th></th>\n",
              "      <th>means</th>\n",
              "      <th>variances</th>\n",
              "      <th>grammaticals</th>\n",
              "      <th>word_counts</th>\n",
              "      <th>char_counts</th>\n",
              "      <th>out_semantic</th>\n",
              "      <th>out_coher</th>\n",
              "      <th>out_prompt</th>\n",
              "      <th>coherence_nli</th>\n",
              "      <th>score_combined_score</th>\n",
              "    </tr>\n",
              "  </thead>\n",
              "  <tbody>\n",
              "    <tr>\n",
              "      <th>0</th>\n",
              "      <td>4.126016</td>\n",
              "      <td>4.573551</td>\n",
              "      <td>0.861789</td>\n",
              "      <td>246</td>\n",
              "      <td>1260</td>\n",
              "      <td>0.494453</td>\n",
              "      <td>0.498256</td>\n",
              "      <td>0.507619</td>\n",
              "      <td>0.188973</td>\n",
              "      <td>0.663241</td>\n",
              "    </tr>\n",
              "  </tbody>\n",
              "</table>\n",
              "</div>"
            ],
            "text/plain": [
              "      means  variances  grammaticals  word_counts  char_counts  out_semantic  \\\n",
              "0  4.126016   4.573551      0.861789          246         1260      0.494453   \n",
              "\n",
              "   out_coher  out_prompt  coherence_nli  score_combined_score  \n",
              "0   0.498256    0.507619       0.188973              0.663241  "
            ]
          },
          "execution_count": 189,
          "metadata": {},
          "output_type": "execute_result"
        }
      ],
      "source": [
        "output"
      ]
    },
    {
      "cell_type": "code",
      "execution_count": 159,
      "metadata": {
        "id": "zbyPCR5dZRvn"
      },
      "outputs": [],
      "source": []
    },
    {
      "cell_type": "code",
      "execution_count": 160,
      "metadata": {},
      "outputs": [],
      "source": []
    },
    {
      "cell_type": "code",
      "execution_count": null,
      "metadata": {},
      "outputs": [],
      "source": []
    },
    {
      "cell_type": "markdown",
      "metadata": {},
      "source": [
        "#### COMBINED MODEL 2"
      ]
    },
    {
      "cell_type": "code",
      "execution_count": 242,
      "metadata": {},
      "outputs": [],
      "source": [
        "import sklearn\n",
        "from sklearn.model_selection import train_test_split\n",
        "X_combined_2 = final_dataframe[['means', 'variances', 'grammaticals', 'word_counts', 'char_counts', 'out_coher', 'out_prompt', 'combined_score']]\n",
        "y_combined_2 = final_dataframe['normalized_score']\n",
        "\n",
        "X_train_2, X_valid_2, y_train_2, y_valid_2 = train_test_split(X_combined_2, y_combined_2, test_size=0.2, random_state=42)"
      ]
    },
    {
      "cell_type": "code",
      "execution_count": 243,
      "metadata": {},
      "outputs": [
        {
          "name": "stdout",
          "output_type": "stream",
          "text": [
            "[0]\ttrain-rmse:0.24699\tvalid-rmse:0.27920\n",
            "[1]\ttrain-rmse:0.24565\tvalid-rmse:0.27796\n",
            "[2]\ttrain-rmse:0.24434\tvalid-rmse:0.27672\n",
            "[3]\ttrain-rmse:0.24304\tvalid-rmse:0.27551\n",
            "[4]\ttrain-rmse:0.24176\tvalid-rmse:0.27424\n",
            "[5]\ttrain-rmse:0.24050\tvalid-rmse:0.27307\n",
            "[6]\ttrain-rmse:0.23925\tvalid-rmse:0.27179\n",
            "[7]\ttrain-rmse:0.23802\tvalid-rmse:0.27065\n",
            "[8]\ttrain-rmse:0.23681\tvalid-rmse:0.26947\n",
            "[9]\ttrain-rmse:0.23560\tvalid-rmse:0.26828\n",
            "[10]\ttrain-rmse:0.23441\tvalid-rmse:0.26709\n",
            "[11]\ttrain-rmse:0.23323\tvalid-rmse:0.26593\n",
            "[12]\ttrain-rmse:0.23207\tvalid-rmse:0.26476\n",
            "[13]\ttrain-rmse:0.23093\tvalid-rmse:0.26363\n",
            "[14]\ttrain-rmse:0.22980\tvalid-rmse:0.26248\n",
            "[15]\ttrain-rmse:0.22869\tvalid-rmse:0.26137\n",
            "[16]\ttrain-rmse:0.22759\tvalid-rmse:0.26025\n",
            "[17]\ttrain-rmse:0.22651\tvalid-rmse:0.25915\n",
            "[18]\ttrain-rmse:0.22544\tvalid-rmse:0.25808\n",
            "[19]\ttrain-rmse:0.22439\tvalid-rmse:0.25708\n",
            "[20]\ttrain-rmse:0.22336\tvalid-rmse:0.25605\n",
            "[21]\ttrain-rmse:0.22234\tvalid-rmse:0.25503\n",
            "[22]\ttrain-rmse:0.22133\tvalid-rmse:0.25397\n",
            "[23]\ttrain-rmse:0.22033\tvalid-rmse:0.25304\n",
            "[24]\ttrain-rmse:0.21935\tvalid-rmse:0.25205\n",
            "[25]\ttrain-rmse:0.21838\tvalid-rmse:0.25110\n",
            "[26]\ttrain-rmse:0.21743\tvalid-rmse:0.25014\n",
            "[27]\ttrain-rmse:0.21649\tvalid-rmse:0.24924\n",
            "[28]\ttrain-rmse:0.21556\tvalid-rmse:0.24826\n",
            "[29]\ttrain-rmse:0.21464\tvalid-rmse:0.24736\n",
            "[30]\ttrain-rmse:0.21374\tvalid-rmse:0.24643\n",
            "[31]\ttrain-rmse:0.21285\tvalid-rmse:0.24560\n",
            "[32]\ttrain-rmse:0.21196\tvalid-rmse:0.24464\n",
            "[33]\ttrain-rmse:0.21108\tvalid-rmse:0.24383\n",
            "[34]\ttrain-rmse:0.21023\tvalid-rmse:0.24291\n",
            "[35]\ttrain-rmse:0.20938\tvalid-rmse:0.24206\n",
            "[36]\ttrain-rmse:0.20855\tvalid-rmse:0.24123\n",
            "[37]\ttrain-rmse:0.20772\tvalid-rmse:0.24045\n",
            "[38]\ttrain-rmse:0.20691\tvalid-rmse:0.23963\n",
            "[39]\ttrain-rmse:0.20610\tvalid-rmse:0.23885\n",
            "[40]\ttrain-rmse:0.20531\tvalid-rmse:0.23801\n",
            "[41]\ttrain-rmse:0.20452\tvalid-rmse:0.23729\n",
            "[42]\ttrain-rmse:0.20376\tvalid-rmse:0.23651\n",
            "[43]\ttrain-rmse:0.20299\tvalid-rmse:0.23581\n",
            "[44]\ttrain-rmse:0.20225\tvalid-rmse:0.23501\n",
            "[45]\ttrain-rmse:0.20150\tvalid-rmse:0.23433\n",
            "[46]\ttrain-rmse:0.20078\tvalid-rmse:0.23362\n",
            "[47]\ttrain-rmse:0.20006\tvalid-rmse:0.23278\n",
            "[48]\ttrain-rmse:0.19934\tvalid-rmse:0.23209\n",
            "[49]\ttrain-rmse:0.19862\tvalid-rmse:0.23137\n",
            "[50]\ttrain-rmse:0.19792\tvalid-rmse:0.23072\n",
            "[51]\ttrain-rmse:0.19724\tvalid-rmse:0.23004\n",
            "[52]\ttrain-rmse:0.19656\tvalid-rmse:0.22944\n",
            "[53]\ttrain-rmse:0.19588\tvalid-rmse:0.22881\n",
            "[54]\ttrain-rmse:0.19523\tvalid-rmse:0.22816\n",
            "[55]\ttrain-rmse:0.19456\tvalid-rmse:0.22754\n",
            "[56]\ttrain-rmse:0.19393\tvalid-rmse:0.22695\n",
            "[57]\ttrain-rmse:0.19330\tvalid-rmse:0.22628\n",
            "[58]\ttrain-rmse:0.19268\tvalid-rmse:0.22571\n",
            "[59]\ttrain-rmse:0.19205\tvalid-rmse:0.22509\n",
            "[60]\ttrain-rmse:0.19144\tvalid-rmse:0.22454\n",
            "[61]\ttrain-rmse:0.19085\tvalid-rmse:0.22398\n",
            "[62]\ttrain-rmse:0.19024\tvalid-rmse:0.22339\n",
            "[63]\ttrain-rmse:0.18966\tvalid-rmse:0.22280\n",
            "[64]\ttrain-rmse:0.18909\tvalid-rmse:0.22224\n",
            "[65]\ttrain-rmse:0.18852\tvalid-rmse:0.22164\n",
            "[66]\ttrain-rmse:0.18795\tvalid-rmse:0.22110\n",
            "[67]\ttrain-rmse:0.18740\tvalid-rmse:0.22064\n",
            "[68]\ttrain-rmse:0.18686\tvalid-rmse:0.22012\n",
            "[69]\ttrain-rmse:0.18631\tvalid-rmse:0.21959\n",
            "[70]\ttrain-rmse:0.18578\tvalid-rmse:0.21902\n",
            "[71]\ttrain-rmse:0.18526\tvalid-rmse:0.21851\n",
            "[72]\ttrain-rmse:0.18475\tvalid-rmse:0.21799\n",
            "[73]\ttrain-rmse:0.18423\tvalid-rmse:0.21749\n",
            "[74]\ttrain-rmse:0.18373\tvalid-rmse:0.21698\n",
            "[75]\ttrain-rmse:0.18324\tvalid-rmse:0.21654\n",
            "[76]\ttrain-rmse:0.18273\tvalid-rmse:0.21604\n",
            "[77]\ttrain-rmse:0.18226\tvalid-rmse:0.21554\n",
            "[78]\ttrain-rmse:0.18177\tvalid-rmse:0.21508\n",
            "[79]\ttrain-rmse:0.18124\tvalid-rmse:0.21489\n",
            "[80]\ttrain-rmse:0.18068\tvalid-rmse:0.21478\n",
            "[81]\ttrain-rmse:0.18021\tvalid-rmse:0.21432\n",
            "[82]\ttrain-rmse:0.17967\tvalid-rmse:0.21421\n",
            "[83]\ttrain-rmse:0.17913\tvalid-rmse:0.21412\n",
            "[84]\ttrain-rmse:0.17870\tvalid-rmse:0.21368\n",
            "[85]\ttrain-rmse:0.17818\tvalid-rmse:0.21360\n",
            "[86]\ttrain-rmse:0.17775\tvalid-rmse:0.21319\n",
            "[87]\ttrain-rmse:0.17724\tvalid-rmse:0.21312\n",
            "[88]\ttrain-rmse:0.17682\tvalid-rmse:0.21275\n",
            "[89]\ttrain-rmse:0.17633\tvalid-rmse:0.21269\n",
            "[90]\ttrain-rmse:0.17590\tvalid-rmse:0.21230\n",
            "[91]\ttrain-rmse:0.17542\tvalid-rmse:0.21225\n",
            "[92]\ttrain-rmse:0.17494\tvalid-rmse:0.21222\n",
            "[93]\ttrain-rmse:0.17455\tvalid-rmse:0.21179\n",
            "[94]\ttrain-rmse:0.17409\tvalid-rmse:0.21176\n",
            "[95]\ttrain-rmse:0.17369\tvalid-rmse:0.21139\n",
            "[96]\ttrain-rmse:0.17324\tvalid-rmse:0.21137\n",
            "[97]\ttrain-rmse:0.17279\tvalid-rmse:0.21136\n",
            "[98]\ttrain-rmse:0.17243\tvalid-rmse:0.21101\n",
            "[99]\ttrain-rmse:0.17199\tvalid-rmse:0.21100\n"
          ]
        },
        {
          "name": "stderr",
          "output_type": "stream",
          "text": [
            "c:\\Users\\pchhl\\anaconda3\\lib\\site-packages\\xgboost\\core.py:726: FutureWarning: Pass `evals` as keyword args.\n",
            "  warnings.warn(msg, FutureWarning)\n"
          ]
        }
      ],
      "source": [
        "import xgboost as xgb\n",
        "\n",
        "dtrain_2 = xgb.DMatrix(X_train_2, label=y_train_2)\n",
        "dvalid_2 = xgb.DMatrix(X_valid_2, label=y_valid_2)\n",
        "\n",
        "param = {\n",
        "    'max_depth': 3,\n",
        "    'eta': 0.01,\n",
        "    'objective': 'reg:squarederror'\n",
        "}\n",
        "num_round = 100\n",
        "\n",
        "bst_2 = xgb.train(param, dtrain_2, num_round, [(dtrain_2, 'train'), (dvalid_2, 'valid')])"
      ]
    },
    {
      "cell_type": "code",
      "execution_count": 244,
      "metadata": {},
      "outputs": [
        {
          "name": "stderr",
          "output_type": "stream",
          "text": [
            "c:\\Users\\pchhl\\anaconda3\\lib\\site-packages\\xgboost\\core.py:160: UserWarning: [22:46:05] WARNING: C:\\buildkite-agent\\builds\\buildkite-windows-cpu-autoscaling-group-i-07f6e447eee219473-1\\xgboost\\xgboost-ci-windows\\src\\c_api\\c_api.cc:1240: Saving into deprecated binary model format, please consider using `json` or `ubj`. Model format will default to JSON in XGBoost 2.2 if not specified.\n",
            "  warnings.warn(smsg, UserWarning)\n"
          ]
        }
      ],
      "source": [
        "model_path_2 = 'xgboost_combined_2.pth'\n",
        "bst_2.save_model(model_path_2)\n",
        "\n",
        "# Load the model later\n",
        "loaded_model_2 = xgb.Booster()\n",
        "loaded_model_2.load_model(model_path_2)\n",
        "\n",
        "# Now you can use the loaded_model for predictions\n",
        "dpredict_2 = xgb.DMatrix(X_valid_2)\n",
        "predictions_2 = loaded_model_2.predict(dpredict_2)"
      ]
    },
    {
      "cell_type": "code",
      "execution_count": 245,
      "metadata": {},
      "outputs": [
        {
          "data": {
            "text/plain": [
              "array([0.47211623, 0.65657955, 0.49490345, 0.61460227, 0.6082697 ,\n",
              "       0.7605865 , 0.3573508 , 0.50391567, 0.50992835, 0.50992835,\n",
              "       0.67913187, 0.60893893, 0.75849617, 0.60893893, 0.6288318 ,\n",
              "       0.7605865 , 0.7438693 , 0.61460227, 0.51894057, 0.7099762 ,\n",
              "       0.60893893, 0.62316847, 0.53608507, 0.67786807, 0.6074012 ,\n",
              "       0.6586952 , 0.60980743, 0.40012643, 0.72505605, 0.74022835,\n",
              "       0.630301  , 0.75849617, 0.6375021 , 0.53608507, 0.7080497 ,\n",
              "       0.57049096, 0.62316847, 0.50992835, 0.50992835, 0.74022835,\n",
              "       0.60893893, 0.60893893, 0.51894057, 0.5698185 , 0.60893893,\n",
              "       0.50992835, 0.57171386, 0.43939218, 0.6717061 , 0.39257175,\n",
              "       0.3573508 , 0.61614   , 0.52106017, 0.61614   , 0.62316847,\n",
              "       0.7051462 , 0.6226902 , 0.36454338, 0.50992835, 0.75849617,\n",
              "       0.65657955, 0.6630562 , 0.6586952 , 0.37356657, 0.7600468 ,\n",
              "       0.530264  , 0.7099762 , 0.42266962, 0.7543361 , 0.49490345,\n",
              "       0.61614   , 0.51894057, 0.60980743, 0.43939218, 0.6586952 ,\n",
              "       0.50992835, 0.6014705 ], dtype=float32)"
            ]
          },
          "execution_count": 245,
          "metadata": {},
          "output_type": "execute_result"
        }
      ],
      "source": [
        "predictions_2"
      ]
    },
    {
      "cell_type": "code",
      "execution_count": 246,
      "metadata": {},
      "outputs": [
        {
          "name": "stdout",
          "output_type": "stream",
          "text": [
            "0.49744998038446453\n"
          ]
        }
      ],
      "source": [
        "y_true = np.array(y_valid_2)\n",
        "y_pred = np.array(predictions_2)\n",
        "y_true = np.round(y_true*10).astype(int)\n",
        "y_pred = np.round(y_pred*10).astype(int)\n",
        "\n",
        "\n",
        "print(compute_qwk(y_true, y_pred))\n"
      ]
    },
    {
      "cell_type": "markdown",
      "metadata": {},
      "source": [
        "##### COMBINED MODEL 3"
      ]
    },
    {
      "cell_type": "code",
      "execution_count": 247,
      "metadata": {},
      "outputs": [],
      "source": [
        "X_combined_3 = final_dataframe[[ 'out_semantic', 'out_coher', 'out_prompt', 'combined_score', 'coherence_score_nli', 'ranks']]\n",
        "y_combined_3 = final_dataframe['normalized_score']\n",
        "\n",
        "X_train_3, X_valid_3, y_train_3, y_valid_3 = train_test_split(X_combined_3, y_combined_3, test_size=0.2, random_state=42)"
      ]
    },
    {
      "cell_type": "code",
      "execution_count": 248,
      "metadata": {},
      "outputs": [
        {
          "name": "stdout",
          "output_type": "stream",
          "text": [
            "[0]\ttrain-rmse:0.24700\tvalid-rmse:0.27911\n",
            "[1]\ttrain-rmse:0.24567\tvalid-rmse:0.27778\n",
            "[2]\ttrain-rmse:0.24436\tvalid-rmse:0.27645\n",
            "[3]\ttrain-rmse:0.24306\tvalid-rmse:0.27516\n",
            "[4]\ttrain-rmse:0.24179\tvalid-rmse:0.27387\n",
            "[5]\ttrain-rmse:0.24053\tvalid-rmse:0.27261\n",
            "[6]\ttrain-rmse:0.23929\tvalid-rmse:0.27135\n",
            "[7]\ttrain-rmse:0.23807\tvalid-rmse:0.27017\n",
            "[8]\ttrain-rmse:0.23686\tvalid-rmse:0.26889\n",
            "[9]\ttrain-rmse:0.23565\tvalid-rmse:0.26773\n",
            "[10]\ttrain-rmse:0.23445\tvalid-rmse:0.26652\n",
            "[11]\ttrain-rmse:0.23327\tvalid-rmse:0.26534\n",
            "[12]\ttrain-rmse:0.23210\tvalid-rmse:0.26418\n",
            "[13]\ttrain-rmse:0.23095\tvalid-rmse:0.26302\n",
            "[14]\ttrain-rmse:0.22981\tvalid-rmse:0.26184\n",
            "[15]\ttrain-rmse:0.22869\tvalid-rmse:0.26072\n",
            "[16]\ttrain-rmse:0.22759\tvalid-rmse:0.25966\n",
            "[17]\ttrain-rmse:0.22649\tvalid-rmse:0.25853\n",
            "[18]\ttrain-rmse:0.22542\tvalid-rmse:0.25749\n",
            "[19]\ttrain-rmse:0.22436\tvalid-rmse:0.25639\n",
            "[20]\ttrain-rmse:0.22332\tvalid-rmse:0.25539\n",
            "[21]\ttrain-rmse:0.22228\tvalid-rmse:0.25432\n",
            "[22]\ttrain-rmse:0.22127\tvalid-rmse:0.25333\n",
            "[23]\ttrain-rmse:0.22026\tvalid-rmse:0.25228\n",
            "[24]\ttrain-rmse:0.21928\tvalid-rmse:0.25127\n",
            "[25]\ttrain-rmse:0.21830\tvalid-rmse:0.25033\n",
            "[26]\ttrain-rmse:0.21734\tvalid-rmse:0.24932\n",
            "[27]\ttrain-rmse:0.21639\tvalid-rmse:0.24845\n",
            "[28]\ttrain-rmse:0.21546\tvalid-rmse:0.24747\n",
            "[29]\ttrain-rmse:0.21454\tvalid-rmse:0.24654\n",
            "[30]\ttrain-rmse:0.21363\tvalid-rmse:0.24565\n",
            "[31]\ttrain-rmse:0.21273\tvalid-rmse:0.24471\n",
            "[32]\ttrain-rmse:0.21185\tvalid-rmse:0.24385\n",
            "[33]\ttrain-rmse:0.21098\tvalid-rmse:0.24289\n",
            "[34]\ttrain-rmse:0.21012\tvalid-rmse:0.24206\n",
            "[35]\ttrain-rmse:0.20927\tvalid-rmse:0.24113\n",
            "[36]\ttrain-rmse:0.20844\tvalid-rmse:0.24032\n",
            "[37]\ttrain-rmse:0.20762\tvalid-rmse:0.23941\n",
            "[38]\ttrain-rmse:0.20680\tvalid-rmse:0.23858\n",
            "[39]\ttrain-rmse:0.20600\tvalid-rmse:0.23770\n",
            "[40]\ttrain-rmse:0.20522\tvalid-rmse:0.23688\n",
            "[41]\ttrain-rmse:0.20444\tvalid-rmse:0.23612\n",
            "[42]\ttrain-rmse:0.20367\tvalid-rmse:0.23526\n",
            "[43]\ttrain-rmse:0.20291\tvalid-rmse:0.23453\n",
            "[44]\ttrain-rmse:0.20217\tvalid-rmse:0.23376\n",
            "[45]\ttrain-rmse:0.20143\tvalid-rmse:0.23299\n",
            "[46]\ttrain-rmse:0.20071\tvalid-rmse:0.23229\n",
            "[47]\ttrain-rmse:0.19999\tvalid-rmse:0.23157\n",
            "[48]\ttrain-rmse:0.19928\tvalid-rmse:0.23088\n",
            "[49]\ttrain-rmse:0.19858\tvalid-rmse:0.23021\n",
            "[50]\ttrain-rmse:0.19789\tvalid-rmse:0.22955\n",
            "[51]\ttrain-rmse:0.19721\tvalid-rmse:0.22887\n",
            "[52]\ttrain-rmse:0.19655\tvalid-rmse:0.22814\n",
            "[53]\ttrain-rmse:0.19589\tvalid-rmse:0.22746\n",
            "[54]\ttrain-rmse:0.19524\tvalid-rmse:0.22685\n",
            "[55]\ttrain-rmse:0.19460\tvalid-rmse:0.22618\n",
            "[56]\ttrain-rmse:0.19396\tvalid-rmse:0.22556\n",
            "[57]\ttrain-rmse:0.19334\tvalid-rmse:0.22496\n",
            "[58]\ttrain-rmse:0.19273\tvalid-rmse:0.22428\n",
            "[59]\ttrain-rmse:0.19212\tvalid-rmse:0.22370\n",
            "[60]\ttrain-rmse:0.19152\tvalid-rmse:0.22309\n",
            "[61]\ttrain-rmse:0.19093\tvalid-rmse:0.22249\n",
            "[62]\ttrain-rmse:0.19034\tvalid-rmse:0.22188\n",
            "[63]\ttrain-rmse:0.18977\tvalid-rmse:0.22129\n",
            "[64]\ttrain-rmse:0.18921\tvalid-rmse:0.22074\n",
            "[65]\ttrain-rmse:0.18865\tvalid-rmse:0.22016\n",
            "[66]\ttrain-rmse:0.18810\tvalid-rmse:0.21955\n",
            "[67]\ttrain-rmse:0.18757\tvalid-rmse:0.21908\n",
            "[68]\ttrain-rmse:0.18703\tvalid-rmse:0.21854\n",
            "[69]\ttrain-rmse:0.18649\tvalid-rmse:0.21799\n",
            "[70]\ttrain-rmse:0.18597\tvalid-rmse:0.21740\n",
            "[71]\ttrain-rmse:0.18545\tvalid-rmse:0.21694\n",
            "[72]\ttrain-rmse:0.18495\tvalid-rmse:0.21655\n",
            "[73]\ttrain-rmse:0.18441\tvalid-rmse:0.21601\n",
            "[74]\ttrain-rmse:0.18393\tvalid-rmse:0.21561\n",
            "[75]\ttrain-rmse:0.18340\tvalid-rmse:0.21510\n",
            "[76]\ttrain-rmse:0.18293\tvalid-rmse:0.21460\n",
            "[77]\ttrain-rmse:0.18241\tvalid-rmse:0.21406\n",
            "[78]\ttrain-rmse:0.18194\tvalid-rmse:0.21362\n",
            "[79]\ttrain-rmse:0.18149\tvalid-rmse:0.21324\n",
            "[80]\ttrain-rmse:0.18099\tvalid-rmse:0.21272\n",
            "[81]\ttrain-rmse:0.18053\tvalid-rmse:0.21222\n",
            "[82]\ttrain-rmse:0.18005\tvalid-rmse:0.21171\n",
            "[83]\ttrain-rmse:0.17958\tvalid-rmse:0.21120\n",
            "[84]\ttrain-rmse:0.17914\tvalid-rmse:0.21073\n",
            "[85]\ttrain-rmse:0.17871\tvalid-rmse:0.21038\n",
            "[86]\ttrain-rmse:0.17826\tvalid-rmse:0.20992\n",
            "[87]\ttrain-rmse:0.17785\tvalid-rmse:0.20959\n",
            "[88]\ttrain-rmse:0.17740\tvalid-rmse:0.20912\n",
            "[89]\ttrain-rmse:0.17699\tvalid-rmse:0.20869\n",
            "[90]\ttrain-rmse:0.17659\tvalid-rmse:0.20830\n",
            "[91]\ttrain-rmse:0.17616\tvalid-rmse:0.20791\n",
            "[92]\ttrain-rmse:0.17574\tvalid-rmse:0.20747\n",
            "[93]\ttrain-rmse:0.17536\tvalid-rmse:0.20726\n",
            "[94]\ttrain-rmse:0.17499\tvalid-rmse:0.20701\n",
            "[95]\ttrain-rmse:0.17458\tvalid-rmse:0.20658\n",
            "[96]\ttrain-rmse:0.17422\tvalid-rmse:0.20631\n",
            "[97]\ttrain-rmse:0.17382\tvalid-rmse:0.20592\n",
            "[98]\ttrain-rmse:0.17346\tvalid-rmse:0.20559\n",
            "[99]\ttrain-rmse:0.17310\tvalid-rmse:0.20540\n"
          ]
        },
        {
          "name": "stderr",
          "output_type": "stream",
          "text": [
            "c:\\Users\\pchhl\\anaconda3\\lib\\site-packages\\xgboost\\core.py:726: FutureWarning: Pass `evals` as keyword args.\n",
            "  warnings.warn(msg, FutureWarning)\n"
          ]
        }
      ],
      "source": [
        "dtrain_3 = xgb.DMatrix(X_train_3, label=y_train_3)\n",
        "dvalid_3 = xgb.DMatrix(X_valid_3, label=y_valid_3)\n",
        "\n",
        "param = {\n",
        "    'max_depth': 3,\n",
        "    'eta': 0.01,\n",
        "    'objective': 'reg:squarederror'\n",
        "}\n",
        "num_round = 100\n",
        "\n",
        "bst_3 = xgb.train(param, dtrain_3, num_round, [(dtrain_3, 'train'), (dvalid_3, 'valid')])"
      ]
    },
    {
      "cell_type": "code",
      "execution_count": 249,
      "metadata": {},
      "outputs": [
        {
          "name": "stderr",
          "output_type": "stream",
          "text": [
            "c:\\Users\\pchhl\\anaconda3\\lib\\site-packages\\xgboost\\core.py:160: UserWarning: [22:46:30] WARNING: C:\\buildkite-agent\\builds\\buildkite-windows-cpu-autoscaling-group-i-07f6e447eee219473-1\\xgboost\\xgboost-ci-windows\\src\\c_api\\c_api.cc:1240: Saving into deprecated binary model format, please consider using `json` or `ubj`. Model format will default to JSON in XGBoost 2.2 if not specified.\n",
            "  warnings.warn(smsg, UserWarning)\n"
          ]
        }
      ],
      "source": [
        "model_path_3 = 'xgboost_combined_3.pth'\n",
        "bst_3.save_model(model_path_3)\n",
        "\n",
        "# Load the model later\n",
        "loaded_model_3 = xgb.Booster()\n",
        "loaded_model_3.load_model(model_path_3)\n",
        "\n",
        "# Now you can use the loaded_model for predictions\n",
        "dpredict_3 = xgb.DMatrix(X_valid_3)\n",
        "predictions_3 = loaded_model_3.predict(dpredict_3)"
      ]
    },
    {
      "cell_type": "code",
      "execution_count": 250,
      "metadata": {},
      "outputs": [
        {
          "name": "stdout",
          "output_type": "stream",
          "text": [
            "0.5486859519757987\n"
          ]
        }
      ],
      "source": [
        "y_true = np.array(y_valid_3)\n",
        "y_pred = np.array(predictions_3)\n",
        "y_true = np.round(y_true*10).astype(int)\n",
        "y_pred = np.round(y_pred*10).astype(int)\n",
        "\n",
        "\n",
        "print(compute_qwk(y_true, y_pred))\n"
      ]
    },
    {
      "cell_type": "markdown",
      "metadata": {},
      "source": [
        "#### COMBINED MODEL 4"
      ]
    },
    {
      "cell_type": "code",
      "execution_count": 266,
      "metadata": {},
      "outputs": [],
      "source": [
        "X_combined_4 = final_dataframe[[ 'out_prompt', 'combined_score', 'coherence_score_nli', 'ranks']]\n",
        "y_combined_4 = final_dataframe['normalized_score']\n",
        "\n",
        "X_train_4, X_valid_4, y_train_4, y_valid_4 = train_test_split(X_combined_4, y_combined_4, test_size=0.2, random_state=42)"
      ]
    },
    {
      "cell_type": "code",
      "execution_count": 267,
      "metadata": {},
      "outputs": [
        {
          "name": "stdout",
          "output_type": "stream",
          "text": [
            "[0]\ttrain-rmse:0.24700\tvalid-rmse:0.27911\n",
            "[1]\ttrain-rmse:0.24567\tvalid-rmse:0.27778\n",
            "[2]\ttrain-rmse:0.24436\tvalid-rmse:0.27645\n",
            "[3]\ttrain-rmse:0.24306\tvalid-rmse:0.27516\n",
            "[4]\ttrain-rmse:0.24179\tvalid-rmse:0.27387\n",
            "[5]\ttrain-rmse:0.24053\tvalid-rmse:0.27261\n",
            "[6]\ttrain-rmse:0.23929\tvalid-rmse:0.27135\n",
            "[7]\ttrain-rmse:0.23807\tvalid-rmse:0.27017\n",
            "[8]\ttrain-rmse:0.23686\tvalid-rmse:0.26889\n",
            "[9]\ttrain-rmse:0.23565\tvalid-rmse:0.26773\n",
            "[10]\ttrain-rmse:0.23445\tvalid-rmse:0.26652\n",
            "[11]\ttrain-rmse:0.23327\tvalid-rmse:0.26534\n",
            "[12]\ttrain-rmse:0.23210\tvalid-rmse:0.26418\n",
            "[13]\ttrain-rmse:0.23095\tvalid-rmse:0.26302\n",
            "[14]\ttrain-rmse:0.22981\tvalid-rmse:0.26184\n",
            "[15]\ttrain-rmse:0.22869\tvalid-rmse:0.26072\n",
            "[16]\ttrain-rmse:0.22759\tvalid-rmse:0.25966\n",
            "[17]\ttrain-rmse:0.22649\tvalid-rmse:0.25853\n",
            "[18]\ttrain-rmse:0.22542\tvalid-rmse:0.25749\n",
            "[19]\ttrain-rmse:0.22436\tvalid-rmse:0.25639\n",
            "[20]\ttrain-rmse:0.22332\tvalid-rmse:0.25539\n",
            "[21]\ttrain-rmse:0.22228\tvalid-rmse:0.25432\n",
            "[22]\ttrain-rmse:0.22127\tvalid-rmse:0.25329\n",
            "[23]\ttrain-rmse:0.22026\tvalid-rmse:0.25224\n",
            "[24]\ttrain-rmse:0.21928\tvalid-rmse:0.25123\n",
            "[25]\ttrain-rmse:0.21830\tvalid-rmse:0.25029\n",
            "[26]\ttrain-rmse:0.21734\tvalid-rmse:0.24928\n",
            "[27]\ttrain-rmse:0.21639\tvalid-rmse:0.24838\n",
            "[28]\ttrain-rmse:0.21546\tvalid-rmse:0.24740\n",
            "[29]\ttrain-rmse:0.21454\tvalid-rmse:0.24646\n",
            "[30]\ttrain-rmse:0.21362\tvalid-rmse:0.24551\n",
            "[31]\ttrain-rmse:0.21273\tvalid-rmse:0.24465\n",
            "[32]\ttrain-rmse:0.21185\tvalid-rmse:0.24373\n",
            "[33]\ttrain-rmse:0.21098\tvalid-rmse:0.24283\n",
            "[34]\ttrain-rmse:0.21012\tvalid-rmse:0.24205\n",
            "[35]\ttrain-rmse:0.20928\tvalid-rmse:0.24112\n",
            "[36]\ttrain-rmse:0.20845\tvalid-rmse:0.24027\n",
            "[37]\ttrain-rmse:0.20762\tvalid-rmse:0.23936\n",
            "[38]\ttrain-rmse:0.20681\tvalid-rmse:0.23853\n",
            "[39]\ttrain-rmse:0.20601\tvalid-rmse:0.23765\n",
            "[40]\ttrain-rmse:0.20522\tvalid-rmse:0.23683\n",
            "[41]\ttrain-rmse:0.20445\tvalid-rmse:0.23603\n",
            "[42]\ttrain-rmse:0.20368\tvalid-rmse:0.23517\n",
            "[43]\ttrain-rmse:0.20292\tvalid-rmse:0.23435\n",
            "[44]\ttrain-rmse:0.20218\tvalid-rmse:0.23363\n",
            "[45]\ttrain-rmse:0.20144\tvalid-rmse:0.23282\n",
            "[46]\ttrain-rmse:0.20072\tvalid-rmse:0.23213\n",
            "[47]\ttrain-rmse:0.20000\tvalid-rmse:0.23137\n",
            "[48]\ttrain-rmse:0.19929\tvalid-rmse:0.23065\n",
            "[49]\ttrain-rmse:0.19860\tvalid-rmse:0.22990\n",
            "[50]\ttrain-rmse:0.19791\tvalid-rmse:0.22920\n",
            "[51]\ttrain-rmse:0.19723\tvalid-rmse:0.22849\n",
            "[52]\ttrain-rmse:0.19657\tvalid-rmse:0.22780\n",
            "[53]\ttrain-rmse:0.19591\tvalid-rmse:0.22710\n",
            "[54]\ttrain-rmse:0.19527\tvalid-rmse:0.22639\n",
            "[55]\ttrain-rmse:0.19463\tvalid-rmse:0.22570\n",
            "[56]\ttrain-rmse:0.19400\tvalid-rmse:0.22505\n",
            "[57]\ttrain-rmse:0.19338\tvalid-rmse:0.22445\n",
            "[58]\ttrain-rmse:0.19276\tvalid-rmse:0.22378\n",
            "[59]\ttrain-rmse:0.19216\tvalid-rmse:0.22316\n",
            "[60]\ttrain-rmse:0.19157\tvalid-rmse:0.22253\n",
            "[61]\ttrain-rmse:0.19097\tvalid-rmse:0.22192\n",
            "[62]\ttrain-rmse:0.19039\tvalid-rmse:0.22132\n",
            "[63]\ttrain-rmse:0.18982\tvalid-rmse:0.22073\n",
            "[64]\ttrain-rmse:0.18926\tvalid-rmse:0.22015\n",
            "[65]\ttrain-rmse:0.18870\tvalid-rmse:0.21958\n",
            "[66]\ttrain-rmse:0.18816\tvalid-rmse:0.21897\n",
            "[67]\ttrain-rmse:0.18762\tvalid-rmse:0.21837\n",
            "[68]\ttrain-rmse:0.18709\tvalid-rmse:0.21780\n",
            "[69]\ttrain-rmse:0.18657\tvalid-rmse:0.21730\n",
            "[70]\ttrain-rmse:0.18605\tvalid-rmse:0.21672\n",
            "[71]\ttrain-rmse:0.18554\tvalid-rmse:0.21615\n",
            "[72]\ttrain-rmse:0.18504\tvalid-rmse:0.21562\n",
            "[73]\ttrain-rmse:0.18453\tvalid-rmse:0.21510\n",
            "[74]\ttrain-rmse:0.18402\tvalid-rmse:0.21453\n",
            "[75]\ttrain-rmse:0.18352\tvalid-rmse:0.21394\n",
            "[76]\ttrain-rmse:0.18304\tvalid-rmse:0.21347\n",
            "[77]\ttrain-rmse:0.18257\tvalid-rmse:0.21315\n",
            "[78]\ttrain-rmse:0.18211\tvalid-rmse:0.21282\n",
            "[79]\ttrain-rmse:0.18163\tvalid-rmse:0.21224\n",
            "[80]\ttrain-rmse:0.18115\tvalid-rmse:0.21167\n",
            "[81]\ttrain-rmse:0.18070\tvalid-rmse:0.21137\n",
            "[82]\ttrain-rmse:0.18024\tvalid-rmse:0.21082\n",
            "[83]\ttrain-rmse:0.17980\tvalid-rmse:0.21034\n",
            "[84]\ttrain-rmse:0.17937\tvalid-rmse:0.21006\n",
            "[85]\ttrain-rmse:0.17893\tvalid-rmse:0.20952\n",
            "[86]\ttrain-rmse:0.17851\tvalid-rmse:0.20926\n",
            "[87]\ttrain-rmse:0.17808\tvalid-rmse:0.20874\n",
            "[88]\ttrain-rmse:0.17768\tvalid-rmse:0.20845\n",
            "[89]\ttrain-rmse:0.17725\tvalid-rmse:0.20796\n",
            "[90]\ttrain-rmse:0.17684\tvalid-rmse:0.20747\n",
            "[91]\ttrain-rmse:0.17644\tvalid-rmse:0.20707\n",
            "[92]\ttrain-rmse:0.17604\tvalid-rmse:0.20658\n",
            "[93]\ttrain-rmse:0.17566\tvalid-rmse:0.20634\n",
            "[94]\ttrain-rmse:0.17528\tvalid-rmse:0.20592\n",
            "[95]\ttrain-rmse:0.17491\tvalid-rmse:0.20569\n",
            "[96]\ttrain-rmse:0.17453\tvalid-rmse:0.20524\n",
            "[97]\ttrain-rmse:0.17417\tvalid-rmse:0.20504\n",
            "[98]\ttrain-rmse:0.17380\tvalid-rmse:0.20459\n",
            "[99]\ttrain-rmse:0.17340\tvalid-rmse:0.20421\n"
          ]
        },
        {
          "name": "stderr",
          "output_type": "stream",
          "text": [
            "c:\\Users\\pchhl\\anaconda3\\lib\\site-packages\\xgboost\\core.py:726: FutureWarning: Pass `evals` as keyword args.\n",
            "  warnings.warn(msg, FutureWarning)\n"
          ]
        }
      ],
      "source": [
        "dtrain_4 = xgb.DMatrix(X_train_4, label=y_train_3)\n",
        "dvalid_4 = xgb.DMatrix(X_valid_4, label=y_valid_3)\n",
        "\n",
        "param = {\n",
        "    'max_depth': 3,\n",
        "    'eta': 0.01,\n",
        "    'objective': 'reg:squarederror'\n",
        "}\n",
        "num_round = 100\n",
        "\n",
        "bst_4 = xgb.train(param, dtrain_4, num_round, [(dtrain_4, 'train'), (dvalid_4, 'valid')])"
      ]
    },
    {
      "cell_type": "code",
      "execution_count": 268,
      "metadata": {},
      "outputs": [
        {
          "name": "stderr",
          "output_type": "stream",
          "text": [
            "c:\\Users\\pchhl\\anaconda3\\lib\\site-packages\\xgboost\\core.py:160: UserWarning: [22:49:35] WARNING: C:\\buildkite-agent\\builds\\buildkite-windows-cpu-autoscaling-group-i-07f6e447eee219473-1\\xgboost\\xgboost-ci-windows\\src\\c_api\\c_api.cc:1240: Saving into deprecated binary model format, please consider using `json` or `ubj`. Model format will default to JSON in XGBoost 2.2 if not specified.\n",
            "  warnings.warn(smsg, UserWarning)\n"
          ]
        }
      ],
      "source": [
        "model_path_4 = 'xgboost_combined_4.pth'\n",
        "bst_4.save_model(model_path_4)\n",
        "\n",
        "# Load the model later\n",
        "loaded_model_4 = xgb.Booster()\n",
        "loaded_model_4.load_model(model_path_4)\n",
        "\n",
        "# Now you can use the loaded_model for predictions\n",
        "dpredict_4 = xgb.DMatrix(X_valid_4)\n",
        "predictions_4 = loaded_model_4.predict(dpredict_4)"
      ]
    },
    {
      "cell_type": "code",
      "execution_count": 269,
      "metadata": {},
      "outputs": [
        {
          "name": "stdout",
          "output_type": "stream",
          "text": [
            "0.5486859519757987\n"
          ]
        }
      ],
      "source": [
        "y_true = np.array(y_valid_4)\n",
        "y_pred = np.array(predictions_4)\n",
        "y_true = np.round(y_true*10).astype(int)\n",
        "y_pred = np.round(y_pred*10).astype(int)\n",
        "\n",
        "\n",
        "print(compute_qwk(y_true, y_pred))"
      ]
    },
    {
      "cell_type": "code",
      "execution_count": 271,
      "metadata": {},
      "outputs": [
        {
          "name": "stdout",
          "output_type": "stream",
          "text": [
            "Predicted Score : 5 -> Real Score :  5.0\n",
            "Predicted Score : 5 -> Real Score :  4.0\n",
            "Predicted Score : 7 -> Real Score :  7.0\n",
            "Predicted Score : 5 -> Real Score :  5.0\n",
            "Predicted Score : 8 -> Real Score :  8.0\n",
            "Predicted Score : 7 -> Real Score :  7.0\n",
            "Predicted Score : 6 -> Real Score :  6.0\n",
            "Predicted Score : 5 -> Real Score :  6.0\n",
            "Predicted Score : 7 -> Real Score :  7.0\n",
            "Predicted Score : 7 -> Real Score :  8.0\n",
            "Predicted Score : 6 -> Real Score :  6.0\n",
            "Predicted Score : 7 -> Real Score :  8.0\n",
            "Predicted Score : 5 -> Real Score :  4.0\n",
            "Predicted Score : 6 -> Real Score :  6.0\n",
            "Predicted Score : 5 -> Real Score :  6.0\n",
            "Predicted Score : 5 -> Real Score :  4.0\n",
            "Predicted Score : 4 -> Real Score :  4.0\n",
            "Predicted Score : 6 -> Real Score :  6.0\n",
            "Predicted Score : 5 -> Real Score :  5.0\n",
            "Predicted Score : 6 -> Real Score :  7.0\n",
            "Predicted Score : 5 -> Real Score :  5.0\n",
            "Predicted Score : 7 -> Real Score :  6.0\n",
            "Predicted Score : 6 -> Real Score :  7.0\n",
            "Predicted Score : 8 -> Real Score :  8.0\n",
            "Predicted Score : 7 -> Real Score :  6.0\n",
            "Predicted Score : 8 -> Real Score :  8.0\n",
            "Predicted Score : 5 -> Real Score :  6.0\n",
            "Predicted Score : 5 -> Real Score :  5.0\n"
          ]
        }
      ],
      "source": [
        "y_true = np.array(y_valid)\n",
        "y_pred = np.array(y_pred)\n",
        "count=0\n",
        "for i in range(len(y_pred)):\n",
        "    print(f\"Predicted Score : {y_pred[i]} -> Real Score :  {np.round(y_true[i]*10)}\")"
      ]
    },
    {
      "cell_type": "code",
      "execution_count": null,
      "metadata": {},
      "outputs": [],
      "source": []
    }
  ],
  "metadata": {
    "accelerator": "GPU",
    "colab": {
      "provenance": []
    },
    "kernelspec": {
      "display_name": "Python 3",
      "name": "python3"
    },
    "language_info": {
      "codemirror_mode": {
        "name": "ipython",
        "version": 3
      },
      "file_extension": ".py",
      "mimetype": "text/x-python",
      "name": "python",
      "nbconvert_exporter": "python",
      "pygments_lexer": "ipython3",
      "version": "3.9.13"
    }
  },
  "nbformat": 4,
  "nbformat_minor": 0
}
